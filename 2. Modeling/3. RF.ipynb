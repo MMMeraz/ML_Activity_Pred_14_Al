{
 "cells": [
  {
   "cell_type": "code",
   "execution_count": 1,
   "id": "b61ed168",
   "metadata": {},
   "outputs": [],
   "source": [
    "# Import Section\n",
    "import csv\n",
    "import codecs\n",
    "import sys\n",
    "import io\n",
    "import numpy as np\n",
    "import pandas as pd\n",
    "import scipy as sp\n",
    "\n",
    "# For Regression\n",
    "from sklearn.model_selection import train_test_split\n",
    "from sklearn.model_selection import cross_val_score\n",
    "from statistics import mean\n",
    "\n",
    "# Python script for confusion matrix creation. \n",
    "from sklearn.metrics import *\n",
    "from numpy import mean\n",
    "from numpy import std\n",
    "from sklearn import metrics\n",
    "\n",
    "import matplotlib.pyplot as plt\n",
    "import seaborn as sns"
   ]
  },
  {
   "cell_type": "code",
   "execution_count": 61,
   "id": "84713e53",
   "metadata": {},
   "outputs": [],
   "source": [
    "dataset=pd.read_excel(\"Des_cod_1056_92-29.xlsx\",index_col=0)"
   ]
  },
  {
   "cell_type": "code",
   "execution_count": 62,
   "id": "e04a6148",
   "metadata": {},
   "outputs": [
    {
     "data": {
      "text/plain": [
       "(1056, 30)"
      ]
     },
     "execution_count": 62,
     "metadata": {},
     "output_type": "execute_result"
    }
   ],
   "source": [
    "dataset.shape"
   ]
  },
  {
   "cell_type": "code",
   "execution_count": 63,
   "id": "bb8c5677",
   "metadata": {},
   "outputs": [
    {
     "data": {
      "text/plain": [
       "Number of atoms                                                   0\n",
       "Relative number of N  atoms                                       0\n",
       "Relative number of Cl atoms                                       0\n",
       "Wiener index                                                      0\n",
       "Kier&Hall index (order 3)                                         0\n",
       "Average Information content (order 0)                             0\n",
       "Balaban index                                                     0\n",
       "Max partial charge for a N  atom [Zefirov's PC]                   0\n",
       "Min partial charge for a N  atom [Zefirov's PC]                   0\n",
       "Polarity parameter / square distance                              0\n",
       "PPSA-3 Atomic charge weighted PPSA [Zefirov's PC]                 0\n",
       "PNSA-3 Atomic charge weighted PNSA [Zefirov's PC]                 0\n",
       "RNCS Relative negative charged SA (SAMNEG*RNCG) [Zefirov's PC]    0\n",
       "LUMO energy                                                       0\n",
       "LUMO+1 energy                                                     0\n",
       "HOMO - LUMO energy gap                                            0\n",
       "Min electroph. react. index for a N atom                          0\n",
       "Max electroph. react. index for a N atom                          0\n",
       "Min electroph. react. index for a C atom                          0\n",
       "Min net atomic charge for a N atom                                0\n",
       "Max net atomic charge for a C atom                                0\n",
       "Tot dipole of the molecule                                        0\n",
       "Image of the Onsager-Kirkwood solvation energy                    0\n",
       "RNCS Relative negative charged SA (SAMNEG*RNCG) [QC PC]           0\n",
       "Max SIGMA-SIGMA bond order                                        0\n",
       "Max PI-PI bond order                                              0\n",
       "Min valency of a N atom                                           0\n",
       "Avg valency of a N atom                                           0\n",
       "Min (0.1) bond order of a N atom                                  0\n",
       "Act                                                               0\n",
       "dtype: int64"
      ]
     },
     "execution_count": 63,
     "metadata": {},
     "output_type": "execute_result"
    }
   ],
   "source": [
    "# to check the null values \n",
    "dataset.isnull().sum()"
   ]
  },
  {
   "cell_type": "code",
   "execution_count": 64,
   "id": "9ec48840",
   "metadata": {},
   "outputs": [
    {
     "data": {
      "text/plain": [
       "Number of atoms                                                   1056\n",
       "Relative number of N  atoms                                       1056\n",
       "Relative number of Cl atoms                                       1056\n",
       "Wiener index                                                      1056\n",
       "Kier&Hall index (order 3)                                         1056\n",
       "Average Information content (order 0)                             1056\n",
       "Balaban index                                                     1056\n",
       "Max partial charge for a N  atom [Zefirov's PC]                   1056\n",
       "Min partial charge for a N  atom [Zefirov's PC]                   1056\n",
       "Polarity parameter / square distance                              1056\n",
       "PPSA-3 Atomic charge weighted PPSA [Zefirov's PC]                 1056\n",
       "PNSA-3 Atomic charge weighted PNSA [Zefirov's PC]                 1056\n",
       "RNCS Relative negative charged SA (SAMNEG*RNCG) [Zefirov's PC]    1056\n",
       "LUMO energy                                                       1056\n",
       "LUMO+1 energy                                                     1056\n",
       "HOMO - LUMO energy gap                                            1056\n",
       "Min electroph. react. index for a N atom                          1056\n",
       "Max electroph. react. index for a N atom                          1056\n",
       "Min electroph. react. index for a C atom                          1056\n",
       "Min net atomic charge for a N atom                                1056\n",
       "Max net atomic charge for a C atom                                1056\n",
       "Tot dipole of the molecule                                        1056\n",
       "Image of the Onsager-Kirkwood solvation energy                    1056\n",
       "RNCS Relative negative charged SA (SAMNEG*RNCG) [QC PC]           1056\n",
       "Max SIGMA-SIGMA bond order                                        1056\n",
       "Max PI-PI bond order                                              1056\n",
       "Min valency of a N atom                                           1056\n",
       "Avg valency of a N atom                                           1056\n",
       "Min (0.1) bond order of a N atom                                  1056\n",
       "Act                                                               1056\n",
       "dtype: int64"
      ]
     },
     "execution_count": 64,
     "metadata": {},
     "output_type": "execute_result"
    }
   ],
   "source": [
    "dataset.isnull().count()"
   ]
  },
  {
   "cell_type": "code",
   "execution_count": 65,
   "id": "4f3b7435",
   "metadata": {},
   "outputs": [],
   "source": [
    "x = dataset.drop(['Act'],axis=1).astype(float)\n",
    "y = dataset['Act']"
   ]
  },
  {
   "cell_type": "code",
   "execution_count": 66,
   "id": "2673ea88",
   "metadata": {},
   "outputs": [
    {
     "data": {
      "text/plain": [
       "(1056, 29)"
      ]
     },
     "execution_count": 66,
     "metadata": {},
     "output_type": "execute_result"
    }
   ],
   "source": [
    "x.shape"
   ]
  },
  {
   "cell_type": "code",
   "execution_count": 67,
   "id": "20aaab71",
   "metadata": {},
   "outputs": [
    {
     "data": {
      "text/plain": [
       "Structure\n",
       "\"1Co\"       0.853\n",
       "\"2Co\"       0.987\n",
       "\"3Co\"       0.773\n",
       "\"4Co\"       0.760\n",
       "\"5Co\"       0.893\n",
       "            ...  \n",
       "\"1052Co\"    0.370\n",
       "\"1053Co\"    1.020\n",
       "\"1054Co\"    0.832\n",
       "\"1055Co\"    0.701\n",
       "\"1056Co\"    1.090\n",
       "Name: Act, Length: 1056, dtype: float64"
      ]
     },
     "execution_count": 67,
     "metadata": {},
     "output_type": "execute_result"
    }
   ],
   "source": [
    "y"
   ]
  },
  {
   "cell_type": "code",
   "execution_count": 68,
   "id": "86788f68",
   "metadata": {},
   "outputs": [],
   "source": [
    " x_train, x_test, y_train, y_test = train_test_split(x,y,test_size=.2, random_state=47, shuffle=True) "
   ]
  },
  {
   "cell_type": "code",
   "execution_count": 69,
   "id": "7adfc272",
   "metadata": {},
   "outputs": [
    {
     "data": {
      "text/plain": [
       "(212, 29)"
      ]
     },
     "execution_count": 69,
     "metadata": {},
     "output_type": "execute_result"
    }
   ],
   "source": [
    "x_test.shape"
   ]
  },
  {
   "cell_type": "code",
   "execution_count": 70,
   "id": "e0b83d9d",
   "metadata": {},
   "outputs": [
    {
     "data": {
      "text/plain": [
       "(212,)"
      ]
     },
     "execution_count": 70,
     "metadata": {},
     "output_type": "execute_result"
    }
   ],
   "source": [
    "y_test.shape"
   ]
  },
  {
   "cell_type": "code",
   "execution_count": 71,
   "id": "1972e160",
   "metadata": {},
   "outputs": [
    {
     "data": {
      "text/plain": [
       "(844,)"
      ]
     },
     "execution_count": 71,
     "metadata": {},
     "output_type": "execute_result"
    }
   ],
   "source": [
    "y_train.shape"
   ]
  },
  {
   "cell_type": "code",
   "execution_count": 72,
   "id": "2850dd20",
   "metadata": {},
   "outputs": [],
   "source": [
    "from sklearn.ensemble import RandomForestRegressor"
   ]
  },
  {
   "cell_type": "code",
   "execution_count": 73,
   "id": "be79565c",
   "metadata": {},
   "outputs": [],
   "source": [
    "regressor = RandomForestRegressor ( n_estimators = 700, max_depth=None, \n",
    "                                   max_features='auto',  \n",
    "                                   min_samples_split=2,min_samples_leaf=1, random_state=42)\n"
   ]
  },
  {
   "cell_type": "code",
   "execution_count": 74,
   "id": "c861ebd2",
   "metadata": {},
   "outputs": [],
   "source": [
    "import time\n",
    "from datetime import timedelta\n",
    "start_time = time.monotonic()"
   ]
  },
  {
   "cell_type": "code",
   "execution_count": 75,
   "id": "2c86a530",
   "metadata": {},
   "outputs": [
    {
     "data": {
      "text/plain": [
       "RandomForestRegressor(n_estimators=700, random_state=42)"
      ]
     },
     "execution_count": 75,
     "metadata": {},
     "output_type": "execute_result"
    }
   ],
   "source": [
    "regressor.fit(x_train, y_train)"
   ]
  },
  {
   "cell_type": "code",
   "execution_count": 76,
   "id": "411333c6",
   "metadata": {},
   "outputs": [
    {
     "name": "stdout",
     "output_type": "stream",
     "text": [
      "0:00:10.828000\n"
     ]
    }
   ],
   "source": [
    "end_time = time.monotonic()\n",
    "print(timedelta(seconds=end_time - start_time))"
   ]
  },
  {
   "cell_type": "code",
   "execution_count": 77,
   "id": "252abe9d",
   "metadata": {},
   "outputs": [],
   "source": [
    "# compute the testing accuracy\n",
    "y_pred = regressor.predict(x_test)"
   ]
  },
  {
   "cell_type": "code",
   "execution_count": 78,
   "id": "e6c96940",
   "metadata": {},
   "outputs": [],
   "source": [
    "y_pred_train = regressor.predict(x_train)"
   ]
  },
  {
   "cell_type": "code",
   "execution_count": 79,
   "id": "ceb35cea",
   "metadata": {},
   "outputs": [
    {
     "name": "stdout",
     "output_type": "stream",
     "text": [
      "<class 'pandas.core.frame.DataFrame'>\n"
     ]
    }
   ],
   "source": [
    "print(type(dataset))"
   ]
  },
  {
   "cell_type": "code",
   "execution_count": 80,
   "id": "7a728e50",
   "metadata": {},
   "outputs": [
    {
     "name": "stdout",
     "output_type": "stream",
     "text": [
      "\n",
      "\n",
      "overall Performance: \n"
     ]
    }
   ],
   "source": [
    "  print(\"\\n\")\n",
    "  print(\"overall Performance: \", )"
   ]
  },
  {
   "cell_type": "code",
   "execution_count": 81,
   "id": "1d9e0d71",
   "metadata": {},
   "outputs": [],
   "source": [
    " # model evaluation for testing set\n",
    "mae = metrics.mean_absolute_error(y_test, y_pred)\n",
    "mse = metrics.mean_squared_error(y_test, y_pred)\n",
    "r2 = metrics.r2_score(y_test, y_pred)"
   ]
  },
  {
   "cell_type": "code",
   "execution_count": 82,
   "id": "a1ea5590",
   "metadata": {},
   "outputs": [
    {
     "name": "stdout",
     "output_type": "stream",
     "text": [
      "The model performance for testing set\n",
      "--------------------------------------\n",
      "MAE is 0.15580790200359387\n",
      "MSE is 0.053610641141396076\n",
      "R2 score is 0.7946586501022634\n"
     ]
    }
   ],
   "source": [
    "print(\"The model performance for testing set\")\n",
    "print(\"--------------------------------------\") \n",
    "print('MAE is {}'.format(mae)) \n",
    "print('MSE is {}'.format(mse)) \n",
    "print('R2 score is {}'.format(r2))"
   ]
  },
  {
   "cell_type": "code",
   "execution_count": 83,
   "id": "a61d11af",
   "metadata": {},
   "outputs": [],
   "source": [
    "  # model evaluation for training set\n",
    "maeTrain = metrics.mean_absolute_error(y_train, y_pred_train)\n",
    "mseTrain = metrics.mean_squared_error(y_train, y_pred_train)\n",
    "r2Train = metrics.r2_score(y_train, y_pred_train)"
   ]
  },
  {
   "cell_type": "code",
   "execution_count": 84,
   "id": "5efa0205",
   "metadata": {},
   "outputs": [
    {
     "name": "stdout",
     "output_type": "stream",
     "text": [
      "The model performance for training set\n",
      "--------------------------------------\n",
      "MAE is 0.07194970229293622\n",
      "MSE is 0.011071012756407728\n",
      "R2 score is 0.9520620967855276\n"
     ]
    }
   ],
   "source": [
    "print(\"The model performance for training set\")\n",
    "print(\"--------------------------------------\")\n",
    "print('MAE is {}'.format(maeTrain))\n",
    "print('MSE is {}'.format(mseTrain))\n",
    "print('R2 score is {}'.format(r2Train))"
   ]
  },
  {
   "cell_type": "code",
   "execution_count": 85,
   "id": "508c35b2",
   "metadata": {},
   "outputs": [],
   "source": [
    "cvscoreval = (cross_val_score(regressor,x_train,y_train.ravel(),cv=5).mean())"
   ]
  },
  {
   "cell_type": "code",
   "execution_count": 86,
   "id": "fb3c6b83",
   "metadata": {},
   "outputs": [
    {
     "name": "stdout",
     "output_type": "stream",
     "text": [
      "The CV score for Training set\n",
      "--------------------------------------\n",
      "[0.71405681 0.53042261 0.6699819  0.58563884 0.60853859]\n",
      "Q2 is 0.6217277521643647\n"
     ]
    }
   ],
   "source": [
    "print(\"The CV score for Training set\")\n",
    "print(\"--------------------------------------\")\n",
    "print (cross_val_score(regressor,x_train,y_train.ravel(),cv=5))\n",
    "print('Q2 is {}'.format(cvscoreval))"
   ]
  },
  {
   "cell_type": "code",
   "execution_count": 28,
   "id": "f6b04551",
   "metadata": {},
   "outputs": [],
   "source": [
    "#Performance on Out-bag sample \n",
    "# R2 value on unseen data (cross validation using hold-out set concept)\n",
    "random_forest_out_of_bag = RandomForestRegressor(oob_score=True,n_estimators =1900, max_features='auto', random_state = 42)"
   ]
  },
  {
   "cell_type": "code",
   "execution_count": 29,
   "id": "4190adf3",
   "metadata": {},
   "outputs": [
    {
     "data": {
      "text/plain": [
       "RandomForestRegressor(n_estimators=1900, oob_score=True, random_state=42)"
      ]
     },
     "execution_count": 29,
     "metadata": {},
     "output_type": "execute_result"
    }
   ],
   "source": [
    "random_forest_out_of_bag.fit(x_train, y_train)\n"
   ]
  },
  {
   "cell_type": "code",
   "execution_count": 30,
   "id": "4dfa874b",
   "metadata": {},
   "outputs": [
    {
     "name": "stdout",
     "output_type": "stream",
     "text": [
      "0.651952108202603\n"
     ]
    }
   ],
   "source": [
    "print(random_forest_out_of_bag.oob_score_)"
   ]
  },
  {
   "cell_type": "code",
   "execution_count": 27,
   "id": "f26ad723",
   "metadata": {},
   "outputs": [],
   "source": [
    "import seaborn as sns\n",
    "import matplotlib.pyplot as plt\n",
    "import statsmodels.api as sm"
   ]
  },
  {
   "cell_type": "code",
   "execution_count": 90,
   "id": "fc50428b",
   "metadata": {},
   "outputs": [
    {
     "data": {
      "image/png": "[encoded data removed]",
      "text/plain": [
       "<Figure size 360x360 with 1 Axes>"
      ]
     },
     "metadata": {
      "needs_background": "light"
     },
     "output_type": "display_data"
    }
   ],
   "source": [
    "plt.figure(figsize=(5,5))\n",
    "plt.scatter(y_test, y_pred, c='blue', marker='o')\n",
    "plt.yscale('linear')\n",
    "plt.xscale('linear')\n",
    "\n",
    "\n",
    "p1 = max(max(y_pred), max(y_test))\n",
    "p2 = min(min(y_pred), min(y_test))\n",
    "plt.plot([p1, p2], [p1, p2], c='red')\n",
    "plt.xlabel('Actual', fontsize=13)\n",
    "plt.ylabel('Predected', fontsize=13)\n",
    "plt.axis('equal')\n",
    "plt.text(0, 2, '$R^2$ = 0.795', fontsize = 12)\n",
    "plt.text(0, 1.8, 'RMSE = 0.231', fontsize = 12)\n",
    "plt.title('Random Forest(29)', fontsize = 14)\n",
    "\n",
    "# Draw a Loess best-fit line over the scatter plot\n",
    "lowess = sm.nonparametric.lowess\n",
    "loess_fit = lowess(y_pred, y_test, frac=0.3)\n",
    "# Plot the loess fit line on the scatter plot\n",
    "plt.plot(loess_fit[:, 0], loess_fit[:, 1], c='black', linestyle='dashed', linewidth=2)\n",
    "\n",
    "plt.show()"
   ]
  },
  {
   "cell_type": "code",
   "execution_count": 91,
   "id": "127a3518",
   "metadata": {},
   "outputs": [
    {
     "name": "stderr",
     "output_type": "stream",
     "text": [
      "<ipython-input-91-4e7325139b61>:9: UserWarning: color is redundantly defined by the 'color' keyword argument and the fmt string \"black\" (-> color=(0.0, 0.0, 0.0, 1.0)). The keyword argument will take precedence.\n",
      "  plt.plot([p1, p2], [p1, p2], 'black', linestyle='-', c='red', linewidth = 2 )\n"
     ]
    },
    {
     "data": {
      "image/png": "[encoded data removed]",
      "text/plain": [
       "<Figure size 360x360 with 1 Axes>"
      ]
     },
     "metadata": {
      "needs_background": "light"
     },
     "output_type": "display_data"
    }
   ],
   "source": [
    "# add the best fit line to the scatter plot\n",
    "plt.figure(figsize=(5,5))\n",
    "plt.yscale('linear')\n",
    "plt.xscale('linear')\n",
    "plt.scatter(y_test, y_pred, c='blue', marker='o')\n",
    "\n",
    "p1 = max(max(y_pred), max(y_test))\n",
    "p2 = min(min(y_pred), min(y_test))\n",
    "plt.plot([p1, p2], [p1, p2], 'black', linestyle='-', c='red', linewidth = 2 )\n",
    "plt.xlabel('Actual', fontsize=14)\n",
    "plt.ylabel('Predected', fontsize=14)\n",
    "plt.axis('equal')\n",
    "plt.text(0, 2, '$R^2$ = 0.795', fontsize = 14)\n",
    "plt.text(0, 1.8, 'RMSE = 0.231', fontsize = 14)\n",
    "plt.title('Random Forest(29)', fontsize = 16)\n",
    "plt.show()"
   ]
  },
  {
   "cell_type": "code",
   "execution_count": 30,
   "id": "d18ed85e",
   "metadata": {},
   "outputs": [
    {
     "name": "stderr",
     "output_type": "stream",
     "text": [
      "<ipython-input-30-22c36ac0ca05>:10: UserWarning: color is redundantly defined by the 'color' keyword argument and the fmt string \"black\" (-> color=(0.0, 0.0, 0.0, 1.0)). The keyword argument will take precedence.\n",
      "  plt.plot([p1, p2], [p1, p2], 'black', linestyle='dashed', c='red', linewidth = 2 )\n"
     ]
    },
    {
     "data": {
      "image/png": "[encoded data removed]",
      "text/plain": [
       "<Figure size 360x360 with 1 Axes>"
      ]
     },
     "metadata": {
      "needs_background": "light"
     },
     "output_type": "display_data"
    }
   ],
   "source": [
    "#Trainong set predection plot \n",
    "# add the best fit line to the scatter plot\n",
    "plt.figure(figsize=(5,5))\n",
    "plt.yscale('linear')\n",
    "plt.xscale('linear')\n",
    "plt.scatter(y_test, y_pred, c='blue', marker='o')\n",
    "\n",
    "p1 = max(max(y_pred_train), max(y_train))\n",
    "p2 = min(min(y_pred_train), min(y_train))\n",
    "plt.plot([p1, p2], [p1, p2], 'black', linestyle='dashed', c='red', linewidth = 2 )\n",
    "plt.xlabel('Actual', fontsize=14)\n",
    "plt.ylabel('Predected', fontsize=14)\n",
    "plt.axis('equal')\n",
    "plt.text(0, 2, '$R^2$ = 0.946', fontsize = 14)\n",
    "plt.text(0, 1.8, 'RMSE = 0.111', fontsize = 14)\n",
    "plt.title('Random Forest(255)', fontsize = 16)\n",
    "plt.show()"
   ]
  },
  {
   "cell_type": "code",
   "execution_count": null,
   "id": "8d7dcd87",
   "metadata": {},
   "outputs": [],
   "source": [
    "#Randomize search CV\n",
    "from sklearn.model_selection import RandomizedSearchCV"
   ]
  },
  {
   "cell_type": "code",
   "execution_count": null,
   "id": "92a93842",
   "metadata": {},
   "outputs": [],
   "source": [
    "#number of trees in the random forest \n",
    "n_estimators = [10,50,100,150,200,250,300, 350, 400, 450, 500, 550, 600, 700, 800, 800, 1000, 1500, 1600, 1700, 1800, 1900, 2000]\n",
    "#number of features to cinsider in at every split \n",
    "max_features = ['auto', 'sqrt', 'log2']\n",
    "#Max number of levels in tree\n",
    "max_depth = [None,1,2,3]\n",
    "#Minimum number ofsamples required to split a node \n",
    "min_samples_split =[2, 3, 4, 5, 6]\n",
    "#Minimum number ofsamples required at each leaf node\n",
    "min_samples_leaf =[1,2]\n"
   ]
  },
  {
   "cell_type": "code",
   "execution_count": null,
   "id": "c6aaf022",
   "metadata": {},
   "outputs": [],
   "source": [
    "# creatting parameter gride\n",
    "param_grid_regressor= {'n_estimators': n_estimators,\n",
    "                       'max_features': max_features,\n",
    "                       'max_depth': max_depth,\n",
    "                       'min_samples_split': min_samples_split,\n",
    "                      'min_samples_leaf':min_samples_leaf }"
   ]
  },
  {
   "cell_type": "code",
   "execution_count": null,
   "id": "109742d6",
   "metadata": {},
   "outputs": [],
   "source": [
    "regressor1_random = RandomizedSearchCV(estimator = regressor, param_distributions=param_grid_regressor, n_iter = 100,\n",
    "                              cv = 5, verbose =2,\n",
    "                              n_jobs= -1, scoring = 'neg_mean_squared_error' )"
   ]
  },
  {
   "cell_type": "code",
   "execution_count": null,
   "id": "ddc4afcb",
   "metadata": {},
   "outputs": [],
   "source": [
    "regressor1_random.fit(x_train, y_train)"
   ]
  },
  {
   "cell_type": "code",
   "execution_count": null,
   "id": "b2165f28",
   "metadata": {},
   "outputs": [],
   "source": [
    "regressor1_random.best_params_"
   ]
  },
  {
   "cell_type": "code",
   "execution_count": null,
   "id": "0933e5b0",
   "metadata": {},
   "outputs": [],
   "source": [
    "regressor1_random.best_score_"
   ]
  },
  {
   "cell_type": "code",
   "execution_count": null,
   "id": "24110ee5",
   "metadata": {},
   "outputs": [],
   "source": [
    "# parameter tuning grid searchCV\n",
    "from sklearn.model_selection import GridSearchCV"
   ]
  },
  {
   "cell_type": "code",
   "execution_count": null,
   "id": "5aae1979",
   "metadata": {},
   "outputs": [],
   "source": [
    "#RandomForestRegressor?"
   ]
  },
  {
   "cell_type": "code",
   "execution_count": null,
   "id": "7c55ba5e",
   "metadata": {},
   "outputs": [],
   "source": [
    "#number of trees in the random forest \n",
    "n_estimators = [1400, 1450, 1500, 1550, 1600, 1650, 1700, 1750, 1800, 1900, 2000]\n",
    "#number of features to cinsider in at every split \n",
    "max_features = ['auto', 'sqrt', 'log2']\n",
    "#Max number of levels in tree\n",
    "max_depth = [None,1, 2, 4,3]\n",
    "#Minimum number ofsamples required to split a node \n",
    "min_samples_split =[2, 3, 4, 5]\n",
    "#Minimum number ofsamples required at each leaf node\n",
    "min_samples_leaf =[1,2,3,4]\n",
    "#mathod of selceting samples of training each tree "
   ]
  },
  {
   "cell_type": "code",
   "execution_count": null,
   "id": "169dba63",
   "metadata": {},
   "outputs": [],
   "source": [
    "# creatting parameter gride\n",
    "param_grid_regressor1= {'n_estimators': n_estimators,\n",
    "                       'max_features': max_features,\n",
    "                      'min_samples_split':min_samples_split }"
   ]
  },
  {
   "cell_type": "code",
   "execution_count": null,
   "id": "1d5c7748",
   "metadata": {},
   "outputs": [],
   "source": [
    "print (param_grid_regressor1)"
   ]
  },
  {
   "cell_type": "code",
   "execution_count": null,
   "id": "ccfa9ee7",
   "metadata": {},
   "outputs": [],
   "source": [
    "regressor1_grid = GridSearchCV( estimator = regressor, param_grid = param_grid_regressor1,\n",
    "                              cv = 5, verbose = 2, n_jobs= -1, scoring = \"neg_mean_squared_error\")"
   ]
  },
  {
   "cell_type": "code",
   "execution_count": null,
   "id": "1caa1fe3",
   "metadata": {},
   "outputs": [],
   "source": [
    "regressor1_grid.fit(x_train, y_train)"
   ]
  },
  {
   "cell_type": "code",
   "execution_count": null,
   "id": "06bf02e7",
   "metadata": {},
   "outputs": [],
   "source": [
    "regressor1_grid.best_params_"
   ]
  },
  {
   "cell_type": "code",
   "execution_count": null,
   "id": "c386b708",
   "metadata": {},
   "outputs": [],
   "source": [
    "regressor1_grid.best_score_"
   ]
  }
 ],
 "metadata": {
  "kernelspec": {
   "display_name": "Python 3",
   "language": "python",
   "name": "python3"
  },
  "language_info": {
   "codemirror_mode": {
    "name": "ipython",
    "version": 3
   },
   "file_extension": ".py",
   "mimetype": "text/x-python",
   "name": "python",
   "nbconvert_exporter": "python",
   "pygments_lexer": "ipython3",
   "version": "3.9.4"
  }
 },
 "nbformat": 4,
 "nbformat_minor": 5
}
