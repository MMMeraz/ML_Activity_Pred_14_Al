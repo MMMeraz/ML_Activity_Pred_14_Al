{
 "cells": [
  {
   "cell_type": "code",
   "execution_count": 1,
   "id": "6d6f1d90",
   "metadata": {},
   "outputs": [],
   "source": [
    "# Import Section\n",
    "import csv\n",
    "import codecs\n",
    "import sys\n",
    "import io\n",
    "import numpy as np\n",
    "import pandas as pd\n",
    "import scipy as sp\n",
    "\n",
    "# For Regression\n",
    "from sklearn.model_selection import train_test_split\n",
    "from sklearn.model_selection import cross_val_score\n",
    "from statistics import mean\n",
    "\n",
    "from sklearn.ensemble import GradientBoostingRegressor\n",
    "\n",
    "# Python script for confusion matrix creation. \n",
    "from sklearn.metrics import *\n",
    "from numpy import mean\n",
    "from numpy import std\n",
    "from sklearn import metrics\n",
    "\n",
    "import matplotlib.pyplot as plt\n",
    "import seaborn as sns"
   ]
  },
  {
   "cell_type": "code",
   "execution_count": 2,
   "id": "69ae8fb6",
   "metadata": {},
   "outputs": [],
   "source": [
    "dataset=pd.read_excel(\"Des_cod_1056_92-29.xlsx\",index_col=0)"
   ]
  },
  {
   "cell_type": "code",
   "execution_count": 3,
   "id": "ec007b03",
   "metadata": {},
   "outputs": [
    {
     "data": {
      "text/plain": [
       "(1056, 30)"
      ]
     },
     "execution_count": 3,
     "metadata": {},
     "output_type": "execute_result"
    }
   ],
   "source": [
    "dataset.shape"
   ]
  },
  {
   "cell_type": "code",
   "execution_count": 4,
   "id": "6540ffea",
   "metadata": {},
   "outputs": [],
   "source": [
    "x = dataset.drop(['Act'],axis=1).astype (float)\n",
    "y = dataset['Act']"
   ]
  },
  {
   "cell_type": "code",
   "execution_count": 5,
   "id": "38fcc30c",
   "metadata": {},
   "outputs": [
    {
     "data": {
      "text/plain": [
       "(1056, 29)"
      ]
     },
     "execution_count": 5,
     "metadata": {},
     "output_type": "execute_result"
    }
   ],
   "source": [
    "x.shape"
   ]
  },
  {
   "cell_type": "code",
   "execution_count": 6,
   "id": "174dcd4e",
   "metadata": {},
   "outputs": [],
   "source": [
    "x_train, x_test, y_train, y_test = train_test_split(x,y,test_size=.2, random_state =47, shuffle=True)"
   ]
  },
  {
   "cell_type": "code",
   "execution_count": 7,
   "id": "5403d6e9",
   "metadata": {},
   "outputs": [
    {
     "data": {
      "text/plain": [
       "(212, 29)"
      ]
     },
     "execution_count": 7,
     "metadata": {},
     "output_type": "execute_result"
    }
   ],
   "source": [
    "x_test.shape"
   ]
  },
  {
   "cell_type": "code",
   "execution_count": 8,
   "id": "d8ed970c",
   "metadata": {},
   "outputs": [
    {
     "data": {
      "text/plain": [
       "(844, 29)"
      ]
     },
     "execution_count": 8,
     "metadata": {},
     "output_type": "execute_result"
    }
   ],
   "source": [
    "x_train.shape"
   ]
  },
  {
   "cell_type": "code",
   "execution_count": 9,
   "id": "99a01ad3",
   "metadata": {},
   "outputs": [],
   "source": [
    "regressor = GradientBoostingRegressor(n_estimators= 450, min_samples_split= 2, min_samples_leaf=3, max_depth=3,\n",
    "                                     loss='ls', learning_rate= 0.15, criterion= 'mse', random_state=0)"
   ]
  },
  {
   "cell_type": "code",
   "execution_count": 10,
   "id": "e8defc90",
   "metadata": {},
   "outputs": [],
   "source": [
    "#GradientBoostingRegressor?"
   ]
  },
  {
   "cell_type": "code",
   "execution_count": 11,
   "id": "5d221650",
   "metadata": {},
   "outputs": [],
   "source": [
    "import time\n",
    "from datetime import timedelta\n",
    "start_time = time.monotonic()"
   ]
  },
  {
   "cell_type": "code",
   "execution_count": 12,
   "id": "4e94da1a",
   "metadata": {},
   "outputs": [
    {
     "data": {
      "text/plain": [
       "GradientBoostingRegressor(criterion='mse', learning_rate=0.15,\n",
       "                          min_samples_leaf=3, n_estimators=450, random_state=0)"
      ]
     },
     "execution_count": 12,
     "metadata": {},
     "output_type": "execute_result"
    }
   ],
   "source": [
    " regressor.fit(x_train, y_train)"
   ]
  },
  {
   "cell_type": "code",
   "execution_count": 13,
   "id": "f3d988b2",
   "metadata": {},
   "outputs": [
    {
     "name": "stdout",
     "output_type": "stream",
     "text": [
      "0:00:05.047000\n"
     ]
    }
   ],
   "source": [
    "end_time = time.monotonic()\n",
    "print(timedelta(seconds=end_time - start_time))"
   ]
  },
  {
   "cell_type": "code",
   "execution_count": 14,
   "id": "153a413c",
   "metadata": {},
   "outputs": [],
   "source": [
    "# compute the testing accuracy\n",
    "y_pred = regressor.predict(x_test)"
   ]
  },
  {
   "cell_type": "code",
   "execution_count": 15,
   "id": "ef2bd5a0",
   "metadata": {},
   "outputs": [],
   "source": [
    "y_pred_train = regressor.predict(x_train)"
   ]
  },
  {
   "cell_type": "code",
   "execution_count": 16,
   "id": "51b8dbf2",
   "metadata": {},
   "outputs": [
    {
     "data": {
      "text/plain": [
       "(844,)"
      ]
     },
     "execution_count": 16,
     "metadata": {},
     "output_type": "execute_result"
    }
   ],
   "source": [
    "y_pred_train.shape"
   ]
  },
  {
   "cell_type": "code",
   "execution_count": 17,
   "id": "bd299f88",
   "metadata": {},
   "outputs": [
    {
     "name": "stdout",
     "output_type": "stream",
     "text": [
      "\n",
      "\n",
      "overall Performance: \n"
     ]
    }
   ],
   "source": [
    "  print(\"\\n\")\n",
    "  print(\"overall Performance: \", )"
   ]
  },
  {
   "cell_type": "code",
   "execution_count": 18,
   "id": "08e1d8cc",
   "metadata": {},
   "outputs": [],
   "source": [
    "  # model evaluation for testing set\n",
    "  mae = metrics.mean_absolute_error(y_test, y_pred)\n",
    "  mse = metrics.mean_squared_error(y_test, y_pred)\n",
    "  r2 = metrics.r2_score(y_test, y_pred)"
   ]
  },
  {
   "cell_type": "code",
   "execution_count": 19,
   "id": "109a011e",
   "metadata": {},
   "outputs": [
    {
     "name": "stdout",
     "output_type": "stream",
     "text": [
      "The model performance for testing set\n",
      "--------------------------------------\n",
      "MAE is 0.16282203423317929\n",
      "MSE is 0.05647882731060148\n",
      "R2 score is 0.783672823273793\n"
     ]
    }
   ],
   "source": [
    "print(\"The model performance for testing set\")\n",
    "print(\"--------------------------------------\")\n",
    "print('MAE is {}'.format(mae))\n",
    "print('MSE is {}'.format(mse))\n",
    "print('R2 score is {}'.format(r2))"
   ]
  },
  {
   "cell_type": "code",
   "execution_count": 20,
   "id": "6eb42d35",
   "metadata": {},
   "outputs": [],
   "source": [
    "  # model evaluation for training set\n",
    "maeTrain = metrics.mean_absolute_error(y_train, y_pred_train)\n",
    "mseTrain = metrics.mean_squared_error(y_train, y_pred_train)\n",
    "r2Train = metrics.r2_score(y_train, y_pred_train)"
   ]
  },
  {
   "cell_type": "code",
   "execution_count": 21,
   "id": "595c5093",
   "metadata": {},
   "outputs": [
    {
     "name": "stdout",
     "output_type": "stream",
     "text": [
      "The model performance for training set\n",
      "--------------------------------------\n",
      "MAE is 0.026303976706787694\n",
      "MSE is 0.0013011823258092014\n",
      "R2 score is 0.9943658314039137\n"
     ]
    }
   ],
   "source": [
    "print(\"The model performance for training set\")\n",
    "print(\"--------------------------------------\")\n",
    "print('MAE is {}'.format(maeTrain))\n",
    "print('MSE is {}'.format(mseTrain))\n",
    "print('R2 score is {}'.format(r2Train))"
   ]
  },
  {
   "cell_type": "code",
   "execution_count": 22,
   "id": "eed7adf1",
   "metadata": {},
   "outputs": [],
   "source": [
    "cvscoretrain = (cross_val_score(regressor,x_train,y_train.ravel(),cv=5).mean())"
   ]
  },
  {
   "cell_type": "code",
   "execution_count": 23,
   "id": "becd2119",
   "metadata": {},
   "outputs": [
    {
     "name": "stdout",
     "output_type": "stream",
     "text": [
      "The CV score for training set\n",
      "--------------------------------------\n",
      "[0.71335706 0.6037497  0.68981218 0.62406066 0.58222568]\n",
      "Q2 is 0.6426410566889152\n"
     ]
    }
   ],
   "source": [
    "print(\"The CV score for training set\")\n",
    "print(\"--------------------------------------\")\n",
    "print (cross_val_score(regressor,x_train,y_train.ravel(),cv=5))\n",
    "print('Q2 is {}'.format(cvscoretrain))"
   ]
  },
  {
   "cell_type": "code",
   "execution_count": 24,
   "id": "a3acc45e",
   "metadata": {},
   "outputs": [],
   "source": [
    "import seaborn as sns\n",
    "import matplotlib.pyplot as plt\n",
    "import statsmodels.api as sm"
   ]
  },
  {
   "cell_type": "code",
   "execution_count": 27,
   "id": "3a094043",
   "metadata": {},
   "outputs": [
    {
     "data": {
      "image/png": "[encoded data removed]",
      "text/plain": [
       "<Figure size 360x360 with 1 Axes>"
      ]
     },
     "metadata": {
      "needs_background": "light"
     },
     "output_type": "display_data"
    }
   ],
   "source": [
    "plt.figure(figsize=(5,5))\n",
    "plt.scatter(y_test, y_pred, c='blue', marker='o', linewidth=1)\n",
    "plt.yscale('linear')\n",
    "plt.xscale('linear')\n",
    "\n",
    "\n",
    "p1 = max(max(y_pred), max(y_test))\n",
    "p2 = min(min(y_pred), min(y_test))\n",
    "plt.plot([p1, p2], [p1, p2], c='black', linestyle='dashed')\n",
    "plt.xlabel('Actual', fontsize=13)\n",
    "plt.ylabel('Predected', fontsize=13)\n",
    "plt.axis('equal')\n",
    "plt.text(0, 2, '$R^2$ = 0.784', fontsize = 12)\n",
    "plt.text(0, 1.8, 'RMSE = 0.238', fontsize = 12)\n",
    "plt.title('Gradient boosting (29)', fontsize = 14)\n",
    "\n",
    "# Draw a Loess best-fit line over the scatter plot\n",
    "lowess = sm.nonparametric.lowess\n",
    "loess_fit = lowess(y_pred, y_test, frac=0.3)\n",
    "# Plot the loess fit line on the scatter plot\n",
    "plt.plot(loess_fit[:, 0], loess_fit[:, 1], 'r-', linewidth=2)\n",
    "\n",
    "plt.show()"
   ]
  },
  {
   "cell_type": "code",
   "execution_count": 28,
   "id": "1e8072ef",
   "metadata": {},
   "outputs": [
    {
     "data": {
      "image/png": "[encoded data removed]",
      "text/plain": [
       "<Figure size 360x360 with 1 Axes>"
      ]
     },
     "metadata": {
      "needs_background": "light"
     },
     "output_type": "display_data"
    }
   ],
   "source": [
    "plt.figure(figsize=(5,5))\n",
    "plt.scatter(y_test, y_pred, c='blue', marker='o')\n",
    "plt.yscale('linear')\n",
    "plt.xscale('linear')\n",
    "\n",
    "p1 = max(max(y_pred), max(y_test))\n",
    "p2 = min(min(y_pred), min(y_test))\n",
    "plt.plot([p1, p2], [p1, p2], 'red')\n",
    "plt.xlabel('Actual', fontsize=13)\n",
    "plt.ylabel('Predected', fontsize=13)\n",
    "plt.axis('equal')\n",
    "plt.text(0, 2, '$R^2$ = 0.784', fontsize = 12)\n",
    "plt.text(0, 1.8, 'RMSE = 0.238', fontsize = 12)\n",
    "plt.title('Gradient boosting (29)', fontsize = 14)\n",
    "plt.show()"
   ]
  },
  {
   "cell_type": "code",
   "execution_count": 22,
   "id": "673abc15",
   "metadata": {},
   "outputs": [],
   "source": [
    "#Randomize search CV\n",
    "from sklearn.model_selection import RandomizedSearchCV"
   ]
  },
  {
   "cell_type": "code",
   "execution_count": 23,
   "id": "56ede5ca",
   "metadata": {},
   "outputs": [],
   "source": [
    "# creatting parameter gride\n",
    "param_grid_regressor= {'loss': ['ls', 'lad', 'huber', 'quantile'],\n",
    "                       'n_estimators':[50, 100, 150, 200, 300, 400], \n",
    "    'learning_rate': [0.05, 0.1, 0.15, 0.2, 0.25],   'criterion': ['friedman_mse', 'mse', 'mae'],\n",
    "                       'min_samples_split': [1.0,2,3,4], \n",
    "                     'min_samples_leaf': [1,2,3,4], 'max_depth' : [1,2,3,4,5] }"
   ]
  },
  {
   "cell_type": "code",
   "execution_count": 24,
   "id": "00df69ad",
   "metadata": {},
   "outputs": [
    {
     "name": "stdout",
     "output_type": "stream",
     "text": [
      "{'loss': ['ls', 'lad', 'huber', 'quantile'], 'n_estimators': [50, 100, 150, 200, 300, 400], 'learning_rate': [0.05, 0.1, 0.15, 0.2, 0.25], 'criterion': ['friedman_mse', 'mse', 'mae'], 'min_samples_split': [1.0, 2, 3, 4], 'min_samples_leaf': [1, 2, 3, 4], 'max_depth': [1, 2, 3, 4, 5]}\n"
     ]
    }
   ],
   "source": [
    "print (param_grid_regressor)"
   ]
  },
  {
   "cell_type": "code",
   "execution_count": 25,
   "id": "ad837c9a",
   "metadata": {},
   "outputs": [],
   "source": [
    "regressor_random = RandomizedSearchCV(estimator = regressor, param_distributions=param_grid_regressor, n_iter = 100,\n",
    "                              cv = 5, verbose =2,\n",
    "                              n_jobs= -1, scoring = 'neg_mean_squared_error' )"
   ]
  },
  {
   "cell_type": "code",
   "execution_count": 26,
   "id": "cc3935cf",
   "metadata": {},
   "outputs": [
    {
     "name": "stdout",
     "output_type": "stream",
     "text": [
      "Fitting 5 folds for each of 100 candidates, totalling 500 fits\n"
     ]
    },
    {
     "data": {
      "text/plain": [
       "RandomizedSearchCV(cv=5,\n",
       "                   estimator=GradientBoostingRegressor(n_estimators=300,\n",
       "                                                       random_state=0),\n",
       "                   n_iter=100, n_jobs=-1,\n",
       "                   param_distributions={'criterion': ['friedman_mse', 'mse',\n",
       "                                                      'mae'],\n",
       "                                        'learning_rate': [0.05, 0.1, 0.15, 0.2,\n",
       "                                                          0.25],\n",
       "                                        'loss': ['ls', 'lad', 'huber',\n",
       "                                                 'quantile'],\n",
       "                                        'max_depth': [1, 2, 3, 4, 5],\n",
       "                                        'min_samples_leaf': [1, 2, 3, 4],\n",
       "                                        'min_samples_split': [1.0, 2, 3, 4],\n",
       "                                        'n_estimators': [50, 100, 150, 200, 300,\n",
       "                                                         400]},\n",
       "                   scoring='neg_mean_squared_error', verbose=2)"
      ]
     },
     "execution_count": 26,
     "metadata": {},
     "output_type": "execute_result"
    }
   ],
   "source": [
    "regressor_random.fit (x,y)"
   ]
  },
  {
   "cell_type": "code",
   "execution_count": 27,
   "id": "9b089138",
   "metadata": {},
   "outputs": [
    {
     "data": {
      "text/plain": [
       "{'n_estimators': 50,\n",
       " 'min_samples_split': 2,\n",
       " 'min_samples_leaf': 3,\n",
       " 'max_depth': 3,\n",
       " 'loss': 'huber',\n",
       " 'learning_rate': 0.15,\n",
       " 'criterion': 'mse'}"
      ]
     },
     "execution_count": 27,
     "metadata": {},
     "output_type": "execute_result"
    }
   ],
   "source": [
    "regressor_random.best_params_"
   ]
  },
  {
   "cell_type": "code",
   "execution_count": 28,
   "id": "aebc36ce",
   "metadata": {},
   "outputs": [
    {
     "data": {
      "text/plain": [
       "-0.1743108828120685"
      ]
     },
     "execution_count": 28,
     "metadata": {},
     "output_type": "execute_result"
    }
   ],
   "source": [
    "regressor_random.best_score_"
   ]
  },
  {
   "cell_type": "code",
   "execution_count": 30,
   "id": "805f7ddc",
   "metadata": {},
   "outputs": [],
   "source": [
    "# parameter tuning grid searchCV\n",
    "from sklearn.model_selection import GridSearchCV"
   ]
  },
  {
   "cell_type": "code",
   "execution_count": 31,
   "id": "a384cfd0",
   "metadata": {},
   "outputs": [],
   "source": [
    "param_grid_regressor1= {'loss': ['ls', 'lad'],\n",
    "                       'n_estimators':[ 50, 100, 150], \n",
    "    'learning_rate': [0.1, 0.15, 0.2], 'min_samples_split': [1,2,3], \n",
    "                     'min_samples_leaf': [3,4,5], 'max_depth' : [4,5,6] }"
   ]
  },
  {
   "cell_type": "code",
   "execution_count": 32,
   "id": "76a7b184",
   "metadata": {},
   "outputs": [],
   "source": [
    "regressor_grid = GridSearchCV(estimator =regressor, param_grid=param_grid_regressor1,\n",
    "                              cv = 5, verbose = 2,\n",
    "                              n_jobs= -1,  scoring = \"neg_mean_squared_error\")"
   ]
  },
  {
   "cell_type": "code",
   "execution_count": 33,
   "id": "69e66d04",
   "metadata": {},
   "outputs": [
    {
     "name": "stdout",
     "output_type": "stream",
     "text": [
      "Fitting 5 folds for each of 972 candidates, totalling 4860 fits\n"
     ]
    },
    {
     "name": "stderr",
     "output_type": "stream",
     "text": [
      "C:\\Python39\\lib\\site-packages\\sklearn\\model_selection\\_search.py:922: UserWarning: One or more of the test scores are non-finite: [           nan            nan            nan -2175.26531584\n",
      " -2220.46748472 -2248.09783574 -2175.26531584 -2220.46748472\n",
      " -2248.09783574            nan            nan            nan\n",
      " -2072.60748024 -2159.30790377 -2184.9706945  -2072.60748024\n",
      " -2159.30790377 -2184.9706945             nan            nan\n",
      "            nan -1960.45807426 -1966.85216013 -1984.53932519\n",
      " -1960.45807426 -1966.85216013 -1984.53932519            nan\n",
      "            nan            nan -2295.88508853 -2339.07482426\n",
      " -2350.87050869 -2295.88508853 -2339.07482426 -2350.87050869\n",
      "            nan            nan            nan -2228.33726308\n",
      " -2297.6096316  -2303.52761669 -2228.33726308 -2297.6096316\n",
      " -2303.52761669            nan            nan            nan\n",
      " -2149.8033336  -2207.75359876 -2218.44072645 -2149.8033336\n",
      " -2207.75359876 -2218.44072645            nan            nan\n",
      "            nan -2375.33757762 -2380.59659697 -2388.53304298\n",
      " -2375.33757762 -2380.59659697 -2388.53304298            nan\n",
      "            nan            nan -2237.2918416  -2234.48143334\n",
      " -2246.91135457 -2237.2918416  -2234.48143334 -2246.91135457\n",
      "            nan            nan            nan -2195.9935155\n",
      " -2223.86058078 -2245.89521939 -2195.9935155  -2223.86058078\n",
      " -2245.89521939            nan            nan            nan\n",
      " -2035.59023878 -1867.04265503 -1810.04187683 -2035.59023878\n",
      " -1867.04265503 -1810.04187683            nan            nan\n",
      "            nan -1971.65630763 -1733.44946008 -1704.92099558\n",
      " -1971.65630763 -1733.44946008 -1704.92099558            nan\n",
      "            nan            nan -1903.48314171 -1825.52341197\n",
      " -1792.99631324 -1903.48314171 -1825.52341197 -1792.99631324\n",
      "            nan            nan            nan -1720.75919946\n",
      " -1622.87764046 -1631.41926936 -1720.75919946 -1622.87764046\n",
      " -1631.41926936            nan            nan            nan\n",
      " -2074.94758624 -1812.16107105 -1806.99508911 -2074.94758624\n",
      " -1812.16107105 -1806.99508911            nan            nan\n",
      "            nan -2130.03259406 -1967.88541438 -1954.45175721\n",
      " -2130.03259406 -1967.88541438 -1954.45175721            nan\n",
      "            nan            nan -1836.75413868 -1700.44124213\n",
      " -1641.38462266 -1836.75413868 -1700.44124213 -1641.38462266\n",
      "            nan            nan            nan -1925.43100402\n",
      " -1856.17558556 -1829.31002121 -1925.43100402 -1856.17558556\n",
      " -1829.31002121            nan            nan            nan\n",
      " -1780.95709672 -1685.91861536 -1638.51336275 -1780.95709672\n",
      " -1685.91861536 -1638.51336275            nan            nan\n",
      "            nan -2270.53901289 -2288.21638774 -2308.57471805\n",
      " -2270.53901289 -2288.21638774 -2308.57471805            nan\n",
      "            nan            nan -2236.43840779 -2312.913647\n",
      " -2331.47806807 -2236.43840779 -2312.913647   -2331.47806807\n",
      "            nan            nan            nan -2015.15656568\n",
      " -2053.56289364 -2087.17505064 -2015.15656568 -2053.56289364\n",
      " -2087.17505064            nan            nan            nan\n",
      " -2227.77282011 -2251.76367062 -2257.77528824 -2227.77282011\n",
      " -2251.76367062 -2257.77528824            nan            nan\n",
      "            nan -2360.8967137  -2394.26750322 -2406.33544883\n",
      " -2360.8967137  -2394.26750322 -2406.33544883            nan\n",
      "            nan            nan -2157.45914422 -2181.32092946\n",
      " -2203.21008112 -2157.45914422 -2181.32092946 -2203.21008112\n",
      "            nan            nan            nan -2436.52818996\n",
      " -2443.76897428 -2444.48046741 -2436.52818996 -2443.76897428\n",
      " -2444.48046741            nan            nan            nan\n",
      " -2347.51545042 -2356.76442498 -2358.12175282 -2347.51545042\n",
      " -2356.76442498 -2358.12175282            nan            nan\n",
      "            nan -2241.93434137 -2236.12157596 -2259.06059009\n",
      " -2241.93434137 -2236.12157596 -2259.06059009            nan\n",
      "            nan            nan -2149.5437847  -1955.06592461\n",
      " -1920.94070614 -2149.5437847  -1955.06592461 -1920.94070614\n",
      "            nan            nan            nan -2031.47547382\n",
      " -1993.98673519 -1973.19985545 -2031.47547382 -1993.98673519\n",
      " -1973.19985545            nan            nan            nan\n",
      " -2044.87737949 -1934.94631018 -1886.39430435 -2044.87737949\n",
      " -1934.94631018 -1886.39430435            nan            nan\n",
      "            nan -1809.36777418 -1759.10207978 -1794.26088826\n",
      " -1809.36777418 -1759.10207978 -1794.26088826            nan\n",
      "            nan            nan -1797.11382776 -1768.06915609\n",
      " -1709.61284653 -1797.11382776 -1768.06915609 -1709.61284653\n",
      "            nan            nan            nan -1864.65689251\n",
      " -1699.0396184  -1682.47688548 -1864.65689251 -1699.0396184\n",
      " -1682.47688548            nan            nan            nan\n",
      " -1915.6032192  -1850.24697296 -1873.69700714 -1915.6032192\n",
      " -1850.24697296 -1873.69700714            nan            nan\n",
      "            nan -1754.56907404 -1653.54183223 -1648.68997229\n",
      " -1754.56907404 -1653.54183223 -1648.68997229            nan\n",
      "            nan            nan -1797.8677551  -1773.78422481\n",
      " -1761.36090031 -1797.8677551  -1773.78422481 -1761.36090031\n",
      "            nan            nan            nan -2335.41395861\n",
      " -2383.08234737 -2382.03962413 -2335.41395861 -2383.08234737\n",
      " -2382.03962413            nan            nan            nan\n",
      " -2262.71116011 -2299.65038054 -2308.49192139 -2262.71116011\n",
      " -2299.65038054 -2308.49192139            nan            nan\n",
      "            nan -2071.79145995 -2084.13624066 -2108.69207035\n",
      " -2071.79145995 -2084.13624066 -2108.69207035            nan\n",
      "            nan            nan -2271.83775576 -2301.02209738\n",
      " -2312.76389051 -2271.83775576 -2301.02209738 -2312.76389051\n",
      "            nan            nan            nan -2236.43902679\n",
      " -2261.08485113 -2268.69188926 -2236.43902679 -2261.08485113\n",
      " -2268.69188926            nan            nan            nan\n",
      " -2167.9074987  -2204.65918255 -2216.5905304  -2167.9074987\n",
      " -2204.65918255 -2216.5905304             nan            nan\n",
      "            nan -2385.55892359 -2401.9713255  -2402.73512623\n",
      " -2385.55892359 -2401.9713255  -2402.73512623            nan\n",
      "            nan            nan -2365.00203081 -2384.052062\n",
      " -2397.14203111 -2365.00203081 -2384.052062   -2397.14203111\n",
      "            nan            nan            nan -2238.96624465\n",
      " -2271.35358087 -2280.69917661 -2238.96624465 -2271.35358087\n",
      " -2280.69917661            nan            nan            nan\n",
      " -2111.69407629 -1826.49837971 -1800.98379265 -2111.69407629\n",
      " -1826.49837971 -1800.98379265            nan            nan\n",
      "            nan -1986.8857704  -2059.16703563 -2012.72994419\n",
      " -1986.8857704  -2059.16703563 -2012.72994419            nan\n",
      "            nan            nan -2077.50076847 -2118.36182854\n",
      " -2087.96097737 -2077.50076847 -2118.36182854 -2087.96097737\n",
      "            nan            nan            nan -1747.16542098\n",
      " -1792.57584234 -1788.21481153 -1747.16542098 -1792.57584234\n",
      " -1788.21481153            nan            nan            nan\n",
      " -1905.27572887 -1894.79341663 -1868.31866027 -1905.27572887\n",
      " -1894.79341663 -1868.31866027            nan            nan\n",
      "            nan -1710.81385003 -1697.56479048 -1688.98961075\n",
      " -1710.81385003 -1697.56479048 -1688.98961075            nan\n",
      "            nan            nan -1710.2163915  -1733.2569106\n",
      " -1727.37903829 -1710.2163915  -1733.2569106  -1727.37903829\n",
      "            nan            nan            nan -1689.28062181\n",
      " -1708.79133116 -1698.32487697 -1689.28062181 -1708.79133116\n",
      " -1698.32487697            nan            nan            nan\n",
      " -1942.85521924 -1891.04508629 -1887.65975111 -1942.85521924\n",
      " -1891.04508629 -1887.65975111            nan            nan\n",
      "            nan -2175.21372313 -2220.63870174 -2247.56569919\n",
      " -2175.21372313 -2220.63870174 -2247.56569919            nan\n",
      "            nan            nan -2061.94652014 -2149.42579651\n",
      " -2174.95759286 -2061.94652014 -2149.42579651 -2174.95759286\n",
      "            nan            nan            nan -1959.06953275\n",
      " -1966.48082708 -1984.92071719 -1959.06953275 -1966.48082708\n",
      " -1984.92071719            nan            nan            nan\n",
      " -2304.82048401 -2348.71140472 -2359.07440468 -2304.82048401\n",
      " -2348.71140472 -2359.07440468            nan            nan\n",
      "            nan -2229.163358   -2298.10392438 -2304.12725964\n",
      " -2229.163358   -2298.10392438 -2304.12725964            nan\n",
      "            nan            nan -2151.39929608 -2209.65202436\n",
      " -2220.1591077  -2151.39929608 -2209.65202436 -2220.1591077\n",
      "            nan            nan            nan -2374.52792892\n",
      " -2379.61586463 -2387.38211739 -2374.52792892 -2379.61586463\n",
      " -2387.38211739            nan            nan            nan\n",
      " -2233.65799006 -2230.93604388 -2243.92547601 -2233.65799006\n",
      " -2230.93604388 -2243.92547601            nan            nan\n",
      "            nan -2197.08853081 -2223.99462697 -2246.68246575\n",
      " -2197.08853081 -2223.99462697 -2246.68246575            nan\n",
      "            nan            nan -2035.59023878 -1867.78986448\n",
      " -1811.46308516 -2035.59023878 -1867.78986448 -1811.46308516\n",
      "            nan            nan            nan -1971.65630763\n",
      " -1733.44946008 -1704.92099558 -1971.65630763 -1733.44946008\n",
      " -1704.92099558            nan            nan            nan\n",
      " -1902.47624526 -1847.60475768 -1817.56726299 -1902.47624526\n",
      " -1847.60475768 -1817.56726299            nan            nan\n",
      "            nan -1720.75919946 -1626.65686612 -1631.07100927\n",
      " -1720.75919946 -1626.65686612 -1631.07100927            nan\n",
      "            nan            nan -2074.94758624 -1808.49325725\n",
      " -1810.12816502 -2074.94758624 -1808.49325725 -1810.12816502\n",
      "            nan            nan            nan -2125.22562319\n",
      " -1951.36621026 -1925.92075801 -2125.22562319 -1951.36621026\n",
      " -1925.92075801            nan            nan            nan\n",
      " -1836.75413868 -1650.59572832 -1683.76372003 -1836.75413868\n",
      " -1650.59572832 -1683.76372003            nan            nan\n",
      "            nan -1919.39067255 -1820.83513017 -1792.75651527\n",
      " -1919.39067255 -1820.83513017 -1792.75651527            nan\n",
      "            nan            nan -1778.51160281 -1677.61915303\n",
      " -1630.12615678 -1778.51160281 -1677.61915303 -1630.12615678\n",
      "            nan            nan            nan -2287.49433648\n",
      " -2305.40921252 -2327.12599142 -2287.49433648 -2305.40921252\n",
      " -2327.12599142            nan            nan            nan\n",
      " -2234.45324097 -2309.81370043 -2328.52493044 -2234.45324097\n",
      " -2309.81370043 -2328.52493044            nan            nan\n",
      "            nan -2010.52708011 -2049.18299616 -2087.09900644\n",
      " -2010.52708011 -2049.18299616 -2087.09900644            nan\n",
      "            nan            nan -2249.8262012  -2272.70658724\n",
      " -2277.52942423 -2249.8262012  -2272.70658724 -2277.52942423\n",
      "            nan            nan            nan -2356.23146448\n",
      " -2388.90241179 -2401.36857393 -2356.23146448 -2388.90241179\n",
      " -2401.36857393            nan            nan            nan\n",
      " -2151.69168761 -2180.01182005 -2203.97431616 -2151.69168761\n",
      " -2180.01182005 -2203.97431616            nan            nan\n",
      "            nan -2447.87782722 -2455.15774186 -2455.63236212\n",
      " -2447.87782722 -2455.15774186 -2455.63236212            nan\n",
      "            nan            nan -2344.44878519 -2355.34516508\n",
      " -2356.28898603 -2344.44878519 -2355.34516508 -2356.28898603\n",
      "            nan            nan            nan -2232.38118777\n",
      " -2229.43324057 -2253.37294376 -2232.38118777 -2229.43324057\n",
      " -2253.37294376            nan            nan            nan\n",
      " -2149.5437847  -1955.06592461 -1920.94070614 -2149.5437847\n",
      " -1955.06592461 -1920.94070614            nan            nan\n",
      "            nan -2033.27945014 -2008.61205316 -1986.18582897\n",
      " -2033.27945014 -2008.61205316 -1986.18582897            nan\n",
      "            nan            nan -2042.71850304 -1834.32327157\n",
      " -1835.87784896 -2042.71850304 -1834.32327157 -1835.87784896\n",
      "            nan            nan            nan -1794.60312241\n",
      " -1741.68931564 -1763.26926732 -1794.60312241 -1741.68931564\n",
      " -1763.26926732            nan            nan            nan\n",
      " -1817.39096581 -1760.13214186 -1740.79029271 -1817.39096581\n",
      " -1760.13214186 -1740.79029271            nan            nan\n",
      "            nan -1864.65689251 -1699.0396184  -1689.09939079\n",
      " -1864.65689251 -1699.0396184  -1689.09939079            nan\n",
      "            nan            nan -1921.15329501 -1842.34206623\n",
      " -1845.34179071 -1921.15329501 -1842.34206623 -1845.34179071\n",
      "            nan            nan            nan -1736.47393962\n",
      " -1687.45225015 -1671.20867582 -1736.47393962 -1687.45225015\n",
      " -1671.20867582            nan            nan            nan\n",
      " -1778.92822451 -1730.68748174 -1714.25277454 -1778.92822451\n",
      " -1730.68748174 -1714.25277454            nan            nan\n",
      "            nan -2331.60088829 -2378.5591564  -2378.47983543\n",
      " -2331.60088829 -2378.5591564  -2378.47983543            nan\n",
      "            nan            nan -2266.03645856 -2300.48375043\n",
      " -2308.75547628 -2266.03645856 -2300.48375043 -2308.75547628\n",
      "            nan            nan            nan -2066.19926451\n",
      " -2078.68061109 -2102.35309195 -2066.19926451 -2078.68061109\n",
      " -2102.35309195            nan            nan            nan\n",
      " -2266.91499022 -2296.27998085 -2307.96275609 -2266.91499022\n",
      " -2296.27998085 -2307.96275609            nan            nan\n",
      "            nan -2241.27558368 -2266.72451208 -2274.19089204\n",
      " -2241.27558368 -2266.72451208 -2274.19089204            nan\n",
      "            nan            nan -2155.15196037 -2191.46122556\n",
      " -2202.91615739 -2155.15196037 -2191.46122556 -2202.91615739\n",
      "            nan            nan            nan -2383.92016777\n",
      " -2399.697948   -2400.5234469  -2383.92016777 -2399.697948\n",
      " -2400.5234469             nan            nan            nan\n",
      " -2365.52134813 -2384.7989079  -2397.80643975 -2365.52134813\n",
      " -2384.7989079  -2397.80643975            nan            nan\n",
      "            nan -2229.60436659 -2263.51849504 -2272.93836668\n",
      " -2229.60436659 -2263.51849504 -2272.93836668            nan\n",
      "            nan            nan -2111.69407629 -1826.49837971\n",
      " -1800.98379265 -2111.69407629 -1826.49837971 -1800.98379265\n",
      "            nan            nan            nan -1986.8857704\n",
      " -1886.56425851 -1827.907483   -1986.8857704  -1886.56425851\n",
      " -1827.907483              nan            nan            nan\n",
      " -2102.02999175 -2142.79705663 -2056.82421637 -2102.02999175\n",
      " -2142.79705663 -2056.82421637            nan            nan\n",
      "            nan -1732.21104014 -1769.97750102 -1784.60377988\n",
      " -1732.21104014 -1769.97750102 -1784.60377988            nan\n",
      "            nan            nan -1903.61007845 -1891.16931353\n",
      " -1864.5265991  -1903.61007845 -1891.16931353 -1864.5265991\n",
      "            nan            nan            nan -1714.24550215\n",
      " -1699.8770203  -1689.5440727  -1714.24550215 -1699.8770203\n",
      " -1689.5440727             nan            nan            nan\n",
      " -1733.4528329  -1779.57617961 -1787.08306937 -1733.4528329\n",
      " -1779.57617961 -1787.08306937            nan            nan\n",
      "            nan -1690.83807742 -1710.92635091 -1689.24330422\n",
      " -1690.83807742 -1710.92635091 -1689.24330422            nan\n",
      "            nan            nan -1919.13197599 -1867.77205256\n",
      " -1860.18628578 -1919.13197599 -1867.77205256 -1860.18628578]\n",
      "  warnings.warn(\n"
     ]
    },
    {
     "data": {
      "text/plain": [
       "GridSearchCV(cv=5, estimator=GradientBoostingRegressor(random_state=0),\n",
       "             n_jobs=-1,\n",
       "             param_grid={'criterion': ['friedman_mse', 'mse'],\n",
       "                         'learning_rate': [0.1, 0.15, 0.2],\n",
       "                         'loss': ['ls', 'lad'], 'max_depth': [4, 5, 6],\n",
       "                         'min_samples_leaf': [3, 4, 5],\n",
       "                         'min_samples_split': [1, 2, 3],\n",
       "                         'n_estimators': [50, 100, 150]},\n",
       "             scoring='neg_mean_squared_error', verbose=2)"
      ]
     },
     "execution_count": 33,
     "metadata": {},
     "output_type": "execute_result"
    }
   ],
   "source": [
    "regressor_grid.fit (x,y)"
   ]
  },
  {
   "cell_type": "code",
   "execution_count": 34,
   "id": "2bf443f7",
   "metadata": {},
   "outputs": [
    {
     "data": {
      "text/plain": [
       "{'criterion': 'friedman_mse',\n",
       " 'learning_rate': 0.1,\n",
       " 'loss': 'lad',\n",
       " 'max_depth': 5,\n",
       " 'min_samples_leaf': 3,\n",
       " 'min_samples_split': 2,\n",
       " 'n_estimators': 100}"
      ]
     },
     "execution_count": 34,
     "metadata": {},
     "output_type": "execute_result"
    }
   ],
   "source": [
    "regressor_grid.best_params_"
   ]
  },
  {
   "cell_type": "code",
   "execution_count": 61,
   "id": "d82b1890",
   "metadata": {},
   "outputs": [
    {
     "data": {
      "text/plain": [
       "-1631.0710092729037"
      ]
     },
     "execution_count": 61,
     "metadata": {},
     "output_type": "execute_result"
    }
   ],
   "source": [
    "regressor_grid.best_score_"
   ]
  }
 ],
 "metadata": {
  "kernelspec": {
   "display_name": "Python 3",
   "language": "python",
   "name": "python3"
  },
  "language_info": {
   "codemirror_mode": {
    "name": "ipython",
    "version": 3
   },
   "file_extension": ".py",
   "mimetype": "text/x-python",
   "name": "python",
   "nbconvert_exporter": "python",
   "pygments_lexer": "ipython3",
   "version": "3.9.4"
  }
 },
 "nbformat": 4,
 "nbformat_minor": 5
}
