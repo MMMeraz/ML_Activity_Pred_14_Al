{
 "cells": [
  {
   "cell_type": "code",
   "execution_count": 1,
   "id": "6d6f1d90",
   "metadata": {},
   "outputs": [],
   "source": [
    "# Import Section\n",
    "import csv\n",
    "import codecs\n",
    "import sys\n",
    "import io\n",
    "import numpy as np\n",
    "import pandas as pd\n",
    "import scipy as sp\n",
    "\n",
    "# For Regression\n",
    "from sklearn.model_selection import train_test_split\n",
    "from sklearn.model_selection import cross_val_score\n",
    "from statistics import mean\n",
    "\n",
    "from sklearn import tree\n",
    "from sklearn import linear_model\n",
    "from sklearn.linear_model import ElasticNet\n",
    "from sklearn.kernel_ridge import KernelRidge\n",
    "\n",
    "# Python script for confusion matrix creation. \n",
    "from sklearn.metrics import *\n",
    "from numpy import mean\n",
    "from numpy import std\n",
    "from sklearn import metrics\n",
    "\n",
    "from xgboost import XGBRegressor"
   ]
  },
  {
   "cell_type": "code",
   "execution_count": 2,
   "id": "60f97037",
   "metadata": {},
   "outputs": [],
   "source": [
    "dataset=pd.read_excel(\"Des_cod_1056_92-29.xlsx\",index_col=0)"
   ]
  },
  {
   "cell_type": "code",
   "execution_count": 3,
   "id": "ec007b03",
   "metadata": {},
   "outputs": [
    {
     "data": {
      "text/plain": [
       "(1056, 30)"
      ]
     },
     "execution_count": 3,
     "metadata": {},
     "output_type": "execute_result"
    }
   ],
   "source": [
    "dataset.shape"
   ]
  },
  {
   "cell_type": "code",
   "execution_count": 4,
   "id": "88dbd49e",
   "metadata": {},
   "outputs": [
    {
     "data": {
      "text/html": [
       "<div>\n",
       "<style scoped>\n",
       "    .dataframe tbody tr th:only-of-type {\n",
       "        vertical-align: middle;\n",
       "    }\n",
       "\n",
       "    .dataframe tbody tr th {\n",
       "        vertical-align: top;\n",
       "    }\n",
       "\n",
       "    .dataframe thead th {\n",
       "        text-align: right;\n",
       "    }\n",
       "</style>\n",
       "<table border=\"1\" class=\"dataframe\">\n",
       "  <thead>\n",
       "    <tr style=\"text-align: right;\">\n",
       "      <th></th>\n",
       "      <th>Number of atoms</th>\n",
       "      <th>Relative number of N  atoms</th>\n",
       "      <th>Relative number of Cl atoms</th>\n",
       "      <th>Wiener index</th>\n",
       "      <th>Kier&amp;Hall index (order 3)</th>\n",
       "      <th>Average Information content (order 0)</th>\n",
       "      <th>Balaban index</th>\n",
       "      <th>Max partial charge for a N  atom [Zefirovs PC]</th>\n",
       "      <th>Min partial charge for a N  atom [Zefirovs PC]</th>\n",
       "      <th>Polarity parameter / square distance</th>\n",
       "      <th>...</th>\n",
       "      <th>Max net atomic charge for a C atom</th>\n",
       "      <th>Tot dipole of the molecule</th>\n",
       "      <th>Image of the Onsager-Kirkwood solvation energy</th>\n",
       "      <th>RNCS Relative negative charged SA (SAMNEG*RNCG) [Quantum-Chemical PC]</th>\n",
       "      <th>Max SIGMA-SIGMA bond order</th>\n",
       "      <th>Max PI-PI bond order</th>\n",
       "      <th>Min valency of a N atom</th>\n",
       "      <th>Avg valency of a N atom</th>\n",
       "      <th>Min (0.1) bond order of a N atom</th>\n",
       "      <th>Act</th>\n",
       "    </tr>\n",
       "    <tr>\n",
       "      <th>Structure</th>\n",
       "      <th></th>\n",
       "      <th></th>\n",
       "      <th></th>\n",
       "      <th></th>\n",
       "      <th></th>\n",
       "      <th></th>\n",
       "      <th></th>\n",
       "      <th></th>\n",
       "      <th></th>\n",
       "      <th></th>\n",
       "      <th></th>\n",
       "      <th></th>\n",
       "      <th></th>\n",
       "      <th></th>\n",
       "      <th></th>\n",
       "      <th></th>\n",
       "      <th></th>\n",
       "      <th></th>\n",
       "      <th></th>\n",
       "      <th></th>\n",
       "      <th></th>\n",
       "    </tr>\n",
       "  </thead>\n",
       "  <tbody>\n",
       "    <tr>\n",
       "      <th>\"1Co\"</th>\n",
       "      <td>101</td>\n",
       "      <td>0.0297</td>\n",
       "      <td>0.0198</td>\n",
       "      <td>26631</td>\n",
       "      <td>9.9558</td>\n",
       "      <td>1.6397</td>\n",
       "      <td>0.8438</td>\n",
       "      <td>-0.0893</td>\n",
       "      <td>-0.0926</td>\n",
       "      <td>0.1809</td>\n",
       "      <td>...</td>\n",
       "      <td>0.2878</td>\n",
       "      <td>9.4339</td>\n",
       "      <td>0.1088</td>\n",
       "      <td>0.3086</td>\n",
       "      <td>0.9950</td>\n",
       "      <td>0.9488</td>\n",
       "      <td>3.1423</td>\n",
       "      <td>3.2054</td>\n",
       "      <td>0.2697</td>\n",
       "      <td>0.853</td>\n",
       "    </tr>\n",
       "    <tr>\n",
       "      <th>\"2Co\"</th>\n",
       "      <td>107</td>\n",
       "      <td>0.0280</td>\n",
       "      <td>0.0187</td>\n",
       "      <td>29652</td>\n",
       "      <td>10.4813</td>\n",
       "      <td>1.6785</td>\n",
       "      <td>0.9663</td>\n",
       "      <td>-0.0893</td>\n",
       "      <td>-0.0924</td>\n",
       "      <td>0.1626</td>\n",
       "      <td>...</td>\n",
       "      <td>0.2677</td>\n",
       "      <td>8.7587</td>\n",
       "      <td>0.0907</td>\n",
       "      <td>0.2536</td>\n",
       "      <td>0.9962</td>\n",
       "      <td>0.9470</td>\n",
       "      <td>3.1279</td>\n",
       "      <td>3.1937</td>\n",
       "      <td>0.2686</td>\n",
       "      <td>0.987</td>\n",
       "    </tr>\n",
       "    <tr>\n",
       "      <th>\"3Co\"</th>\n",
       "      <td>113</td>\n",
       "      <td>0.0265</td>\n",
       "      <td>0.0177</td>\n",
       "      <td>32339</td>\n",
       "      <td>10.8588</td>\n",
       "      <td>1.6722</td>\n",
       "      <td>0.8453</td>\n",
       "      <td>-0.0892</td>\n",
       "      <td>-0.0923</td>\n",
       "      <td>0.1809</td>\n",
       "      <td>...</td>\n",
       "      <td>0.2876</td>\n",
       "      <td>9.3381</td>\n",
       "      <td>0.0998</td>\n",
       "      <td>0.2020</td>\n",
       "      <td>0.9960</td>\n",
       "      <td>0.9490</td>\n",
       "      <td>3.1339</td>\n",
       "      <td>3.2001</td>\n",
       "      <td>0.2607</td>\n",
       "      <td>0.773</td>\n",
       "    </tr>\n",
       "    <tr>\n",
       "      <th>\"4Co\"</th>\n",
       "      <td>104</td>\n",
       "      <td>0.0288</td>\n",
       "      <td>0.0192</td>\n",
       "      <td>28065</td>\n",
       "      <td>10.1517</td>\n",
       "      <td>1.6509</td>\n",
       "      <td>0.8427</td>\n",
       "      <td>-0.0893</td>\n",
       "      <td>-0.0926</td>\n",
       "      <td>0.1809</td>\n",
       "      <td>...</td>\n",
       "      <td>0.2872</td>\n",
       "      <td>9.2435</td>\n",
       "      <td>0.1027</td>\n",
       "      <td>0.1485</td>\n",
       "      <td>0.9951</td>\n",
       "      <td>0.9489</td>\n",
       "      <td>3.1410</td>\n",
       "      <td>3.2049</td>\n",
       "      <td>0.2687</td>\n",
       "      <td>0.760</td>\n",
       "    </tr>\n",
       "    <tr>\n",
       "      <th>\"5Co\"</th>\n",
       "      <td>110</td>\n",
       "      <td>0.0273</td>\n",
       "      <td>0.0182</td>\n",
       "      <td>31138</td>\n",
       "      <td>10.6903</td>\n",
       "      <td>1.6850</td>\n",
       "      <td>0.9670</td>\n",
       "      <td>-0.0893</td>\n",
       "      <td>-0.0924</td>\n",
       "      <td>0.1626</td>\n",
       "      <td>...</td>\n",
       "      <td>0.2648</td>\n",
       "      <td>8.4606</td>\n",
       "      <td>0.0832</td>\n",
       "      <td>0.2797</td>\n",
       "      <td>0.9962</td>\n",
       "      <td>0.9471</td>\n",
       "      <td>3.1275</td>\n",
       "      <td>3.1930</td>\n",
       "      <td>0.2680</td>\n",
       "      <td>0.893</td>\n",
       "    </tr>\n",
       "    <tr>\n",
       "      <th>...</th>\n",
       "      <td>...</td>\n",
       "      <td>...</td>\n",
       "      <td>...</td>\n",
       "      <td>...</td>\n",
       "      <td>...</td>\n",
       "      <td>...</td>\n",
       "      <td>...</td>\n",
       "      <td>...</td>\n",
       "      <td>...</td>\n",
       "      <td>...</td>\n",
       "      <td>...</td>\n",
       "      <td>...</td>\n",
       "      <td>...</td>\n",
       "      <td>...</td>\n",
       "      <td>...</td>\n",
       "      <td>...</td>\n",
       "      <td>...</td>\n",
       "      <td>...</td>\n",
       "      <td>...</td>\n",
       "      <td>...</td>\n",
       "      <td>...</td>\n",
       "    </tr>\n",
       "    <tr>\n",
       "      <th>\"1052Co\"</th>\n",
       "      <td>86</td>\n",
       "      <td>0.0349</td>\n",
       "      <td>0.0233</td>\n",
       "      <td>17187</td>\n",
       "      <td>8.0898</td>\n",
       "      <td>1.7691</td>\n",
       "      <td>0.9049</td>\n",
       "      <td>-0.0892</td>\n",
       "      <td>-0.0923</td>\n",
       "      <td>0.1752</td>\n",
       "      <td>...</td>\n",
       "      <td>0.3161</td>\n",
       "      <td>9.7498</td>\n",
       "      <td>0.1395</td>\n",
       "      <td>0.3712</td>\n",
       "      <td>0.9947</td>\n",
       "      <td>0.9671</td>\n",
       "      <td>3.1652</td>\n",
       "      <td>3.1986</td>\n",
       "      <td>0.2608</td>\n",
       "      <td>0.370</td>\n",
       "    </tr>\n",
       "    <tr>\n",
       "      <th>\"1053Co\"</th>\n",
       "      <td>74</td>\n",
       "      <td>0.0405</td>\n",
       "      <td>0.0270</td>\n",
       "      <td>13291</td>\n",
       "      <td>7.1869</td>\n",
       "      <td>1.7552</td>\n",
       "      <td>0.8931</td>\n",
       "      <td>-0.0893</td>\n",
       "      <td>-0.0926</td>\n",
       "      <td>0.1752</td>\n",
       "      <td>...</td>\n",
       "      <td>0.3158</td>\n",
       "      <td>10.0471</td>\n",
       "      <td>0.1614</td>\n",
       "      <td>0.6300</td>\n",
       "      <td>0.9946</td>\n",
       "      <td>0.9681</td>\n",
       "      <td>3.1698</td>\n",
       "      <td>3.2042</td>\n",
       "      <td>0.2656</td>\n",
       "      <td>1.020</td>\n",
       "    </tr>\n",
       "    <tr>\n",
       "      <th>\"1054Co\"</th>\n",
       "      <td>80</td>\n",
       "      <td>0.0375</td>\n",
       "      <td>0.0250</td>\n",
       "      <td>15195</td>\n",
       "      <td>7.7123</td>\n",
       "      <td>1.7671</td>\n",
       "      <td>0.8967</td>\n",
       "      <td>-0.0893</td>\n",
       "      <td>-0.0924</td>\n",
       "      <td>0.1752</td>\n",
       "      <td>...</td>\n",
       "      <td>0.3160</td>\n",
       "      <td>9.8221</td>\n",
       "      <td>0.1476</td>\n",
       "      <td>0.4963</td>\n",
       "      <td>0.9955</td>\n",
       "      <td>0.9677</td>\n",
       "      <td>3.1676</td>\n",
       "      <td>3.2025</td>\n",
       "      <td>0.2633</td>\n",
       "      <td>0.832</td>\n",
       "    </tr>\n",
       "    <tr>\n",
       "      <th>\"1055Co\"</th>\n",
       "      <td>86</td>\n",
       "      <td>0.0349</td>\n",
       "      <td>0.0233</td>\n",
       "      <td>17187</td>\n",
       "      <td>8.0898</td>\n",
       "      <td>1.7691</td>\n",
       "      <td>0.9049</td>\n",
       "      <td>-0.0892</td>\n",
       "      <td>-0.0923</td>\n",
       "      <td>0.1752</td>\n",
       "      <td>...</td>\n",
       "      <td>0.3161</td>\n",
       "      <td>9.7498</td>\n",
       "      <td>0.1395</td>\n",
       "      <td>0.3712</td>\n",
       "      <td>0.9947</td>\n",
       "      <td>0.9671</td>\n",
       "      <td>3.1652</td>\n",
       "      <td>3.1986</td>\n",
       "      <td>0.2608</td>\n",
       "      <td>0.701</td>\n",
       "    </tr>\n",
       "    <tr>\n",
       "      <th>\"1056Co\"</th>\n",
       "      <td>77</td>\n",
       "      <td>0.0390</td>\n",
       "      <td>0.0260</td>\n",
       "      <td>14257</td>\n",
       "      <td>7.3828</td>\n",
       "      <td>1.7627</td>\n",
       "      <td>0.8938</td>\n",
       "      <td>-0.0893</td>\n",
       "      <td>-0.0926</td>\n",
       "      <td>0.1752</td>\n",
       "      <td>...</td>\n",
       "      <td>0.3155</td>\n",
       "      <td>9.7558</td>\n",
       "      <td>0.1488</td>\n",
       "      <td>0.6034</td>\n",
       "      <td>0.9948</td>\n",
       "      <td>0.9679</td>\n",
       "      <td>3.1695</td>\n",
       "      <td>3.2040</td>\n",
       "      <td>0.2658</td>\n",
       "      <td>1.090</td>\n",
       "    </tr>\n",
       "  </tbody>\n",
       "</table>\n",
       "<p>1056 rows × 30 columns</p>\n",
       "</div>"
      ],
      "text/plain": [
       "           Number of atoms  Relative number of N  atoms  \\\n",
       "Structure                                                 \n",
       "\"1Co\"                  101                       0.0297   \n",
       "\"2Co\"                  107                       0.0280   \n",
       "\"3Co\"                  113                       0.0265   \n",
       "\"4Co\"                  104                       0.0288   \n",
       "\"5Co\"                  110                       0.0273   \n",
       "...                    ...                          ...   \n",
       "\"1052Co\"                86                       0.0349   \n",
       "\"1053Co\"                74                       0.0405   \n",
       "\"1054Co\"                80                       0.0375   \n",
       "\"1055Co\"                86                       0.0349   \n",
       "\"1056Co\"                77                       0.0390   \n",
       "\n",
       "           Relative number of Cl atoms  Wiener index  \\\n",
       "Structure                                              \n",
       "\"1Co\"                           0.0198         26631   \n",
       "\"2Co\"                           0.0187         29652   \n",
       "\"3Co\"                           0.0177         32339   \n",
       "\"4Co\"                           0.0192         28065   \n",
       "\"5Co\"                           0.0182         31138   \n",
       "...                                ...           ...   \n",
       "\"1052Co\"                        0.0233         17187   \n",
       "\"1053Co\"                        0.0270         13291   \n",
       "\"1054Co\"                        0.0250         15195   \n",
       "\"1055Co\"                        0.0233         17187   \n",
       "\"1056Co\"                        0.0260         14257   \n",
       "\n",
       "           Kier&Hall index (order 3)  Average Information content (order 0)  \\\n",
       "Structure                                                                     \n",
       "\"1Co\"                         9.9558                                 1.6397   \n",
       "\"2Co\"                        10.4813                                 1.6785   \n",
       "\"3Co\"                        10.8588                                 1.6722   \n",
       "\"4Co\"                        10.1517                                 1.6509   \n",
       "\"5Co\"                        10.6903                                 1.6850   \n",
       "...                              ...                                    ...   \n",
       "\"1052Co\"                      8.0898                                 1.7691   \n",
       "\"1053Co\"                      7.1869                                 1.7552   \n",
       "\"1054Co\"                      7.7123                                 1.7671   \n",
       "\"1055Co\"                      8.0898                                 1.7691   \n",
       "\"1056Co\"                      7.3828                                 1.7627   \n",
       "\n",
       "           Balaban index  Max partial charge for a N  atom [Zefirovs PC]  \\\n",
       "Structure                                                                  \n",
       "\"1Co\"             0.8438                                         -0.0893   \n",
       "\"2Co\"             0.9663                                         -0.0893   \n",
       "\"3Co\"             0.8453                                         -0.0892   \n",
       "\"4Co\"             0.8427                                         -0.0893   \n",
       "\"5Co\"             0.9670                                         -0.0893   \n",
       "...                  ...                                             ...   \n",
       "\"1052Co\"          0.9049                                         -0.0892   \n",
       "\"1053Co\"          0.8931                                         -0.0893   \n",
       "\"1054Co\"          0.8967                                         -0.0893   \n",
       "\"1055Co\"          0.9049                                         -0.0892   \n",
       "\"1056Co\"          0.8938                                         -0.0893   \n",
       "\n",
       "           Min partial charge for a N  atom [Zefirovs PC]  \\\n",
       "Structure                                                   \n",
       "\"1Co\"                                             -0.0926   \n",
       "\"2Co\"                                             -0.0924   \n",
       "\"3Co\"                                             -0.0923   \n",
       "\"4Co\"                                             -0.0926   \n",
       "\"5Co\"                                             -0.0924   \n",
       "...                                                   ...   \n",
       "\"1052Co\"                                          -0.0923   \n",
       "\"1053Co\"                                          -0.0926   \n",
       "\"1054Co\"                                          -0.0924   \n",
       "\"1055Co\"                                          -0.0923   \n",
       "\"1056Co\"                                          -0.0926   \n",
       "\n",
       "           Polarity parameter / square distance  ...  \\\n",
       "Structure                                        ...   \n",
       "\"1Co\"                                    0.1809  ...   \n",
       "\"2Co\"                                    0.1626  ...   \n",
       "\"3Co\"                                    0.1809  ...   \n",
       "\"4Co\"                                    0.1809  ...   \n",
       "\"5Co\"                                    0.1626  ...   \n",
       "...                                         ...  ...   \n",
       "\"1052Co\"                                 0.1752  ...   \n",
       "\"1053Co\"                                 0.1752  ...   \n",
       "\"1054Co\"                                 0.1752  ...   \n",
       "\"1055Co\"                                 0.1752  ...   \n",
       "\"1056Co\"                                 0.1752  ...   \n",
       "\n",
       "           Max net atomic charge for a C atom  Tot dipole of the molecule  \\\n",
       "Structure                                                                   \n",
       "\"1Co\"                                  0.2878                      9.4339   \n",
       "\"2Co\"                                  0.2677                      8.7587   \n",
       "\"3Co\"                                  0.2876                      9.3381   \n",
       "\"4Co\"                                  0.2872                      9.2435   \n",
       "\"5Co\"                                  0.2648                      8.4606   \n",
       "...                                       ...                         ...   \n",
       "\"1052Co\"                               0.3161                      9.7498   \n",
       "\"1053Co\"                               0.3158                     10.0471   \n",
       "\"1054Co\"                               0.3160                      9.8221   \n",
       "\"1055Co\"                               0.3161                      9.7498   \n",
       "\"1056Co\"                               0.3155                      9.7558   \n",
       "\n",
       "           Image of the Onsager-Kirkwood solvation energy  \\\n",
       "Structure                                                   \n",
       "\"1Co\"                                              0.1088   \n",
       "\"2Co\"                                              0.0907   \n",
       "\"3Co\"                                              0.0998   \n",
       "\"4Co\"                                              0.1027   \n",
       "\"5Co\"                                              0.0832   \n",
       "...                                                   ...   \n",
       "\"1052Co\"                                           0.1395   \n",
       "\"1053Co\"                                           0.1614   \n",
       "\"1054Co\"                                           0.1476   \n",
       "\"1055Co\"                                           0.1395   \n",
       "\"1056Co\"                                           0.1488   \n",
       "\n",
       "           RNCS Relative negative charged SA (SAMNEG*RNCG) [Quantum-Chemical PC]  \\\n",
       "Structure                                                                          \n",
       "\"1Co\"                                                 0.3086                       \n",
       "\"2Co\"                                                 0.2536                       \n",
       "\"3Co\"                                                 0.2020                       \n",
       "\"4Co\"                                                 0.1485                       \n",
       "\"5Co\"                                                 0.2797                       \n",
       "...                                                      ...                       \n",
       "\"1052Co\"                                              0.3712                       \n",
       "\"1053Co\"                                              0.6300                       \n",
       "\"1054Co\"                                              0.4963                       \n",
       "\"1055Co\"                                              0.3712                       \n",
       "\"1056Co\"                                              0.6034                       \n",
       "\n",
       "           Max SIGMA-SIGMA bond order  Max PI-PI bond order  \\\n",
       "Structure                                                     \n",
       "\"1Co\"                          0.9950                0.9488   \n",
       "\"2Co\"                          0.9962                0.9470   \n",
       "\"3Co\"                          0.9960                0.9490   \n",
       "\"4Co\"                          0.9951                0.9489   \n",
       "\"5Co\"                          0.9962                0.9471   \n",
       "...                               ...                   ...   \n",
       "\"1052Co\"                       0.9947                0.9671   \n",
       "\"1053Co\"                       0.9946                0.9681   \n",
       "\"1054Co\"                       0.9955                0.9677   \n",
       "\"1055Co\"                       0.9947                0.9671   \n",
       "\"1056Co\"                       0.9948                0.9679   \n",
       "\n",
       "           Min valency of a N atom  Avg valency of a N atom  \\\n",
       "Structure                                                     \n",
       "\"1Co\"                       3.1423                   3.2054   \n",
       "\"2Co\"                       3.1279                   3.1937   \n",
       "\"3Co\"                       3.1339                   3.2001   \n",
       "\"4Co\"                       3.1410                   3.2049   \n",
       "\"5Co\"                       3.1275                   3.1930   \n",
       "...                            ...                      ...   \n",
       "\"1052Co\"                    3.1652                   3.1986   \n",
       "\"1053Co\"                    3.1698                   3.2042   \n",
       "\"1054Co\"                    3.1676                   3.2025   \n",
       "\"1055Co\"                    3.1652                   3.1986   \n",
       "\"1056Co\"                    3.1695                   3.2040   \n",
       "\n",
       "           Min (0.1) bond order of a N atom    Act  \n",
       "Structure                                           \n",
       "\"1Co\"                                0.2697  0.853  \n",
       "\"2Co\"                                0.2686  0.987  \n",
       "\"3Co\"                                0.2607  0.773  \n",
       "\"4Co\"                                0.2687  0.760  \n",
       "\"5Co\"                                0.2680  0.893  \n",
       "...                                     ...    ...  \n",
       "\"1052Co\"                             0.2608  0.370  \n",
       "\"1053Co\"                             0.2656  1.020  \n",
       "\"1054Co\"                             0.2633  0.832  \n",
       "\"1055Co\"                             0.2608  0.701  \n",
       "\"1056Co\"                             0.2658  1.090  \n",
       "\n",
       "[1056 rows x 30 columns]"
      ]
     },
     "execution_count": 4,
     "metadata": {},
     "output_type": "execute_result"
    }
   ],
   "source": [
    "dataset"
   ]
  },
  {
   "cell_type": "code",
   "execution_count": 5,
   "id": "6540ffea",
   "metadata": {},
   "outputs": [],
   "source": [
    "x = dataset.drop(['Act'],axis=1).astype (float)\n",
    "y = dataset['Act']"
   ]
  },
  {
   "cell_type": "code",
   "execution_count": 6,
   "id": "38fcc30c",
   "metadata": {},
   "outputs": [
    {
     "data": {
      "text/plain": [
       "(1056, 29)"
      ]
     },
     "execution_count": 6,
     "metadata": {},
     "output_type": "execute_result"
    }
   ],
   "source": [
    "x.shape"
   ]
  },
  {
   "cell_type": "code",
   "execution_count": 7,
   "id": "c129b673",
   "metadata": {},
   "outputs": [
    {
     "data": {
      "text/plain": [
       "Structure\n",
       "\"1Co\"       0.853\n",
       "\"2Co\"       0.987\n",
       "\"3Co\"       0.773\n",
       "\"4Co\"       0.760\n",
       "\"5Co\"       0.893\n",
       "            ...  \n",
       "\"1052Co\"    0.370\n",
       "\"1053Co\"    1.020\n",
       "\"1054Co\"    0.832\n",
       "\"1055Co\"    0.701\n",
       "\"1056Co\"    1.090\n",
       "Name: Act, Length: 1056, dtype: float64"
      ]
     },
     "execution_count": 7,
     "metadata": {},
     "output_type": "execute_result"
    }
   ],
   "source": [
    "y"
   ]
  },
  {
   "cell_type": "code",
   "execution_count": 8,
   "id": "174dcd4e",
   "metadata": {},
   "outputs": [],
   "source": [
    "x_train, x_test, y_train, y_test = train_test_split(x,y,test_size=.2, random_state = 47, shuffle=True)"
   ]
  },
  {
   "cell_type": "code",
   "execution_count": 9,
   "id": "5403d6e9",
   "metadata": {},
   "outputs": [
    {
     "data": {
      "text/plain": [
       "(212, 29)"
      ]
     },
     "execution_count": 9,
     "metadata": {},
     "output_type": "execute_result"
    }
   ],
   "source": [
    "x_test.shape"
   ]
  },
  {
   "cell_type": "code",
   "execution_count": 10,
   "id": "3e08e96b",
   "metadata": {},
   "outputs": [
    {
     "data": {
      "text/plain": [
       "(844, 29)"
      ]
     },
     "execution_count": 10,
     "metadata": {},
     "output_type": "execute_result"
    }
   ],
   "source": [
    "x_train.shape"
   ]
  },
  {
   "cell_type": "code",
   "execution_count": 11,
   "id": "f1c0a4f3",
   "metadata": {},
   "outputs": [],
   "source": [
    "# soilution of problems ( ValueError('feature_names may not contain [, ] or <'))\n",
    "import re\n",
    "\n",
    "regex = re.compile(r\"\\[|\\]|<\", re.IGNORECASE)\n",
    "\n",
    "x_train.columns = [regex.sub(\"_\", col) if any(x in str(col) for x in set(('[', ']', '<'))) else col for col in x_train.columns.values]\n",
    "x_test.columns = [regex.sub(\"_\", col) if any(x in str(col) for x in set(('[', ']', '<'))) else col for col in x_test.columns.values]\n",
    "x.columns = [regex.sub(\"_\", col) if any(x in str(col) for x in set(('[', ']', '<'))) else col for col in x.columns.values]"
   ]
  },
  {
   "cell_type": "code",
   "execution_count": 12,
   "id": "f9695117",
   "metadata": {},
   "outputs": [],
   "source": [
    "#In order to train and optimize our model, we need to utilize CatBoost library integrated tool for \n",
    "#combining features and target variables into a train and test dataset. This pooling allows you to pinpoint target variables, predictors, and the list of categorical features, while the pool constructor will combine those inputs \n",
    "#and pass them to the model.\n",
    "#train_dataset = cb.Pool(x_train, y_train) \n",
    "#test_dataset = cb.Pool(x_test, y_test)"
   ]
  },
  {
   "cell_type": "code",
   "execution_count": 13,
   "id": "e7432bad",
   "metadata": {},
   "outputs": [],
   "source": [
    "#XGBRegressor?"
   ]
  },
  {
   "cell_type": "code",
   "execution_count": 13,
   "id": "869e1391",
   "metadata": {},
   "outputs": [],
   "source": [
    "regressor = XGBRegressor(n_estimators=700,max_depth=4, importance_type='weight')"
   ]
  },
  {
   "cell_type": "code",
   "execution_count": 14,
   "id": "eb5029e2",
   "metadata": {},
   "outputs": [],
   "source": [
    "import time\n",
    "from datetime import timedelta\n",
    "start_time = time.monotonic()"
   ]
  },
  {
   "cell_type": "code",
   "execution_count": 15,
   "id": "ddbd4ce9",
   "metadata": {
    "scrolled": true
   },
   "outputs": [
    {
     "data": {
      "text/plain": [
       "XGBRegressor(base_score=0.5, booster='gbtree', callbacks=None,\n",
       "             colsample_bylevel=1, colsample_bynode=1, colsample_bytree=1,\n",
       "             early_stopping_rounds=None, enable_categorical=False,\n",
       "             eval_metric=None, feature_types=None, gamma=0, gpu_id=-1,\n",
       "             grow_policy='depthwise', importance_type='weight',\n",
       "             interaction_constraints='', learning_rate=0.300000012, max_bin=256,\n",
       "             max_cat_threshold=64, max_cat_to_onehot=4, max_delta_step=0,\n",
       "             max_depth=4, max_leaves=0, min_child_weight=1, missing=nan,\n",
       "             monotone_constraints='()', n_estimators=700, n_jobs=0,\n",
       "             num_parallel_tree=1, predictor='auto', random_state=0, ...)"
      ]
     },
     "execution_count": 15,
     "metadata": {},
     "output_type": "execute_result"
    }
   ],
   "source": [
    "regressor.fit (x_train,y_train)"
   ]
  },
  {
   "cell_type": "code",
   "execution_count": 16,
   "id": "1d1a5fe1",
   "metadata": {},
   "outputs": [
    {
     "name": "stdout",
     "output_type": "stream",
     "text": [
      "0:00:03.969000\n"
     ]
    }
   ],
   "source": [
    "end_time = time.monotonic()\n",
    "print(timedelta(seconds=end_time - start_time))"
   ]
  },
  {
   "cell_type": "code",
   "execution_count": 17,
   "id": "f53bca06",
   "metadata": {},
   "outputs": [],
   "source": [
    "# compute the testing accuracy\n",
    "y_pred = regressor.predict(x_test)"
   ]
  },
  {
   "cell_type": "code",
   "execution_count": 18,
   "id": "69a33e05",
   "metadata": {},
   "outputs": [],
   "source": [
    "y_pred_train = regressor.predict(x_train)"
   ]
  },
  {
   "cell_type": "code",
   "execution_count": 19,
   "id": "bd299f88",
   "metadata": {},
   "outputs": [
    {
     "name": "stdout",
     "output_type": "stream",
     "text": [
      "\n",
      "\n",
      "overall Performance: \n"
     ]
    }
   ],
   "source": [
    "  print(\"\\n\")\n",
    "  print(\"overall Performance: \", )"
   ]
  },
  {
   "cell_type": "code",
   "execution_count": 20,
   "id": "08e1d8cc",
   "metadata": {},
   "outputs": [],
   "source": [
    "  # model evaluation for testing set\n",
    "  mae = metrics.mean_absolute_error(y_test, y_pred)\n",
    "  mse = metrics.mean_squared_error(y_test, y_pred)\n",
    "  r2 = metrics.r2_score(y_test, y_pred)"
   ]
  },
  {
   "cell_type": "code",
   "execution_count": 21,
   "id": "109a011e",
   "metadata": {},
   "outputs": [
    {
     "name": "stdout",
     "output_type": "stream",
     "text": [
      "The model performance for testing set\n",
      "--------------------------------------\n",
      "MAE is 0.158480039024487\n",
      "MSE is 0.053781105402906204\n",
      "R2 score is 0.7940057319348517\n"
     ]
    }
   ],
   "source": [
    "print(\"The model performance for testing set\")\n",
    "print(\"--------------------------------------\")\n",
    "print('MAE is {}'.format(mae))\n",
    "print('MSE is {}'.format(mse))\n",
    "print('R2 score is {}'.format(r2))"
   ]
  },
  {
   "cell_type": "code",
   "execution_count": 22,
   "id": "6eb42d35",
   "metadata": {},
   "outputs": [],
   "source": [
    "  # model evaluation for training set\n",
    "maeTrain = metrics.mean_absolute_error(y_train, y_pred_train)\n",
    "mseTrain = metrics.mean_squared_error(y_train, y_pred_train)\n",
    "r2Train = metrics.r2_score(y_train, y_pred_train)"
   ]
  },
  {
   "cell_type": "code",
   "execution_count": 23,
   "id": "595c5093",
   "metadata": {},
   "outputs": [
    {
     "name": "stdout",
     "output_type": "stream",
     "text": [
      "The model performance for training set\n",
      "--------------------------------------\n",
      "MAE is 0.0012585075047666856\n",
      "MSE is 6.635817215792713e-05\n",
      "R2 score is 0.9997126666092445\n"
     ]
    }
   ],
   "source": [
    "print(\"The model performance for training set\")\n",
    "print(\"--------------------------------------\")\n",
    "print('MAE is {}'.format(maeTrain))\n",
    "print('MSE is {}'.format(mseTrain))\n",
    "print('R2 score is {}'.format(r2Train))"
   ]
  },
  {
   "cell_type": "code",
   "execution_count": 24,
   "id": "759c0e9b",
   "metadata": {},
   "outputs": [],
   "source": [
    "cvscoretrain = (cross_val_score(regressor,x_train,y_train.ravel(),cv=5).mean())"
   ]
  },
  {
   "cell_type": "code",
   "execution_count": 25,
   "id": "68a9bfd4",
   "metadata": {},
   "outputs": [
    {
     "name": "stdout",
     "output_type": "stream",
     "text": [
      "The CV score for training set\n",
      "--------------------------------------\n",
      "[0.70509695 0.5780238  0.65936994 0.61801034 0.59693704]\n",
      "Q2 is 0.6314876141403111\n"
     ]
    }
   ],
   "source": [
    "print(\"The CV score for training set\")\n",
    "print(\"--------------------------------------\")\n",
    "print (cross_val_score(regressor,x_train,y_train.ravel(),cv=5))\n",
    "print('Q2 is {}'.format(cvscoretrain))"
   ]
  },
  {
   "cell_type": "code",
   "execution_count": 26,
   "id": "f6974d59",
   "metadata": {},
   "outputs": [],
   "source": [
    "import seaborn as sns\n",
    "import matplotlib.pyplot as plt\n",
    "import statsmodels.api as sm"
   ]
  },
  {
   "cell_type": "code",
   "execution_count": 27,
   "id": "9876b05f",
   "metadata": {},
   "outputs": [
    {
     "data": {
      "image/png": "[encoded data removed]",
      "text/plain": [
       "<Figure size 360x360 with 1 Axes>"
      ]
     },
     "metadata": {
      "needs_background": "light"
     },
     "output_type": "display_data"
    }
   ],
   "source": [
    "plt.figure(figsize=(5,5))\n",
    "plt.scatter(y_test, y_pred, c='blue', marker='o', linewidth=1)\n",
    "plt.yscale('linear')\n",
    "plt.xscale('linear')\n",
    "\n",
    "\n",
    "p1 = max(max(y_pred), max(y_test))\n",
    "p2 = min(min(y_pred), min(y_test))\n",
    "plt.plot([p1, p2], [p1, p2], c='black', linestyle='dashed')\n",
    "plt.xlabel('Actual', fontsize=13)\n",
    "plt.ylabel('Predected', fontsize=13)\n",
    "plt.axis('equal')\n",
    "plt.text(0, 2, '$R^2$ = 0.794', fontsize = 12)\n",
    "plt.text(0, 1.8, 'RMSE = 0.232', fontsize = 12)\n",
    "plt.title('XGBoost(29)', fontsize = 14)\n",
    "\n",
    "# Draw a Loess best-fit line over the scatter plot\n",
    "lowess = sm.nonparametric.lowess\n",
    "loess_fit = lowess(y_pred, y_test, frac=0.3)\n",
    "# Plot the loess fit line on the scatter plot\n",
    "plt.plot(loess_fit[:, 0], loess_fit[:, 1], 'r-', linewidth=2)\n",
    "\n",
    "plt.show()"
   ]
  },
  {
   "cell_type": "code",
   "execution_count": 28,
   "id": "9b62fb71",
   "metadata": {},
   "outputs": [
    {
     "data": {
      "image/png": "[encoded data removed]",
      "text/plain": [
       "<Figure size 360x360 with 1 Axes>"
      ]
     },
     "metadata": {
      "needs_background": "light"
     },
     "output_type": "display_data"
    }
   ],
   "source": [
    "plt.figure(figsize=(5,5))\n",
    "plt.scatter(y_test, y_pred, c='blue', marker='o')\n",
    "plt.yscale('linear')\n",
    "plt.xscale('linear')\n",
    "\n",
    "p1 = max(max(y_pred), max(y_test))\n",
    "p2 = min(min(y_pred), min(y_test))\n",
    "plt.plot([p1, p2], [p1, p2], 'red')\n",
    "plt.xlabel('Actual', fontsize=13)\n",
    "plt.ylabel('Predected', fontsize=13)\n",
    "plt.axis('equal')\n",
    "plt.text(0, 2, '$R^2$ = 0.794', fontsize = 12)\n",
    "plt.text(0, 1.8, 'RMSE = 0.232', fontsize = 12)\n",
    "plt.title('XGBoost(29)', fontsize = 14)\n",
    "plt.show()"
   ]
  },
  {
   "cell_type": "code",
   "execution_count": null,
   "id": "1c386c1d",
   "metadata": {},
   "outputs": [],
   "source": [
    "from xgboost import plot_importance\n",
    "import matplotlib.pyplot as plt\n",
    "import seaborn as sns\n",
    "plt.style.use('fivethirtyeight')\n",
    "plt.rcParams.update({'font.size': 12})\n",
    "\n",
    "fig, ax = plt.subplots(figsize=(10,10))\n",
    "plot_importance(regressor, max_num_features=29, ax=ax)\n",
    "plt.show();"
   ]
  },
  {
   "cell_type": "code",
   "execution_count": null,
   "id": "dadf0ffc",
   "metadata": {},
   "outputs": [],
   "source": [
    "import shap"
   ]
  },
  {
   "cell_type": "code",
   "execution_count": null,
   "id": "61e251d1",
   "metadata": {},
   "outputs": [],
   "source": [
    "explainer = shap.TreeExplainer(regressor)\n",
    "shap_values = explainer.shap_values(x)\n",
    "shap.summary_plot(shap_values, x, x.columns, show = False, plot_size=[10,10], max_display=x.shape[1])\n",
    "plt.gcf().set_size_inches(10,10)"
   ]
  },
  {
   "cell_type": "code",
   "execution_count": null,
   "id": "4b225d5c",
   "metadata": {},
   "outputs": [],
   "source": [
    "shap.summary_plot(shap_values, x, plot_type=\"bar\", max_display=x.shape[1], plot_size=[5,10])"
   ]
  },
  {
   "cell_type": "code",
   "execution_count": null,
   "id": "6888d318",
   "metadata": {},
   "outputs": [],
   "source": [
    "regressor1 =  XGBRegressor(loss_function='RMSE')"
   ]
  },
  {
   "cell_type": "code",
   "execution_count": null,
   "id": "805f7ddc",
   "metadata": {},
   "outputs": [],
   "source": [
    "# parameter tuning grid searchCV\n",
    "from sklearn.model_selection import GridSearchCV"
   ]
  },
  {
   "cell_type": "code",
   "execution_count": null,
   "id": "c0a4c7e0",
   "metadata": {},
   "outputs": [],
   "source": [
    "grid = {'n_estimators': [100, 150, 200, 300, 400, 500, 600, 700],\n",
    "        'max_depth': [1, 2,3, 4,5, 6, 7, 8, 9, 10]}"
   ]
  },
  {
   "cell_type": "code",
   "execution_count": null,
   "id": "76a7b184",
   "metadata": {},
   "outputs": [],
   "source": [
    "regressor_grid = GridSearchCV(estimator =regressor1, param_grid=grid,\n",
    "                              cv = 5, verbose =2,\n",
    "                              n_jobs= -1,  scoring = \"neg_mean_squared_error\")\n",
    "\n"
   ]
  },
  {
   "cell_type": "code",
   "execution_count": null,
   "id": "5f18e787",
   "metadata": {},
   "outputs": [],
   "source": [
    "regressor_grid.fit (x_train, y_train)"
   ]
  },
  {
   "cell_type": "code",
   "execution_count": null,
   "id": "2bf443f7",
   "metadata": {},
   "outputs": [],
   "source": [
    "regressor_grid.best_params_"
   ]
  },
  {
   "cell_type": "code",
   "execution_count": null,
   "id": "677b181a",
   "metadata": {},
   "outputs": [],
   "source": [
    "regressor_grid.best_score_"
   ]
  },
  {
   "cell_type": "code",
   "execution_count": null,
   "id": "a9c2046e",
   "metadata": {},
   "outputs": [],
   "source": []
  }
 ],
 "metadata": {
  "kernelspec": {
   "display_name": "Python 3",
   "language": "python",
   "name": "python3"
  },
  "language_info": {
   "codemirror_mode": {
    "name": "ipython",
    "version": 3
   },
   "file_extension": ".py",
   "mimetype": "text/x-python",
   "name": "python",
   "nbconvert_exporter": "python",
   "pygments_lexer": "ipython3",
   "version": "3.9.4"
  }
 },
 "nbformat": 4,
 "nbformat_minor": 5
}
