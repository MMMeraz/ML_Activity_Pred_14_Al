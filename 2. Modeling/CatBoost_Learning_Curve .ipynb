{
 "cells": [
  {
   "cell_type": "code",
   "execution_count": 1,
   "id": "6d6f1d90",
   "metadata": {},
   "outputs": [],
   "source": [
    "# Import Section\n",
    "import csv\n",
    "import codecs\n",
    "import sys\n",
    "import io\n",
    "import numpy as np\n",
    "import pandas as pd\n",
    "import scipy as sp\n",
    "\n",
    "# For Regression\n",
    "from sklearn.model_selection import train_test_split\n",
    "from sklearn.model_selection import cross_val_score\n",
    "from statistics import mean\n",
    "from sklearn.model_selection import learning_curve\n",
    "\n",
    "from sklearn import tree\n",
    "from sklearn import linear_model\n",
    "from sklearn.linear_model import ElasticNet\n",
    "from sklearn.kernel_ridge import KernelRidge\n",
    "\n",
    "# Python script for confusion matrix creation. \n",
    "from sklearn.metrics import *\n",
    "from numpy import mean\n",
    "from numpy import std\n",
    "from sklearn import metrics\n",
    "\n",
    "import catboost as cb\n",
    "import catboost as CatBoostRegressor\n",
    "import matplotlib.pyplot as plt\n",
    "from sklearn.metrics import make_scorer, r2_score, mean_squared_error"
   ]
  },
  {
   "cell_type": "code",
   "execution_count": 2,
   "id": "60f97037",
   "metadata": {},
   "outputs": [],
   "source": [
    "dataset=pd.read_excel(\"Des_cod_1056_92-29.xlsx\",index_col=0)"
   ]
  },
  {
   "cell_type": "code",
   "execution_count": 3,
   "id": "ec007b03",
   "metadata": {},
   "outputs": [
    {
     "data": {
      "text/plain": [
       "(1056, 30)"
      ]
     },
     "execution_count": 3,
     "metadata": {},
     "output_type": "execute_result"
    }
   ],
   "source": [
    "dataset.shape"
   ]
  },
  {
   "cell_type": "code",
   "execution_count": 4,
   "id": "88dbd49e",
   "metadata": {},
   "outputs": [
    {
     "data": {
      "text/html": [
       "<div>\n",
       "<style scoped>\n",
       "    .dataframe tbody tr th:only-of-type {\n",
       "        vertical-align: middle;\n",
       "    }\n",
       "\n",
       "    .dataframe tbody tr th {\n",
       "        vertical-align: top;\n",
       "    }\n",
       "\n",
       "    .dataframe thead th {\n",
       "        text-align: right;\n",
       "    }\n",
       "</style>\n",
       "<table border=\"1\" class=\"dataframe\">\n",
       "  <thead>\n",
       "    <tr style=\"text-align: right;\">\n",
       "      <th></th>\n",
       "      <th>Number of atoms</th>\n",
       "      <th>Relative number of N  atoms</th>\n",
       "      <th>Relative number of Cl atoms</th>\n",
       "      <th>Wiener index</th>\n",
       "      <th>Kier&amp;Hall index (order 3)</th>\n",
       "      <th>Average Information content (order 0)</th>\n",
       "      <th>Balaban index</th>\n",
       "      <th>Max partial charge for a N  atom [Zefirov's PC]</th>\n",
       "      <th>Min partial charge for a N  atom [Zefirov's PC]</th>\n",
       "      <th>Polarity parameter / square distance</th>\n",
       "      <th>...</th>\n",
       "      <th>Max net atomic charge for a C atom</th>\n",
       "      <th>Tot dipole of the molecule</th>\n",
       "      <th>Image of the Onsager-Kirkwood solvation energy</th>\n",
       "      <th>RNCS Relative negative charged SA (SAMNEG*RNCG) [QC PC]</th>\n",
       "      <th>Max SIGMA-SIGMA bond order</th>\n",
       "      <th>Max PI-PI bond order</th>\n",
       "      <th>Min valency of a N atom</th>\n",
       "      <th>Avg valency of a N atom</th>\n",
       "      <th>Min (0.1) bond order of a N atom</th>\n",
       "      <th>Act</th>\n",
       "    </tr>\n",
       "    <tr>\n",
       "      <th>Structure</th>\n",
       "      <th></th>\n",
       "      <th></th>\n",
       "      <th></th>\n",
       "      <th></th>\n",
       "      <th></th>\n",
       "      <th></th>\n",
       "      <th></th>\n",
       "      <th></th>\n",
       "      <th></th>\n",
       "      <th></th>\n",
       "      <th></th>\n",
       "      <th></th>\n",
       "      <th></th>\n",
       "      <th></th>\n",
       "      <th></th>\n",
       "      <th></th>\n",
       "      <th></th>\n",
       "      <th></th>\n",
       "      <th></th>\n",
       "      <th></th>\n",
       "      <th></th>\n",
       "    </tr>\n",
       "  </thead>\n",
       "  <tbody>\n",
       "    <tr>\n",
       "      <th>\"1Co\"</th>\n",
       "      <td>101</td>\n",
       "      <td>0.0297</td>\n",
       "      <td>0.0198</td>\n",
       "      <td>26631</td>\n",
       "      <td>9.9558</td>\n",
       "      <td>1.6397</td>\n",
       "      <td>0.8438</td>\n",
       "      <td>-0.0893</td>\n",
       "      <td>-0.0926</td>\n",
       "      <td>0.1809</td>\n",
       "      <td>...</td>\n",
       "      <td>0.2878</td>\n",
       "      <td>9.4339</td>\n",
       "      <td>0.1088</td>\n",
       "      <td>0.3086</td>\n",
       "      <td>0.9950</td>\n",
       "      <td>0.9488</td>\n",
       "      <td>3.1423</td>\n",
       "      <td>3.2054</td>\n",
       "      <td>0.2697</td>\n",
       "      <td>0.853</td>\n",
       "    </tr>\n",
       "    <tr>\n",
       "      <th>\"2Co\"</th>\n",
       "      <td>107</td>\n",
       "      <td>0.0280</td>\n",
       "      <td>0.0187</td>\n",
       "      <td>29652</td>\n",
       "      <td>10.4813</td>\n",
       "      <td>1.6785</td>\n",
       "      <td>0.9663</td>\n",
       "      <td>-0.0893</td>\n",
       "      <td>-0.0924</td>\n",
       "      <td>0.1626</td>\n",
       "      <td>...</td>\n",
       "      <td>0.2677</td>\n",
       "      <td>8.7587</td>\n",
       "      <td>0.0907</td>\n",
       "      <td>0.2536</td>\n",
       "      <td>0.9962</td>\n",
       "      <td>0.9470</td>\n",
       "      <td>3.1279</td>\n",
       "      <td>3.1937</td>\n",
       "      <td>0.2686</td>\n",
       "      <td>0.987</td>\n",
       "    </tr>\n",
       "    <tr>\n",
       "      <th>\"3Co\"</th>\n",
       "      <td>113</td>\n",
       "      <td>0.0265</td>\n",
       "      <td>0.0177</td>\n",
       "      <td>32339</td>\n",
       "      <td>10.8588</td>\n",
       "      <td>1.6722</td>\n",
       "      <td>0.8453</td>\n",
       "      <td>-0.0892</td>\n",
       "      <td>-0.0923</td>\n",
       "      <td>0.1809</td>\n",
       "      <td>...</td>\n",
       "      <td>0.2876</td>\n",
       "      <td>9.3381</td>\n",
       "      <td>0.0998</td>\n",
       "      <td>0.2020</td>\n",
       "      <td>0.9960</td>\n",
       "      <td>0.9490</td>\n",
       "      <td>3.1339</td>\n",
       "      <td>3.2001</td>\n",
       "      <td>0.2607</td>\n",
       "      <td>0.773</td>\n",
       "    </tr>\n",
       "    <tr>\n",
       "      <th>\"4Co\"</th>\n",
       "      <td>104</td>\n",
       "      <td>0.0288</td>\n",
       "      <td>0.0192</td>\n",
       "      <td>28065</td>\n",
       "      <td>10.1517</td>\n",
       "      <td>1.6509</td>\n",
       "      <td>0.8427</td>\n",
       "      <td>-0.0893</td>\n",
       "      <td>-0.0926</td>\n",
       "      <td>0.1809</td>\n",
       "      <td>...</td>\n",
       "      <td>0.2872</td>\n",
       "      <td>9.2435</td>\n",
       "      <td>0.1027</td>\n",
       "      <td>0.1485</td>\n",
       "      <td>0.9951</td>\n",
       "      <td>0.9489</td>\n",
       "      <td>3.1410</td>\n",
       "      <td>3.2049</td>\n",
       "      <td>0.2687</td>\n",
       "      <td>0.760</td>\n",
       "    </tr>\n",
       "    <tr>\n",
       "      <th>\"5Co\"</th>\n",
       "      <td>110</td>\n",
       "      <td>0.0273</td>\n",
       "      <td>0.0182</td>\n",
       "      <td>31138</td>\n",
       "      <td>10.6903</td>\n",
       "      <td>1.6850</td>\n",
       "      <td>0.9670</td>\n",
       "      <td>-0.0893</td>\n",
       "      <td>-0.0924</td>\n",
       "      <td>0.1626</td>\n",
       "      <td>...</td>\n",
       "      <td>0.2648</td>\n",
       "      <td>8.4606</td>\n",
       "      <td>0.0832</td>\n",
       "      <td>0.2797</td>\n",
       "      <td>0.9962</td>\n",
       "      <td>0.9471</td>\n",
       "      <td>3.1275</td>\n",
       "      <td>3.1930</td>\n",
       "      <td>0.2680</td>\n",
       "      <td>0.893</td>\n",
       "    </tr>\n",
       "    <tr>\n",
       "      <th>...</th>\n",
       "      <td>...</td>\n",
       "      <td>...</td>\n",
       "      <td>...</td>\n",
       "      <td>...</td>\n",
       "      <td>...</td>\n",
       "      <td>...</td>\n",
       "      <td>...</td>\n",
       "      <td>...</td>\n",
       "      <td>...</td>\n",
       "      <td>...</td>\n",
       "      <td>...</td>\n",
       "      <td>...</td>\n",
       "      <td>...</td>\n",
       "      <td>...</td>\n",
       "      <td>...</td>\n",
       "      <td>...</td>\n",
       "      <td>...</td>\n",
       "      <td>...</td>\n",
       "      <td>...</td>\n",
       "      <td>...</td>\n",
       "      <td>...</td>\n",
       "    </tr>\n",
       "    <tr>\n",
       "      <th>\"1052Co\"</th>\n",
       "      <td>86</td>\n",
       "      <td>0.0349</td>\n",
       "      <td>0.0233</td>\n",
       "      <td>17187</td>\n",
       "      <td>8.0898</td>\n",
       "      <td>1.7691</td>\n",
       "      <td>0.9049</td>\n",
       "      <td>-0.0892</td>\n",
       "      <td>-0.0923</td>\n",
       "      <td>0.1752</td>\n",
       "      <td>...</td>\n",
       "      <td>0.3161</td>\n",
       "      <td>9.7498</td>\n",
       "      <td>0.1395</td>\n",
       "      <td>0.3712</td>\n",
       "      <td>0.9947</td>\n",
       "      <td>0.9671</td>\n",
       "      <td>3.1652</td>\n",
       "      <td>3.1986</td>\n",
       "      <td>0.2608</td>\n",
       "      <td>0.370</td>\n",
       "    </tr>\n",
       "    <tr>\n",
       "      <th>\"1053Co\"</th>\n",
       "      <td>74</td>\n",
       "      <td>0.0405</td>\n",
       "      <td>0.0270</td>\n",
       "      <td>13291</td>\n",
       "      <td>7.1869</td>\n",
       "      <td>1.7552</td>\n",
       "      <td>0.8931</td>\n",
       "      <td>-0.0893</td>\n",
       "      <td>-0.0926</td>\n",
       "      <td>0.1752</td>\n",
       "      <td>...</td>\n",
       "      <td>0.3158</td>\n",
       "      <td>10.0471</td>\n",
       "      <td>0.1614</td>\n",
       "      <td>0.6300</td>\n",
       "      <td>0.9946</td>\n",
       "      <td>0.9681</td>\n",
       "      <td>3.1698</td>\n",
       "      <td>3.2042</td>\n",
       "      <td>0.2656</td>\n",
       "      <td>1.020</td>\n",
       "    </tr>\n",
       "    <tr>\n",
       "      <th>\"1054Co\"</th>\n",
       "      <td>80</td>\n",
       "      <td>0.0375</td>\n",
       "      <td>0.0250</td>\n",
       "      <td>15195</td>\n",
       "      <td>7.7123</td>\n",
       "      <td>1.7671</td>\n",
       "      <td>0.8967</td>\n",
       "      <td>-0.0893</td>\n",
       "      <td>-0.0924</td>\n",
       "      <td>0.1752</td>\n",
       "      <td>...</td>\n",
       "      <td>0.3160</td>\n",
       "      <td>9.8221</td>\n",
       "      <td>0.1476</td>\n",
       "      <td>0.4963</td>\n",
       "      <td>0.9955</td>\n",
       "      <td>0.9677</td>\n",
       "      <td>3.1676</td>\n",
       "      <td>3.2025</td>\n",
       "      <td>0.2633</td>\n",
       "      <td>0.832</td>\n",
       "    </tr>\n",
       "    <tr>\n",
       "      <th>\"1055Co\"</th>\n",
       "      <td>86</td>\n",
       "      <td>0.0349</td>\n",
       "      <td>0.0233</td>\n",
       "      <td>17187</td>\n",
       "      <td>8.0898</td>\n",
       "      <td>1.7691</td>\n",
       "      <td>0.9049</td>\n",
       "      <td>-0.0892</td>\n",
       "      <td>-0.0923</td>\n",
       "      <td>0.1752</td>\n",
       "      <td>...</td>\n",
       "      <td>0.3161</td>\n",
       "      <td>9.7498</td>\n",
       "      <td>0.1395</td>\n",
       "      <td>0.3712</td>\n",
       "      <td>0.9947</td>\n",
       "      <td>0.9671</td>\n",
       "      <td>3.1652</td>\n",
       "      <td>3.1986</td>\n",
       "      <td>0.2608</td>\n",
       "      <td>0.701</td>\n",
       "    </tr>\n",
       "    <tr>\n",
       "      <th>\"1056Co\"</th>\n",
       "      <td>77</td>\n",
       "      <td>0.0390</td>\n",
       "      <td>0.0260</td>\n",
       "      <td>14257</td>\n",
       "      <td>7.3828</td>\n",
       "      <td>1.7627</td>\n",
       "      <td>0.8938</td>\n",
       "      <td>-0.0893</td>\n",
       "      <td>-0.0926</td>\n",
       "      <td>0.1752</td>\n",
       "      <td>...</td>\n",
       "      <td>0.3155</td>\n",
       "      <td>9.7558</td>\n",
       "      <td>0.1488</td>\n",
       "      <td>0.6034</td>\n",
       "      <td>0.9948</td>\n",
       "      <td>0.9679</td>\n",
       "      <td>3.1695</td>\n",
       "      <td>3.2040</td>\n",
       "      <td>0.2658</td>\n",
       "      <td>1.090</td>\n",
       "    </tr>\n",
       "  </tbody>\n",
       "</table>\n",
       "<p>1056 rows × 30 columns</p>\n",
       "</div>"
      ],
      "text/plain": [
       "           Number of atoms  Relative number of N  atoms  \\\n",
       "Structure                                                 \n",
       "\"1Co\"                  101                       0.0297   \n",
       "\"2Co\"                  107                       0.0280   \n",
       "\"3Co\"                  113                       0.0265   \n",
       "\"4Co\"                  104                       0.0288   \n",
       "\"5Co\"                  110                       0.0273   \n",
       "...                    ...                          ...   \n",
       "\"1052Co\"                86                       0.0349   \n",
       "\"1053Co\"                74                       0.0405   \n",
       "\"1054Co\"                80                       0.0375   \n",
       "\"1055Co\"                86                       0.0349   \n",
       "\"1056Co\"                77                       0.0390   \n",
       "\n",
       "           Relative number of Cl atoms  Wiener index  \\\n",
       "Structure                                              \n",
       "\"1Co\"                           0.0198         26631   \n",
       "\"2Co\"                           0.0187         29652   \n",
       "\"3Co\"                           0.0177         32339   \n",
       "\"4Co\"                           0.0192         28065   \n",
       "\"5Co\"                           0.0182         31138   \n",
       "...                                ...           ...   \n",
       "\"1052Co\"                        0.0233         17187   \n",
       "\"1053Co\"                        0.0270         13291   \n",
       "\"1054Co\"                        0.0250         15195   \n",
       "\"1055Co\"                        0.0233         17187   \n",
       "\"1056Co\"                        0.0260         14257   \n",
       "\n",
       "           Kier&Hall index (order 3)  Average Information content (order 0)  \\\n",
       "Structure                                                                     \n",
       "\"1Co\"                         9.9558                                 1.6397   \n",
       "\"2Co\"                        10.4813                                 1.6785   \n",
       "\"3Co\"                        10.8588                                 1.6722   \n",
       "\"4Co\"                        10.1517                                 1.6509   \n",
       "\"5Co\"                        10.6903                                 1.6850   \n",
       "...                              ...                                    ...   \n",
       "\"1052Co\"                      8.0898                                 1.7691   \n",
       "\"1053Co\"                      7.1869                                 1.7552   \n",
       "\"1054Co\"                      7.7123                                 1.7671   \n",
       "\"1055Co\"                      8.0898                                 1.7691   \n",
       "\"1056Co\"                      7.3828                                 1.7627   \n",
       "\n",
       "           Balaban index  Max partial charge for a N  atom [Zefirov's PC]  \\\n",
       "Structure                                                                   \n",
       "\"1Co\"             0.8438                                          -0.0893   \n",
       "\"2Co\"             0.9663                                          -0.0893   \n",
       "\"3Co\"             0.8453                                          -0.0892   \n",
       "\"4Co\"             0.8427                                          -0.0893   \n",
       "\"5Co\"             0.9670                                          -0.0893   \n",
       "...                  ...                                              ...   \n",
       "\"1052Co\"          0.9049                                          -0.0892   \n",
       "\"1053Co\"          0.8931                                          -0.0893   \n",
       "\"1054Co\"          0.8967                                          -0.0893   \n",
       "\"1055Co\"          0.9049                                          -0.0892   \n",
       "\"1056Co\"          0.8938                                          -0.0893   \n",
       "\n",
       "           Min partial charge for a N  atom [Zefirov's PC]  \\\n",
       "Structure                                                    \n",
       "\"1Co\"                                              -0.0926   \n",
       "\"2Co\"                                              -0.0924   \n",
       "\"3Co\"                                              -0.0923   \n",
       "\"4Co\"                                              -0.0926   \n",
       "\"5Co\"                                              -0.0924   \n",
       "...                                                    ...   \n",
       "\"1052Co\"                                           -0.0923   \n",
       "\"1053Co\"                                           -0.0926   \n",
       "\"1054Co\"                                           -0.0924   \n",
       "\"1055Co\"                                           -0.0923   \n",
       "\"1056Co\"                                           -0.0926   \n",
       "\n",
       "           Polarity parameter / square distance  ...  \\\n",
       "Structure                                        ...   \n",
       "\"1Co\"                                    0.1809  ...   \n",
       "\"2Co\"                                    0.1626  ...   \n",
       "\"3Co\"                                    0.1809  ...   \n",
       "\"4Co\"                                    0.1809  ...   \n",
       "\"5Co\"                                    0.1626  ...   \n",
       "...                                         ...  ...   \n",
       "\"1052Co\"                                 0.1752  ...   \n",
       "\"1053Co\"                                 0.1752  ...   \n",
       "\"1054Co\"                                 0.1752  ...   \n",
       "\"1055Co\"                                 0.1752  ...   \n",
       "\"1056Co\"                                 0.1752  ...   \n",
       "\n",
       "           Max net atomic charge for a C atom  Tot dipole of the molecule  \\\n",
       "Structure                                                                   \n",
       "\"1Co\"                                  0.2878                      9.4339   \n",
       "\"2Co\"                                  0.2677                      8.7587   \n",
       "\"3Co\"                                  0.2876                      9.3381   \n",
       "\"4Co\"                                  0.2872                      9.2435   \n",
       "\"5Co\"                                  0.2648                      8.4606   \n",
       "...                                       ...                         ...   \n",
       "\"1052Co\"                               0.3161                      9.7498   \n",
       "\"1053Co\"                               0.3158                     10.0471   \n",
       "\"1054Co\"                               0.3160                      9.8221   \n",
       "\"1055Co\"                               0.3161                      9.7498   \n",
       "\"1056Co\"                               0.3155                      9.7558   \n",
       "\n",
       "           Image of the Onsager-Kirkwood solvation energy  \\\n",
       "Structure                                                   \n",
       "\"1Co\"                                              0.1088   \n",
       "\"2Co\"                                              0.0907   \n",
       "\"3Co\"                                              0.0998   \n",
       "\"4Co\"                                              0.1027   \n",
       "\"5Co\"                                              0.0832   \n",
       "...                                                   ...   \n",
       "\"1052Co\"                                           0.1395   \n",
       "\"1053Co\"                                           0.1614   \n",
       "\"1054Co\"                                           0.1476   \n",
       "\"1055Co\"                                           0.1395   \n",
       "\"1056Co\"                                           0.1488   \n",
       "\n",
       "           RNCS Relative negative charged SA (SAMNEG*RNCG) [QC PC]  \\\n",
       "Structure                                                            \n",
       "\"1Co\"                                                 0.3086         \n",
       "\"2Co\"                                                 0.2536         \n",
       "\"3Co\"                                                 0.2020         \n",
       "\"4Co\"                                                 0.1485         \n",
       "\"5Co\"                                                 0.2797         \n",
       "...                                                      ...         \n",
       "\"1052Co\"                                              0.3712         \n",
       "\"1053Co\"                                              0.6300         \n",
       "\"1054Co\"                                              0.4963         \n",
       "\"1055Co\"                                              0.3712         \n",
       "\"1056Co\"                                              0.6034         \n",
       "\n",
       "           Max SIGMA-SIGMA bond order  Max PI-PI bond order  \\\n",
       "Structure                                                     \n",
       "\"1Co\"                          0.9950                0.9488   \n",
       "\"2Co\"                          0.9962                0.9470   \n",
       "\"3Co\"                          0.9960                0.9490   \n",
       "\"4Co\"                          0.9951                0.9489   \n",
       "\"5Co\"                          0.9962                0.9471   \n",
       "...                               ...                   ...   \n",
       "\"1052Co\"                       0.9947                0.9671   \n",
       "\"1053Co\"                       0.9946                0.9681   \n",
       "\"1054Co\"                       0.9955                0.9677   \n",
       "\"1055Co\"                       0.9947                0.9671   \n",
       "\"1056Co\"                       0.9948                0.9679   \n",
       "\n",
       "           Min valency of a N atom  Avg valency of a N atom  \\\n",
       "Structure                                                     \n",
       "\"1Co\"                       3.1423                   3.2054   \n",
       "\"2Co\"                       3.1279                   3.1937   \n",
       "\"3Co\"                       3.1339                   3.2001   \n",
       "\"4Co\"                       3.1410                   3.2049   \n",
       "\"5Co\"                       3.1275                   3.1930   \n",
       "...                            ...                      ...   \n",
       "\"1052Co\"                    3.1652                   3.1986   \n",
       "\"1053Co\"                    3.1698                   3.2042   \n",
       "\"1054Co\"                    3.1676                   3.2025   \n",
       "\"1055Co\"                    3.1652                   3.1986   \n",
       "\"1056Co\"                    3.1695                   3.2040   \n",
       "\n",
       "           Min (0.1) bond order of a N atom    Act  \n",
       "Structure                                           \n",
       "\"1Co\"                                0.2697  0.853  \n",
       "\"2Co\"                                0.2686  0.987  \n",
       "\"3Co\"                                0.2607  0.773  \n",
       "\"4Co\"                                0.2687  0.760  \n",
       "\"5Co\"                                0.2680  0.893  \n",
       "...                                     ...    ...  \n",
       "\"1052Co\"                             0.2608  0.370  \n",
       "\"1053Co\"                             0.2656  1.020  \n",
       "\"1054Co\"                             0.2633  0.832  \n",
       "\"1055Co\"                             0.2608  0.701  \n",
       "\"1056Co\"                             0.2658  1.090  \n",
       "\n",
       "[1056 rows x 30 columns]"
      ]
     },
     "execution_count": 4,
     "metadata": {},
     "output_type": "execute_result"
    }
   ],
   "source": [
    "dataset"
   ]
  },
  {
   "cell_type": "code",
   "execution_count": 5,
   "id": "6540ffea",
   "metadata": {},
   "outputs": [],
   "source": [
    "x = dataset.drop(['Act'],axis=1).astype (float)\n",
    "y = dataset['Act']"
   ]
  },
  {
   "cell_type": "code",
   "execution_count": 6,
   "id": "38fcc30c",
   "metadata": {},
   "outputs": [
    {
     "data": {
      "text/plain": [
       "(1056, 29)"
      ]
     },
     "execution_count": 6,
     "metadata": {},
     "output_type": "execute_result"
    }
   ],
   "source": [
    "x.shape"
   ]
  },
  {
   "cell_type": "code",
   "execution_count": 7,
   "id": "c129b673",
   "metadata": {},
   "outputs": [
    {
     "data": {
      "text/plain": [
       "Structure\n",
       "\"1Co\"       0.853\n",
       "\"2Co\"       0.987\n",
       "\"3Co\"       0.773\n",
       "\"4Co\"       0.760\n",
       "\"5Co\"       0.893\n",
       "            ...  \n",
       "\"1052Co\"    0.370\n",
       "\"1053Co\"    1.020\n",
       "\"1054Co\"    0.832\n",
       "\"1055Co\"    0.701\n",
       "\"1056Co\"    1.090\n",
       "Name: Act, Length: 1056, dtype: float64"
      ]
     },
     "execution_count": 7,
     "metadata": {},
     "output_type": "execute_result"
    }
   ],
   "source": [
    "y"
   ]
  },
  {
   "cell_type": "code",
   "execution_count": 8,
   "id": "174dcd4e",
   "metadata": {},
   "outputs": [],
   "source": [
    "x_train, x_test, y_train, y_test = train_test_split(x,y,test_size=.2, random_state = 47, shuffle=True)"
   ]
  },
  {
   "cell_type": "code",
   "execution_count": 9,
   "id": "5403d6e9",
   "metadata": {},
   "outputs": [
    {
     "data": {
      "text/plain": [
       "(212, 29)"
      ]
     },
     "execution_count": 9,
     "metadata": {},
     "output_type": "execute_result"
    }
   ],
   "source": [
    "x_test.shape"
   ]
  },
  {
   "cell_type": "code",
   "execution_count": 10,
   "id": "3e08e96b",
   "metadata": {},
   "outputs": [
    {
     "data": {
      "text/plain": [
       "(844, 29)"
      ]
     },
     "execution_count": 10,
     "metadata": {},
     "output_type": "execute_result"
    }
   ],
   "source": [
    "x_train.shape"
   ]
  },
  {
   "cell_type": "code",
   "execution_count": 11,
   "id": "f9695117",
   "metadata": {},
   "outputs": [],
   "source": [
    "#In order to train and optimize our model, we need to utilize CatBoost library integrated tool for \n",
    "#combining features and target variables into a train and test dataset. This pooling allows you to pinpoint target variables, predictors, and the list of categorical features, while the pool constructor will combine those inputs \n",
    "#and pass them to the model.\n",
    "train_dataset = cb.Pool(x_train, y_train) \n",
    "test_dataset = cb.Pool(x_test, y_test)"
   ]
  },
  {
   "cell_type": "code",
   "execution_count": 12,
   "id": "e7432bad",
   "metadata": {},
   "outputs": [],
   "source": [
    "#cb.CatBoostRegressor?"
   ]
  },
  {
   "cell_type": "code",
   "execution_count": 13,
   "id": "869e1391",
   "metadata": {},
   "outputs": [],
   "source": [
    "regressor = cb.CatBoostRegressor(depth=8, learning_rate = 0.1,l2_leaf_reg = 3, loss_function='RMSE',\n",
    "                                 iterations=1000)"
   ]
  },
  {
   "cell_type": "code",
   "execution_count": 14,
   "id": "c392a29e",
   "metadata": {},
   "outputs": [],
   "source": [
    "#Learning curve \n",
    "import time\n",
    "from datetime import timedelta\n",
    "start_time = time.monotonic()"
   ]
  },
  {
   "cell_type": "code",
   "execution_count": 15,
   "id": "77fd9701",
   "metadata": {},
   "outputs": [],
   "source": [
    "train_sizes = np.linspace( 0.1, 1.0, 2)"
   ]
  },
  {
   "cell_type": "code",
   "execution_count": 16,
   "id": "244ab18d",
   "metadata": {},
   "outputs": [],
   "source": [
    "# Generate learning curve data\n",
    "train_sizes, train_scores, test_scores = learning_curve(\n",
    "    estimator=regressor,\n",
    "    X=x_train, # your training features\n",
    "    y=y_train, # your training labels\n",
    "    cv=5, # number of cross-validation folds\n",
    "    scoring='neg_mean_squared_error', # evaluation metric\n",
    "    n_jobs=-1 # use all available CPUs\n",
    ")"
   ]
  },
  {
   "cell_type": "code",
   "execution_count": 17,
   "id": "fb7af47f",
   "metadata": {},
   "outputs": [],
   "source": [
    "# Compute mean and standard deviation for training and test scores\n",
    "train_mean = -np.mean(train_scores, axis=1)\n",
    "train_std = np.std(train_scores, axis=1)\n",
    "test_mean = -np.mean(test_scores, axis=1)\n",
    "test_std = np.std(test_scores, axis=1)"
   ]
  },
  {
   "cell_type": "code",
   "execution_count": 18,
   "id": "416d3ce8",
   "metadata": {},
   "outputs": [
    {
     "data": {
      "image/png": "[encoded data removed]",
      "text/plain": [
       "<Figure size 432x360 with 1 Axes>"
      ]
     },
     "metadata": {
      "needs_background": "light"
     },
     "output_type": "display_data"
    }
   ],
   "source": [
    "import matplotlib.pyplot as plt\n",
    "# Plot learning curve\n",
    "plt.figure(figsize=(6, 5))\n",
    "plt.plot(train_sizes, train_mean,'o-', color=\"r\", label='Training error')\n",
    "plt.plot(train_sizes, test_mean, 'o-', color=\"b\", label='Test error')\n",
    "\n",
    "# Draw standard deviation bands\n",
    "plt.fill_between(train_sizes, train_mean - train_std, train_mean + train_std, alpha=0.1, )\n",
    "plt.fill_between(train_sizes, test_mean - test_std, test_mean + test_std, alpha=0.1)\n",
    "\n",
    "# Add labels and legend\n",
    "plt.xscale('linear')\n",
    "plt.title('Learning curve')\n",
    "plt.xlabel('Number of training samples')\n",
    "plt.ylabel('MSE')\n",
    "plt.gca().invert_yaxis()\n",
    "plt.legend(loc='best')\n",
    "plt.plot(train_sizes[test_mean.argmin()], test_mean.min(), 'o', markersize=10, color='red')\n",
    "plt.plot(train_sizes[train_mean.argmin()], train_mean.min(), 'o', markersize=10, color='b')\n",
    "plt.show()"
   ]
  },
  {
   "cell_type": "code",
   "execution_count": 19,
   "id": "ddbd4ce9",
   "metadata": {},
   "outputs": [
    {
     "data": {
      "text/plain": [
       "<catboost.core.CatBoostRegressor at 0x12cf57f9c40>"
      ]
     },
     "execution_count": 19,
     "metadata": {},
     "output_type": "execute_result"
    }
   ],
   "source": [
    "# Train model on training data\n",
    "regressor.fit(x_train, y_train, eval_set=(x_test, y_test), verbose=False)"
   ]
  },
  {
   "cell_type": "code",
   "execution_count": 20,
   "id": "497f9ad7",
   "metadata": {},
   "outputs": [],
   "source": [
    "#IterTION CURVE \n",
    "# Get the error values for each iteration on both train and test set\n",
    "train_error = regressor.evals_result_['learn']['RMSE']\n",
    "test_error = regressor.evals_result_['validation']['RMSE']"
   ]
  },
  {
   "cell_type": "code",
   "execution_count": 26,
   "id": "9ee3d1c3",
   "metadata": {},
   "outputs": [
    {
     "data": {
      "image/png": "[encoded data removed]",
      "text/plain": [
       "<Figure size 432x288 with 1 Axes>"
      ]
     },
     "metadata": {
      "needs_background": "light"
     },
     "output_type": "display_data"
    }
   ],
   "source": [
    "# Plot the error iteration curve for both train and test set\n",
    "\n",
    "plt.plot(np.arange(1, len(train_error)+1), train_error, label='Train')\n",
    "plt.plot(np.arange(1, len(test_error)+1), test_error, label='Test')\n",
    "plt.xlabel('Iteration')\n",
    "plt.ylabel('Loss (RMSE)')\n",
    "plt.legend()\n",
    "plt.show()"
   ]
  },
  {
   "cell_type": "code",
   "execution_count": 27,
   "id": "17b51ab9",
   "metadata": {},
   "outputs": [],
   "source": [
    "#Fixing learning rate with different with learning curve \n",
    "# Define learning rates to try\n",
    "learning_rates = [0.001, 0.0015, 0.01, 0.015, 0.1, 0.15, 0.2, 0.25, 0.3, 0.35, 0.4, 0.45, 0.5, 0.55, \n",
    "                  0.6, 0.65, 0.7, 0.75, 0.8, 0.85, 0.9, 0.95, 1]"
   ]
  },
  {
   "cell_type": "code",
   "execution_count": 28,
   "id": "1d7dc7c9",
   "metadata": {},
   "outputs": [],
   "source": [
    "# Initialize lists to store RMSE values for train and test sets\n",
    "train_rmse = []\n",
    "test_rmse = []"
   ]
  },
  {
   "cell_type": "code",
   "execution_count": 29,
   "id": "1f1f6f52",
   "metadata": {},
   "outputs": [],
   "source": [
    "# Iterate over learning rates\n",
    "for lr in learning_rates:\n",
    "    # Create CatBoostRegressor model\n",
    "    model = cb.CatBoostRegressor(loss_function='RMSE', depth=8, l2_leaf_reg = 3, iterations=1000, learning_rate=lr, random_state=42)\n",
    "\n",
    "    # Train model on training data\n",
    "    model.fit(x_train, y_train, eval_set=[(x_train, y_train), (x_test, y_test)], verbose=False)\n",
    "\n",
    "    # Get RMSE values for train and test sets\n",
    "    train_pred = model.predict(x_train)\n",
    "    train_rmse.append(np.sqrt(np.mean((train_pred - y_train)**2)))\n",
    "    test_pred = model.predict(x_test)\n",
    "    test_rmse.append(np.sqrt(np.mean((test_pred - y_test)**2)))"
   ]
  },
  {
   "cell_type": "code",
   "execution_count": 34,
   "id": "0a300a59",
   "metadata": {},
   "outputs": [
    {
     "data": {
      "image/png": "[encoded data removed]",
      "text/plain": [
       "<Figure size 432x288 with 1 Axes>"
      ]
     },
     "metadata": {
      "needs_background": "light"
     },
     "output_type": "display_data"
    }
   ],
   "source": [
    "# Plot learning curve\n",
    "plt.plot(learning_rates, train_rmse, label='Train')\n",
    "plt.plot(learning_rates, test_rmse, label='Test')\n",
    "plt.xscale('linear')\n",
    "plt.xlabel('Learning rate')\n",
    "plt.ylabel('RMSE')\n",
    "plt.legend()\n",
    "plt.show()"
   ]
  },
  {
   "cell_type": "code",
   "execution_count": 35,
   "id": "ceb1a42a",
   "metadata": {},
   "outputs": [],
   "source": [
    "r2_scores = []\n",
    "r2_scores1 = []\n",
    "for lr in learning_rates:\n",
    "    model = cb.CatBoostRegressor(learning_rate=lr, iterations=1000, depth=8, l2_leaf_reg = 3,random_state=42, verbose=False)\n",
    "    model.fit(x_train, y_train)\n",
    "    y_pred = model.predict(x_test)\n",
    "    y_pred1 = model.predict (x_train)\n",
    "    r2_scores.append(r2_score(y_test, y_pred))\n",
    "    r2_scores1.append(r2_score(y_train, y_pred1))"
   ]
  },
  {
   "cell_type": "code",
   "execution_count": 36,
   "id": "5aa57ea7",
   "metadata": {},
   "outputs": [
    {
     "data": {
      "image/png": "[encoded data removed]",
      "text/plain": [
       "<Figure size 432x288 with 1 Axes>"
      ]
     },
     "metadata": {
      "needs_background": "light"
     },
     "output_type": "display_data"
    }
   ],
   "source": [
    "plt.semilogx(learning_rates, r2_scores1, label='Train')\n",
    "plt.semilogx(learning_rates, r2_scores, label='Test')\n",
    "plt.yscale('linear')\n",
    "plt.xscale('linear')\n",
    "plt.xlabel('Learning rate')\n",
    "plt.ylabel('$R^2$')\n",
    "plt.legend()\n",
    "plt.show()"
   ]
  },
  {
   "cell_type": "code",
   "execution_count": 28,
   "id": "30e53815",
   "metadata": {},
   "outputs": [
    {
     "name": "stdout",
     "output_type": "stream",
     "text": [
      "0:30:25.125000\n"
     ]
    }
   ],
   "source": [
    "end_time = time.monotonic()\n",
    "print(timedelta(seconds=end_time - start_time))"
   ]
  },
  {
   "cell_type": "code",
   "execution_count": 29,
   "id": "5a290080",
   "metadata": {},
   "outputs": [
    {
     "name": "stdout",
     "output_type": "stream",
     "text": [
      "Learning rate:  0.10000000149011612\n"
     ]
    }
   ],
   "source": [
    "# To know the learning rate \n",
    "print(\"Learning rate: \", regressor.learning_rate_)"
   ]
  },
  {
   "cell_type": "code",
   "execution_count": null,
   "id": "b9e49ec7",
   "metadata": {},
   "outputs": [],
   "source": []
  }
 ],
 "metadata": {
  "kernelspec": {
   "display_name": "Python 3",
   "language": "python",
   "name": "python3"
  },
  "language_info": {
   "codemirror_mode": {
    "name": "ipython",
    "version": 3
   },
   "file_extension": ".py",
   "mimetype": "text/x-python",
   "name": "python",
   "nbconvert_exporter": "python",
   "pygments_lexer": "ipython3",
   "version": "3.9.4"
  }
 },
 "nbformat": 4,
 "nbformat_minor": 5
}
