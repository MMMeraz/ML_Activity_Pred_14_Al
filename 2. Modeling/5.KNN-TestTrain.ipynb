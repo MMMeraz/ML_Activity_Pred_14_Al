{
 "cells": [
  {
   "cell_type": "code",
   "execution_count": null,
   "id": "6d6f1d90",
   "metadata": {},
   "outputs": [],
   "source": [
    "# Import Section\n",
    "import csv\n",
    "import codecs\n",
    "import sys\n",
    "import io\n",
    "import numpy as np\n",
    "import pandas as pd\n",
    "import scipy as sp\n",
    "\n",
    "# For Regression\n",
    "from sklearn.model_selection import train_test_split\n",
    "from sklearn.model_selection import cross_val_score\n",
    "from statistics import mean\n",
    "\n",
    "\n",
    "from sklearn.neighbors import KNeighborsRegressor\n",
    "\n",
    "# Python script for confusion matrix creation. \n",
    "from sklearn.metrics import *\n",
    "from numpy import mean\n",
    "from numpy import std\n",
    "from sklearn import metrics\n",
    "\n",
    "import matplotlib.pyplot as plt\n",
    "import seaborn as sns"
   ]
  },
  {
   "cell_type": "code",
   "execution_count": null,
   "id": "69ae8fb6",
   "metadata": {},
   "outputs": [],
   "source": [
    "dataset=pd.read_excel(\"Des_cod_1056_92-29.xlsx\",index_col=0)"
   ]
  },
  {
   "cell_type": "code",
   "execution_count": null,
   "id": "ec007b03",
   "metadata": {},
   "outputs": [],
   "source": [
    "dataset.shape"
   ]
  },
  {
   "cell_type": "code",
   "execution_count": null,
   "id": "887d41c6",
   "metadata": {},
   "outputs": [],
   "source": [
    "# to check the null values \n",
    "dataset.isnull().sum()"
   ]
  },
  {
   "cell_type": "code",
   "execution_count": null,
   "id": "6540ffea",
   "metadata": {},
   "outputs": [],
   "source": [
    "x = dataset.drop(['Act'],axis=1).astype (float)\n",
    "y = dataset['Act']"
   ]
  },
  {
   "cell_type": "code",
   "execution_count": null,
   "id": "38fcc30c",
   "metadata": {},
   "outputs": [],
   "source": [
    "x.shape"
   ]
  },
  {
   "cell_type": "code",
   "execution_count": null,
   "id": "b288d8bb",
   "metadata": {},
   "outputs": [],
   "source": [
    "y"
   ]
  },
  {
   "cell_type": "code",
   "execution_count": null,
   "id": "174dcd4e",
   "metadata": {},
   "outputs": [],
   "source": [
    "x_train, x_test, y_train, y_test = train_test_split(x,y,test_size=.2, random_state = 47, shuffle=True)"
   ]
  },
  {
   "cell_type": "code",
   "execution_count": null,
   "id": "5403d6e9",
   "metadata": {},
   "outputs": [],
   "source": [
    "x_train.shape"
   ]
  },
  {
   "cell_type": "code",
   "execution_count": null,
   "id": "58d9dc52",
   "metadata": {},
   "outputs": [],
   "source": [
    "x_test.shape"
   ]
  },
  {
   "cell_type": "code",
   "execution_count": null,
   "id": "e0c1893a",
   "metadata": {},
   "outputs": [],
   "source": [
    "# scealing is required for indepandent variables at ANN\n",
    "from sklearn.preprocessing import StandardScaler"
   ]
  },
  {
   "cell_type": "code",
   "execution_count": null,
   "id": "70181004",
   "metadata": {},
   "outputs": [],
   "source": [
    "scale = StandardScaler()"
   ]
  },
  {
   "cell_type": "code",
   "execution_count": null,
   "id": "b433f2f9",
   "metadata": {},
   "outputs": [],
   "source": [
    "X = scale.fit_transform(x)\n",
    "X_train = scale.fit_transform(x_train)\n",
    "X_test = scale.fit_transform(x_test)"
   ]
  },
  {
   "cell_type": "code",
   "execution_count": null,
   "id": "99a01ad3",
   "metadata": {},
   "outputs": [],
   "source": [
    "regressor = KNeighborsRegressor(n_neighbors=4, weights='distance',\n",
    "    algorithm='auto',\n",
    "    leaf_size=30,\n",
    "    p=1,\n",
    "    metric='minkowski',\n",
    "    metric_params=None,\n",
    "    n_jobs=-1,)"
   ]
  },
  {
   "cell_type": "code",
   "execution_count": null,
   "id": "5ed07bfc",
   "metadata": {},
   "outputs": [],
   "source": [
    "import time\n",
    "from datetime import timedelta\n",
    "start_time = time.monotonic()"
   ]
  },
  {
   "cell_type": "code",
   "execution_count": null,
   "id": "676fdc81",
   "metadata": {},
   "outputs": [],
   "source": [
    "regressor.fit(X_train, y_train)"
   ]
  },
  {
   "cell_type": "code",
   "execution_count": null,
   "id": "73aac775",
   "metadata": {},
   "outputs": [],
   "source": [
    "end_time = time.monotonic()\n",
    "print(timedelta(seconds=end_time - start_time))"
   ]
  },
  {
   "cell_type": "code",
   "execution_count": null,
   "id": "a80c0806",
   "metadata": {},
   "outputs": [],
   "source": [
    "#KNeighborsRegressor?"
   ]
  },
  {
   "cell_type": "code",
   "execution_count": null,
   "id": "153a413c",
   "metadata": {},
   "outputs": [],
   "source": [
    "# compute the testing accuracy\n",
    "y_pred = regressor.predict(X_test)"
   ]
  },
  {
   "cell_type": "code",
   "execution_count": null,
   "id": "ef2bd5a0",
   "metadata": {},
   "outputs": [],
   "source": [
    "y_pred_train = regressor.predict(X_train)"
   ]
  },
  {
   "cell_type": "code",
   "execution_count": null,
   "id": "51b8dbf2",
   "metadata": {},
   "outputs": [],
   "source": [
    "y_pred_train.shape"
   ]
  },
  {
   "cell_type": "code",
   "execution_count": null,
   "id": "e6ec491d",
   "metadata": {},
   "outputs": [],
   "source": [
    "y_pred_all = regressor.predict(X)"
   ]
  },
  {
   "cell_type": "code",
   "execution_count": null,
   "id": "bd299f88",
   "metadata": {},
   "outputs": [],
   "source": [
    "  print(\"\\n\")\n",
    "  print(\"overall Performance: \", )"
   ]
  },
  {
   "cell_type": "code",
   "execution_count": null,
   "id": "08e1d8cc",
   "metadata": {},
   "outputs": [],
   "source": [
    "  # model evaluation for testing set\n",
    "  mae = metrics.mean_absolute_error(y_test, y_pred)\n",
    "  mse = metrics.mean_squared_error(y_test, y_pred)\n",
    "  r2 = metrics.r2_score(y_test, y_pred)"
   ]
  },
  {
   "cell_type": "code",
   "execution_count": null,
   "id": "109a011e",
   "metadata": {},
   "outputs": [],
   "source": [
    "print(\"The model performance for testing set\")\n",
    "print(\"--------------------------------------\")\n",
    "print('MAE is {}'.format(mae))\n",
    "print('MSE is {}'.format(mse))\n",
    "print('R2 score is {}'.format(r2))"
   ]
  },
  {
   "cell_type": "code",
   "execution_count": null,
   "id": "6eb42d35",
   "metadata": {},
   "outputs": [],
   "source": [
    "  # model evaluation for training set\n",
    "maeTrain = metrics.mean_absolute_error(y_train, y_pred_train)\n",
    "mseTrain = metrics.mean_squared_error(y_train, y_pred_train)\n",
    "r2Train = metrics.r2_score(y_train, y_pred_train)"
   ]
  },
  {
   "cell_type": "code",
   "execution_count": null,
   "id": "595c5093",
   "metadata": {},
   "outputs": [],
   "source": [
    "print(\"The model performance for training set\")\n",
    "print(\"--------------------------------------\")\n",
    "print('MAE is {}'.format(maeTrain))\n",
    "print('MSE is {}'.format(mseTrain))\n",
    "print('R2 score is {}'.format(r2Train))"
   ]
  },
  {
   "cell_type": "code",
   "execution_count": null,
   "id": "bd37ab47",
   "metadata": {},
   "outputs": [],
   "source": [
    "cvscorevall = (cross_val_score(regressor,X_train,y_train.ravel(),cv=5).mean())"
   ]
  },
  {
   "cell_type": "code",
   "execution_count": null,
   "id": "e1336efe",
   "metadata": {},
   "outputs": [],
   "source": [
    "print(\"The CV score for training dataset\")\n",
    "print(\"--------------------------------------\")\n",
    "print (cross_val_score(regressor,X_train,y_train.ravel(),cv=5))\n",
    "print('Q2 is {}'.format(cvscorevall))"
   ]
  },
  {
   "cell_type": "code",
   "execution_count": null,
   "id": "c64b9bd0",
   "metadata": {},
   "outputs": [],
   "source": [
    "plt.figure(figsize=(5,5))\n",
    "plt.scatter(y_test, y_pred, c='blue', marker='o')\n",
    "plt.yscale('linear')\n",
    "plt.xscale('linear')\n",
    "\n",
    "p1 = max(max(y_pred), max(y_test))\n",
    "p2 = min(min(y_pred), min(y_test))\n",
    "plt.plot([p1, p2], [p1, p2], 'red')\n",
    "plt.xlabel('Actual', fontsize=13)\n",
    "plt.ylabel('Predected', fontsize=13)\n",
    "plt.axis('equal')\n",
    "plt.text(0, 2, '$R^2$ = 0.761', fontsize = 12)\n",
    "plt.text(0, 1.8, 'RMSE = 0.25', fontsize = 12)\n",
    "plt.title('KNN (29)', fontsize = 14)\n",
    "plt.show()"
   ]
  },
  {
   "cell_type": "code",
   "execution_count": null,
   "id": "74d51e92",
   "metadata": {},
   "outputs": [],
   "source": [
    "import seaborn as sns\n",
    "import matplotlib.pyplot as plt\n",
    "import statsmodels.api as sm"
   ]
  },
  {
   "cell_type": "code",
   "execution_count": null,
   "id": "3cffff30",
   "metadata": {},
   "outputs": [],
   "source": [
    "plt.figure(figsize=(5,5))\n",
    "plt.scatter(y_test, y_pred, c='blue', marker='o', linewidth=1)\n",
    "plt.yscale('linear')\n",
    "plt.xscale('linear')\n",
    "\n",
    "\n",
    "p1 = max(max(y_pred), max(y_test))\n",
    "p2 = min(min(y_pred), min(y_test))\n",
    "plt.plot([p1, p2], [p1, p2], c='black', linestyle='dashed')\n",
    "plt.xlabel('Actual', fontsize=13)\n",
    "plt.ylabel('Predected', fontsize=13)\n",
    "plt.axis('equal')\n",
    "plt.text(0, 2, '$R^2$ = 0.761', fontsize = 12)\n",
    "plt.text(0, 1.8, 'RMSE = 0.25', fontsize = 12)\n",
    "plt.title('KNN (29)', fontsize = 14)\n",
    "\n",
    "# Draw a Loess best-fit line over the scatter plot\n",
    "lowess = sm.nonparametric.lowess\n",
    "loess_fit = lowess(y_pred, y_test, frac=0.3)\n",
    "# Plot the loess fit line on the scatter plot\n",
    "plt.plot(loess_fit[:, 0], loess_fit[:, 1], 'r-', linewidth=2)\n",
    "\n",
    "plt.show()"
   ]
  },
  {
   "cell_type": "code",
   "execution_count": null,
   "id": "673abc15",
   "metadata": {},
   "outputs": [],
   "source": [
    "#Randomize search CV\n",
    "from sklearn.model_selection import GridSearchCV"
   ]
  },
  {
   "cell_type": "code",
   "execution_count": null,
   "id": "729cbd62",
   "metadata": {},
   "outputs": [],
   "source": [
    "n_neighbors = list(range(1,100))\n",
    "p=[1,2]\n",
    "weights = ['distance', 'uniform']\n",
    "metric = ['minkowski', 'str']"
   ]
  },
  {
   "cell_type": "code",
   "execution_count": null,
   "id": "230f9847",
   "metadata": {},
   "outputs": [],
   "source": [
    "hyperparameters = dict(leaf_size=leaf_size, n_neighbors=n_neighbors, p=p, weights= weights, metric = metric )"
   ]
  },
  {
   "cell_type": "code",
   "execution_count": null,
   "id": "5fd8e48d",
   "metadata": {},
   "outputs": [],
   "source": [
    "knn_2 = KNeighborsRegressor()"
   ]
  },
  {
   "cell_type": "code",
   "execution_count": null,
   "id": "1c654e1f",
   "metadata": {},
   "outputs": [],
   "source": [
    "clf = GridSearchCV(knn_2, hyperparameters, cv=5)"
   ]
  },
  {
   "cell_type": "code",
   "execution_count": null,
   "id": "f3a7a736",
   "metadata": {},
   "outputs": [],
   "source": [
    "best_model = clf.fit(X,y)"
   ]
  },
  {
   "cell_type": "code",
   "execution_count": null,
   "id": "cdb187f2",
   "metadata": {},
   "outputs": [],
   "source": [
    "print('Best leaf_size:', best_model.best_estimator_.get_params()['leaf_size'])\n",
    "print('Best p:', best_model.best_estimator_.get_params()['p'])\n",
    "print('Best n_neighbors:', best_model.best_estimator_.get_params()['n_neighbors'])\n",
    "print('Best weights:', best_model.best_estimator_.get_params()['weights'])\n",
    "print('Best metric:', best_model.best_estimator_.get_params()['metric'])"
   ]
  },
  {
   "cell_type": "code",
   "execution_count": null,
   "id": "bea9ef05",
   "metadata": {},
   "outputs": [],
   "source": [
    "from sklearn.model_selection import RandomizedSearchCV"
   ]
  },
  {
   "cell_type": "code",
   "execution_count": null,
   "id": "82ce6a4c",
   "metadata": {},
   "outputs": [],
   "source": [
    "n_neighbors =[1, 2, 3, 4, 5, 6, 7, 8, 9, 10, 11, 12, 15, 20, 25, 30, 35, 40, 45, 50, 55, 60, 65, 70, 75, 80, 85, 90, 100, \n",
    "              120, 150]\n",
    "weights = ['distance', 'uniform']\n",
    "algorithm = ['auto','brute']\n",
    "metric = ['minkowski', 'str']"
   ]
  },
  {
   "cell_type": "code",
   "execution_count": null,
   "id": "56ede5ca",
   "metadata": {},
   "outputs": [],
   "source": [
    "# creatting parameter gride\n",
    "param_grid_regressor= {'n_neighbors': n_neighbors ,\n",
    "                       'weights':weights, 'algorithm': algorithm, 'metric': metric}"
   ]
  },
  {
   "cell_type": "code",
   "execution_count": null,
   "id": "102dd941",
   "metadata": {},
   "outputs": [],
   "source": [
    "print (param_grid_regressor)"
   ]
  },
  {
   "cell_type": "code",
   "execution_count": null,
   "id": "ad837c9a",
   "metadata": {},
   "outputs": [],
   "source": [
    "regressor_random = RandomizedSearchCV(estimator = regressor, param_distributions=param_grid_regressor, n_iter = 100,\n",
    "                              cv = 5, verbose =2,\n",
    "                              n_jobs= -1, scoring = 'neg_mean_squared_error' )"
   ]
  },
  {
   "cell_type": "code",
   "execution_count": null,
   "id": "cc3935cf",
   "metadata": {},
   "outputs": [],
   "source": [
    "regressor_random.fit (X,y)"
   ]
  },
  {
   "cell_type": "code",
   "execution_count": null,
   "id": "9b089138",
   "metadata": {},
   "outputs": [],
   "source": [
    "regressor_random.best_params_"
   ]
  },
  {
   "cell_type": "code",
   "execution_count": null,
   "id": "aebc36ce",
   "metadata": {},
   "outputs": [],
   "source": [
    "regressor_random.best_score_"
   ]
  },
  {
   "cell_type": "code",
   "execution_count": null,
   "id": "805f7ddc",
   "metadata": {},
   "outputs": [],
   "source": [
    "# parameter tuning grid searchCV\n",
    "from sklearn.model_selection import GridSearchCV"
   ]
  },
  {
   "cell_type": "code",
   "execution_count": null,
   "id": "76a7b184",
   "metadata": {},
   "outputs": [],
   "source": [
    "regressor_grid = GridSearchCV(estimator =regressor, param_grid=param_grid_regressor,\n",
    "                              cv = 5, verbose =2,\n",
    "                              n_jobs= -1,  scoring = \"neg_mean_squared_error\")\n",
    "\n",
    "regressor_grid.fit (X,y)"
   ]
  },
  {
   "cell_type": "code",
   "execution_count": null,
   "id": "2bf443f7",
   "metadata": {},
   "outputs": [],
   "source": [
    "regressor_grid.best_params_"
   ]
  },
  {
   "cell_type": "code",
   "execution_count": null,
   "id": "e6fc267f",
   "metadata": {},
   "outputs": [],
   "source": [
    "regressor_grid.best_score_"
   ]
  },
  {
   "cell_type": "code",
   "execution_count": null,
   "id": "abca86f3",
   "metadata": {},
   "outputs": [],
   "source": [
    " # manual search engine\n",
    "regressor1 = KNeighborsRegressor(n_neighbors=5,weights='distance',\n",
    "    algorithm='auto',\n",
    "    leaf_size=30,\n",
    "    p=2,\n",
    "    metric='minkowski',\n",
    "    metric_params=None,\n",
    "    n_jobs=-1,)"
   ]
  },
  {
   "cell_type": "code",
   "execution_count": null,
   "id": "84e17cb5",
   "metadata": {},
   "outputs": [],
   "source": [
    "regressor1.fit(X_train, y_train)"
   ]
  },
  {
   "cell_type": "code",
   "execution_count": null,
   "id": "e6d6e3d8",
   "metadata": {},
   "outputs": [],
   "source": [
    "cvscore2 = (-cross_val_score(regressor1,X_train,y_train.ravel(),cv=5).mean())\n",
    "MAE2 = (-cross_val_score(regressor1,X,y.ravel(),cv=5, scoring = \"neg_mean_absolute_error\").mean())\n",
    "MSE2 = (-cross_val_score(regressor1,X,y.ravel(),cv=5, scoring = \"neg_mean_squared_error\").mean())"
   ]
  },
  {
   "cell_type": "code",
   "execution_count": null,
   "id": "367fd3b0",
   "metadata": {},
   "outputs": [],
   "source": [
    "print(\"The CV score for training dataset\")\n",
    "print(\"--------------------------------------\")\n",
    "print('Q2 is {}'.format(cvscore2))\n",
    "print('MAE is {}'.format(MAE2))\n",
    "print('MSE is {}'.format(MSE2))"
   ]
  },
  {
   "cell_type": "code",
   "execution_count": null,
   "id": "65b383e0",
   "metadata": {},
   "outputs": [],
   "source": [
    "KNeighborsregressor?"
   ]
  },
  {
   "cell_type": "code",
   "execution_count": null,
   "id": "ef623383",
   "metadata": {},
   "outputs": [],
   "source": []
  },
  {
   "cell_type": "code",
   "execution_count": null,
   "id": "984b89c3",
   "metadata": {},
   "outputs": [],
   "source": []
  }
 ],
 "metadata": {
  "kernelspec": {
   "display_name": "Python 3 (ipykernel)",
   "language": "python",
   "name": "python3"
  },
  "language_info": {
   "codemirror_mode": {
    "name": "ipython",
    "version": 3
   },
   "file_extension": ".py",
   "mimetype": "text/x-python",
   "name": "python",
   "nbconvert_exporter": "python",
   "pygments_lexer": "ipython3",
   "version": "3.10.9"
  }
 },
 "nbformat": 4,
 "nbformat_minor": 5
}
