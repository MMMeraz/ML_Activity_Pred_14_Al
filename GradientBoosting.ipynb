{
 "cells": [
  {
   "cell_type": "code",
   "execution_count": 2,
   "id": "6d6f1d90",
   "metadata": {},
   "outputs": [],
   "source": [
    "# Import Section\n",
    "import csv\n",
    "import codecs\n",
    "import sys\n",
    "import io\n",
    "import numpy as np\n",
    "import pandas as pd\n",
    "import scipy as sp\n",
    "\n",
    "# For Regression\n",
    "from sklearn.model_selection import train_test_split\n",
    "from sklearn.model_selection import cross_val_score\n",
    "from statistics import mean\n",
    "\n",
    "from sklearn.ensemble import GradientBoostingRegressor\n",
    "\n",
    "# Python script for confusion matrix creation. \n",
    "from sklearn.metrics import *\n",
    "from numpy import mean\n",
    "from numpy import std\n",
    "from sklearn import metrics"
   ]
  },
  {
   "cell_type": "code",
   "execution_count": 3,
   "id": "69ae8fb6",
   "metadata": {},
   "outputs": [],
   "source": [
    "dataset=pd.read_csv(\"data_294.csv\")"
   ]
  },
  {
   "cell_type": "code",
   "execution_count": 4,
   "id": "ec007b03",
   "metadata": {},
   "outputs": [
    {
     "data": {
      "text/plain": [
       "(294, 17)"
      ]
     },
     "execution_count": 4,
     "metadata": {},
     "output_type": "execute_result"
    }
   ],
   "source": [
    "dataset.shape"
   ]
  },
  {
   "cell_type": "code",
   "execution_count": 5,
   "id": "6540ffea",
   "metadata": {},
   "outputs": [],
   "source": [
    "x = dataset[['1', '15', '18', '21', '25', '26', '39', '41', '58', '69', '83', '85', '141', '155', '166']]"
   ]
  },
  {
   "cell_type": "code",
   "execution_count": 6,
   "id": "38fcc30c",
   "metadata": {},
   "outputs": [
    {
     "data": {
      "text/plain": [
       "(294, 15)"
      ]
     },
     "execution_count": 6,
     "metadata": {},
     "output_type": "execute_result"
    }
   ],
   "source": [
    "x.shape"
   ]
  },
  {
   "cell_type": "code",
   "execution_count": 7,
   "id": "c129b673",
   "metadata": {},
   "outputs": [],
   "source": [
    "y = dataset['Act']"
   ]
  },
  {
   "cell_type": "code",
   "execution_count": 8,
   "id": "174dcd4e",
   "metadata": {},
   "outputs": [],
   "source": [
    "x_model, x_extest, y_model, y_extest = train_test_split(x,y,test_size=.2, random_state = 7000, shuffle=True)"
   ]
  },
  {
   "cell_type": "code",
   "execution_count": 9,
   "id": "5403d6e9",
   "metadata": {},
   "outputs": [
    {
     "data": {
      "text/plain": [
       "(235, 15)"
      ]
     },
     "execution_count": 9,
     "metadata": {},
     "output_type": "execute_result"
    }
   ],
   "source": [
    "x_model.shape"
   ]
  },
  {
   "cell_type": "code",
   "execution_count": 10,
   "id": "3e08e96b",
   "metadata": {},
   "outputs": [],
   "source": [
    "x_train, x_test2, y_train, y_test2 = train_test_split(x_model,y_model,test_size=.3, random_state = 7000, shuffle=True)"
   ]
  },
  {
   "cell_type": "code",
   "execution_count": 11,
   "id": "d8ed970c",
   "metadata": {},
   "outputs": [
    {
     "data": {
      "text/plain": [
       "(164, 15)"
      ]
     },
     "execution_count": 11,
     "metadata": {},
     "output_type": "execute_result"
    }
   ],
   "source": [
    "x_train.shape"
   ]
  },
  {
   "cell_type": "code",
   "execution_count": 12,
   "id": "33daae20",
   "metadata": {},
   "outputs": [
    {
     "data": {
      "text/plain": [
       "(71, 15)"
      ]
     },
     "execution_count": 12,
     "metadata": {},
     "output_type": "execute_result"
    }
   ],
   "source": [
    "x_test2.shape"
   ]
  },
  {
   "cell_type": "code",
   "execution_count": 13,
   "id": "f09a2627",
   "metadata": {},
   "outputs": [],
   "source": [
    "x_val, x_test, y_val, y_test = train_test_split(x_test2,y_test2,test_size=.5, random_state = 7000, shuffle=True)"
   ]
  },
  {
   "cell_type": "code",
   "execution_count": 14,
   "id": "58d9dc52",
   "metadata": {},
   "outputs": [
    {
     "data": {
      "text/plain": [
       "(36, 15)"
      ]
     },
     "execution_count": 14,
     "metadata": {},
     "output_type": "execute_result"
    }
   ],
   "source": [
    "x_test.shape"
   ]
  },
  {
   "cell_type": "code",
   "execution_count": 15,
   "id": "95e85f0f",
   "metadata": {},
   "outputs": [
    {
     "data": {
      "text/plain": [
       "(35, 15)"
      ]
     },
     "execution_count": 15,
     "metadata": {},
     "output_type": "execute_result"
    }
   ],
   "source": [
    "x_val.shape"
   ]
  },
  {
   "cell_type": "code",
   "execution_count": 16,
   "id": "99a01ad3",
   "metadata": {},
   "outputs": [],
   "source": [
    "regressor = GradientBoostingRegressor(random_state=0)"
   ]
  },
  {
   "cell_type": "code",
   "execution_count": 17,
   "id": "4e94da1a",
   "metadata": {},
   "outputs": [
    {
     "data": {
      "text/plain": [
       "GradientBoostingRegressor(random_state=0)"
      ]
     },
     "execution_count": 17,
     "metadata": {},
     "output_type": "execute_result"
    }
   ],
   "source": [
    " regressor.fit(x_train, y_train)"
   ]
  },
  {
   "cell_type": "code",
   "execution_count": 18,
   "id": "153a413c",
   "metadata": {},
   "outputs": [],
   "source": [
    "# compute the testing accuracy\n",
    "y_pred = regressor.predict(x_test)"
   ]
  },
  {
   "cell_type": "code",
   "execution_count": 19,
   "id": "ef2bd5a0",
   "metadata": {},
   "outputs": [],
   "source": [
    "y_pred_train = regressor.predict(x_train)"
   ]
  },
  {
   "cell_type": "code",
   "execution_count": 20,
   "id": "51b8dbf2",
   "metadata": {},
   "outputs": [
    {
     "data": {
      "text/plain": [
       "(164,)"
      ]
     },
     "execution_count": 20,
     "metadata": {},
     "output_type": "execute_result"
    }
   ],
   "source": [
    "y_pred_train.shape"
   ]
  },
  {
   "cell_type": "code",
   "execution_count": 21,
   "id": "8545bb86",
   "metadata": {},
   "outputs": [],
   "source": [
    "y_pred_val = regressor.predict(x_val)"
   ]
  },
  {
   "cell_type": "code",
   "execution_count": 22,
   "id": "e10de018",
   "metadata": {},
   "outputs": [],
   "source": [
    "y_pred_extest = regressor.predict(x_extest)"
   ]
  },
  {
   "cell_type": "code",
   "execution_count": 23,
   "id": "90d4d82c",
   "metadata": {},
   "outputs": [],
   "source": [
    "y_pred_model = regressor.predict(x_model)"
   ]
  },
  {
   "cell_type": "code",
   "execution_count": 24,
   "id": "bd299f88",
   "metadata": {},
   "outputs": [
    {
     "name": "stdout",
     "output_type": "stream",
     "text": [
      "\n",
      "\n",
      "overall Performance: \n"
     ]
    }
   ],
   "source": [
    "  print(\"\\n\")\n",
    "  print(\"overall Performance: \", )"
   ]
  },
  {
   "cell_type": "code",
   "execution_count": 25,
   "id": "08e1d8cc",
   "metadata": {},
   "outputs": [],
   "source": [
    "  # model evaluation for testing set\n",
    "  mae = metrics.mean_absolute_error(y_test, y_pred)\n",
    "  mse = metrics.mean_squared_error(y_test, y_pred)\n",
    "  r2 = metrics.r2_score(y_test, y_pred)"
   ]
  },
  {
   "cell_type": "code",
   "execution_count": 26,
   "id": "109a011e",
   "metadata": {},
   "outputs": [
    {
     "name": "stdout",
     "output_type": "stream",
     "text": [
      "The model performance for testing set\n",
      "--------------------------------------\n",
      "MAE is 18.860058009950922\n",
      "MSE is 704.8584074501591\n",
      "R2 score is 0.5165425295168367\n"
     ]
    }
   ],
   "source": [
    "print(\"The model performance for testing set\")\n",
    "print(\"--------------------------------------\")\n",
    "print('MAE is {}'.format(mae))\n",
    "print('MSE is {}'.format(mse))\n",
    "print('R2 score is {}'.format(r2))"
   ]
  },
  {
   "cell_type": "code",
   "execution_count": 27,
   "id": "6eb42d35",
   "metadata": {},
   "outputs": [],
   "source": [
    "  # model evaluation for training set\n",
    "maeTrain = metrics.mean_absolute_error(y_train, y_pred_train)\n",
    "mseTrain = metrics.mean_squared_error(y_train, y_pred_train)\n",
    "r2Train = metrics.r2_score(y_train, y_pred_train)"
   ]
  },
  {
   "cell_type": "code",
   "execution_count": 28,
   "id": "595c5093",
   "metadata": {},
   "outputs": [
    {
     "name": "stdout",
     "output_type": "stream",
     "text": [
      "The model performance for training set\n",
      "--------------------------------------\n",
      "MAE is 5.218063660519553\n",
      "MSE is 53.8869400950265\n",
      "R2 score is 0.9795142528362594\n"
     ]
    }
   ],
   "source": [
    "print(\"The model performance for training set\")\n",
    "print(\"--------------------------------------\")\n",
    "print('MAE is {}'.format(maeTrain))\n",
    "print('MSE is {}'.format(mseTrain))\n",
    "print('R2 score is {}'.format(r2Train))"
   ]
  },
  {
   "cell_type": "code",
   "execution_count": 29,
   "id": "eed7adf1",
   "metadata": {},
   "outputs": [],
   "source": [
    "cvscoretrain = (cross_val_score(regressor,x_train,y_train.ravel(),cv=5).mean())"
   ]
  },
  {
   "cell_type": "code",
   "execution_count": 30,
   "id": "becd2119",
   "metadata": {},
   "outputs": [
    {
     "name": "stdout",
     "output_type": "stream",
     "text": [
      "The CV score for training set\n",
      "--------------------------------------\n",
      "[0.28570492 0.33813316 0.28446278 0.8079634  0.57216112]\n",
      "Q2 is 0.45768507600531105\n"
     ]
    }
   ],
   "source": [
    "print(\"The CV score for training set\")\n",
    "print(\"--------------------------------------\")\n",
    "print (cross_val_score(regressor,x_train,y_train.ravel(),cv=5))\n",
    "print('Q2 is {}'.format(cvscoretrain))"
   ]
  },
  {
   "cell_type": "code",
   "execution_count": 31,
   "id": "fcad4b72",
   "metadata": {},
   "outputs": [],
   "source": [
    "## model evaluation for extest set\n",
    "maeex = metrics.mean_absolute_error(y_extest, y_pred_extest)\n",
    "mseex = metrics.mean_squared_error(y_extest, y_pred_extest)\n",
    "r2ex = metrics.r2_score(y_extest, y_pred_extest)"
   ]
  },
  {
   "cell_type": "code",
   "execution_count": 32,
   "id": "c6fd7311",
   "metadata": {},
   "outputs": [
    {
     "name": "stdout",
     "output_type": "stream",
     "text": [
      "The model performance for extest set\n",
      "--------------------------------------\n",
      "MAE is 22.400722785523058\n",
      "MSE is 1315.583245012531\n",
      "R2 score is 0.5392350200402862\n"
     ]
    }
   ],
   "source": [
    "print(\"The model performance for extest set\")\n",
    "print(\"--------------------------------------\")\n",
    "print('MAE is {}'.format(maeex))\n",
    "print('MSE is {}'.format(mseex))\n",
    "print('R2 score is {}'.format(r2ex))"
   ]
  },
  {
   "cell_type": "code",
   "execution_count": 33,
   "id": "4cc6638a",
   "metadata": {},
   "outputs": [],
   "source": [
    "## model evaluation for val set\n",
    "maevl = metrics.mean_absolute_error(y_val, y_pred_val)\n",
    "msevl = metrics.mean_squared_error(y_val, y_pred_val)\n",
    "r2vl = metrics.r2_score(y_val, y_pred_val)"
   ]
  },
  {
   "cell_type": "code",
   "execution_count": 34,
   "id": "2afb1d99",
   "metadata": {},
   "outputs": [
    {
     "name": "stdout",
     "output_type": "stream",
     "text": [
      "The model performance for val set\n",
      "--------------------------------------\n",
      "MAE is 21.89895601244592\n",
      "MSE is 842.461734401527\n",
      "R2 score is 0.7501977639131456\n"
     ]
    }
   ],
   "source": [
    "print(\"The model performance for val set\")\n",
    "print(\"--------------------------------------\")\n",
    "print('MAE is {}'.format(maevl))\n",
    "print('MSE is {}'.format(msevl))\n",
    "print('R2 score is {}'.format(r2vl))"
   ]
  },
  {
   "cell_type": "code",
   "execution_count": 35,
   "id": "edd49c71",
   "metadata": {},
   "outputs": [],
   "source": [
    "## model evaluation for model set\n",
    "maemod = metrics.mean_absolute_error(y_model, y_pred_model)\n",
    "msemod = metrics.mean_squared_error(y_model, y_pred_model)\n",
    "r2mod = metrics.r2_score(y_model, y_pred_model)"
   ]
  },
  {
   "cell_type": "code",
   "execution_count": 36,
   "id": "236d0317",
   "metadata": {},
   "outputs": [
    {
     "name": "stdout",
     "output_type": "stream",
     "text": [
      "The model performance for model set\n",
      "--------------------------------------\n",
      "MAE is 9.7922893154002\n",
      "MSE is 271.05753850146175\n",
      "R2 score is 0.8954468592367026\n"
     ]
    }
   ],
   "source": [
    "print(\"The model performance for model set\")\n",
    "print(\"--------------------------------------\")\n",
    "print('MAE is {}'.format(maemod))\n",
    "print('MSE is {}'.format(msemod))\n",
    "print('R2 score is {}'.format(r2mod))"
   ]
  },
  {
   "cell_type": "code",
   "execution_count": 39,
   "id": "4f38d134",
   "metadata": {},
   "outputs": [],
   "source": [
    "# cv for modeling set \n",
    "cvscoremod = (cross_val_score(regressor,x_model,y_model.ravel(),cv=5).mean())"
   ]
  },
  {
   "cell_type": "code",
   "execution_count": 41,
   "id": "1c097c5a",
   "metadata": {},
   "outputs": [
    {
     "name": "stdout",
     "output_type": "stream",
     "text": [
      "The CV score for model set\n",
      "--------------------------------------\n",
      "[0.70759494 0.45227551 0.5319037  0.49178034 0.75506219]\n",
      "Q2 is 0.5877233372222209\n"
     ]
    }
   ],
   "source": [
    "print(\"The CV score for model set\")\n",
    "print(\"--------------------------------------\")\n",
    "print (cross_val_score(regressor,x_model,y_model.ravel(),cv=5))\n",
    "print('Q2 is {}'.format(cvscoremod))"
   ]
  },
  {
   "cell_type": "code",
   "execution_count": 32,
   "id": "673abc15",
   "metadata": {},
   "outputs": [],
   "source": [
    "#Randomize search CV\n",
    "from sklearn.model_selection import RandomizedSearchCV"
   ]
  },
  {
   "cell_type": "code",
   "execution_count": 34,
   "id": "56ede5ca",
   "metadata": {},
   "outputs": [],
   "source": [
    "# creatting parameter gride\n",
    "param_grid_regressor= {'loss': ['ls', 'lad', 'huber', 'quantile'],\n",
    "                       'n_estimators':[50,100, 150, 200, 300, 400], \n",
    "    'learning_rate': [0.05, 0.1, 0.15, 0.2, 0.25],   'criterion': ['friedman_mse', 'mse', 'mae'],\n",
    "                       'min_samples_split': [1,2,3,4], \n",
    "                     'min_samples_leaf': [1,2,3,4], 'max_depth' : [1,2,3,4,5] }"
   ]
  },
  {
   "cell_type": "code",
   "execution_count": 35,
   "id": "00df69ad",
   "metadata": {},
   "outputs": [
    {
     "name": "stdout",
     "output_type": "stream",
     "text": [
      "{'loss': ['ls', 'lad', 'huber', 'quantile'], 'n_estimators': [50, 100, 150, 200, 300, 400], 'learning_rate': [0.05, 0.1, 0.15, 0.2, 0.25], 'criterion': ['friedman_mse', 'mse', 'mae'], 'min_samples_split': [1, 2, 3, 4], 'min_samples_leaf': [1, 2, 3, 4], 'max_depth': [1, 2, 3, 4, 5]}\n"
     ]
    }
   ],
   "source": [
    "print (param_grid_regressor)"
   ]
  },
  {
   "cell_type": "code",
   "execution_count": 36,
   "id": "ad837c9a",
   "metadata": {},
   "outputs": [],
   "source": [
    "regressor_random = RandomizedSearchCV(estimator = regressor, param_distributions=param_grid_regressor, n_iter = 100,\n",
    "                              cv = 5, verbose =2,\n",
    "                              n_jobs= -1, scoring = 'neg_mean_squared_error' )"
   ]
  },
  {
   "cell_type": "code",
   "execution_count": 37,
   "id": "cc3935cf",
   "metadata": {},
   "outputs": [
    {
     "name": "stdout",
     "output_type": "stream",
     "text": [
      "Fitting 5 folds for each of 100 candidates, totalling 500 fits\n"
     ]
    },
    {
     "name": "stderr",
     "output_type": "stream",
     "text": [
      "C:\\Python39\\lib\\site-packages\\sklearn\\model_selection\\_search.py:922: UserWarning: One or more of the test scores are non-finite: [           nan -2434.70246077 -3488.07021994 -2474.90138921\n",
      "            nan -2027.2020153  -2127.54661716 -2384.06793228\n",
      "            nan            nan -1980.33333119 -1976.09030544\n",
      " -2355.82881775 -2606.00568133 -2043.41517031            nan\n",
      " -2005.62146151            nan -2143.17941203 -3439.91796497\n",
      " -2325.63863882 -2271.83775576            nan -2356.48932984\n",
      " -2419.26700637 -2058.17077126 -2031.66757415 -2025.05982813\n",
      " -1899.28039552 -2675.37233405 -3470.89997423 -1803.00943444\n",
      "            nan -1789.48144157            nan -1973.56136624\n",
      " -1647.00830207            nan -2077.42335395 -2225.58129389\n",
      " -2399.02677854 -1878.58055441 -1943.50431755            nan\n",
      " -2145.21461275 -2027.84629892 -1878.25468115            nan\n",
      "            nan -2970.15364991 -3439.91834711 -2167.99324475\n",
      " -2279.63048435            nan -2120.43314501            nan\n",
      " -2641.97454244            nan            nan -2132.70705453\n",
      "            nan -2125.60083323 -2060.58056769 -2046.66660259\n",
      " -3419.89557665 -3102.22926701 -3012.4756776  -2076.60606677\n",
      "            nan            nan -2069.9219095  -1932.80048221\n",
      " -1822.28644052 -2351.6618525  -2149.63844492 -3081.8321733\n",
      "            nan -2036.13072347 -2233.1853075  -2337.42227768\n",
      " -1831.08972495 -2096.73652854 -2039.97187909 -6115.22304075\n",
      " -2953.93167374 -1946.79860079            nan -2354.15465597\n",
      " -3105.1713874  -2994.68265022 -1918.81639315 -1920.90661382\n",
      " -2052.13420846            nan -2165.6422213             nan\n",
      " -2439.63989097 -2378.47983543 -1733.44946008            nan]\n",
      "  warnings.warn(\n"
     ]
    },
    {
     "data": {
      "text/plain": [
       "RandomizedSearchCV(cv=5, estimator=GradientBoostingRegressor(random_state=0),\n",
       "                   n_iter=100, n_jobs=-1,\n",
       "                   param_distributions={'criterion': ['friedman_mse', 'mse',\n",
       "                                                      'mae'],\n",
       "                                        'learning_rate': [0.05, 0.1, 0.15, 0.2,\n",
       "                                                          0.25],\n",
       "                                        'loss': ['ls', 'lad', 'huber',\n",
       "                                                 'quantile'],\n",
       "                                        'max_depth': [1, 2, 3, 4, 5],\n",
       "                                        'min_samples_leaf': [1, 2, 3, 4],\n",
       "                                        'min_samples_split': [1, 2, 3, 4],\n",
       "                                        'n_estimators': [50, 100, 150, 200, 300,\n",
       "                                                         400]},\n",
       "                   scoring='neg_mean_squared_error', verbose=2)"
      ]
     },
     "execution_count": 37,
     "metadata": {},
     "output_type": "execute_result"
    }
   ],
   "source": [
    "\n",
    "regressor_random.fit (x,y)"
   ]
  },
  {
   "cell_type": "code",
   "execution_count": 38,
   "id": "9b089138",
   "metadata": {},
   "outputs": [
    {
     "data": {
      "text/plain": [
       "{'n_estimators': 200,\n",
       " 'min_samples_split': 2,\n",
       " 'min_samples_leaf': 3,\n",
       " 'max_depth': 5,\n",
       " 'loss': 'lad',\n",
       " 'learning_rate': 0.1,\n",
       " 'criterion': 'friedman_mse'}"
      ]
     },
     "execution_count": 38,
     "metadata": {},
     "output_type": "execute_result"
    }
   ],
   "source": [
    "regressor_random.best_params_"
   ]
  },
  {
   "cell_type": "code",
   "execution_count": 39,
   "id": "aebc36ce",
   "metadata": {},
   "outputs": [
    {
     "data": {
      "text/plain": [
       "-1647.0083020683844"
      ]
     },
     "execution_count": 39,
     "metadata": {},
     "output_type": "execute_result"
    }
   ],
   "source": [
    "regressor_random.best_score_"
   ]
  },
  {
   "cell_type": "code",
   "execution_count": 40,
   "id": "805f7ddc",
   "metadata": {},
   "outputs": [],
   "source": [
    "# parameter tuning grid searchCV\n",
    "from sklearn.model_selection import GridSearchCV"
   ]
  },
  {
   "cell_type": "code",
   "execution_count": 41,
   "id": "6fa5c95c",
   "metadata": {},
   "outputs": [],
   "source": [
    "param_grid_regressor1= {'loss': ['ls', 'lad'],\n",
    "                       'n_estimators':[ 150, 200, 300], \n",
    "    'learning_rate': [0.05, 0.1, 0.15],   'criterion': ['friedman_mse', 'mse'],\n",
    "                       'min_samples_split': [1,2,3], \n",
    "                     'min_samples_leaf': [2,3,4], 'max_depth' : [4,5,6] }"
   ]
  },
  {
   "cell_type": "code",
   "execution_count": 42,
   "id": "76a7b184",
   "metadata": {},
   "outputs": [],
   "source": [
    "regressor_grid = GridSearchCV(estimator =regressor, param_grid=param_grid_regressor1,\n",
    "                              cv = 5, verbose =2,\n",
    "                              n_jobs= -1,  scoring = \"neg_mean_squared_error\")\n"
   ]
  },
  {
   "cell_type": "code",
   "execution_count": 43,
   "id": "53957f53",
   "metadata": {},
   "outputs": [
    {
     "name": "stdout",
     "output_type": "stream",
     "text": [
      "Fitting 5 folds for each of 972 candidates, totalling 4860 fits\n"
     ]
    },
    {
     "name": "stderr",
     "output_type": "stream",
     "text": [
      "C:\\Python39\\lib\\site-packages\\sklearn\\model_selection\\_search.py:922: UserWarning: One or more of the test scores are non-finite: [           nan            nan            nan -2204.22332148\n",
      " -2225.69784472 -2236.14275887 -2204.22332148 -2225.69784472\n",
      " -2236.14275887            nan            nan            nan\n",
      " -2164.32136496 -2189.30291146 -2214.03820563 -2164.32136496\n",
      " -2189.30291146 -2214.03820563            nan            nan\n",
      "            nan -2211.74945746 -2246.46418787 -2274.92823821\n",
      " -2211.74945746 -2246.46418787 -2274.92823821            nan\n",
      "            nan            nan -2287.67352605 -2313.91138344\n",
      " -2321.39770105 -2287.67352605 -2313.91138344 -2321.39770105\n",
      "            nan            nan            nan -2238.81873854\n",
      " -2258.1798176  -2273.01111675 -2238.81873854 -2258.1798176\n",
      " -2273.01111675            nan            nan            nan\n",
      " -2173.99484018 -2180.82407864 -2227.49379313 -2173.99484018\n",
      " -2180.82407864 -2227.49379313            nan            nan\n",
      "            nan -2404.25304542 -2407.51121228 -2408.13583287\n",
      " -2404.25304542 -2407.51121228 -2408.13583287            nan\n",
      "            nan            nan -2377.17866074 -2375.48563124\n",
      " -2381.80277117 -2377.17866074 -2375.48563124 -2381.80277117\n",
      "            nan            nan            nan -2301.33464467\n",
      " -2300.03706037 -2306.20061038 -2301.33464467 -2300.03706037\n",
      " -2306.20061038            nan            nan            nan\n",
      " -2160.12503417 -2158.45524816 -2086.51039061 -2160.12503417\n",
      " -2158.45524816 -2086.51039061            nan            nan\n",
      "            nan -2085.30243744 -2039.07768229 -1897.07254617\n",
      " -2085.30243744 -2039.07768229 -1897.07254617            nan\n",
      "            nan            nan -1775.96244284 -1744.63621204\n",
      " -1769.60057174 -1775.96244284 -1744.63621204 -1769.60057174\n",
      "            nan            nan            nan -1850.10349989\n",
      " -1843.44982193 -1806.59732039 -1850.10349989 -1843.44982193\n",
      " -1806.59732039            nan            nan            nan\n",
      " -1820.46317532 -1742.78037321 -1746.46474543 -1820.46317532\n",
      " -1742.78037321 -1746.46474543            nan            nan\n",
      "            nan -1826.00446789 -1797.07131873 -1731.01062843\n",
      " -1826.00446789 -1797.07131873 -1731.01062843            nan\n",
      "            nan            nan -1932.28520293 -1900.02831264\n",
      " -1864.38183187 -1932.28520293 -1900.02831264 -1864.38183187\n",
      "            nan            nan            nan -1796.74120836\n",
      " -1767.49975473 -1777.50114285 -1796.74120836 -1767.49975473\n",
      " -1777.50114285            nan            nan            nan\n",
      " -1748.49825856 -1748.93996212 -1773.74915095 -1748.49825856\n",
      " -1748.93996212 -1773.74915095            nan            nan\n",
      "            nan -2336.57320716 -2339.59806954 -2344.64807156\n",
      " -2336.57320716 -2339.59806954 -2344.64807156            nan\n",
      "            nan            nan -2248.09783574 -2276.76595906\n",
      " -2303.95432245 -2248.09783574 -2276.76595906 -2303.95432245\n",
      "            nan            nan            nan -2184.9706945\n",
      " -2208.09082151 -2231.90308805 -2184.9706945  -2208.09082151\n",
      " -2231.90308805            nan            nan            nan\n",
      " -2406.27424793 -2412.88729434 -2419.26700637 -2406.27424793\n",
      " -2412.88729434 -2419.26700637            nan            nan\n",
      "            nan -2350.87050869 -2362.08913689 -2366.42827182\n",
      " -2350.87050869 -2362.08913689 -2366.42827182            nan\n",
      "            nan            nan -2303.52761669 -2308.10026173\n",
      " -2310.50669483 -2303.52761669 -2308.10026173 -2310.50669483\n",
      "            nan            nan            nan -2395.23451623\n",
      " -2397.13365913 -2397.50572753 -2395.23451623 -2397.13365913\n",
      " -2397.50572753            nan            nan            nan\n",
      " -2388.53304298 -2391.54254377 -2392.99602294 -2388.53304298\n",
      " -2391.54254377 -2392.99602294            nan            nan\n",
      "            nan -2246.91135457 -2255.66947929 -2261.93057716\n",
      " -2246.91135457 -2255.66947929 -2261.93057716            nan\n",
      "            nan            nan -1998.44662655 -1969.7110454\n",
      " -1970.77411204 -1998.44662655 -1969.7110454  -1970.77411204\n",
      "            nan            nan            nan -1810.04187683\n",
      " -1818.31581375 -1797.30379889 -1810.04187683 -1818.31581375\n",
      " -1797.30379889            nan            nan            nan\n",
      " -1704.92099558 -1706.06876508 -1686.67685637 -1704.92099558\n",
      " -1706.06876508 -1686.67685637            nan            nan\n",
      "            nan -1853.12517566 -1852.75445592 -1862.72452629\n",
      " -1853.12517566 -1852.75445592 -1862.72452629            nan\n",
      "            nan            nan -1631.41926936 -1647.00830207\n",
      " -1661.04027762 -1631.41926936 -1647.00830207 -1661.04027762\n",
      "            nan            nan            nan -1806.99508911\n",
      " -1832.93257487 -1812.73939656 -1806.99508911 -1832.93257487\n",
      " -1812.73939656            nan            nan            nan\n",
      " -1796.01150567 -1789.13924554 -1784.70279547 -1796.01150567\n",
      " -1789.13924554 -1784.70279547            nan            nan\n",
      "            nan -1641.38462266 -1646.50251018 -1647.78059612\n",
      " -1641.38462266 -1646.50251018 -1647.78059612            nan\n",
      "            nan            nan -1829.31002121 -1786.47971536\n",
      " -1790.1220042  -1829.31002121 -1786.47971536 -1790.1220042\n",
      "            nan            nan            nan -2430.16978777\n",
      " -2444.49934375 -2444.20080173 -2430.16978777 -2444.49934375\n",
      " -2444.20080173            nan            nan            nan\n",
      " -2308.57471805 -2322.93730605 -2329.86732521 -2308.57471805\n",
      " -2322.93730605 -2329.86732521            nan            nan\n",
      "            nan -2331.47806807 -2355.9367881  -2363.09521311\n",
      " -2331.47806807 -2355.9367881  -2363.09521311            nan\n",
      "            nan            nan -2374.62544713 -2380.04736027\n",
      " -2381.31326419 -2374.62544713 -2380.04736027 -2381.31326419\n",
      "            nan            nan            nan -2257.77528824\n",
      " -2262.20990203 -2264.47710798 -2257.77528824 -2262.20990203\n",
      " -2264.47710798            nan            nan            nan\n",
      " -2406.33544883 -2411.76982476 -2411.09646271 -2406.33544883\n",
      " -2411.76982476 -2411.09646271            nan            nan\n",
      "            nan -2364.82936755 -2366.6111074  -2367.0237394\n",
      " -2364.82936755 -2366.6111074  -2367.0237394             nan\n",
      "            nan            nan -2444.48046741 -2446.64418425\n",
      " -2447.43434025 -2444.48046741 -2446.64418425 -2447.43434025\n",
      "            nan            nan            nan -2358.12175282\n",
      " -2362.75541035 -2363.48421584 -2358.12175282 -2362.75541035\n",
      " -2363.48421584            nan            nan            nan\n",
      " -2001.92678561 -1989.88641734 -1994.34831712 -2001.92678561\n",
      " -1989.88641734 -1994.34831712            nan            nan\n",
      "            nan -1920.94070614 -1908.88784898 -1892.02455362\n",
      " -1920.94070614 -1908.88784898 -1892.02455362            nan\n",
      "            nan            nan -1973.19985545 -1829.4740237\n",
      " -1837.94434739 -1973.19985545 -1829.4740237  -1837.94434739\n",
      "            nan            nan            nan -1776.41548226\n",
      " -1783.95377736 -1786.4454613  -1776.41548226 -1783.95377736\n",
      " -1786.4454613             nan            nan            nan\n",
      " -1794.26088826 -1805.57528023 -1818.29861841 -1794.26088826\n",
      " -1805.57528023 -1818.29861841            nan            nan\n",
      "            nan -1709.61284653 -1692.76996582 -1647.34850869\n",
      " -1709.61284653 -1692.76996582 -1647.34850869            nan\n",
      "            nan            nan -2029.67379171 -2043.90180498\n",
      " -2032.89508776 -2029.67379171 -2043.90180498 -2032.89508776\n",
      "            nan            nan            nan -1873.69700714\n",
      " -1875.43976719 -1893.00351836 -1873.69700714 -1875.43976719\n",
      " -1893.00351836            nan            nan            nan\n",
      " -1648.68997229 -1640.81626383 -1651.12866762 -1648.68997229\n",
      " -1640.81626383 -1651.12866762            nan            nan\n",
      "            nan -2196.72763079 -2218.23932476 -2228.82923858\n",
      " -2196.72763079 -2218.23932476 -2228.82923858            nan\n",
      "            nan            nan -2171.31070264 -2197.70266932\n",
      " -2222.9336554  -2171.31070264 -2197.70266932 -2222.9336554\n",
      "            nan            nan            nan -2208.33707802\n",
      " -2243.12851046 -2270.91622167 -2208.33707802 -2243.12851046\n",
      " -2270.91622167            nan            nan            nan\n",
      " -2291.94975678 -2318.10398515 -2325.41262969 -2291.94975678\n",
      " -2318.10398515 -2325.41262969            nan            nan\n",
      "            nan -2241.47084632 -2261.74748105 -2277.77761686\n",
      " -2241.47084632 -2261.74748105 -2277.77761686            nan\n",
      "            nan            nan -2173.25023945 -2179.94008207\n",
      " -2226.23182958 -2173.25023945 -2179.94008207 -2226.23182958\n",
      "            nan            nan            nan -2395.03386387\n",
      " -2398.11468943 -2398.88225513 -2395.03386387 -2398.11468943\n",
      " -2398.88225513            nan            nan            nan\n",
      " -2382.90237913 -2381.73729159 -2387.97600795 -2382.90237913\n",
      " -2381.73729159 -2387.97600795            nan            nan\n",
      "            nan -2300.41590785 -2299.19564346 -2305.16447281\n",
      " -2300.41590785 -2299.19564346 -2305.16447281            nan\n",
      "            nan            nan -2157.53940675 -2138.00627477\n",
      " -2014.60036862 -2157.53940675 -2138.00627477 -2014.60036862\n",
      "            nan            nan            nan -2085.82072627\n",
      " -2046.03798403 -1900.2045551  -2085.82072627 -2046.03798403\n",
      " -1900.2045551             nan            nan            nan\n",
      " -1781.36953181 -1743.68981249 -1769.22550768 -1781.36953181\n",
      " -1743.68981249 -1769.22550768            nan            nan\n",
      "            nan -1850.10349989 -1838.34807234 -1801.36926439\n",
      " -1850.10349989 -1838.34807234 -1801.36926439            nan\n",
      "            nan            nan -1836.29565815 -1822.28644052\n",
      " -1745.28961036 -1836.29565815 -1822.28644052 -1745.28961036\n",
      "            nan            nan            nan -1812.85068139\n",
      " -1779.08819508 -1702.33159645 -1812.85068139 -1779.08819508\n",
      " -1702.33159645            nan            nan            nan\n",
      " -1931.68802624 -1901.68205675 -1868.10381195 -1931.68802624\n",
      " -1901.68205675 -1868.10381195            nan            nan\n",
      "            nan -1783.23052204 -1730.74622529 -1763.20142277\n",
      " -1783.23052204 -1730.74622529 -1763.20142277            nan\n",
      "            nan            nan -1727.91003062 -1721.47455348\n",
      " -1719.51044099 -1727.91003062 -1721.47455348 -1719.51044099\n",
      "            nan            nan            nan -2334.25820889\n",
      " -2337.54915425 -2342.25896745 -2334.25820889 -2337.54915425\n",
      " -2342.25896745            nan            nan            nan\n",
      " -2247.56569919 -2276.19442838 -2303.43665356 -2247.56569919\n",
      " -2276.19442838 -2303.43665356            nan            nan\n",
      "            nan -2174.95759286 -2197.74128906 -2221.11277747\n",
      " -2174.95759286 -2197.74128906 -2221.11277747            nan\n",
      "            nan            nan -2393.62329167 -2400.26329742\n",
      " -2406.59250649 -2393.62329167 -2400.26329742 -2406.59250649\n",
      "            nan            nan            nan -2359.07440468\n",
      " -2371.39339338 -2376.654373   -2359.07440468 -2371.39339338\n",
      " -2376.654373              nan            nan            nan\n",
      " -2304.12725964 -2308.71499277 -2310.82254151 -2304.12725964\n",
      " -2308.71499277 -2310.82254151            nan            nan\n",
      "            nan -2394.1727835  -2396.24146167 -2396.45757863\n",
      " -2394.1727835  -2396.24146167 -2396.45757863            nan\n",
      "            nan            nan -2387.38211739 -2390.40986227\n",
      " -2391.82743298 -2387.38211739 -2390.40986227 -2391.82743298\n",
      "            nan            nan            nan -2243.92547601\n",
      " -2252.62959516 -2258.89909909 -2243.92547601 -2252.62959516\n",
      " -2258.89909909            nan            nan            nan\n",
      " -1991.61625079 -1963.84757496 -1953.91394667 -1991.61625079\n",
      " -1963.84757496 -1953.91394667            nan            nan\n",
      "            nan -1811.46308516 -1818.28356194 -1790.6905536\n",
      " -1811.46308516 -1818.28356194 -1790.6905536             nan\n",
      "            nan            nan -1704.92099558 -1706.06876508\n",
      " -1677.90917135 -1704.92099558 -1706.06876508 -1677.90917135\n",
      "            nan            nan            nan -1906.98903427\n",
      " -1885.47887444 -1892.50427858 -1906.98903427 -1885.47887444\n",
      " -1892.50427858            nan            nan            nan\n",
      " -1631.07100927 -1663.90480194 -1685.32878998 -1631.07100927\n",
      " -1663.90480194 -1685.32878998            nan            nan\n",
      "            nan -1810.12816502 -1805.78913049 -1754.92167589\n",
      " -1810.12816502 -1805.78913049 -1754.92167589            nan\n",
      "            nan            nan -1770.84039584 -1778.19745028\n",
      " -1788.0004505  -1770.84039584 -1778.19745028 -1788.0004505\n",
      "            nan            nan            nan -1683.76372003\n",
      " -1696.81457868 -1696.84650932 -1683.76372003 -1696.81457868\n",
      " -1696.84650932            nan            nan            nan\n",
      " -1792.75651527 -1798.3274025  -1782.00816176 -1792.75651527\n",
      " -1798.3274025  -1782.00816176            nan            nan\n",
      "            nan -2424.64147923 -2439.01055065 -2438.87087102\n",
      " -2424.64147923 -2439.01055065 -2438.87087102            nan\n",
      "            nan            nan -2327.12599142 -2341.56545948\n",
      " -2348.49753457 -2327.12599142 -2341.56545948 -2348.49753457\n",
      "            nan            nan            nan -2328.52493044\n",
      " -2351.98725334 -2359.05141946 -2328.52493044 -2351.98725334\n",
      " -2359.05141946            nan            nan            nan\n",
      " -2370.15542979 -2375.56326486 -2376.80641644 -2370.15542979\n",
      " -2375.56326486 -2376.80641644            nan            nan\n",
      "            nan -2277.52942423 -2283.03761704 -2285.29031518\n",
      " -2277.52942423 -2283.03761704 -2285.29031518            nan\n",
      "            nan            nan -2401.36857393 -2406.5958923\n",
      " -2406.02722724 -2401.36857393 -2406.5958923  -2406.02722724\n",
      "            nan            nan            nan -2346.20855981\n",
      " -2347.990384   -2348.41047742 -2346.20855981 -2347.990384\n",
      " -2348.41047742            nan            nan            nan\n",
      " -2455.63236212 -2457.66870273 -2458.44592808 -2455.63236212\n",
      " -2457.66870273 -2458.44592808            nan            nan\n",
      "            nan -2356.28898603 -2360.76705035 -2361.42717423\n",
      " -2356.28898603 -2360.76705035 -2361.42717423            nan\n",
      "            nan            nan -1953.93123974 -1948.56727487\n",
      " -1961.39098552 -1953.93123974 -1948.56727487 -1961.39098552\n",
      "            nan            nan            nan -1920.94070614\n",
      " -1908.88784898 -1891.97836282 -1920.94070614 -1908.88784898\n",
      " -1891.97836282            nan            nan            nan\n",
      " -1986.18582897 -1842.38038079 -1771.7886934  -1986.18582897\n",
      " -1842.38038079 -1771.7886934             nan            nan\n",
      "            nan -1776.41548226 -1783.95377736 -1786.53216428\n",
      " -1776.41548226 -1783.95377736 -1786.53216428            nan\n",
      "            nan            nan -1763.26926732 -1777.49415587\n",
      " -1781.1828356  -1763.26926732 -1777.49415587 -1781.1828356\n",
      "            nan            nan            nan -1740.79029271\n",
      " -1746.0459081  -1745.12732272 -1740.79029271 -1746.0459081\n",
      " -1745.12732272            nan            nan            nan\n",
      " -2030.92772109 -2044.15308359 -2019.20471647 -2030.92772109\n",
      " -2044.15308359 -2019.20471647            nan            nan\n",
      "            nan -1845.34179071 -1843.64521997 -1858.44591588\n",
      " -1845.34179071 -1843.64521997 -1858.44591588            nan\n",
      "            nan            nan -1671.20867582 -1659.72446844\n",
      " -1635.65478794 -1671.20867582 -1659.72446844 -1635.65478794]\n",
      "  warnings.warn(\n"
     ]
    },
    {
     "data": {
      "text/plain": [
       "GridSearchCV(cv=5, estimator=GradientBoostingRegressor(random_state=0),\n",
       "             n_jobs=-1,\n",
       "             param_grid={'criterion': ['friedman_mse', 'mse'],\n",
       "                         'learning_rate': [0.05, 0.1, 0.15],\n",
       "                         'loss': ['ls', 'lad'], 'max_depth': [4, 5, 6],\n",
       "                         'min_samples_leaf': [2, 3, 4],\n",
       "                         'min_samples_split': [1, 2, 3],\n",
       "                         'n_estimators': [150, 200, 300]},\n",
       "             scoring='neg_mean_squared_error', verbose=2)"
      ]
     },
     "execution_count": 43,
     "metadata": {},
     "output_type": "execute_result"
    }
   ],
   "source": [
    "regressor_grid.fit (x,y)"
   ]
  },
  {
   "cell_type": "code",
   "execution_count": 44,
   "id": "2bf443f7",
   "metadata": {},
   "outputs": [
    {
     "data": {
      "text/plain": [
       "{'criterion': 'mse',\n",
       " 'learning_rate': 0.1,\n",
       " 'loss': 'lad',\n",
       " 'max_depth': 5,\n",
       " 'min_samples_leaf': 3,\n",
       " 'min_samples_split': 2,\n",
       " 'n_estimators': 150}"
      ]
     },
     "execution_count": 44,
     "metadata": {},
     "output_type": "execute_result"
    }
   ],
   "source": [
    "regressor_grid.best_params_"
   ]
  },
  {
   "cell_type": "code",
   "execution_count": 61,
   "id": "9c868eca",
   "metadata": {},
   "outputs": [
    {
     "data": {
      "text/plain": [
       "-1631.0710092729037"
      ]
     },
     "execution_count": 61,
     "metadata": {},
     "output_type": "execute_result"
    }
   ],
   "source": [
    "regressor_grid.best_score_"
   ]
  },
  {
   "cell_type": "code",
   "execution_count": 68,
   "id": "abca86f3",
   "metadata": {},
   "outputs": [],
   "source": [
    " # manual search engine\n",
    "regressor1 = GradientBoostingRegressor(criterion = \"mse\", learning_rate = 0.1, loss = \"lad\",\n",
    "                          max_depth = 5, min_samples_leaf = 3, min_samples_split = 2,\n",
    "                            n_estimators = 150, random_state=0 )"
   ]
  },
  {
   "cell_type": "code",
   "execution_count": 69,
   "id": "84e17cb5",
   "metadata": {},
   "outputs": [
    {
     "data": {
      "text/plain": [
       "GradientBoostingRegressor(criterion='mse', loss='lad', max_depth=5,\n",
       "                          min_samples_leaf=3, n_estimators=150, random_state=0)"
      ]
     },
     "execution_count": 69,
     "metadata": {},
     "output_type": "execute_result"
    }
   ],
   "source": [
    "regressor1.fit(x_train, y_train)"
   ]
  },
  {
   "cell_type": "code",
   "execution_count": 70,
   "id": "c3359f1f",
   "metadata": {},
   "outputs": [],
   "source": [
    "y_pred1 = regressor1.predict(x_test)"
   ]
  },
  {
   "cell_type": "code",
   "execution_count": 71,
   "id": "73eae9ad",
   "metadata": {},
   "outputs": [],
   "source": [
    "y_pred_train1 = regressor1.predict(x_train)"
   ]
  },
  {
   "cell_type": "code",
   "execution_count": 72,
   "id": "2cb5f1df",
   "metadata": {},
   "outputs": [],
   "source": [
    "y_pred_val1 = regressor1.predict(x_val)"
   ]
  },
  {
   "cell_type": "code",
   "execution_count": 73,
   "id": "49e0de53",
   "metadata": {},
   "outputs": [],
   "source": [
    "y_pred_extest1 = regressor1.predict(x_extest)"
   ]
  },
  {
   "cell_type": "code",
   "execution_count": 74,
   "id": "97d0dacf",
   "metadata": {},
   "outputs": [],
   "source": [
    "y_pred_model1 = regressor1.predict(x_model)"
   ]
  },
  {
   "cell_type": "code",
   "execution_count": 75,
   "id": "984b89c3",
   "metadata": {},
   "outputs": [],
   "source": [
    "  # model evaluation for testing set\n",
    "  mae1 = metrics.mean_absolute_error(y_test, y_pred1)\n",
    "  mse1 = metrics.mean_squared_error(y_test, y_pred1)\n",
    "  r21 = metrics.r2_score(y_test, y_pred1)"
   ]
  },
  {
   "cell_type": "code",
   "execution_count": 76,
   "id": "ece98128",
   "metadata": {
    "scrolled": true
   },
   "outputs": [
    {
     "name": "stdout",
     "output_type": "stream",
     "text": [
      "The model performance for testing set\n",
      "--------------------------------------\n",
      "MAE is 16.396614889243313\n",
      "MSE is 704.4230216162632\n",
      "R2 score is 0.516841157626702\n"
     ]
    }
   ],
   "source": [
    "print(\"The model performance for testing set\")\n",
    "print(\"--------------------------------------\")\n",
    "print('MAE is {}'.format(mae1))\n",
    "print('MSE is {}'.format(mse1))\n",
    "print('R2 score is {}'.format(r21))"
   ]
  },
  {
   "cell_type": "code",
   "execution_count": 77,
   "id": "a048ec27",
   "metadata": {},
   "outputs": [],
   "source": [
    "  # model evaluation for training set\n",
    "maeTrain1 = metrics.mean_absolute_error(y_train, y_pred_train1)\n",
    "mseTrain1 = metrics.mean_squared_error(y_train, y_pred_train1)\n",
    "r2Train1 = metrics.r2_score(y_train, y_pred_train1)"
   ]
  },
  {
   "cell_type": "code",
   "execution_count": 78,
   "id": "17581e40",
   "metadata": {},
   "outputs": [
    {
     "name": "stdout",
     "output_type": "stream",
     "text": [
      "The model performance for training set\n",
      "--------------------------------------\n",
      "MAE is 4.884987199304926\n",
      "MSE is 134.70600983120872\n",
      "R2 score is 0.9487899432780524\n"
     ]
    }
   ],
   "source": [
    "print(\"The model performance for training set\")\n",
    "print(\"--------------------------------------\")\n",
    "print('MAE is {}'.format(maeTrain1))\n",
    "print('MSE is {}'.format(mseTrain1))\n",
    "print('R2 score is {}'.format(r2Train1))"
   ]
  },
  {
   "cell_type": "code",
   "execution_count": 79,
   "id": "03dc932d",
   "metadata": {},
   "outputs": [],
   "source": [
    "cvscoretrain1 = (cross_val_score(regressor1,x_train,y_train.ravel(),cv=5).mean())"
   ]
  },
  {
   "cell_type": "code",
   "execution_count": 80,
   "id": "d1e20ab6",
   "metadata": {},
   "outputs": [
    {
     "name": "stdout",
     "output_type": "stream",
     "text": [
      "The CV score for training set\n",
      "--------------------------------------\n",
      "[0.23377748 0.34519911 0.50343776 0.75085777 0.51862517]\n",
      "Q2 is 0.47037945760692657\n"
     ]
    }
   ],
   "source": [
    "print(\"The CV score for training set\")\n",
    "print(\"--------------------------------------\")\n",
    "print (cross_val_score(regressor1,x_train,y_train.ravel(),cv=5))\n",
    "print('Q2 is {}'.format(cvscoretrain1))"
   ]
  },
  {
   "cell_type": "code",
   "execution_count": 81,
   "id": "0d4aa1cd",
   "metadata": {},
   "outputs": [],
   "source": [
    "## model evaluation for extest set\n",
    "maeex1 = metrics.mean_absolute_error(y_extest, y_pred_extest1)\n",
    "mseex1 = metrics.mean_squared_error(y_extest, y_pred_extest1)\n",
    "r2ex1 = metrics.r2_score(y_extest, y_pred_extest1)"
   ]
  },
  {
   "cell_type": "code",
   "execution_count": 82,
   "id": "722b5d64",
   "metadata": {},
   "outputs": [
    {
     "name": "stdout",
     "output_type": "stream",
     "text": [
      "The model performance for extest set\n",
      "--------------------------------------\n",
      "MAE is 22.283648968062636\n",
      "MSE is 1148.993934759279\n",
      "R2 score is 0.5975806401227395\n"
     ]
    }
   ],
   "source": [
    "print(\"The model performance for extest set\")\n",
    "print(\"--------------------------------------\")\n",
    "print('MAE is {}'.format(maeex1))\n",
    "print('MSE is {}'.format(mseex1))\n",
    "print('R2 score is {}'.format(r2ex1))"
   ]
  },
  {
   "cell_type": "code",
   "execution_count": 83,
   "id": "558c999e",
   "metadata": {},
   "outputs": [],
   "source": [
    "## model evaluation for val set\n",
    "maevl1 = metrics.mean_absolute_error(y_val, y_pred_val1)\n",
    "msevl1 = metrics.mean_squared_error(y_val, y_pred_val1)\n",
    "r2vl1 = metrics.r2_score(y_val, y_pred_val1)"
   ]
  },
  {
   "cell_type": "code",
   "execution_count": 84,
   "id": "4faca6f9",
   "metadata": {},
   "outputs": [
    {
     "name": "stdout",
     "output_type": "stream",
     "text": [
      "The model performance for val set\n",
      "--------------------------------------\n",
      "MAE is 19.687832093019768\n",
      "MSE is 855.5491031335837\n",
      "R2 score is 0.7463171675130214\n"
     ]
    }
   ],
   "source": [
    "print(\"The model performance for val set\")\n",
    "print(\"--------------------------------------\")\n",
    "print('MAE is {}'.format(maevl1))\n",
    "print('MSE is {}'.format(msevl1))\n",
    "print('R2 score is {}'.format(r2vl1))"
   ]
  },
  {
   "cell_type": "code",
   "execution_count": 85,
   "id": "9496b0ad",
   "metadata": {},
   "outputs": [],
   "source": [
    "## model evaluation for model set\n",
    "maemod1 = metrics.mean_absolute_error(y_model, y_pred_model1)\n",
    "msemod1 = metrics.mean_squared_error(y_model, y_pred_model1)\n",
    "r2mod1 = metrics.r2_score(y_model, y_pred_model1)"
   ]
  },
  {
   "cell_type": "code",
   "execution_count": 86,
   "id": "54672cf9",
   "metadata": {},
   "outputs": [
    {
     "name": "stdout",
     "output_type": "stream",
     "text": [
      "The model performance for model set\n",
      "--------------------------------------\n",
      "MAE is 8.853149616827485\n",
      "MSE is 329.3414170220389\n",
      "R2 score is 0.8729654237861997\n"
     ]
    }
   ],
   "source": [
    "print(\"The model performance for model set\")\n",
    "print(\"--------------------------------------\")\n",
    "print('MAE is {}'.format(maemod1))\n",
    "print('MSE is {}'.format(msemod1))\n",
    "print('R2 score is {}'.format(r2mod1))"
   ]
  },
  {
   "cell_type": "code",
   "execution_count": 87,
   "id": "b1ebb3e1",
   "metadata": {},
   "outputs": [],
   "source": [
    "# cv for modeling set \n",
    "cvscoremod1 = (cross_val_score(regressor1,x_model,y_model.ravel(),cv=5).mean())"
   ]
  },
  {
   "cell_type": "code",
   "execution_count": 88,
   "id": "7463f019",
   "metadata": {},
   "outputs": [
    {
     "name": "stdout",
     "output_type": "stream",
     "text": [
      "The CV score for model set\n",
      "--------------------------------------\n",
      "[0.72544515 0.42267191 0.56496837 0.51122386 0.76314523]\n",
      "Q2 is 0.5974909028895093\n"
     ]
    }
   ],
   "source": [
    "print(\"The CV score for model set\")\n",
    "print(\"--------------------------------------\")\n",
    "print (cross_val_score(regressor1,x_model,y_model.ravel(),cv=5))\n",
    "print('Q2 is {}'.format(cvscoremod1))"
   ]
  },
  {
   "cell_type": "code",
   "execution_count": null,
   "id": "913506bc",
   "metadata": {},
   "outputs": [],
   "source": []
  }
 ],
 "metadata": {
  "kernelspec": {
   "display_name": "Python 3",
   "language": "python",
   "name": "python3"
  },
  "language_info": {
   "codemirror_mode": {
    "name": "ipython",
    "version": 3
   },
   "file_extension": ".py",
   "mimetype": "text/x-python",
   "name": "python",
   "nbconvert_exporter": "python",
   "pygments_lexer": "ipython3",
   "version": "3.9.4"
  }
 },
 "nbformat": 4,
 "nbformat_minor": 5
}
