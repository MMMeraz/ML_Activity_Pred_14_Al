{
 "cells": [
  {
   "cell_type": "code",
   "execution_count": 1,
   "id": "6d6f1d90",
   "metadata": {},
   "outputs": [],
   "source": [
    "# Import Section\n",
    "import csv\n",
    "import codecs\n",
    "import sys\n",
    "import io\n",
    "import numpy as np\n",
    "import pandas as pd\n",
    "import scipy as sp\n",
    "\n",
    "# For Regression\n",
    "from sklearn.model_selection import train_test_split\n",
    "from sklearn.model_selection import cross_val_score\n",
    "from statistics import mean\n",
    "\n",
    "from sklearn import svm\n",
    "from sklearn.linear_model import LinearRegression\n",
    "from sklearn.linear_model import SGDRegressor\n",
    "from sklearn.neighbors import KNeighborsRegressor\n",
    "from sklearn.neural_network import MLPRegressor\n",
    "from sklearn.ensemble import AdaBoostRegressor\n",
    "from sklearn.ensemble import GradientBoostingRegressor\n",
    "from sklearn import tree\n",
    "from sklearn import linear_model\n",
    "from sklearn.linear_model import ElasticNet\n",
    "from sklearn.kernel_ridge import KernelRidge\n",
    "\n",
    "# Python script for confusion matrix creation. \n",
    "from sklearn.metrics import *\n",
    "from numpy import mean\n",
    "from numpy import std\n",
    "from sklearn import metrics"
   ]
  },
  {
   "cell_type": "code",
   "execution_count": 2,
   "id": "69ae8fb6",
   "metadata": {},
   "outputs": [],
   "source": [
    "dataset=pd.read_excel(\"DES_60-49.xlsx\",index_col=0)"
   ]
  },
  {
   "cell_type": "code",
   "execution_count": 3,
   "id": "ec007b03",
   "metadata": {},
   "outputs": [
    {
     "data": {
      "text/plain": [
       "(1056, 50)"
      ]
     },
     "execution_count": 3,
     "metadata": {},
     "output_type": "execute_result"
    }
   ],
   "source": [
    "dataset.shape"
   ]
  },
  {
   "cell_type": "code",
   "execution_count": 4,
   "id": "6540ffea",
   "metadata": {},
   "outputs": [
    {
     "data": {
      "text/plain": [
       "apol                                                              0\n",
       "nF                                                                0\n",
       "AATS5i                                                            0\n",
       "AATS8i                                                            0\n",
       "ATSC4v                                                            0\n",
       "ATSC3e                                                            0\n",
       "ATSC6e                                                            0\n",
       "AATSC1i                                                           0\n",
       "GATS6c                                                            0\n",
       "GATS7c                                                            0\n",
       "IC1                                                               0\n",
       "MDEC-12                                                           0\n",
       "MDEC-23                                                           0\n",
       "MLFER_S                                                           0\n",
       "MLFER_E                                                           0\n",
       "n6HeteroRing                                                      0\n",
       "nF11HeteroRing                                                    0\n",
       "LipinskiFailures                                                  0\n",
       "JGI6                                                              0\n",
       "VR1_D                                                             0\n",
       "Relative number of C  atoms                                       0\n",
       "Relative number of Cl atoms                                       0\n",
       "Relative molecular weight                                         0\n",
       "Wiener index                                                      0\n",
       "Kier&Hall index (order 3)                                         0\n",
       "Min partial charge (Qmin)                                         0\n",
       "DPSA-1 Difference in CPSAs (PPSA1-PNSA1) [Zefirov's PC]           0\n",
       "PPSA-3 Atomic charge weighted PPSA [Zefirov's PC]                 0\n",
       "PNSA-3 Atomic charge weighted PNSA [Zefirov's PC]                 0\n",
       "FNSA-3 Fractional PNSA (PNSA-3/TMSA) [Zefirov's PC]               0\n",
       "RNCG Relative negative charge (QMNEG/QTMINUS) [Zefirov's PC]      0\n",
       "RNCS Relative negative charged SA (SAMNEG*RNCG) [Zefirov's PC]    0\n",
       "HA dependent HDSA-1 [Zefirov's PC]                                0\n",
       "HASA-2 [Zefirov's PC]                                             0\n",
       "LUMO+1 energy                                                     0\n",
       "Min net atomic charge for a N atom                                0\n",
       "Tot hybridization comp. of the molecular dipole                   0\n",
       "HA dependent HDSA-1 [Quantum-Chemical PC]                         0\n",
       "X%                                                                0\n",
       "D/Dtr09                                                           0\n",
       "J_D/Dt                                                            0\n",
       "GATS1e                                                            0\n",
       "GATS4p                                                            0\n",
       "Chi0_EA(dm)                                                       0\n",
       "Eig03_AEA(ed)                                                     0\n",
       "CATS2D_04_AA                                                      0\n",
       "CATS2D_04_PN                                                      0\n",
       "F04[C-X]                                                          0\n",
       "s3_phSize                                                         0\n",
       "Act                                                               0\n",
       "dtype: int64"
      ]
     },
     "execution_count": 4,
     "metadata": {},
     "output_type": "execute_result"
    }
   ],
   "source": [
    "# to check the null values \n",
    "dataset.isnull().sum()"
   ]
  },
  {
   "cell_type": "code",
   "execution_count": 5,
   "id": "38fcc30c",
   "metadata": {},
   "outputs": [],
   "source": [
    "x = dataset.drop(['Act'],axis=1).astype (float)\n",
    "y = dataset['Act']"
   ]
  },
  {
   "cell_type": "code",
   "execution_count": 6,
   "id": "c129b673",
   "metadata": {},
   "outputs": [
    {
     "data": {
      "text/plain": [
       "(1056, 49)"
      ]
     },
     "execution_count": 6,
     "metadata": {},
     "output_type": "execute_result"
    }
   ],
   "source": [
    "x.shape"
   ]
  },
  {
   "cell_type": "code",
   "execution_count": 7,
   "id": "33422bc4",
   "metadata": {},
   "outputs": [
    {
     "data": {
      "text/plain": [
       "Name\n",
       "1Co      85.3\n",
       "2Co      98.7\n",
       "3Co      77.3\n",
       "4Co      76.0\n",
       "5Co      89.3\n",
       "        ...  \n",
       "1052     37.0\n",
       "1053    102.0\n",
       "1054     83.2\n",
       "1055     70.1\n",
       "1056    109.0\n",
       "Name: Act, Length: 1056, dtype: float64"
      ]
     },
     "execution_count": 7,
     "metadata": {},
     "output_type": "execute_result"
    }
   ],
   "source": [
    "y"
   ]
  },
  {
   "cell_type": "code",
   "execution_count": 8,
   "id": "174dcd4e",
   "metadata": {},
   "outputs": [],
   "source": [
    "x_model, x_extest, y_model, y_extest = train_test_split(x,y,test_size=.2, random_state = 7000, shuffle=True)"
   ]
  },
  {
   "cell_type": "code",
   "execution_count": 9,
   "id": "5403d6e9",
   "metadata": {},
   "outputs": [
    {
     "data": {
      "text/plain": [
       "(844, 49)"
      ]
     },
     "execution_count": 9,
     "metadata": {},
     "output_type": "execute_result"
    }
   ],
   "source": [
    "x_model.shape"
   ]
  },
  {
   "cell_type": "code",
   "execution_count": 10,
   "id": "3e08e96b",
   "metadata": {},
   "outputs": [],
   "source": [
    "x_train, x_test2, y_train, y_test2 = train_test_split(x_model,y_model,test_size=.3, random_state = 7000, shuffle=True)"
   ]
  },
  {
   "cell_type": "code",
   "execution_count": 11,
   "id": "d8ed970c",
   "metadata": {},
   "outputs": [
    {
     "data": {
      "text/plain": [
       "(590, 49)"
      ]
     },
     "execution_count": 11,
     "metadata": {},
     "output_type": "execute_result"
    }
   ],
   "source": [
    "x_train.shape"
   ]
  },
  {
   "cell_type": "code",
   "execution_count": 12,
   "id": "33daae20",
   "metadata": {},
   "outputs": [
    {
     "data": {
      "text/plain": [
       "(254, 49)"
      ]
     },
     "execution_count": 12,
     "metadata": {},
     "output_type": "execute_result"
    }
   ],
   "source": [
    "x_test2.shape"
   ]
  },
  {
   "cell_type": "code",
   "execution_count": 13,
   "id": "f09a2627",
   "metadata": {},
   "outputs": [],
   "source": [
    "x_val, x_test, y_val, y_test = train_test_split(x_test2,y_test2,test_size=.5, random_state = 7000, shuffle=True)"
   ]
  },
  {
   "cell_type": "code",
   "execution_count": 14,
   "id": "58d9dc52",
   "metadata": {},
   "outputs": [
    {
     "data": {
      "text/plain": [
       "(127, 49)"
      ]
     },
     "execution_count": 14,
     "metadata": {},
     "output_type": "execute_result"
    }
   ],
   "source": [
    "x_test.shape"
   ]
  },
  {
   "cell_type": "code",
   "execution_count": 15,
   "id": "95e85f0f",
   "metadata": {},
   "outputs": [
    {
     "data": {
      "text/plain": [
       "(127, 49)"
      ]
     },
     "execution_count": 15,
     "metadata": {},
     "output_type": "execute_result"
    }
   ],
   "source": [
    "x_val.shape"
   ]
  },
  {
   "cell_type": "code",
   "execution_count": 16,
   "id": "e0c1893a",
   "metadata": {},
   "outputs": [],
   "source": [
    "# scealing is required for indepandent variables at ANN\n",
    "from sklearn.preprocessing import StandardScaler"
   ]
  },
  {
   "cell_type": "code",
   "execution_count": 17,
   "id": "70181004",
   "metadata": {},
   "outputs": [],
   "source": [
    "scale = StandardScaler()"
   ]
  },
  {
   "cell_type": "code",
   "execution_count": 18,
   "id": "b433f2f9",
   "metadata": {},
   "outputs": [],
   "source": [
    "X = scale.fit_transform(x)\n",
    "X_train = scale.fit_transform(x_train)\n",
    "X_test = scale.fit_transform(x_test)\n",
    "X_val = scale.fit_transform(x_val)\n",
    "X_model = scale.fit_transform(x_model)\n",
    "X_extest = scale.fit_transform(x_extest)"
   ]
  },
  {
   "cell_type": "code",
   "execution_count": 19,
   "id": "99a01ad3",
   "metadata": {},
   "outputs": [],
   "source": [
    "\n",
    "  #regressor = svm.SVR()\n",
    "  #regressor = LinearRegression()\n",
    "  #regressor = SGDRegressor(max_iter=5000, tol=1e-3)\n",
    "  #regressor = KNeighborsRegressor(n_neighbors=5)\n",
    "  regressor = MLPRegressor(learning_rate = \"invscaling\", activation = \"relu\",\n",
    "          solver =\"sgd\",hidden_layer_sizes=100, random_state=1, max_iter=1000000)\n",
    "  #regressor = AdaBoostRegressor(random_state=0, n_estimators=100)\n",
    "  #regressor = GradientBoostingRegressor(random_state=0)\n",
    "  #regressor = tree.DecisionTreeRegressor()\n",
    "  #regressor = linear_model.Ridge(alpha=.5)\n",
    "  #regressor = linear_model.Lasso(alpha=0.1)\n",
    "  #regressor = ElasticNet(random_state=0)\n",
    "  #regressor = KernelRidge(alpha=1.0)\n"
   ]
  },
  {
   "cell_type": "code",
   "execution_count": 20,
   "id": "4e94da1a",
   "metadata": {},
   "outputs": [
    {
     "data": {
      "text/plain": [
       "MLPRegressor(hidden_layer_sizes=100, learning_rate='invscaling',\n",
       "             max_iter=1000000, random_state=1, solver='sgd')"
      ]
     },
     "execution_count": 20,
     "metadata": {},
     "output_type": "execute_result"
    }
   ],
   "source": [
    " regressor.fit(X_train, y_train)"
   ]
  },
  {
   "cell_type": "code",
   "execution_count": 21,
   "id": "153a413c",
   "metadata": {},
   "outputs": [],
   "source": [
    "# compute the testing accuracy\n",
    "y_pred = regressor.predict(X_test)"
   ]
  },
  {
   "cell_type": "code",
   "execution_count": 22,
   "id": "ef2bd5a0",
   "metadata": {},
   "outputs": [],
   "source": [
    "y_pred_train = regressor.predict(X_train)"
   ]
  },
  {
   "cell_type": "code",
   "execution_count": 23,
   "id": "51b8dbf2",
   "metadata": {},
   "outputs": [
    {
     "data": {
      "text/plain": [
       "(590,)"
      ]
     },
     "execution_count": 23,
     "metadata": {},
     "output_type": "execute_result"
    }
   ],
   "source": [
    "y_pred_train.shape"
   ]
  },
  {
   "cell_type": "code",
   "execution_count": 24,
   "id": "8545bb86",
   "metadata": {},
   "outputs": [],
   "source": [
    "y_pred_val = regressor.predict(X_val)"
   ]
  },
  {
   "cell_type": "code",
   "execution_count": 25,
   "id": "e10de018",
   "metadata": {},
   "outputs": [],
   "source": [
    "y_pred_extest = regressor.predict(X_extest)"
   ]
  },
  {
   "cell_type": "code",
   "execution_count": 26,
   "id": "90d4d82c",
   "metadata": {},
   "outputs": [],
   "source": [
    "y_pred_model = regressor.predict(X_model)"
   ]
  },
  {
   "cell_type": "code",
   "execution_count": 27,
   "id": "e6ec491d",
   "metadata": {},
   "outputs": [],
   "source": [
    "y_pred_all = regressor.predict(X)"
   ]
  },
  {
   "cell_type": "code",
   "execution_count": 28,
   "id": "bd299f88",
   "metadata": {},
   "outputs": [
    {
     "name": "stdout",
     "output_type": "stream",
     "text": [
      "\n",
      "\n",
      "overall Performance: \n"
     ]
    }
   ],
   "source": [
    "  print(\"\\n\")\n",
    "  print(\"overall Performance: \", )"
   ]
  },
  {
   "cell_type": "code",
   "execution_count": 29,
   "id": "08e1d8cc",
   "metadata": {},
   "outputs": [],
   "source": [
    "  # model evaluation for testing set\n",
    "  mae = metrics.mean_absolute_error(y_test, y_pred)\n",
    "  mse = metrics.mean_squared_error(y_test, y_pred)\n",
    "  r2 = metrics.r2_score(y_test, y_pred)"
   ]
  },
  {
   "cell_type": "code",
   "execution_count": 30,
   "id": "109a011e",
   "metadata": {},
   "outputs": [
    {
     "name": "stdout",
     "output_type": "stream",
     "text": [
      "The model performance for testing set\n",
      "--------------------------------------\n",
      "MAE is 25.66074895532785\n",
      "MSE is 1493.3127814230631\n",
      "R2 score is 0.4413879004823834\n"
     ]
    }
   ],
   "source": [
    "print(\"The model performance for testing set\")\n",
    "print(\"--------------------------------------\")\n",
    "print('MAE is {}'.format(mae))\n",
    "print('MSE is {}'.format(mse))\n",
    "print('R2 score is {}'.format(r2))"
   ]
  },
  {
   "cell_type": "code",
   "execution_count": 31,
   "id": "6eb42d35",
   "metadata": {},
   "outputs": [],
   "source": [
    "  # model evaluation for training set\n",
    "maeTrain = metrics.mean_absolute_error(y_train, y_pred_train)\n",
    "mseTrain = metrics.mean_squared_error(y_train, y_pred_train)\n",
    "r2Train = metrics.r2_score(y_train, y_pred_train)"
   ]
  },
  {
   "cell_type": "code",
   "execution_count": 32,
   "id": "595c5093",
   "metadata": {},
   "outputs": [
    {
     "name": "stdout",
     "output_type": "stream",
     "text": [
      "The model performance for training set\n",
      "--------------------------------------\n",
      "MAE is 10.984603049112799\n",
      "MSE is 262.40912730910014\n",
      "R2 score is 0.888315284962529\n"
     ]
    }
   ],
   "source": [
    "print(\"The model performance for training set\")\n",
    "print(\"--------------------------------------\")\n",
    "print('MAE is {}'.format(maeTrain))\n",
    "print('MSE is {}'.format(mseTrain))\n",
    "print('R2 score is {}'.format(r2Train))"
   ]
  },
  {
   "cell_type": "code",
   "execution_count": 33,
   "id": "759c0e9b",
   "metadata": {},
   "outputs": [],
   "source": [
    "cvscoretrain = (-cross_val_score(regressor,X_train,y_train.ravel(),cv=5).mean())"
   ]
  },
  {
   "cell_type": "code",
   "execution_count": null,
   "id": "68a9bfd4",
   "metadata": {},
   "outputs": [
    {
     "name": "stdout",
     "output_type": "stream",
     "text": [
      "The CV score for training set\n",
      "--------------------------------------\n"
     ]
    }
   ],
   "source": [
    "print(\"The CV score for training set\")\n",
    "print(\"--------------------------------------\")\n",
    "print (-cross_val_score(regressor,X_train,y_train.ravel(),cv=5))\n",
    "print('Q2 is {}'.format(cvscoretrain))"
   ]
  },
  {
   "cell_type": "code",
   "execution_count": 35,
   "id": "fcad4b72",
   "metadata": {},
   "outputs": [],
   "source": [
    "## model evaluation for extest set\n",
    "maeex = metrics.mean_absolute_error(y_extest, y_pred_extest)\n",
    "mseex = metrics.mean_squared_error(y_extest, y_pred_extest)\n",
    "r2ex = metrics.r2_score(y_extest, y_pred_extest)"
   ]
  },
  {
   "cell_type": "code",
   "execution_count": 36,
   "id": "c6fd7311",
   "metadata": {},
   "outputs": [
    {
     "name": "stdout",
     "output_type": "stream",
     "text": [
      "The model performance for extest set\n",
      "--------------------------------------\n",
      "MAE is 20.12511622442593\n",
      "MSE is 743.0264438146625\n",
      "R2 score is 0.7397651833954915\n"
     ]
    }
   ],
   "source": [
    "print(\"The model performance for extest set\")\n",
    "print(\"--------------------------------------\")\n",
    "print('MAE is {}'.format(maeex))\n",
    "print('MSE is {}'.format(mseex))\n",
    "print('R2 score is {}'.format(r2ex))"
   ]
  },
  {
   "cell_type": "code",
   "execution_count": 37,
   "id": "4cc6638a",
   "metadata": {},
   "outputs": [],
   "source": [
    "## model evaluation for val set\n",
    "maevl = metrics.mean_absolute_error(y_val, y_pred_val)\n",
    "msevl = metrics.mean_squared_error(y_val, y_pred_val)\n",
    "r2vl = metrics.r2_score(y_val, y_pred_val)"
   ]
  },
  {
   "cell_type": "code",
   "execution_count": 38,
   "id": "2afb1d99",
   "metadata": {},
   "outputs": [
    {
     "name": "stdout",
     "output_type": "stream",
     "text": [
      "The model performance for val set\n",
      "--------------------------------------\n",
      "MAE is 20.92915780047868\n",
      "MSE is 749.078188065889\n",
      "R2 score is 0.7778873523369263\n"
     ]
    }
   ],
   "source": [
    "print(\"The model performance for val set\")\n",
    "print(\"--------------------------------------\")\n",
    "print('MAE is {}'.format(maevl))\n",
    "print('MSE is {}'.format(msevl))\n",
    "print('R2 score is {}'.format(r2vl))"
   ]
  },
  {
   "cell_type": "code",
   "execution_count": 39,
   "id": "edd49c71",
   "metadata": {},
   "outputs": [],
   "source": [
    "## model evaluation for model set\n",
    "maemod = metrics.mean_absolute_error(y_model, y_pred_model)\n",
    "msemod = metrics.mean_squared_error(y_model, y_pred_model)\n",
    "r2mod = metrics.r2_score(y_model, y_pred_model)"
   ]
  },
  {
   "cell_type": "code",
   "execution_count": 40,
   "id": "236d0317",
   "metadata": {},
   "outputs": [
    {
     "name": "stdout",
     "output_type": "stream",
     "text": [
      "The model performance for model set\n",
      "--------------------------------------\n",
      "MAE is 17.19786890801061\n",
      "MSE is 622.782956315468\n",
      "R2 score is 0.75977825794252\n"
     ]
    }
   ],
   "source": [
    "print(\"The model performance for model set\")\n",
    "print(\"--------------------------------------\")\n",
    "print('MAE is {}'.format(maemod))\n",
    "print('MSE is {}'.format(msemod))\n",
    "print('R2 score is {}'.format(r2mod))"
   ]
  },
  {
   "cell_type": "code",
   "execution_count": 41,
   "id": "4f38d134",
   "metadata": {},
   "outputs": [],
   "source": [
    "# cv for modeling set \n",
    "cvscoremod = (-cross_val_score(regressor,X_model,y_model.ravel(),cv=5).mean())"
   ]
  },
  {
   "cell_type": "code",
   "execution_count": 42,
   "id": "1c097c5a",
   "metadata": {},
   "outputs": [
    {
     "name": "stdout",
     "output_type": "stream",
     "text": [
      "The CV score for model set\n",
      "--------------------------------------\n",
      "[-0.84911851 -0.44866954 -0.48972463 -0.4814326  -0.76712623]\n",
      "Q2 is -0.6072143022425118\n"
     ]
    }
   ],
   "source": [
    "print(\"The CV score for model set\")\n",
    "print(\"--------------------------------------\")\n",
    "print (-cross_val_score(regressor,X_model,y_model.ravel(),cv=5))\n",
    "print('Q2 is {}'.format(cvscoremod))"
   ]
  },
  {
   "cell_type": "code",
   "execution_count": 153,
   "id": "673abc15",
   "metadata": {},
   "outputs": [],
   "source": [
    "#Randomize search CV\n",
    "from sklearn.model_selection import RandomizedSearchCV"
   ]
  },
  {
   "cell_type": "code",
   "execution_count": 155,
   "id": "56ede5ca",
   "metadata": {},
   "outputs": [],
   "source": [
    "# creatting parameter gride\n",
    "param_grid_regressor= {'learning_rate': ['constant','adaptive','invscaling'],\n",
    "                       'activation':['identity', 'logistic', 'tanh', 'relu'], \n",
    "    'solver': ['adam', 'sgd', 'lbfgs'], 'hidden_layer_sizes': [5,50,100]}"
   ]
  },
  {
   "cell_type": "code",
   "execution_count": 160,
   "id": "ad837c9a",
   "metadata": {},
   "outputs": [],
   "source": [
    "regressor_random = RandomizedSearchCV(estimator = regressor, param_distributions=param_grid_regressor, n_iter = 100,\n",
    "                              cv = 5, verbose =2,\n",
    "                              n_jobs= -1, scoring = 'neg_mean_squared_error' )"
   ]
  },
  {
   "cell_type": "code",
   "execution_count": 161,
   "id": "cc3935cf",
   "metadata": {},
   "outputs": [
    {
     "name": "stdout",
     "output_type": "stream",
     "text": [
      "Fitting 5 folds for each of 100 candidates, totalling 500 fits\n"
     ]
    },
    {
     "name": "stderr",
     "output_type": "stream",
     "text": [
      "C:\\Python39\\lib\\site-packages\\sklearn\\neural_network\\_multilayer_perceptron.py:614: ConvergenceWarning: Stochastic Optimizer: Maximum iterations (10000) reached and the optimization hasn't converged yet.\n",
      "  warnings.warn(\n"
     ]
    },
    {
     "data": {
      "text/plain": [
       "RandomizedSearchCV(cv=5,\n",
       "                   estimator=MLPRegressor(activation='identity',\n",
       "                                          hidden_layer_sizes=100,\n",
       "                                          max_iter=10000, random_state=1,\n",
       "                                          solver='lbfgs'),\n",
       "                   n_iter=100, n_jobs=-1,\n",
       "                   param_distributions={'activation': ['identity', 'logistic',\n",
       "                                                       'tanh', 'relu'],\n",
       "                                        'hidden_layer_sizes': [5, 50, 100],\n",
       "                                        'learning_rate': ['constant',\n",
       "                                                          'adaptive',\n",
       "                                                          'invscaling'],\n",
       "                                        'solver': ['adam', 'sgd', 'lbfgs']},\n",
       "                   scoring='neg_mean_squared_error', verbose=2)"
      ]
     },
     "execution_count": 161,
     "metadata": {},
     "output_type": "execute_result"
    }
   ],
   "source": [
    "\n",
    "regressor_random.fit (X,y)"
   ]
  },
  {
   "cell_type": "code",
   "execution_count": 162,
   "id": "9b089138",
   "metadata": {},
   "outputs": [
    {
     "data": {
      "text/plain": [
       "{'solver': 'sgd',\n",
       " 'learning_rate': 'invscaling',\n",
       " 'hidden_layer_sizes': 50,\n",
       " 'activation': 'relu'}"
      ]
     },
     "execution_count": 162,
     "metadata": {},
     "output_type": "execute_result"
    }
   ],
   "source": [
    "regressor_random.best_params_"
   ]
  },
  {
   "cell_type": "code",
   "execution_count": 163,
   "id": "aebc36ce",
   "metadata": {},
   "outputs": [
    {
     "data": {
      "text/plain": [
       "-1197.1409986149188"
      ]
     },
     "execution_count": 163,
     "metadata": {},
     "output_type": "execute_result"
    }
   ],
   "source": [
    "regressor_random.best_score_"
   ]
  },
  {
   "cell_type": "code",
   "execution_count": null,
   "id": "805f7ddc",
   "metadata": {},
   "outputs": [],
   "source": [
    "# parameter tuning grid searchCV\n",
    "from sklearn.model_selection import GridSearchCV"
   ]
  },
  {
   "cell_type": "code",
   "execution_count": 124,
   "id": "c0a4c7e0",
   "metadata": {},
   "outputs": [],
   "source": [
    "# creatting parameter gride\n",
    "param_grid_regressor= {'learning_rate': ['constant','adaptive','invscaling'],\n",
    "                       'activation':['identity', 'logistic', 'tanh', 'relu'], \n",
    "    'solver': ['adam', 'sgd', 'lbfgs'], 'hidden_layer_sizes': [5,50,100]}"
   ]
  },
  {
   "cell_type": "code",
   "execution_count": 40,
   "id": "76a7b184",
   "metadata": {},
   "outputs": [
    {
     "name": "stdout",
     "output_type": "stream",
     "text": [
      "Fitting 5 folds for each of 108 candidates, totalling 540 fits\n"
     ]
    },
    {
     "name": "stderr",
     "output_type": "stream",
     "text": [
      "C:\\Python39\\lib\\site-packages\\sklearn\\model_selection\\_search.py:922: UserWarning: One or more of the test scores are non-finite: [-1.87734335e+03             nan -1.80172041e+03 -1.87734335e+03\n",
      "             nan -1.80172041e+03 -1.87734335e+03             nan\n",
      " -1.80172041e+03 -2.06720518e+03             nan -1.68447867e+03\n",
      " -2.06720518e+03             nan -1.68447867e+03 -2.06720518e+03\n",
      "             nan -1.68447867e+03 -1.83183668e+03             nan\n",
      " -1.68016512e+03 -1.83183668e+03             nan -1.68016512e+03\n",
      " -1.83183668e+03             nan -1.68016512e+03 -2.88141584e+03\n",
      " -3.06750199e+03 -3.05421199e+03 -2.88141584e+03 -3.06458963e+03\n",
      " -3.05421199e+03 -2.88141584e+03 -3.10417894e+03 -3.05421199e+03\n",
      " -3.01630250e+03 -2.95145613e+03 -2.24372919e+03 -3.01630250e+03\n",
      " -2.93057434e+03 -2.24372919e+03 -3.01630250e+03 -2.97439731e+03\n",
      " -2.24372919e+03 -2.88296573e+03 -3.03109305e+03 -3.28116852e+03\n",
      " -2.88296573e+03 -2.99258280e+03 -3.28116852e+03 -2.88296573e+03\n",
      " -3.07256825e+03 -3.28116852e+03 -2.81844681e+03 -3.05455207e+03\n",
      " -2.99927309e+03 -2.81844681e+03 -3.02479546e+03 -2.99927309e+03\n",
      " -2.81844681e+03 -3.00224261e+03 -2.99927309e+03 -3.02613996e+03\n",
      " -2.86563863e+03 -2.69671107e+03 -3.02613996e+03 -2.89938686e+03\n",
      " -2.69671107e+03 -3.02613996e+03 -2.79473042e+03 -2.69671107e+03\n",
      " -2.93080632e+03 -2.96122592e+03 -2.35849683e+03 -2.93080632e+03\n",
      " -2.92381421e+03 -2.35849683e+03 -2.93080632e+03 -3.62889547e+03\n",
      " -2.35849683e+03 -2.22405376e+03 -4.19547328e+03 -3.05421204e+03\n",
      " -2.22405376e+03 -3.90655287e+03 -3.05421204e+03 -2.22405376e+03\n",
      " -4.70121625e+03 -3.05421204e+03 -1.93942527e+03 -3.26461300e+43\n",
      " -1.81718129e+03 -1.93942527e+03 -3.18626472e+43 -1.81718129e+03\n",
      " -1.93942527e+03 -1.64642085e+41 -1.81718129e+03 -1.75277715e+03\n",
      " -1.15482864e+22 -1.72972301e+03 -1.75277715e+03 -1.09973806e+22\n",
      " -1.72972301e+03 -1.75277715e+03 -1.39948735e+22 -1.72972301e+03]\n",
      "  warnings.warn(\n"
     ]
    },
    {
     "data": {
      "text/plain": [
       "GridSearchCV(cv=5,\n",
       "             estimator=MLPRegressor(hidden_layer_sizes=10, max_iter=10000,\n",
       "                                    random_state=1),\n",
       "             n_jobs=-1,\n",
       "             param_grid={'activation': ['identity', 'logistic', 'tanh', 'relu'],\n",
       "                         'hidden_layer_sizes': [5, 50, 100],\n",
       "                         'learning_rate': ['constant', 'adaptive',\n",
       "                                           'invscaling'],\n",
       "                         'solver': ['adam', 'sgd', 'lbfgs']},\n",
       "             scoring='neg_mean_squared_error', verbose=2)"
      ]
     },
     "execution_count": 40,
     "metadata": {},
     "output_type": "execute_result"
    }
   ],
   "source": [
    "regressor_grid = GridSearchCV(estimator =regressor, param_grid=param_grid_regressor,\n",
    "                              cv = 5, verbose =2,\n",
    "                              n_jobs= -1,  scoring = \"neg_mean_squared_error\")\n",
    "\n",
    "regressor_grid.fit (x,y)"
   ]
  },
  {
   "cell_type": "code",
   "execution_count": 41,
   "id": "2bf443f7",
   "metadata": {},
   "outputs": [
    {
     "data": {
      "text/plain": [
       "{'activation': 'identity',\n",
       " 'hidden_layer_sizes': 100,\n",
       " 'learning_rate': 'constant',\n",
       " 'solver': 'lbfgs'}"
      ]
     },
     "execution_count": 41,
     "metadata": {},
     "output_type": "execute_result"
    }
   ],
   "source": [
    "regressor_grid.best_params_"
   ]
  },
  {
   "cell_type": "code",
   "execution_count": 175,
   "id": "abca86f3",
   "metadata": {},
   "outputs": [],
   "source": [
    " # manual search engine\n",
    "regressor1 = MLPRegressor(learning_rate = \"invscaling\", activation = \"relu\",\n",
    "          solver =\"sgd\",hidden_layer_sizes=50, random_state=1, max_iter=100000)"
   ]
  },
  {
   "cell_type": "code",
   "execution_count": 176,
   "id": "84e17cb5",
   "metadata": {},
   "outputs": [
    {
     "name": "stderr",
     "output_type": "stream",
     "text": [
      "C:\\Python39\\lib\\site-packages\\sklearn\\neural_network\\_multilayer_perceptron.py:614: ConvergenceWarning: Stochastic Optimizer: Maximum iterations (100000) reached and the optimization hasn't converged yet.\n",
      "  warnings.warn(\n"
     ]
    },
    {
     "data": {
      "text/plain": [
       "MLPRegressor(hidden_layer_sizes=50, learning_rate='invscaling', max_iter=100000,\n",
       "             random_state=1, solver='sgd')"
      ]
     },
     "execution_count": 176,
     "metadata": {},
     "output_type": "execute_result"
    }
   ],
   "source": [
    "regressor1.fit(X_train, y_train)"
   ]
  },
  {
   "cell_type": "code",
   "execution_count": null,
   "id": "984b89c3",
   "metadata": {},
   "outputs": [],
   "source": []
  },
  {
   "cell_type": "code",
   "execution_count": null,
   "id": "cb0f5e77",
   "metadata": {},
   "outputs": [],
   "source": []
  }
 ],
 "metadata": {
  "kernelspec": {
   "display_name": "Python 3",
   "language": "python",
   "name": "python3"
  },
  "language_info": {
   "codemirror_mode": {
    "name": "ipython",
    "version": 3
   },
   "file_extension": ".py",
   "mimetype": "text/x-python",
   "name": "python",
   "nbconvert_exporter": "python",
   "pygments_lexer": "ipython3",
   "version": "3.9.4"
  }
 },
 "nbformat": 4,
 "nbformat_minor": 5
}
