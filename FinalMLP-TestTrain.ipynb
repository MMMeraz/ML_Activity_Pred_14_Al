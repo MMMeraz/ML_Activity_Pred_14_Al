{
 "cells": [
  {
   "cell_type": "code",
   "execution_count": 1,
   "id": "6d6f1d90",
   "metadata": {},
   "outputs": [],
   "source": [
    "# Import Section\n",
    "import csv\n",
    "import codecs\n",
    "import sys\n",
    "import io\n",
    "import numpy as np\n",
    "import pandas as pd\n",
    "import scipy as sp\n",
    "\n",
    "# For Regression\n",
    "from sklearn.model_selection import train_test_split\n",
    "from sklearn.model_selection import cross_val_score\n",
    "from statistics import mean\n",
    "\n",
    "from sklearn.neural_network import MLPRegressor\n",
    "\n",
    "\n",
    "# Python script for confusion matrix creation. \n",
    "from sklearn.metrics import *\n",
    "from numpy import mean\n",
    "from numpy import std\n",
    "from sklearn import metrics"
   ]
  },
  {
   "cell_type": "code",
   "execution_count": 2,
   "id": "69ae8fb6",
   "metadata": {},
   "outputs": [],
   "source": [
    "dataset=pd.read_excel(\"Des_cod_1056_92-29.xlsx\",index_col=0)"
   ]
  },
  {
   "cell_type": "code",
   "execution_count": 3,
   "id": "ec007b03",
   "metadata": {},
   "outputs": [
    {
     "data": {
      "text/plain": [
       "(1056, 30)"
      ]
     },
     "execution_count": 3,
     "metadata": {},
     "output_type": "execute_result"
    }
   ],
   "source": [
    "dataset.shape"
   ]
  },
  {
   "cell_type": "code",
   "execution_count": 4,
   "id": "6540ffea",
   "metadata": {},
   "outputs": [
    {
     "data": {
      "text/plain": [
       "Number of atoms                                                          0\n",
       "Relative number of N  atoms                                              0\n",
       "Relative number of Cl atoms                                              0\n",
       "Wiener index                                                             0\n",
       "Kier&Hall index (order 3)                                                0\n",
       "Average Information content (order 0)                                    0\n",
       "Balaban index                                                            0\n",
       "Max partial charge for a N  atom [Zefirov's PC]                          0\n",
       "Min partial charge for a N  atom [Zefirov's PC]                          0\n",
       "Polarity parameter / square distance                                     0\n",
       "PPSA-3 Atomic charge weighted PPSA [Zefirov's PC]                        0\n",
       "PNSA-3 Atomic charge weighted PNSA [Zefirov's PC]                        0\n",
       "RNCS Relative negative charged SA (SAMNEG*RNCG) [Zefirov's PC]           0\n",
       "LUMO energy                                                              0\n",
       "LUMO+1 energy                                                            0\n",
       "HOMO - LUMO energy gap                                                   0\n",
       "Min electroph. react. index for a N atom                                 0\n",
       "Max electroph. react. index for a N atom                                 0\n",
       "Min electroph. react. index for a C atom                                 0\n",
       "Min net atomic charge for a N atom                                       0\n",
       "Max net atomic charge for a C atom                                       0\n",
       "Tot dipole of the molecule                                               0\n",
       "Image of the Onsager-Kirkwood solvation energy                           0\n",
       "RNCS Relative negative charged SA (SAMNEG*RNCG) [Quantum-Chemical PC]    0\n",
       "Max SIGMA-SIGMA bond order                                               0\n",
       "Max PI-PI bond order                                                     0\n",
       "Min valency of a N atom                                                  0\n",
       "Avg valency of a N atom                                                  0\n",
       "Min (>0.1) bond order of a N atom                                        0\n",
       "Act                                                                      0\n",
       "dtype: int64"
      ]
     },
     "execution_count": 4,
     "metadata": {},
     "output_type": "execute_result"
    }
   ],
   "source": [
    "# to check the null values \n",
    "dataset.isnull().sum()"
   ]
  },
  {
   "cell_type": "code",
   "execution_count": 5,
   "id": "685bf39f",
   "metadata": {},
   "outputs": [],
   "source": [
    "x = dataset.drop(['Act'],axis=1).astype (float)\n",
    "y = dataset['Act']"
   ]
  },
  {
   "cell_type": "code",
   "execution_count": 6,
   "id": "38fcc30c",
   "metadata": {},
   "outputs": [
    {
     "data": {
      "text/plain": [
       "(1056, 29)"
      ]
     },
     "execution_count": 6,
     "metadata": {},
     "output_type": "execute_result"
    }
   ],
   "source": [
    "x.shape"
   ]
  },
  {
   "cell_type": "code",
   "execution_count": 7,
   "id": "498a6b65",
   "metadata": {},
   "outputs": [
    {
     "data": {
      "text/plain": [
       "Structure\n",
       "\"1Co\"       0.853\n",
       "\"2Co\"       0.987\n",
       "\"3Co\"       0.773\n",
       "\"4Co\"       0.760\n",
       "\"5Co\"       0.893\n",
       "            ...  \n",
       "\"1052Co\"    0.370\n",
       "\"1053Co\"    1.020\n",
       "\"1054Co\"    0.832\n",
       "\"1055Co\"    0.701\n",
       "\"1056Co\"    1.090\n",
       "Name: Act, Length: 1056, dtype: float64"
      ]
     },
     "execution_count": 7,
     "metadata": {},
     "output_type": "execute_result"
    }
   ],
   "source": [
    "y"
   ]
  },
  {
   "cell_type": "code",
   "execution_count": 308,
   "id": "c129b673",
   "metadata": {},
   "outputs": [],
   "source": [
    "x_train, x_test, y_train, y_test = train_test_split(x,y,test_size=.3, random_state = 47, shuffle=True)"
   ]
  },
  {
   "cell_type": "code",
   "execution_count": 309,
   "id": "5403d6e9",
   "metadata": {},
   "outputs": [
    {
     "data": {
      "text/plain": [
       "(739, 29)"
      ]
     },
     "execution_count": 309,
     "metadata": {},
     "output_type": "execute_result"
    }
   ],
   "source": [
    "x_train.shape"
   ]
  },
  {
   "cell_type": "code",
   "execution_count": 310,
   "id": "d8ed970c",
   "metadata": {},
   "outputs": [
    {
     "data": {
      "text/plain": [
       "(317, 29)"
      ]
     },
     "execution_count": 310,
     "metadata": {},
     "output_type": "execute_result"
    }
   ],
   "source": [
    "x_test.shape"
   ]
  },
  {
   "cell_type": "code",
   "execution_count": 311,
   "id": "e0c1893a",
   "metadata": {},
   "outputs": [],
   "source": [
    "# scealing is required for indepandent variables at ANN\n",
    "from sklearn.preprocessing import StandardScaler"
   ]
  },
  {
   "cell_type": "code",
   "execution_count": 312,
   "id": "70181004",
   "metadata": {},
   "outputs": [],
   "source": [
    "scale = StandardScaler()"
   ]
  },
  {
   "cell_type": "code",
   "execution_count": 313,
   "id": "b433f2f9",
   "metadata": {},
   "outputs": [],
   "source": [
    "X = scale.fit_transform(x)\n",
    "X_train = scale.fit_transform(x_train)\n",
    "X_test = scale.fit_transform(x_test)"
   ]
  },
  {
   "cell_type": "code",
   "execution_count": 314,
   "id": "99a01ad3",
   "metadata": {},
   "outputs": [],
   "source": [
    "\n",
    "  #regressor = svm.SVR()\n",
    "  #regressor = LinearRegression()\n",
    "  #regressor = SGDRegressor(max_iter=5000, tol=1e-3)\n",
    "  #regressor = KNeighborsRegressor(n_neighbors=5)\n",
    "  regressor = MLPRegressor(learning_rate = \"constant\", activation = \"relu\",\n",
    "          solver =\"adam\",hidden_layer_sizes=190, random_state=1, max_iter=100000)\n",
    "  #regressor = AdaBoostRegressor(random_state=0, n_estimators=100)\n",
    "  #regressor = GradientBoostingRegressor(random_state=0)\n",
    "  #regressor = tree.DecisionTreeRegressor()\n",
    "  #regressor = linear_model.Ridge(alpha=.5)\n",
    "  #regressor = linear_model.Lasso(alpha=0.1)\n",
    "  #regressor = ElasticNet(random_state=0)\n",
    "  #regressor = KernelRidge(alpha=1.0)\n"
   ]
  },
  {
   "cell_type": "code",
   "execution_count": 315,
   "id": "91a9de6c",
   "metadata": {},
   "outputs": [
    {
     "data": {
      "text/plain": [
       "MLPRegressor(hidden_layer_sizes=190, max_iter=100000, random_state=1)"
      ]
     },
     "execution_count": 315,
     "metadata": {},
     "output_type": "execute_result"
    }
   ],
   "source": [
    "regressor.fit (X_train, y_train)"
   ]
  },
  {
   "cell_type": "code",
   "execution_count": 316,
   "id": "153a413c",
   "metadata": {},
   "outputs": [],
   "source": [
    "# compute the testing accuracy\n",
    "y_pred = regressor.predict(X_test)"
   ]
  },
  {
   "cell_type": "code",
   "execution_count": 317,
   "id": "ef2bd5a0",
   "metadata": {},
   "outputs": [],
   "source": [
    "y_pred_train = regressor.predict(X_train)"
   ]
  },
  {
   "cell_type": "code",
   "execution_count": 318,
   "id": "51b8dbf2",
   "metadata": {},
   "outputs": [
    {
     "data": {
      "text/plain": [
       "(739,)"
      ]
     },
     "execution_count": 318,
     "metadata": {},
     "output_type": "execute_result"
    }
   ],
   "source": [
    "y_pred_train.shape"
   ]
  },
  {
   "cell_type": "code",
   "execution_count": 319,
   "id": "bd299f88",
   "metadata": {},
   "outputs": [
    {
     "name": "stdout",
     "output_type": "stream",
     "text": [
      "\n",
      "\n",
      "overall Performance: \n"
     ]
    }
   ],
   "source": [
    "  print(\"\\n\")\n",
    "  print(\"overall Performance: \", )"
   ]
  },
  {
   "cell_type": "code",
   "execution_count": 320,
   "id": "08e1d8cc",
   "metadata": {},
   "outputs": [],
   "source": [
    "  # model evaluation for testing set\n",
    "  mae = metrics.mean_absolute_error(y_test, y_pred)\n",
    "  mse = metrics.mean_squared_error(y_test, y_pred)\n",
    "  r2 = metrics.r2_score(y_test, y_pred)"
   ]
  },
  {
   "cell_type": "code",
   "execution_count": 321,
   "id": "109a011e",
   "metadata": {},
   "outputs": [
    {
     "name": "stdout",
     "output_type": "stream",
     "text": [
      "The model performance for testing set\n",
      "--------------------------------------\n",
      "MAE is 0.20362681974105323\n",
      "MSE is 0.07440960889779438\n",
      "R2 score is 0.708477376196444\n"
     ]
    }
   ],
   "source": [
    "print(\"The model performance for testing set\")\n",
    "print(\"--------------------------------------\")\n",
    "print('MAE is {}'.format(mae))\n",
    "print('MSE is {}'.format(mse))\n",
    "print('R2 score is {}'.format(r2))"
   ]
  },
  {
   "cell_type": "code",
   "execution_count": 322,
   "id": "6eb42d35",
   "metadata": {},
   "outputs": [],
   "source": [
    "  # model evaluation for training set\n",
    "maeTrain = metrics.mean_absolute_error(y_train, y_pred_train)\n",
    "mseTrain = metrics.mean_squared_error(y_train, y_pred_train)\n",
    "r2Train = metrics.r2_score(y_train, y_pred_train)"
   ]
  },
  {
   "cell_type": "code",
   "execution_count": 323,
   "id": "595c5093",
   "metadata": {},
   "outputs": [
    {
     "name": "stdout",
     "output_type": "stream",
     "text": [
      "The model performance for training set\n",
      "--------------------------------------\n",
      "MAE is 0.0852015354763984\n",
      "MSE is 0.018393958326888428\n",
      "R2 score is 0.9197750700164358\n"
     ]
    }
   ],
   "source": [
    "print(\"The model performance for training set\")\n",
    "print(\"--------------------------------------\")\n",
    "print('MAE is {}'.format(maeTrain))\n",
    "print('MSE is {}'.format(mseTrain))\n",
    "print('R2 score is {}'.format(r2Train))"
   ]
  },
  {
   "cell_type": "code",
   "execution_count": 324,
   "id": "178e65ae",
   "metadata": {},
   "outputs": [],
   "source": [
    "#CV for training set \n",
    "cvscorevall = (cross_val_score(regressor,X_train,y_train.ravel(),cv=5).mean())"
   ]
  },
  {
   "cell_type": "code",
   "execution_count": 325,
   "id": "abe06fe4",
   "metadata": {},
   "outputs": [
    {
     "name": "stdout",
     "output_type": "stream",
     "text": [
      "The CV score for training dataset\n",
      "--------------------------------------\n",
      "[0.39910157 0.49230617 0.50192881 0.39784675 0.56598359]\n",
      "Q2 is 0.47143337650539285\n"
     ]
    }
   ],
   "source": [
    "print(\"The CV score for training dataset\")\n",
    "print(\"--------------------------------------\")\n",
    "print (cross_val_score(regressor,X_train,y_train.ravel(),cv=5))\n",
    "print('Q2 is {}'.format(cvscorevall))"
   ]
  },
  {
   "cell_type": "code",
   "execution_count": 120,
   "id": "673abc15",
   "metadata": {},
   "outputs": [],
   "source": [
    "#Randomize search CV\n",
    "from sklearn.model_selection import RandomizedSearchCV"
   ]
  },
  {
   "cell_type": "code",
   "execution_count": 121,
   "id": "56ede5ca",
   "metadata": {},
   "outputs": [],
   "source": [
    "# creatting parameter gride\n",
    "param_grid_regressor= {'learning_rate': ['constant','adaptive','invscaling'],\n",
    "                       'activation':['identity', 'logistic', 'tanh', 'relu'], \n",
    "    'solver': ['adam', 'sgd', 'lbfgs'], 'hidden_layer_sizes': [50,100, 150, 200]}"
   ]
  },
  {
   "cell_type": "code",
   "execution_count": 122,
   "id": "ad837c9a",
   "metadata": {},
   "outputs": [],
   "source": [
    "regressor_random = RandomizedSearchCV(estimator = regressor, param_distributions=param_grid_regressor, n_iter = 100,\n",
    "                              cv = 5, verbose =2,\n",
    "                              n_jobs= -1, scoring = 'neg_mean_squared_error' )"
   ]
  },
  {
   "cell_type": "code",
   "execution_count": 123,
   "id": "cc3935cf",
   "metadata": {},
   "outputs": [
    {
     "name": "stdout",
     "output_type": "stream",
     "text": [
      "Fitting 5 folds for each of 100 candidates, totalling 500 fits\n"
     ]
    },
    {
     "data": {
      "text/plain": [
       "RandomizedSearchCV(cv=5,\n",
       "                   estimator=MLPRegressor(activation='tanh',\n",
       "                                          hidden_layer_sizes=149,\n",
       "                                          max_iter=100000, random_state=1),\n",
       "                   n_iter=100, n_jobs=-1,\n",
       "                   param_distributions={'activation': ['identity', 'logistic',\n",
       "                                                       'tanh', 'relu'],\n",
       "                                        'hidden_layer_sizes': [50, 100, 150,\n",
       "                                                               200],\n",
       "                                        'learning_rate': ['constant',\n",
       "                                                          'adaptive',\n",
       "                                                          'invscaling'],\n",
       "                                        'solver': ['adam', 'sgd', 'lbfgs']},\n",
       "                   scoring='neg_mean_squared_error', verbose=2)"
      ]
     },
     "execution_count": 123,
     "metadata": {},
     "output_type": "execute_result"
    }
   ],
   "source": [
    "\n",
    "regressor_random.fit (X_train, y_train)"
   ]
  },
  {
   "cell_type": "code",
   "execution_count": 124,
   "id": "9b089138",
   "metadata": {},
   "outputs": [
    {
     "data": {
      "text/plain": [
       "{'solver': 'adam',\n",
       " 'learning_rate': 'invscaling',\n",
       " 'hidden_layer_sizes': 200,\n",
       " 'activation': 'relu'}"
      ]
     },
     "execution_count": 124,
     "metadata": {},
     "output_type": "execute_result"
    }
   ],
   "source": [
    "regressor_random.best_params_"
   ]
  },
  {
   "cell_type": "code",
   "execution_count": 125,
   "id": "aebc36ce",
   "metadata": {},
   "outputs": [
    {
     "data": {
      "text/plain": [
       "-0.10865982157654663"
      ]
     },
     "execution_count": 125,
     "metadata": {},
     "output_type": "execute_result"
    }
   ],
   "source": [
    "regressor_random.best_score_"
   ]
  },
  {
   "cell_type": "code",
   "execution_count": 140,
   "id": "805f7ddc",
   "metadata": {},
   "outputs": [],
   "source": [
    "# parameter tuning grid searchCV\n",
    "from sklearn.model_selection import GridSearchCV"
   ]
  },
  {
   "cell_type": "code",
   "execution_count": 141,
   "id": "c0a4c7e0",
   "metadata": {},
   "outputs": [],
   "source": [
    "# creatting parameter gride\n",
    "param_grid_regressor= {'learning_rate': ['constant','adaptive','invscaling'],\n",
    "                       'activation':['identity', 'logistic', 'tanh', 'relu'], \n",
    "    'solver': ['adam', 'sgd', 'lbfgs'], 'hidden_layer_sizes': [150, 160, 170, 180, 190, 200, 250]}"
   ]
  },
  {
   "cell_type": "code",
   "execution_count": 142,
   "id": "76a7b184",
   "metadata": {},
   "outputs": [],
   "source": [
    "regressor_grid = GridSearchCV(estimator =regressor, param_grid=param_grid_regressor,\n",
    "                              cv = 5, verbose =2,\n",
    "                              n_jobs= -1,  scoring = \"neg_mean_squared_error\")\n",
    "\n"
   ]
  },
  {
   "cell_type": "code",
   "execution_count": 143,
   "id": "60f0842a",
   "metadata": {},
   "outputs": [
    {
     "name": "stdout",
     "output_type": "stream",
     "text": [
      "Fitting 5 folds for each of 252 candidates, totalling 1260 fits\n"
     ]
    },
    {
     "data": {
      "text/plain": [
       "GridSearchCV(cv=5,\n",
       "             estimator=MLPRegressor(hidden_layer_sizes=200,\n",
       "                                    learning_rate='invscaling', max_iter=100000,\n",
       "                                    random_state=1),\n",
       "             n_jobs=-1,\n",
       "             param_grid={'activation': ['identity', 'logistic', 'tanh', 'relu'],\n",
       "                         'hidden_layer_sizes': [150, 160, 170, 180, 190, 200,\n",
       "                                                250],\n",
       "                         'learning_rate': ['constant', 'adaptive',\n",
       "                                           'invscaling'],\n",
       "                         'solver': ['adam', 'sgd', 'lbfgs']},\n",
       "             scoring='neg_mean_squared_error', verbose=2)"
      ]
     },
     "execution_count": 143,
     "metadata": {},
     "output_type": "execute_result"
    }
   ],
   "source": [
    "regressor_grid.fit (X_train, y_train)"
   ]
  },
  {
   "cell_type": "code",
   "execution_count": 144,
   "id": "2bf443f7",
   "metadata": {},
   "outputs": [
    {
     "data": {
      "text/plain": [
       "{'activation': 'relu',\n",
       " 'hidden_layer_sizes': 190,\n",
       " 'learning_rate': 'constant',\n",
       " 'solver': 'adam'}"
      ]
     },
     "execution_count": 144,
     "metadata": {},
     "output_type": "execute_result"
    }
   ],
   "source": [
    "regressor_grid.best_params_"
   ]
  },
  {
   "cell_type": "code",
   "execution_count": 145,
   "id": "34e08e47",
   "metadata": {},
   "outputs": [
    {
     "data": {
      "text/plain": [
       "-0.10338263778409365"
      ]
     },
     "execution_count": 145,
     "metadata": {},
     "output_type": "execute_result"
    }
   ],
   "source": [
    "regressor_grid.best_score_"
   ]
  },
  {
   "cell_type": "code",
   "execution_count": 27,
   "id": "583b4ea1",
   "metadata": {},
   "outputs": [],
   "source": [
    "#hyperparameters"
   ]
  },
  {
   "cell_type": "code",
   "execution_count": 28,
   "id": "dc59a49a",
   "metadata": {},
   "outputs": [],
   "source": [
    "learning_rate= ['constant','adaptive','invscaling']\n",
    "activation= ['identity', 'logistic', 'tanh', 'relu'] \n",
    "solver=['adam', 'sgd', 'lbfgs'] \n",
    "hidden_layer_sizes= [100, 140, 145, 147, 149, 150, 155, 160, 170, 180, 190, 200]"
   ]
  },
  {
   "cell_type": "code",
   "execution_count": 29,
   "id": "36095f49",
   "metadata": {},
   "outputs": [],
   "source": [
    "hyperparameters = dict(learning_rate=learning_rate, activation=activation, solver= solver, \n",
    "                       hidden_layer_sizes= hidden_layer_sizes )"
   ]
  },
  {
   "cell_type": "code",
   "execution_count": 30,
   "id": "ce9e9313",
   "metadata": {},
   "outputs": [],
   "source": [
    "clf = GridSearchCV(regressor, hyperparameters, cv=5)"
   ]
  },
  {
   "cell_type": "code",
   "execution_count": null,
   "id": "16a0675a",
   "metadata": {},
   "outputs": [],
   "source": [
    "best_model = clf.fit(X_train,y_train)"
   ]
  },
  {
   "cell_type": "code",
   "execution_count": null,
   "id": "65b383e0",
   "metadata": {},
   "outputs": [],
   "source": [
    "print('Best learning_rate:', best_model.best_estimator_.get_params()['learning_rate'])\n",
    "print('Best activation:', best_model.best_estimator_.get_params()['activation'])\n",
    "print('Best solver:', best_model.best_estimator_.get_params()['solver'])\n",
    "print('hidden_layer_sizes:', best_model.best_estimator_.get_params()['hidden_layer_sizes'])"
   ]
  },
  {
   "cell_type": "code",
   "execution_count": null,
   "id": "fd208926",
   "metadata": {},
   "outputs": [],
   "source": []
  }
 ],
 "metadata": {
  "kernelspec": {
   "display_name": "Python 3",
   "language": "python",
   "name": "python3"
  },
  "language_info": {
   "codemirror_mode": {
    "name": "ipython",
    "version": 3
   },
   "file_extension": ".py",
   "mimetype": "text/x-python",
   "name": "python",
   "nbconvert_exporter": "python",
   "pygments_lexer": "ipython3",
   "version": "3.9.4"
  }
 },
 "nbformat": 4,
 "nbformat_minor": 5
}
