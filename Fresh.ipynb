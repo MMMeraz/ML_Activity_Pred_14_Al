{
 "cells": [
  {
   "cell_type": "code",
   "execution_count": 63,
   "id": "4e3c8790",
   "metadata": {},
   "outputs": [],
   "source": [
    "import csv\n",
    "import codecs\n",
    "import sys\n",
    "import io\n",
    "import numpy as np\n",
    "import pandas as pd\n",
    "import scipy as sp"
   ]
  },
  {
   "cell_type": "code",
   "execution_count": 64,
   "id": "4a2f169a",
   "metadata": {},
   "outputs": [],
   "source": [
    "from sklearn.model_selection import train_test_split\n",
    "from sklearn.model_selection import cross_val_score\n",
    "from statistics import mean"
   ]
  },
  {
   "cell_type": "code",
   "execution_count": 133,
   "id": "3fcb6903",
   "metadata": {},
   "outputs": [],
   "source": [
    "from sklearn import svm\n",
    "from sklearn.linear_model import LinearRegression\n",
    "from sklearn.linear_model import SGDRegressor\n",
    "from sklearn.neighbors import KNeighborsRegressor\n",
    "from sklearn.neural_network import MLPRegressor\n",
    "from sklearn.ensemble import AdaBoostRegressor\n",
    "from sklearn.ensemble import GradientBoostingRegressor\n",
    "from sklearn import tree\n",
    "from sklearn import linear_model\n",
    "from sklearn.linear_model import ElasticNet\n",
    "from sklearn.kernel_ridge import KernelRidge"
   ]
  },
  {
   "cell_type": "code",
   "execution_count": 67,
   "id": "e88e1c91",
   "metadata": {},
   "outputs": [],
   "source": [
    "from sklearn.metrics import *\n",
    "from numpy import mean\n",
    "from numpy import std\n",
    "from sklearn import metrics"
   ]
  },
  {
   "cell_type": "code",
   "execution_count": 88,
   "id": "6c227d5b",
   "metadata": {},
   "outputs": [],
   "source": [
    "df=pd.read_csv(\"data_294.csv\")"
   ]
  },
  {
   "cell_type": "code",
   "execution_count": 90,
   "id": "0ea79195",
   "metadata": {},
   "outputs": [
    {
     "data": {
      "text/html": [
       "<div>\n",
       "<style scoped>\n",
       "    .dataframe tbody tr th:only-of-type {\n",
       "        vertical-align: middle;\n",
       "    }\n",
       "\n",
       "    .dataframe tbody tr th {\n",
       "        vertical-align: top;\n",
       "    }\n",
       "\n",
       "    .dataframe thead th {\n",
       "        text-align: right;\n",
       "    }\n",
       "</style>\n",
       "<table border=\"1\" class=\"dataframe\">\n",
       "  <thead>\n",
       "    <tr style=\"text-align: right;\">\n",
       "      <th></th>\n",
       "      <th>Unnamed: 0</th>\n",
       "      <th>1</th>\n",
       "      <th>15</th>\n",
       "      <th>18</th>\n",
       "      <th>21</th>\n",
       "      <th>25</th>\n",
       "      <th>26</th>\n",
       "      <th>39</th>\n",
       "      <th>41</th>\n",
       "      <th>58</th>\n",
       "      <th>69</th>\n",
       "      <th>83</th>\n",
       "      <th>85</th>\n",
       "      <th>141</th>\n",
       "      <th>155</th>\n",
       "      <th>166</th>\n",
       "      <th>Act</th>\n",
       "    </tr>\n",
       "  </thead>\n",
       "  <tbody>\n",
       "    <tr>\n",
       "      <th>0</th>\n",
       "      <td>1</td>\n",
       "      <td>21</td>\n",
       "      <td>23</td>\n",
       "      <td>2</td>\n",
       "      <td>4565</td>\n",
       "      <td>19.2765</td>\n",
       "      <td>8.9368</td>\n",
       "      <td>64.0391</td>\n",
       "      <td>31.8953</td>\n",
       "      <td>0.0154</td>\n",
       "      <td>200.4442</td>\n",
       "      <td>4.7239</td>\n",
       "      <td>0.5791</td>\n",
       "      <td>1092.3000</td>\n",
       "      <td>60.2772</td>\n",
       "      <td>0.0</td>\n",
       "      <td>1.58</td>\n",
       "    </tr>\n",
       "    <tr>\n",
       "      <th>1</th>\n",
       "      <td>2</td>\n",
       "      <td>23</td>\n",
       "      <td>23</td>\n",
       "      <td>2</td>\n",
       "      <td>5633</td>\n",
       "      <td>21.2244</td>\n",
       "      <td>10.3336</td>\n",
       "      <td>74.0391</td>\n",
       "      <td>36.5154</td>\n",
       "      <td>0.0130</td>\n",
       "      <td>287.6204</td>\n",
       "      <td>5.5482</td>\n",
       "      <td>0.5512</td>\n",
       "      <td>1944.0000</td>\n",
       "      <td>0.0000</td>\n",
       "      <td>0.0</td>\n",
       "      <td>1.93</td>\n",
       "    </tr>\n",
       "    <tr>\n",
       "      <th>2</th>\n",
       "      <td>3</td>\n",
       "      <td>25</td>\n",
       "      <td>23</td>\n",
       "      <td>2</td>\n",
       "      <td>6789</td>\n",
       "      <td>23.1790</td>\n",
       "      <td>10.6986</td>\n",
       "      <td>101.5489</td>\n",
       "      <td>38.1809</td>\n",
       "      <td>0.0134</td>\n",
       "      <td>257.3209</td>\n",
       "      <td>4.7255</td>\n",
       "      <td>0.5267</td>\n",
       "      <td>1775.2000</td>\n",
       "      <td>71.6216</td>\n",
       "      <td>0.0</td>\n",
       "      <td>2.65</td>\n",
       "    </tr>\n",
       "    <tr>\n",
       "      <th>3</th>\n",
       "      <td>4</td>\n",
       "      <td>19</td>\n",
       "      <td>23</td>\n",
       "      <td>2</td>\n",
       "      <td>4133</td>\n",
       "      <td>19.1405</td>\n",
       "      <td>8.8411</td>\n",
       "      <td>48.5293</td>\n",
       "      <td>28.3529</td>\n",
       "      <td>0.0229</td>\n",
       "      <td>173.7359</td>\n",
       "      <td>4.9959</td>\n",
       "      <td>0.5006</td>\n",
       "      <td>704.6495</td>\n",
       "      <td>38.8341</td>\n",
       "      <td>0.0</td>\n",
       "      <td>1.46</td>\n",
       "    </tr>\n",
       "    <tr>\n",
       "      <th>4</th>\n",
       "      <td>5</td>\n",
       "      <td>19</td>\n",
       "      <td>23</td>\n",
       "      <td>2</td>\n",
       "      <td>4133</td>\n",
       "      <td>19.8407</td>\n",
       "      <td>9.3362</td>\n",
       "      <td>48.5293</td>\n",
       "      <td>28.3529</td>\n",
       "      <td>0.0229</td>\n",
       "      <td>168.7834</td>\n",
       "      <td>4.1531</td>\n",
       "      <td>0.5455</td>\n",
       "      <td>831.6771</td>\n",
       "      <td>38.5247</td>\n",
       "      <td>0.0</td>\n",
       "      <td>2.95</td>\n",
       "    </tr>\n",
       "    <tr>\n",
       "      <th>...</th>\n",
       "      <td>...</td>\n",
       "      <td>...</td>\n",
       "      <td>...</td>\n",
       "      <td>...</td>\n",
       "      <td>...</td>\n",
       "      <td>...</td>\n",
       "      <td>...</td>\n",
       "      <td>...</td>\n",
       "      <td>...</td>\n",
       "      <td>...</td>\n",
       "      <td>...</td>\n",
       "      <td>...</td>\n",
       "      <td>...</td>\n",
       "      <td>...</td>\n",
       "      <td>...</td>\n",
       "      <td>...</td>\n",
       "      <td>...</td>\n",
       "    </tr>\n",
       "    <tr>\n",
       "      <th>289</th>\n",
       "      <td>290</td>\n",
       "      <td>24</td>\n",
       "      <td>20</td>\n",
       "      <td>2</td>\n",
       "      <td>7140</td>\n",
       "      <td>24.4034</td>\n",
       "      <td>11.5737</td>\n",
       "      <td>71.8135</td>\n",
       "      <td>35.8413</td>\n",
       "      <td>0.0154</td>\n",
       "      <td>237.5433</td>\n",
       "      <td>5.8331</td>\n",
       "      <td>0.4988</td>\n",
       "      <td>1830.5000</td>\n",
       "      <td>66.9631</td>\n",
       "      <td>0.0</td>\n",
       "      <td>8.00</td>\n",
       "    </tr>\n",
       "    <tr>\n",
       "      <th>290</th>\n",
       "      <td>291</td>\n",
       "      <td>26</td>\n",
       "      <td>20</td>\n",
       "      <td>2</td>\n",
       "      <td>8452</td>\n",
       "      <td>26.3662</td>\n",
       "      <td>11.9433</td>\n",
       "      <td>101.0586</td>\n",
       "      <td>43.6179</td>\n",
       "      <td>0.0134</td>\n",
       "      <td>312.0292</td>\n",
       "      <td>6.4319</td>\n",
       "      <td>0.4594</td>\n",
       "      <td>3013.9000</td>\n",
       "      <td>87.6958</td>\n",
       "      <td>0.0</td>\n",
       "      <td>6.70</td>\n",
       "    </tr>\n",
       "    <tr>\n",
       "      <th>291</th>\n",
       "      <td>292</td>\n",
       "      <td>23</td>\n",
       "      <td>20</td>\n",
       "      <td>2</td>\n",
       "      <td>6531</td>\n",
       "      <td>23.4237</td>\n",
       "      <td>10.3809</td>\n",
       "      <td>81.7744</td>\n",
       "      <td>37.2985</td>\n",
       "      <td>0.0144</td>\n",
       "      <td>275.1655</td>\n",
       "      <td>6.3289</td>\n",
       "      <td>0.4893</td>\n",
       "      <td>2273.4000</td>\n",
       "      <td>79.4996</td>\n",
       "      <td>0.0</td>\n",
       "      <td>12.90</td>\n",
       "    </tr>\n",
       "    <tr>\n",
       "      <th>292</th>\n",
       "      <td>293</td>\n",
       "      <td>25</td>\n",
       "      <td>20</td>\n",
       "      <td>2</td>\n",
       "      <td>7801</td>\n",
       "      <td>25.3843</td>\n",
       "      <td>11.7554</td>\n",
       "      <td>77.0195</td>\n",
       "      <td>44.4808</td>\n",
       "      <td>0.0131</td>\n",
       "      <td>330.3284</td>\n",
       "      <td>7.0198</td>\n",
       "      <td>0.4693</td>\n",
       "      <td>3041.6000</td>\n",
       "      <td>92.1018</td>\n",
       "      <td>0.0</td>\n",
       "      <td>7.50</td>\n",
       "    </tr>\n",
       "    <tr>\n",
       "      <th>293</th>\n",
       "      <td>294</td>\n",
       "      <td>20</td>\n",
       "      <td>20</td>\n",
       "      <td>2</td>\n",
       "      <td>5430</td>\n",
       "      <td>23.0126</td>\n",
       "      <td>10.5810</td>\n",
       "      <td>53.5489</td>\n",
       "      <td>32.7359</td>\n",
       "      <td>0.0189</td>\n",
       "      <td>208.2390</td>\n",
       "      <td>5.2572</td>\n",
       "      <td>0.4739</td>\n",
       "      <td>1525.5000</td>\n",
       "      <td>51.7503</td>\n",
       "      <td>0.0</td>\n",
       "      <td>5.60</td>\n",
       "    </tr>\n",
       "  </tbody>\n",
       "</table>\n",
       "<p>294 rows × 17 columns</p>\n",
       "</div>"
      ],
      "text/plain": [
       "     Unnamed: 0   1  15  18    21       25       26        39       41  \\\n",
       "0             1  21  23   2  4565  19.2765   8.9368   64.0391  31.8953   \n",
       "1             2  23  23   2  5633  21.2244  10.3336   74.0391  36.5154   \n",
       "2             3  25  23   2  6789  23.1790  10.6986  101.5489  38.1809   \n",
       "3             4  19  23   2  4133  19.1405   8.8411   48.5293  28.3529   \n",
       "4             5  19  23   2  4133  19.8407   9.3362   48.5293  28.3529   \n",
       "..          ...  ..  ..  ..   ...      ...      ...       ...      ...   \n",
       "289         290  24  20   2  7140  24.4034  11.5737   71.8135  35.8413   \n",
       "290         291  26  20   2  8452  26.3662  11.9433  101.0586  43.6179   \n",
       "291         292  23  20   2  6531  23.4237  10.3809   81.7744  37.2985   \n",
       "292         293  25  20   2  7801  25.3843  11.7554   77.0195  44.4808   \n",
       "293         294  20  20   2  5430  23.0126  10.5810   53.5489  32.7359   \n",
       "\n",
       "         58        69      83      85        141      155  166    Act  \n",
       "0    0.0154  200.4442  4.7239  0.5791  1092.3000  60.2772  0.0   1.58  \n",
       "1    0.0130  287.6204  5.5482  0.5512  1944.0000   0.0000  0.0   1.93  \n",
       "2    0.0134  257.3209  4.7255  0.5267  1775.2000  71.6216  0.0   2.65  \n",
       "3    0.0229  173.7359  4.9959  0.5006   704.6495  38.8341  0.0   1.46  \n",
       "4    0.0229  168.7834  4.1531  0.5455   831.6771  38.5247  0.0   2.95  \n",
       "..      ...       ...     ...     ...        ...      ...  ...    ...  \n",
       "289  0.0154  237.5433  5.8331  0.4988  1830.5000  66.9631  0.0   8.00  \n",
       "290  0.0134  312.0292  6.4319  0.4594  3013.9000  87.6958  0.0   6.70  \n",
       "291  0.0144  275.1655  6.3289  0.4893  2273.4000  79.4996  0.0  12.90  \n",
       "292  0.0131  330.3284  7.0198  0.4693  3041.6000  92.1018  0.0   7.50  \n",
       "293  0.0189  208.2390  5.2572  0.4739  1525.5000  51.7503  0.0   5.60  \n",
       "\n",
       "[294 rows x 17 columns]"
      ]
     },
     "execution_count": 90,
     "metadata": {},
     "output_type": "execute_result"
    }
   ],
   "source": [
    "df"
   ]
  },
  {
   "cell_type": "code",
   "execution_count": 91,
   "id": "2fc269f6",
   "metadata": {},
   "outputs": [],
   "source": [
    " X = df[['1', '15', '18', '21', '25', '26', '39', '41', '58', '69', '83', '85', '141', '155', '166']]"
   ]
  },
  {
   "cell_type": "code",
   "execution_count": 92,
   "id": "2267d85c",
   "metadata": {},
   "outputs": [
    {
     "data": {
      "text/html": [
       "<div>\n",
       "<style scoped>\n",
       "    .dataframe tbody tr th:only-of-type {\n",
       "        vertical-align: middle;\n",
       "    }\n",
       "\n",
       "    .dataframe tbody tr th {\n",
       "        vertical-align: top;\n",
       "    }\n",
       "\n",
       "    .dataframe thead th {\n",
       "        text-align: right;\n",
       "    }\n",
       "</style>\n",
       "<table border=\"1\" class=\"dataframe\">\n",
       "  <thead>\n",
       "    <tr style=\"text-align: right;\">\n",
       "      <th></th>\n",
       "      <th>1</th>\n",
       "      <th>15</th>\n",
       "      <th>18</th>\n",
       "      <th>21</th>\n",
       "      <th>25</th>\n",
       "      <th>26</th>\n",
       "      <th>39</th>\n",
       "      <th>41</th>\n",
       "      <th>58</th>\n",
       "      <th>69</th>\n",
       "      <th>83</th>\n",
       "      <th>85</th>\n",
       "      <th>141</th>\n",
       "      <th>155</th>\n",
       "      <th>166</th>\n",
       "    </tr>\n",
       "  </thead>\n",
       "  <tbody>\n",
       "    <tr>\n",
       "      <th>0</th>\n",
       "      <td>21</td>\n",
       "      <td>23</td>\n",
       "      <td>2</td>\n",
       "      <td>4565</td>\n",
       "      <td>19.2765</td>\n",
       "      <td>8.9368</td>\n",
       "      <td>64.0391</td>\n",
       "      <td>31.8953</td>\n",
       "      <td>0.0154</td>\n",
       "      <td>200.4442</td>\n",
       "      <td>4.7239</td>\n",
       "      <td>0.5791</td>\n",
       "      <td>1092.3000</td>\n",
       "      <td>60.2772</td>\n",
       "      <td>0.0</td>\n",
       "    </tr>\n",
       "    <tr>\n",
       "      <th>1</th>\n",
       "      <td>23</td>\n",
       "      <td>23</td>\n",
       "      <td>2</td>\n",
       "      <td>5633</td>\n",
       "      <td>21.2244</td>\n",
       "      <td>10.3336</td>\n",
       "      <td>74.0391</td>\n",
       "      <td>36.5154</td>\n",
       "      <td>0.0130</td>\n",
       "      <td>287.6204</td>\n",
       "      <td>5.5482</td>\n",
       "      <td>0.5512</td>\n",
       "      <td>1944.0000</td>\n",
       "      <td>0.0000</td>\n",
       "      <td>0.0</td>\n",
       "    </tr>\n",
       "    <tr>\n",
       "      <th>2</th>\n",
       "      <td>25</td>\n",
       "      <td>23</td>\n",
       "      <td>2</td>\n",
       "      <td>6789</td>\n",
       "      <td>23.1790</td>\n",
       "      <td>10.6986</td>\n",
       "      <td>101.5489</td>\n",
       "      <td>38.1809</td>\n",
       "      <td>0.0134</td>\n",
       "      <td>257.3209</td>\n",
       "      <td>4.7255</td>\n",
       "      <td>0.5267</td>\n",
       "      <td>1775.2000</td>\n",
       "      <td>71.6216</td>\n",
       "      <td>0.0</td>\n",
       "    </tr>\n",
       "    <tr>\n",
       "      <th>3</th>\n",
       "      <td>19</td>\n",
       "      <td>23</td>\n",
       "      <td>2</td>\n",
       "      <td>4133</td>\n",
       "      <td>19.1405</td>\n",
       "      <td>8.8411</td>\n",
       "      <td>48.5293</td>\n",
       "      <td>28.3529</td>\n",
       "      <td>0.0229</td>\n",
       "      <td>173.7359</td>\n",
       "      <td>4.9959</td>\n",
       "      <td>0.5006</td>\n",
       "      <td>704.6495</td>\n",
       "      <td>38.8341</td>\n",
       "      <td>0.0</td>\n",
       "    </tr>\n",
       "    <tr>\n",
       "      <th>4</th>\n",
       "      <td>19</td>\n",
       "      <td>23</td>\n",
       "      <td>2</td>\n",
       "      <td>4133</td>\n",
       "      <td>19.8407</td>\n",
       "      <td>9.3362</td>\n",
       "      <td>48.5293</td>\n",
       "      <td>28.3529</td>\n",
       "      <td>0.0229</td>\n",
       "      <td>168.7834</td>\n",
       "      <td>4.1531</td>\n",
       "      <td>0.5455</td>\n",
       "      <td>831.6771</td>\n",
       "      <td>38.5247</td>\n",
       "      <td>0.0</td>\n",
       "    </tr>\n",
       "    <tr>\n",
       "      <th>...</th>\n",
       "      <td>...</td>\n",
       "      <td>...</td>\n",
       "      <td>...</td>\n",
       "      <td>...</td>\n",
       "      <td>...</td>\n",
       "      <td>...</td>\n",
       "      <td>...</td>\n",
       "      <td>...</td>\n",
       "      <td>...</td>\n",
       "      <td>...</td>\n",
       "      <td>...</td>\n",
       "      <td>...</td>\n",
       "      <td>...</td>\n",
       "      <td>...</td>\n",
       "      <td>...</td>\n",
       "    </tr>\n",
       "    <tr>\n",
       "      <th>289</th>\n",
       "      <td>24</td>\n",
       "      <td>20</td>\n",
       "      <td>2</td>\n",
       "      <td>7140</td>\n",
       "      <td>24.4034</td>\n",
       "      <td>11.5737</td>\n",
       "      <td>71.8135</td>\n",
       "      <td>35.8413</td>\n",
       "      <td>0.0154</td>\n",
       "      <td>237.5433</td>\n",
       "      <td>5.8331</td>\n",
       "      <td>0.4988</td>\n",
       "      <td>1830.5000</td>\n",
       "      <td>66.9631</td>\n",
       "      <td>0.0</td>\n",
       "    </tr>\n",
       "    <tr>\n",
       "      <th>290</th>\n",
       "      <td>26</td>\n",
       "      <td>20</td>\n",
       "      <td>2</td>\n",
       "      <td>8452</td>\n",
       "      <td>26.3662</td>\n",
       "      <td>11.9433</td>\n",
       "      <td>101.0586</td>\n",
       "      <td>43.6179</td>\n",
       "      <td>0.0134</td>\n",
       "      <td>312.0292</td>\n",
       "      <td>6.4319</td>\n",
       "      <td>0.4594</td>\n",
       "      <td>3013.9000</td>\n",
       "      <td>87.6958</td>\n",
       "      <td>0.0</td>\n",
       "    </tr>\n",
       "    <tr>\n",
       "      <th>291</th>\n",
       "      <td>23</td>\n",
       "      <td>20</td>\n",
       "      <td>2</td>\n",
       "      <td>6531</td>\n",
       "      <td>23.4237</td>\n",
       "      <td>10.3809</td>\n",
       "      <td>81.7744</td>\n",
       "      <td>37.2985</td>\n",
       "      <td>0.0144</td>\n",
       "      <td>275.1655</td>\n",
       "      <td>6.3289</td>\n",
       "      <td>0.4893</td>\n",
       "      <td>2273.4000</td>\n",
       "      <td>79.4996</td>\n",
       "      <td>0.0</td>\n",
       "    </tr>\n",
       "    <tr>\n",
       "      <th>292</th>\n",
       "      <td>25</td>\n",
       "      <td>20</td>\n",
       "      <td>2</td>\n",
       "      <td>7801</td>\n",
       "      <td>25.3843</td>\n",
       "      <td>11.7554</td>\n",
       "      <td>77.0195</td>\n",
       "      <td>44.4808</td>\n",
       "      <td>0.0131</td>\n",
       "      <td>330.3284</td>\n",
       "      <td>7.0198</td>\n",
       "      <td>0.4693</td>\n",
       "      <td>3041.6000</td>\n",
       "      <td>92.1018</td>\n",
       "      <td>0.0</td>\n",
       "    </tr>\n",
       "    <tr>\n",
       "      <th>293</th>\n",
       "      <td>20</td>\n",
       "      <td>20</td>\n",
       "      <td>2</td>\n",
       "      <td>5430</td>\n",
       "      <td>23.0126</td>\n",
       "      <td>10.5810</td>\n",
       "      <td>53.5489</td>\n",
       "      <td>32.7359</td>\n",
       "      <td>0.0189</td>\n",
       "      <td>208.2390</td>\n",
       "      <td>5.2572</td>\n",
       "      <td>0.4739</td>\n",
       "      <td>1525.5000</td>\n",
       "      <td>51.7503</td>\n",
       "      <td>0.0</td>\n",
       "    </tr>\n",
       "  </tbody>\n",
       "</table>\n",
       "<p>294 rows × 15 columns</p>\n",
       "</div>"
      ],
      "text/plain": [
       "      1  15  18    21       25       26        39       41      58        69  \\\n",
       "0    21  23   2  4565  19.2765   8.9368   64.0391  31.8953  0.0154  200.4442   \n",
       "1    23  23   2  5633  21.2244  10.3336   74.0391  36.5154  0.0130  287.6204   \n",
       "2    25  23   2  6789  23.1790  10.6986  101.5489  38.1809  0.0134  257.3209   \n",
       "3    19  23   2  4133  19.1405   8.8411   48.5293  28.3529  0.0229  173.7359   \n",
       "4    19  23   2  4133  19.8407   9.3362   48.5293  28.3529  0.0229  168.7834   \n",
       "..   ..  ..  ..   ...      ...      ...       ...      ...     ...       ...   \n",
       "289  24  20   2  7140  24.4034  11.5737   71.8135  35.8413  0.0154  237.5433   \n",
       "290  26  20   2  8452  26.3662  11.9433  101.0586  43.6179  0.0134  312.0292   \n",
       "291  23  20   2  6531  23.4237  10.3809   81.7744  37.2985  0.0144  275.1655   \n",
       "292  25  20   2  7801  25.3843  11.7554   77.0195  44.4808  0.0131  330.3284   \n",
       "293  20  20   2  5430  23.0126  10.5810   53.5489  32.7359  0.0189  208.2390   \n",
       "\n",
       "         83      85        141      155  166  \n",
       "0    4.7239  0.5791  1092.3000  60.2772  0.0  \n",
       "1    5.5482  0.5512  1944.0000   0.0000  0.0  \n",
       "2    4.7255  0.5267  1775.2000  71.6216  0.0  \n",
       "3    4.9959  0.5006   704.6495  38.8341  0.0  \n",
       "4    4.1531  0.5455   831.6771  38.5247  0.0  \n",
       "..      ...     ...        ...      ...  ...  \n",
       "289  5.8331  0.4988  1830.5000  66.9631  0.0  \n",
       "290  6.4319  0.4594  3013.9000  87.6958  0.0  \n",
       "291  6.3289  0.4893  2273.4000  79.4996  0.0  \n",
       "292  7.0198  0.4693  3041.6000  92.1018  0.0  \n",
       "293  5.2572  0.4739  1525.5000  51.7503  0.0  \n",
       "\n",
       "[294 rows x 15 columns]"
      ]
     },
     "execution_count": 92,
     "metadata": {},
     "output_type": "execute_result"
    }
   ],
   "source": [
    "X"
   ]
  },
  {
   "cell_type": "code",
   "execution_count": 94,
   "id": "20c56a6c",
   "metadata": {},
   "outputs": [],
   "source": [
    "  y = df['Act']"
   ]
  },
  {
   "cell_type": "code",
   "execution_count": 95,
   "id": "cc7715fc",
   "metadata": {},
   "outputs": [
    {
     "data": {
      "text/plain": [
       "0       1.58\n",
       "1       1.93\n",
       "2       2.65\n",
       "3       1.46\n",
       "4       2.95\n",
       "       ...  \n",
       "289     8.00\n",
       "290     6.70\n",
       "291    12.90\n",
       "292     7.50\n",
       "293     5.60\n",
       "Name: Act, Length: 294, dtype: float64"
      ]
     },
     "execution_count": 95,
     "metadata": {},
     "output_type": "execute_result"
    }
   ],
   "source": [
    "y"
   ]
  },
  {
   "cell_type": "code",
   "execution_count": 96,
   "id": "1cb4dffc",
   "metadata": {},
   "outputs": [],
   "source": [
    "X_train, X_test, y_train, y_test = train_test_split(X, y, random_state=42, test_size=0.33, shuffle=True)"
   ]
  },
  {
   "cell_type": "code",
   "execution_count": 97,
   "id": "05fbbc3e",
   "metadata": {},
   "outputs": [
    {
     "data": {
      "text/plain": [
       "(196, 15)"
      ]
     },
     "execution_count": 97,
     "metadata": {},
     "output_type": "execute_result"
    }
   ],
   "source": [
    "X_train.shape"
   ]
  },
  {
   "cell_type": "code",
   "execution_count": 99,
   "id": "ee4871a7",
   "metadata": {},
   "outputs": [
    {
     "data": {
      "text/plain": [
       "(59, 15)"
      ]
     },
     "execution_count": 99,
     "metadata": {},
     "output_type": "execute_result"
    }
   ],
   "source": [
    "x_test.shape"
   ]
  },
  {
   "cell_type": "code",
   "execution_count": 134,
   "id": "30ef18cb",
   "metadata": {},
   "outputs": [],
   "source": [
    "regressor = svm.SVR()\n",
    "regressor = LinearRegression()\n",
    "regressor = SGDRegressor(max_iter=5000, tol=1e-3)\n",
    "regressor = KNeighborsRegressor(n_neighbors=5)\n",
    "regressor = MLPRegressor(hidden_layer_sizes=500, random_state=1, max_iter=100)\n",
    "regressor = AdaBoostRegressor(random_state=0, n_estimators=100)\n",
    "regressor = GradientBoostingRegressor(random_state=0)\n",
    "regressor = tree.DecisionTreeRegressor()\n",
    "regressor = linear_model.Ridge(alpha=.5)\n",
    "regressor = linear_model.Lasso(alpha=0.1)\n",
    "regressor = ElasticNet(random_state=0)\n",
    "regressor = KernelRidge(alpha=1.0)"
   ]
  },
  {
   "cell_type": "code",
   "execution_count": 135,
   "id": "8ef02493",
   "metadata": {},
   "outputs": [
    {
     "data": {
      "text/plain": [
       "KernelRidge(alpha=1.0)"
      ]
     },
     "execution_count": 135,
     "metadata": {},
     "output_type": "execute_result"
    }
   ],
   "source": [
    " regressor.fit(X_train, y_train)"
   ]
  },
  {
   "cell_type": "code",
   "execution_count": 117,
   "id": "98697777",
   "metadata": {},
   "outputs": [],
   "source": [
    "y_pred = nn.predict(X_test)"
   ]
  },
  {
   "cell_type": "code",
   "execution_count": 107,
   "id": "3505f451",
   "metadata": {},
   "outputs": [
    {
     "data": {
      "text/plain": [
       "array([ 66.69278988,  52.77563688, 329.97990574,  75.86076666,\n",
       "       197.09131243, 351.59267863, 280.25124926,  34.65830399,\n",
       "       308.87693445,  65.24148231,  58.42627886,  51.08917235,\n",
       "       190.25433652,  87.44932157, 303.59155107,  36.72744988,\n",
       "        55.54882678, 165.98740553,  28.84942736,  46.96059914,\n",
       "       158.68180789,  20.52259129,  23.4175953 , 283.58295537,\n",
       "       191.8180407 ,  44.50828358,  62.50052146, 166.95889161,\n",
       "        65.7061737 ,  68.08569014,  26.69924226, 310.74621556,\n",
       "       239.31491313, 364.48692147,  55.38753787, 312.593625  ,\n",
       "        44.76871321,  34.26463402,  94.56894876,  79.14468683,\n",
       "        72.16760308, 101.15079969, 132.06225259,  54.96290995,\n",
       "        93.39775461, 101.28664709,  75.97546286, 124.47780293,\n",
       "       116.4123944 , 105.63395764,  24.13376065, 115.18630535,\n",
       "       165.11760744,  60.48074586,  72.09685773, 203.33452762,\n",
       "       126.42857188, 321.78004435,  32.51131924, 117.30564916,\n",
       "        26.5986721 , 102.89566913,  59.64014325,  33.63940314,\n",
       "       204.24696668,  57.99804521,  61.51598841,  73.22748989,\n",
       "       372.26828409,  44.22044469, 137.00260788,  22.35267752,\n",
       "        78.11679465,  88.82241237,  85.55310609,  88.40814465,\n",
       "        52.77563688, 328.08524726,  49.76889483, 325.38556243,\n",
       "        91.9882279 , 103.32568899, 311.51394832, 221.87872782,\n",
       "       146.73498108,  76.20613578,  31.01790196, 229.69892891,\n",
       "       305.90511583, 298.45074829,  29.98254286,  71.34790555,\n",
       "       117.98049735, 175.90692201,  51.24556207,  67.17258333,\n",
       "       102.4803491 , 123.50420912])"
      ]
     },
     "execution_count": 107,
     "metadata": {},
     "output_type": "execute_result"
    }
   ],
   "source": [
    "y_pred"
   ]
  },
  {
   "cell_type": "code",
   "execution_count": 139,
   "id": "fdadb9c4",
   "metadata": {},
   "outputs": [
    {
     "name": "stdout",
     "output_type": "stream",
     "text": [
      "\n",
      "\n",
      "overall Performance: \n"
     ]
    }
   ],
   "source": [
    "print(\"\\n\")\n",
    "print(\"overall Performance: \", )"
   ]
  },
  {
   "cell_type": "code",
   "execution_count": 138,
   "id": "98898e4c",
   "metadata": {},
   "outputs": [],
   "source": [
    "  mae = metrics.mean_absolute_error(y_test, y_pred)\n",
    "  mse = metrics.mean_squared_error(y_test, y_pred)\n",
    "  r2 = metrics.r2_score(y_test, y_pred)"
   ]
  },
  {
   "cell_type": "code",
   "execution_count": 119,
   "id": "e4ff7e72",
   "metadata": {},
   "outputs": [
    {
     "name": "stdout",
     "output_type": "stream",
     "text": [
      "37.79764992176708 2461.354394046454 0.0036914498059460454\n"
     ]
    }
   ],
   "source": [
    "print (mae, mse, r2)"
   ]
  },
  {
   "cell_type": "code",
   "execution_count": 123,
   "id": "486b6f0f",
   "metadata": {},
   "outputs": [],
   "source": [
    "y_pred_train = nn.predict(X_train)"
   ]
  },
  {
   "cell_type": "code",
   "execution_count": 127,
   "id": "ec7419fe",
   "metadata": {},
   "outputs": [],
   "source": [
    "mae1 = metrics.mean_absolute_error(y_train, y_pred_train)\n",
    "mse1 = metrics.mean_squared_error(y_train, y_pred_train)\n",
    "r21 = metrics.r2_score(y_train, y_pred_train)"
   ]
  },
  {
   "cell_type": "code",
   "execution_count": 128,
   "id": "c2800ea5",
   "metadata": {},
   "outputs": [
    {
     "name": "stdout",
     "output_type": "stream",
     "text": [
      "39.14308951894411 2688.5753475131387 0.012985118376035998\n"
     ]
    }
   ],
   "source": [
    "print (mae1, mse1, r21)"
   ]
  },
  {
   "cell_type": "code",
   "execution_count": null,
   "id": "587ca9c7",
   "metadata": {},
   "outputs": [],
   "source": []
  },
  {
   "cell_type": "code",
   "execution_count": null,
   "id": "bb59afa1",
   "metadata": {},
   "outputs": [],
   "source": [
    "#to save the train and test datasets \n",
    "x_training, x_test, y_training, y_test = train_test_split(x,y,test_size=.2, random_state = 7000)"
   ]
  },
  {
   "cell_type": "code",
   "execution_count": 16,
   "id": "e4550c2c",
   "metadata": {},
   "outputs": [],
   "source": [
    "#stating the model with default parameter \n",
    "nn = MLPRegressor(learning_rate = \"constant\", activation = \"logistic\",\n",
    "          solver =\"sgd\", hidden_layer_sizes=16, random_state = 0)\n",
    "nn.max_iter=10000"
   ]
  },
  {
   "cell_type": "code",
   "execution_count": 18,
   "id": "bff2bcb9",
   "metadata": {},
   "outputs": [
    {
     "data": {
      "text/plain": [
       "MLPRegressor(activation='logistic', hidden_layer_sizes=16, max_iter=10000,\n",
       "             random_state=0, solver='sgd')"
      ]
     },
     "execution_count": 18,
     "metadata": {},
     "output_type": "execute_result"
    }
   ],
   "source": [
    "nn.fit (x_training, y_training)"
   ]
  },
  {
   "cell_type": "code",
   "execution_count": 19,
   "id": "67cc4c0b",
   "metadata": {},
   "outputs": [
    {
     "name": "stdout",
     "output_type": "stream",
     "text": [
      "0.03042289740057491\n"
     ]
    }
   ],
   "source": [
    "print(nn.score(x_test,y_test))"
   ]
  },
  {
   "cell_type": "code",
   "execution_count": 20,
   "id": "e721374a",
   "metadata": {},
   "outputs": [
    {
     "name": "stdout",
     "output_type": "stream",
     "text": [
      "0.05456590832800079\n"
     ]
    }
   ],
   "source": [
    "print(nn.score(x_training,y_training))"
   ]
  },
  {
   "cell_type": "code",
   "execution_count": 21,
   "id": "cd9a74b8",
   "metadata": {},
   "outputs": [],
   "source": [
    " # import models multilayer perceptrons\n",
    "from sklearn.neural_network import MLPRegressor"
   ]
  },
  {
   "cell_type": "code",
   "execution_count": 22,
   "id": "b26f2fec",
   "metadata": {},
   "outputs": [],
   "source": [
    "from sklearn.ensemble import RandomForestRegressor"
   ]
  },
  {
   "cell_type": "code",
   "execution_count": 24,
   "id": "859acc4d",
   "metadata": {},
   "outputs": [],
   "source": [
    "RF = RandomForestRegressor (n_estimators = 10, random_state = 0)"
   ]
  },
  {
   "cell_type": "code",
   "execution_count": 25,
   "id": "99a889ec",
   "metadata": {},
   "outputs": [
    {
     "data": {
      "text/plain": [
       "RandomForestRegressor(n_estimators=10, random_state=0)"
      ]
     },
     "execution_count": 25,
     "metadata": {},
     "output_type": "execute_result"
    }
   ],
   "source": [
    "RF.fit ( x_training, y_training)"
   ]
  },
  {
   "cell_type": "code",
   "execution_count": 26,
   "id": "c9ef3afa",
   "metadata": {},
   "outputs": [
    {
     "name": "stdout",
     "output_type": "stream",
     "text": [
      "0.6940017433114501\n"
     ]
    }
   ],
   "source": [
    "print(RF.score(x_test,y_test))"
   ]
  },
  {
   "cell_type": "code",
   "execution_count": 27,
   "id": "654a4b28",
   "metadata": {},
   "outputs": [
    {
     "name": "stdout",
     "output_type": "stream",
     "text": [
      "0.901042419637758\n"
     ]
    }
   ],
   "source": [
    "print(RF.score(x_training,y_training))"
   ]
  },
  {
   "cell_type": "code",
   "execution_count": 28,
   "id": "cc855c48",
   "metadata": {},
   "outputs": [],
   "source": [
    "from sklearn.model_selection import cross_val_score"
   ]
  },
  {
   "cell_type": "code",
   "execution_count": 30,
   "id": "35dc6d7a",
   "metadata": {},
   "outputs": [
    {
     "name": "stdout",
     "output_type": "stream",
     "text": [
      "[0.53731459 0.03348758 0.89490941 0.23889833 0.74233842]\n"
     ]
    }
   ],
   "source": [
    "print(-cross_val_score(nn,x,y.ravel(),cv=5,))"
   ]
  },
  {
   "cell_type": "code",
   "execution_count": 32,
   "id": "713e56fa",
   "metadata": {},
   "outputs": [
    {
     "name": "stdout",
     "output_type": "stream",
     "text": [
      "0.48938966756606084\n"
     ]
    }
   ],
   "source": [
    "print(-cross_val_score(nn,x,y.ravel(),cv=5,).mean())"
   ]
  },
  {
   "cell_type": "code",
   "execution_count": 33,
   "id": "60c5b7c3",
   "metadata": {},
   "outputs": [
    {
     "name": "stdout",
     "output_type": "stream",
     "text": [
      "[0.57685392 0.09794421 0.00346931 0.31032728 1.77960249]\n"
     ]
    }
   ],
   "source": [
    "print(-cross_val_score(RF,x,y.ravel(),cv=5,))"
   ]
  },
  {
   "cell_type": "code",
   "execution_count": 35,
   "id": "b27b9a02",
   "metadata": {},
   "outputs": [
    {
     "name": "stdout",
     "output_type": "stream",
     "text": [
      "0.5536394407313991\n"
     ]
    }
   ],
   "source": [
    "print(-cross_val_score(RF,x,y.ravel(),cv=5,).mean())"
   ]
  },
  {
   "cell_type": "code",
   "execution_count": 36,
   "id": "1c02c475",
   "metadata": {},
   "outputs": [],
   "source": [
    "from sklearn.model_selection import RandomizedSearchCV"
   ]
  },
  {
   "cell_type": "code",
   "execution_count": 37,
   "id": "2833c7fa",
   "metadata": {},
   "outputs": [],
   "source": [
    "# creatting parameter gride\n",
    "param_grid_nn= {'learning_rate': ['constant','adaptive','invscaling'], 'activation':['identity', 'logistic', 'tanh', 'relu'], \n",
    "    'solver': ['adm', 'sgd', 'lbfgs'], 'hidden_layer_sizes': [3,10,30]}"
   ]
  },
  {
   "cell_type": "code",
   "execution_count": 50,
   "id": "c34baa05",
   "metadata": {},
   "outputs": [
    {
     "name": "stdout",
     "output_type": "stream",
     "text": [
      "Fitting 5 folds for each of 100 candidates, totalling 500 fits\n"
     ]
    },
    {
     "name": "stderr",
     "output_type": "stream",
     "text": [
      "C:\\Python39\\lib\\site-packages\\sklearn\\model_selection\\_search.py:922: UserWarning: One or more of the test scores are non-finite: [-5.63088104e-01             nan             nan -3.90354204e-01\n",
      " -4.10793890e-01 -3.40895311e-01 -8.74292012e-01             nan\n",
      "             nan             nan             nan -1.67055997e+19\n",
      " -7.91494494e-02 -6.19675317e+16             nan             nan\n",
      "             nan             nan -4.25090445e-01             nan\n",
      " -6.07879664e-01             nan -6.30953460e-02             nan\n",
      "             nan -6.78223605e-02             nan -4.43311296e-01\n",
      " -6.07879664e-01             nan -4.10793890e-01             nan\n",
      "             nan -6.78223605e-02 -1.19100331e+17 -1.31274821e+19\n",
      " -2.19204017e-01 -4.43311296e-01             nan -3.40895311e-01\n",
      " -4.25090445e-01             nan             nan             nan\n",
      " -4.97464679e-01             nan -4.44007411e-01 -8.14623346e-02\n",
      " -4.05224132e-01 -5.15629832e-01             nan -4.86571357e-01\n",
      " -3.95723780e-01 -2.19204017e-01             nan -6.07879664e-01\n",
      " -8.74292012e-01 -4.85444439e-01             nan             nan\n",
      "             nan             nan             nan -6.50717502e+16\n",
      "             nan -7.88578118e+16 -7.37560963e-02 -7.91494494e-02\n",
      " -7.37560963e-02 -2.19968556e-01             nan -4.09214642e-01\n",
      " -7.37560963e-02 -6.30953460e-02             nan -5.49573931e-01\n",
      " -8.74292012e-01 -5.18523570e-01 -4.38324461e-01 -4.10793890e-01\n",
      "             nan -1.37850938e+19 -4.25090445e-01             nan\n",
      " -6.30953460e-02 -2.19204017e-01 -1.44332809e+17 -4.43311296e-01\n",
      "             nan -2.90554094e-01 -1.13418703e+17 -7.91494494e-02\n",
      "             nan             nan             nan             nan\n",
      " -3.81650293e-01 -8.14623346e-02 -3.40895311e-01             nan]\n",
      "  warnings.warn(\n"
     ]
    },
    {
     "data": {
      "text/plain": [
       "RandomizedSearchCV(cv=5,\n",
       "                   estimator=MLPRegressor(activation='logistic',\n",
       "                                          hidden_layer_sizes=16, max_iter=10000,\n",
       "                                          random_state=0, solver='sgd'),\n",
       "                   n_iter=100, n_jobs=-1,\n",
       "                   param_distributions={'activation': ['identity', 'logistic',\n",
       "                                                       'tanh', 'relu'],\n",
       "                                        'hidden_layer_sizes': [3, 10, 30],\n",
       "                                        'learning_rate': ['constant',\n",
       "                                                          'adaptive',\n",
       "                                                          'invscaling'],\n",
       "                                        'solver': ['adm', 'sgd', 'lbfgs']},\n",
       "                   scoring='r2', verbose=2)"
      ]
     },
     "execution_count": 50,
     "metadata": {},
     "output_type": "execute_result"
    }
   ],
   "source": [
    "#Instantiate randomized search CV and fit to dataset\n",
    "nn_random = RandomizedSearchCV(estimator =nn, param_distributions=param_grid_nn, n_iter = 100,\n",
    "                              cv = 5, verbose =2,\n",
    "                              n_jobs= -1, scoring = \"r2\" )\n",
    "nn_random.fit (x,y)"
   ]
  },
  {
   "cell_type": "code",
   "execution_count": 51,
   "id": "08ede83a",
   "metadata": {},
   "outputs": [
    {
     "data": {
      "text/plain": [
       "{'solver': 'lbfgs',\n",
       " 'learning_rate': 'adaptive',\n",
       " 'hidden_layer_sizes': 3,\n",
       " 'activation': 'identity'}"
      ]
     },
     "execution_count": 51,
     "metadata": {},
     "output_type": "execute_result"
    }
   ],
   "source": [
    "nn_random.best_params_"
   ]
  },
  {
   "cell_type": "code",
   "execution_count": 52,
   "id": "bee064b8",
   "metadata": {},
   "outputs": [],
   "source": [
    "nn1 = MLPRegressor(learning_rate = \"adaptive\", activation='identity', hidden_layer_sizes=3, max_iter=10000,\n",
    "             random_state=0, solver='lbfgs')"
   ]
  },
  {
   "cell_type": "code",
   "execution_count": 53,
   "id": "2f5ff319",
   "metadata": {},
   "outputs": [
    {
     "data": {
      "text/plain": [
       "MLPRegressor(activation='identity', hidden_layer_sizes=3,\n",
       "             learning_rate='adaptive', max_iter=10000, random_state=0,\n",
       "             solver='lbfgs')"
      ]
     },
     "execution_count": 53,
     "metadata": {},
     "output_type": "execute_result"
    }
   ],
   "source": [
    "nn1.fit (x_training, y_training)"
   ]
  },
  {
   "cell_type": "code",
   "execution_count": 54,
   "id": "dce15047",
   "metadata": {},
   "outputs": [
    {
     "name": "stdout",
     "output_type": "stream",
     "text": [
      "0.5399655148204336\n"
     ]
    }
   ],
   "source": [
    "print(nn1.score(x_training,y_training))"
   ]
  },
  {
   "cell_type": "code",
   "execution_count": 55,
   "id": "b8811303",
   "metadata": {},
   "outputs": [
    {
     "name": "stdout",
     "output_type": "stream",
     "text": [
      "0.5843890926843704\n"
     ]
    }
   ],
   "source": [
    "print(nn1.score(x_test,y_test))"
   ]
  },
  {
   "cell_type": "code",
   "execution_count": 56,
   "id": "00c5b023",
   "metadata": {},
   "outputs": [],
   "source": [
    "from sklearn.model_selection import cross_validate"
   ]
  },
  {
   "cell_type": "code",
   "execution_count": 62,
   "id": "ded6c6a8",
   "metadata": {},
   "outputs": [
    {
     "ename": "SyntaxError",
     "evalue": "invalid syntax (<ipython-input-62-4a93aad545ce>, line 2)",
     "output_type": "error",
     "traceback": [
      "\u001b[1;36m  File \u001b[1;32m\"<ipython-input-62-4a93aad545ce>\"\u001b[1;36m, line \u001b[1;32m2\u001b[0m\n\u001b[1;33m    scoring= \"r2\",\u001b[0m\n\u001b[1;37m    ^\u001b[0m\n\u001b[1;31mSyntaxError\u001b[0m\u001b[1;31m:\u001b[0m invalid syntax\n"
     ]
    }
   ],
   "source": [
    "scores = cross_validate(nn1,x, y, cv=5                      \n",
    "                        scoring= \"r2\",\n",
    "                        return_train_score=True)"
   ]
  },
  {
   "cell_type": "code",
   "execution_count": null,
   "id": "a828d87a",
   "metadata": {},
   "outputs": [],
   "source": []
  },
  {
   "cell_type": "code",
   "execution_count": null,
   "id": "1aebbc35",
   "metadata": {},
   "outputs": [],
   "source": []
  }
 ],
 "metadata": {
  "kernelspec": {
   "display_name": "Python 3",
   "language": "python",
   "name": "python3"
  },
  "language_info": {
   "codemirror_mode": {
    "name": "ipython",
    "version": 3
   },
   "file_extension": ".py",
   "mimetype": "text/x-python",
   "name": "python",
   "nbconvert_exporter": "python",
   "pygments_lexer": "ipython3",
   "version": "3.9.4"
  }
 },
 "nbformat": 4,
 "nbformat_minor": 5
}
