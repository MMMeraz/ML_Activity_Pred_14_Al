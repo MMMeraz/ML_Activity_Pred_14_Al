{
 "cells": [
  {
   "cell_type": "code",
   "execution_count": 1,
   "id": "6d6f1d90",
   "metadata": {},
   "outputs": [],
   "source": [
    "# Import Section\n",
    "import csv\n",
    "import codecs\n",
    "import sys\n",
    "import io\n",
    "import numpy as np\n",
    "import pandas as pd\n",
    "import scipy as sp\n",
    "\n",
    "# For Regression\n",
    "from sklearn.model_selection import train_test_split\n",
    "from sklearn.model_selection import cross_val_score\n",
    "from statistics import mean\n",
    "from sklearn.model_selection import learning_curve\n",
    "\n",
    "from sklearn import tree\n",
    "from sklearn import linear_model\n",
    "from sklearn.linear_model import ElasticNet\n",
    "from sklearn.kernel_ridge import KernelRidge\n",
    "\n",
    "# Python script for confusion matrix creation. \n",
    "from sklearn.metrics import *\n",
    "from numpy import mean\n",
    "from numpy import std\n",
    "from sklearn import metrics\n",
    "\n",
    "import catboost as cb"
   ]
  },
  {
   "cell_type": "code",
   "execution_count": 2,
   "id": "60f97037",
   "metadata": {},
   "outputs": [],
   "source": [
    "dataset=pd.read_excel(\"Train-R-M.xlsx\", index_col=0)"
   ]
  },
  {
   "cell_type": "code",
   "execution_count": 3,
   "id": "ec007b03",
   "metadata": {},
   "outputs": [
    {
     "data": {
      "text/plain": [
       "(15, 3)"
      ]
     },
     "execution_count": 3,
     "metadata": {},
     "output_type": "execute_result"
    }
   ],
   "source": [
    "dataset.shape"
   ]
  },
  {
   "cell_type": "code",
   "execution_count": 4,
   "id": "88dbd49e",
   "metadata": {},
   "outputs": [
    {
     "data": {
      "text/html": [
       "<div>\n",
       "<style scoped>\n",
       "    .dataframe tbody tr th:only-of-type {\n",
       "        vertical-align: middle;\n",
       "    }\n",
       "\n",
       "    .dataframe tbody tr th {\n",
       "        vertical-align: top;\n",
       "    }\n",
       "\n",
       "    .dataframe thead th {\n",
       "        text-align: right;\n",
       "    }\n",
       "</style>\n",
       "<table border=\"1\" class=\"dataframe\">\n",
       "  <thead>\n",
       "    <tr style=\"text-align: right;\">\n",
       "      <th></th>\n",
       "      <th>Training</th>\n",
       "      <th>R2</th>\n",
       "      <th>RMSE</th>\n",
       "    </tr>\n",
       "    <tr>\n",
       "      <th>No</th>\n",
       "      <th></th>\n",
       "      <th></th>\n",
       "      <th></th>\n",
       "    </tr>\n",
       "  </thead>\n",
       "  <tbody>\n",
       "    <tr>\n",
       "      <th>1</th>\n",
       "      <td>20</td>\n",
       "      <td>0.512490</td>\n",
       "      <td>0.340281</td>\n",
       "    </tr>\n",
       "    <tr>\n",
       "      <th>2</th>\n",
       "      <td>25</td>\n",
       "      <td>0.535405</td>\n",
       "      <td>0.330113</td>\n",
       "    </tr>\n",
       "    <tr>\n",
       "      <th>3</th>\n",
       "      <td>30</td>\n",
       "      <td>0.598043</td>\n",
       "      <td>0.304713</td>\n",
       "    </tr>\n",
       "    <tr>\n",
       "      <th>4</th>\n",
       "      <td>35</td>\n",
       "      <td>0.628435</td>\n",
       "      <td>0.293271</td>\n",
       "    </tr>\n",
       "    <tr>\n",
       "      <th>5</th>\n",
       "      <td>40</td>\n",
       "      <td>0.620917</td>\n",
       "      <td>0.298291</td>\n",
       "    </tr>\n",
       "    <tr>\n",
       "      <th>6</th>\n",
       "      <td>45</td>\n",
       "      <td>0.637479</td>\n",
       "      <td>0.293069</td>\n",
       "    </tr>\n",
       "    <tr>\n",
       "      <th>7</th>\n",
       "      <td>50</td>\n",
       "      <td>0.664535</td>\n",
       "      <td>0.286155</td>\n",
       "    </tr>\n",
       "    <tr>\n",
       "      <th>8</th>\n",
       "      <td>55</td>\n",
       "      <td>0.721165</td>\n",
       "      <td>0.252592</td>\n",
       "    </tr>\n",
       "    <tr>\n",
       "      <th>9</th>\n",
       "      <td>60</td>\n",
       "      <td>0.759116</td>\n",
       "      <td>0.237858</td>\n",
       "    </tr>\n",
       "    <tr>\n",
       "      <th>10</th>\n",
       "      <td>65</td>\n",
       "      <td>0.782341</td>\n",
       "      <td>0.226904</td>\n",
       "    </tr>\n",
       "    <tr>\n",
       "      <th>11</th>\n",
       "      <td>70</td>\n",
       "      <td>0.804384</td>\n",
       "      <td>0.223450</td>\n",
       "    </tr>\n",
       "    <tr>\n",
       "      <th>12</th>\n",
       "      <td>75</td>\n",
       "      <td>0.833851</td>\n",
       "      <td>0.206481</td>\n",
       "    </tr>\n",
       "    <tr>\n",
       "      <th>13</th>\n",
       "      <td>80</td>\n",
       "      <td>0.833864</td>\n",
       "      <td>0.208266</td>\n",
       "    </tr>\n",
       "    <tr>\n",
       "      <th>14</th>\n",
       "      <td>85</td>\n",
       "      <td>0.824514</td>\n",
       "      <td>0.201964</td>\n",
       "    </tr>\n",
       "    <tr>\n",
       "      <th>15</th>\n",
       "      <td>90</td>\n",
       "      <td>0.835889</td>\n",
       "      <td>0.196607</td>\n",
       "    </tr>\n",
       "  </tbody>\n",
       "</table>\n",
       "</div>"
      ],
      "text/plain": [
       "    Training         R2      RMSE\n",
       "No                               \n",
       "1          20  0.512490  0.340281\n",
       "2          25  0.535405  0.330113\n",
       "3          30  0.598043  0.304713\n",
       "4          35  0.628435  0.293271\n",
       "5          40  0.620917  0.298291\n",
       "6          45  0.637479  0.293069\n",
       "7          50  0.664535  0.286155\n",
       "8          55  0.721165  0.252592\n",
       "9          60  0.759116  0.237858\n",
       "10         65  0.782341  0.226904\n",
       "11         70  0.804384  0.223450\n",
       "12         75  0.833851  0.206481\n",
       "13         80  0.833864  0.208266\n",
       "14         85  0.824514  0.201964\n",
       "15         90  0.835889  0.196607"
      ]
     },
     "execution_count": 4,
     "metadata": {},
     "output_type": "execute_result"
    }
   ],
   "source": [
    "dataset"
   ]
  },
  {
   "cell_type": "code",
   "execution_count": 5,
   "id": "430bb8d8",
   "metadata": {},
   "outputs": [],
   "source": [
    "x=dataset.iloc[:, 0]"
   ]
  },
  {
   "cell_type": "code",
   "execution_count": 6,
   "id": "f673b4b1",
   "metadata": {},
   "outputs": [
    {
     "data": {
      "text/plain": [
       "No\n",
       "1     20\n",
       "2     25\n",
       "3     30\n",
       "4     35\n",
       "5     40\n",
       "6     45\n",
       "7     50\n",
       "8     55\n",
       "9     60\n",
       "10    65\n",
       "11    70\n",
       "12    75\n",
       "13    80\n",
       "14    85\n",
       "15    90\n",
       "Name: Training , dtype: int64"
      ]
     },
     "execution_count": 6,
     "metadata": {},
     "output_type": "execute_result"
    }
   ],
   "source": [
    "x"
   ]
  },
  {
   "cell_type": "code",
   "execution_count": 7,
   "id": "327037cf",
   "metadata": {},
   "outputs": [],
   "source": [
    "y=dataset.iloc[:, 1]"
   ]
  },
  {
   "cell_type": "code",
   "execution_count": 8,
   "id": "6540ffea",
   "metadata": {},
   "outputs": [
    {
     "data": {
      "text/plain": [
       "No\n",
       "1     0.512490\n",
       "2     0.535405\n",
       "3     0.598043\n",
       "4     0.628435\n",
       "5     0.620917\n",
       "6     0.637479\n",
       "7     0.664535\n",
       "8     0.721165\n",
       "9     0.759116\n",
       "10    0.782341\n",
       "11    0.804384\n",
       "12    0.833851\n",
       "13    0.833864\n",
       "14    0.824514\n",
       "15    0.835889\n",
       "Name:  R2, dtype: float64"
      ]
     },
     "execution_count": 8,
     "metadata": {},
     "output_type": "execute_result"
    }
   ],
   "source": [
    "y"
   ]
  },
  {
   "cell_type": "code",
   "execution_count": 9,
   "id": "38208274",
   "metadata": {},
   "outputs": [],
   "source": [
    "y1=dataset.iloc[:, 2]"
   ]
  },
  {
   "cell_type": "code",
   "execution_count": 10,
   "id": "38fcc30c",
   "metadata": {},
   "outputs": [
    {
     "data": {
      "text/plain": [
       "No\n",
       "1     0.340281\n",
       "2     0.330113\n",
       "3     0.304713\n",
       "4     0.293271\n",
       "5     0.298291\n",
       "6     0.293069\n",
       "7     0.286155\n",
       "8     0.252592\n",
       "9     0.237858\n",
       "10    0.226904\n",
       "11    0.223450\n",
       "12    0.206481\n",
       "13    0.208266\n",
       "14    0.201964\n",
       "15    0.196607\n",
       "Name: RMSE, dtype: float64"
      ]
     },
     "execution_count": 10,
     "metadata": {},
     "output_type": "execute_result"
    }
   ],
   "source": [
    "y1"
   ]
  },
  {
   "cell_type": "code",
   "execution_count": 11,
   "id": "92148ddb",
   "metadata": {},
   "outputs": [],
   "source": [
    "import matplotlib.pyplot as plt"
   ]
  },
  {
   "cell_type": "code",
   "execution_count": 12,
   "id": "ec213ecf",
   "metadata": {},
   "outputs": [],
   "source": [
    "#To see te %\n",
    "#x_labels = [f'{value}% ' for value in x ]"
   ]
  },
  {
   "cell_type": "code",
   "execution_count": 16,
   "id": "bd29d71e",
   "metadata": {},
   "outputs": [
    {
     "data": {
      "image/png": "[encoded data removed]",
      "text/plain": [
       "<Figure size 360x252 with 1 Axes>"
      ]
     },
     "metadata": {},
     "output_type": "display_data"
    }
   ],
   "source": [
    "# Plot learning curve\n",
    "plt.figure(figsize=(5, 3.5))\n",
    "plt.plot(x, y,'*-', color=\"b\", label='r')\n",
    "plt.xticks(x) \n",
    "# plt.xticks(x, x_labels)\n",
    "\n",
    "# Add labels and legend\n",
    "\n",
    "plt.xlabel('Training Set Data(%)', fontsize = 14, color=\"black\")\n",
    "plt.ylabel(' $R^2$ (Test set) ', fontsize = 14, color=\"black\")\n",
    "plt.title('CatBoost(29)', fontsize = 14)\n",
    "\n",
    "plt.style.use('seaborn-whitegrid')\n",
    "plt.show()"
   ]
  },
  {
   "cell_type": "code",
   "execution_count": 17,
   "id": "21d93cd5",
   "metadata": {},
   "outputs": [
    {
     "data": {
      "image/png": "[encoded data removed]",
      "text/plain": [
       "<Figure size 360x252 with 1 Axes>"
      ]
     },
     "metadata": {},
     "output_type": "display_data"
    }
   ],
   "source": [
    "# Plot learning curve\n",
    "plt.figure(figsize=(5, 3.5))\n",
    "plt.plot(x, y1,'*-', color=\"b\", label='r')\n",
    "plt.xticks(x)\n",
    "# plt.xticks(x, x_labels)\n",
    "\n",
    "# Add labels and legend\n",
    "\n",
    "plt.xlabel('Training Set Data (%)', fontsize = 14)\n",
    "plt.ylabel('RMSE (Test set)', fontsize = 14)\n",
    "plt.title('CatBoost(29)', fontsize = 14)\n",
    "plt.style.use('seaborn-whitegrid')\n",
    "plt.show()"
   ]
  },
  {
   "cell_type": "code",
   "execution_count": null,
   "id": "0fac6410",
   "metadata": {},
   "outputs": [],
   "source": [
    "X, Y = np.meshgrid(x, y)\n",
    "Z = np.zeros_like(X)\n",
    "\n",
    "plt.imshow(Z, cmap='gray', extent=[min(x), max(x), min(y), max(y)], alpha=0.2)\n",
    "\n",
    "plt.plot(x, y, marker='o')\n",
    "\n",
    "plt.xticks(x, [f'{value}% ' for value in x])\n",
    "\n",
    "# Plot learning curve\n",
    "plt.figure(figsize=(8, 7))\n",
    "plt.plot(x, y,'*-', color=\"r\", label='r')\n",
    "plt.xticks(x, x_labels)\n",
    "\n",
    "# Add labels and legend\n",
    "\n",
    "plt.xlabel('Training set Data (%)', fontsize = 12)\n",
    "plt.ylabel('Test set $R^2$ ', fontsize = 12)\n",
    "\n",
    "\n",
    "plt.show()"
   ]
  },
  {
   "cell_type": "code",
   "execution_count": null,
   "id": "3a88b613",
   "metadata": {},
   "outputs": [],
   "source": []
  }
 ],
 "metadata": {
  "kernelspec": {
   "display_name": "Python 3",
   "language": "python",
   "name": "python3"
  },
  "language_info": {
   "codemirror_mode": {
    "name": "ipython",
    "version": 3
   },
   "file_extension": ".py",
   "mimetype": "text/x-python",
   "name": "python",
   "nbconvert_exporter": "python",
   "pygments_lexer": "ipython3",
   "version": "3.9.4"
  }
 },
 "nbformat": 4,
 "nbformat_minor": 5
}
