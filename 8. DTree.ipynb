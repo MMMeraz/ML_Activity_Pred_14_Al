{
 "cells": [
  {
   "cell_type": "code",
   "execution_count": 1,
   "id": "6d6f1d90",
   "metadata": {},
   "outputs": [],
   "source": [
    "# Import Section\n",
    "import csv\n",
    "import codecs\n",
    "import sys\n",
    "import io\n",
    "import numpy as np\n",
    "import pandas as pd\n",
    "import scipy as sp\n",
    "\n",
    "# For Regression\n",
    "from sklearn.model_selection import train_test_split\n",
    "from sklearn.model_selection import cross_val_score\n",
    "from statistics import mean\n",
    "\n",
    "\n",
    "from sklearn import tree\n",
    "from sklearn.linear_model import ElasticNet\n",
    "from sklearn.kernel_ridge import KernelRidge\n",
    "\n",
    "# Python script for confusion matrix creation. \n",
    "from sklearn.metrics import *\n",
    "from numpy import mean\n",
    "from numpy import std\n",
    "from sklearn import metrics\n",
    "\n",
    "import matplotlib.pyplot as plt\n",
    "import seaborn as sns"
   ]
  },
  {
   "cell_type": "code",
   "execution_count": 2,
   "id": "69ae8fb6",
   "metadata": {},
   "outputs": [],
   "source": [
    "dataset=pd.read_excel(\"Des_cod_1056_92-29.xlsx\",index_col=0)"
   ]
  },
  {
   "cell_type": "code",
   "execution_count": 3,
   "id": "ec007b03",
   "metadata": {},
   "outputs": [
    {
     "data": {
      "text/plain": [
       "(1056, 30)"
      ]
     },
     "execution_count": 3,
     "metadata": {},
     "output_type": "execute_result"
    }
   ],
   "source": [
    "dataset.shape"
   ]
  },
  {
   "cell_type": "code",
   "execution_count": 4,
   "id": "6540ffea",
   "metadata": {},
   "outputs": [
    {
     "data": {
      "text/plain": [
       "Number of atoms                                                   0\n",
       "Relative number of N  atoms                                       0\n",
       "Relative number of Cl atoms                                       0\n",
       "Wiener index                                                      0\n",
       "Kier&Hall index (order 3)                                         0\n",
       "Average Information content (order 0)                             0\n",
       "Balaban index                                                     0\n",
       "Max partial charge for a N  atom [Zefirov's PC]                   0\n",
       "Min partial charge for a N  atom [Zefirov's PC]                   0\n",
       "Polarity parameter / square distance                              0\n",
       "PPSA-3 Atomic charge weighted PPSA [Zefirov's PC]                 0\n",
       "PNSA-3 Atomic charge weighted PNSA [Zefirov's PC]                 0\n",
       "RNCS Relative negative charged SA (SAMNEG*RNCG) [Zefirov's PC]    0\n",
       "LUMO energy                                                       0\n",
       "LUMO+1 energy                                                     0\n",
       "HOMO - LUMO energy gap                                            0\n",
       "Min electroph. react. index for a N atom                          0\n",
       "Max electroph. react. index for a N atom                          0\n",
       "Min electroph. react. index for a C atom                          0\n",
       "Min net atomic charge for a N atom                                0\n",
       "Max net atomic charge for a C atom                                0\n",
       "Tot dipole of the molecule                                        0\n",
       "Image of the Onsager-Kirkwood solvation energy                    0\n",
       "RNCS Relative negative charged SA (SAMNEG*RNCG) [QC PC]           0\n",
       "Max SIGMA-SIGMA bond order                                        0\n",
       "Max PI-PI bond order                                              0\n",
       "Min valency of a N atom                                           0\n",
       "Avg valency of a N atom                                           0\n",
       "Min (0.1) bond order of a N atom                                  0\n",
       "Act                                                               0\n",
       "dtype: int64"
      ]
     },
     "execution_count": 4,
     "metadata": {},
     "output_type": "execute_result"
    }
   ],
   "source": [
    "# to check the null values \n",
    "dataset.isnull().sum()"
   ]
  },
  {
   "cell_type": "code",
   "execution_count": 5,
   "id": "38fcc30c",
   "metadata": {},
   "outputs": [],
   "source": [
    "x = dataset.drop(['Act'],axis=1).astype (float)\n",
    "y = dataset['Act']"
   ]
  },
  {
   "cell_type": "code",
   "execution_count": 6,
   "id": "658a7f9e",
   "metadata": {},
   "outputs": [
    {
     "data": {
      "text/html": [
       "<div>\n",
       "<style scoped>\n",
       "    .dataframe tbody tr th:only-of-type {\n",
       "        vertical-align: middle;\n",
       "    }\n",
       "\n",
       "    .dataframe tbody tr th {\n",
       "        vertical-align: top;\n",
       "    }\n",
       "\n",
       "    .dataframe thead th {\n",
       "        text-align: right;\n",
       "    }\n",
       "</style>\n",
       "<table border=\"1\" class=\"dataframe\">\n",
       "  <thead>\n",
       "    <tr style=\"text-align: right;\">\n",
       "      <th></th>\n",
       "      <th>Number of atoms</th>\n",
       "      <th>Relative number of N  atoms</th>\n",
       "      <th>Relative number of Cl atoms</th>\n",
       "      <th>Wiener index</th>\n",
       "      <th>Kier&amp;Hall index (order 3)</th>\n",
       "      <th>Average Information content (order 0)</th>\n",
       "      <th>Balaban index</th>\n",
       "      <th>Max partial charge for a N  atom [Zefirov's PC]</th>\n",
       "      <th>Min partial charge for a N  atom [Zefirov's PC]</th>\n",
       "      <th>Polarity parameter / square distance</th>\n",
       "      <th>...</th>\n",
       "      <th>Min net atomic charge for a N atom</th>\n",
       "      <th>Max net atomic charge for a C atom</th>\n",
       "      <th>Tot dipole of the molecule</th>\n",
       "      <th>Image of the Onsager-Kirkwood solvation energy</th>\n",
       "      <th>RNCS Relative negative charged SA (SAMNEG*RNCG) [QC PC]</th>\n",
       "      <th>Max SIGMA-SIGMA bond order</th>\n",
       "      <th>Max PI-PI bond order</th>\n",
       "      <th>Min valency of a N atom</th>\n",
       "      <th>Avg valency of a N atom</th>\n",
       "      <th>Min (0.1) bond order of a N atom</th>\n",
       "    </tr>\n",
       "    <tr>\n",
       "      <th>Structure</th>\n",
       "      <th></th>\n",
       "      <th></th>\n",
       "      <th></th>\n",
       "      <th></th>\n",
       "      <th></th>\n",
       "      <th></th>\n",
       "      <th></th>\n",
       "      <th></th>\n",
       "      <th></th>\n",
       "      <th></th>\n",
       "      <th></th>\n",
       "      <th></th>\n",
       "      <th></th>\n",
       "      <th></th>\n",
       "      <th></th>\n",
       "      <th></th>\n",
       "      <th></th>\n",
       "      <th></th>\n",
       "      <th></th>\n",
       "      <th></th>\n",
       "      <th></th>\n",
       "    </tr>\n",
       "  </thead>\n",
       "  <tbody>\n",
       "    <tr>\n",
       "      <th>\"1Co\"</th>\n",
       "      <td>101.0</td>\n",
       "      <td>0.0297</td>\n",
       "      <td>0.0198</td>\n",
       "      <td>26631.0</td>\n",
       "      <td>9.9558</td>\n",
       "      <td>1.6397</td>\n",
       "      <td>0.8438</td>\n",
       "      <td>-0.0893</td>\n",
       "      <td>-0.0926</td>\n",
       "      <td>0.1809</td>\n",
       "      <td>...</td>\n",
       "      <td>-0.4922</td>\n",
       "      <td>0.2878</td>\n",
       "      <td>9.4339</td>\n",
       "      <td>0.1088</td>\n",
       "      <td>0.3086</td>\n",
       "      <td>0.9950</td>\n",
       "      <td>0.9488</td>\n",
       "      <td>3.1423</td>\n",
       "      <td>3.2054</td>\n",
       "      <td>0.2697</td>\n",
       "    </tr>\n",
       "    <tr>\n",
       "      <th>\"2Co\"</th>\n",
       "      <td>107.0</td>\n",
       "      <td>0.0280</td>\n",
       "      <td>0.0187</td>\n",
       "      <td>29652.0</td>\n",
       "      <td>10.4813</td>\n",
       "      <td>1.6785</td>\n",
       "      <td>0.9663</td>\n",
       "      <td>-0.0893</td>\n",
       "      <td>-0.0924</td>\n",
       "      <td>0.1626</td>\n",
       "      <td>...</td>\n",
       "      <td>-0.5047</td>\n",
       "      <td>0.2677</td>\n",
       "      <td>8.7587</td>\n",
       "      <td>0.0907</td>\n",
       "      <td>0.2536</td>\n",
       "      <td>0.9962</td>\n",
       "      <td>0.9470</td>\n",
       "      <td>3.1279</td>\n",
       "      <td>3.1937</td>\n",
       "      <td>0.2686</td>\n",
       "    </tr>\n",
       "    <tr>\n",
       "      <th>\"3Co\"</th>\n",
       "      <td>113.0</td>\n",
       "      <td>0.0265</td>\n",
       "      <td>0.0177</td>\n",
       "      <td>32339.0</td>\n",
       "      <td>10.8588</td>\n",
       "      <td>1.6722</td>\n",
       "      <td>0.8453</td>\n",
       "      <td>-0.0892</td>\n",
       "      <td>-0.0923</td>\n",
       "      <td>0.1809</td>\n",
       "      <td>...</td>\n",
       "      <td>-0.4981</td>\n",
       "      <td>0.2876</td>\n",
       "      <td>9.3381</td>\n",
       "      <td>0.0998</td>\n",
       "      <td>0.2020</td>\n",
       "      <td>0.9960</td>\n",
       "      <td>0.9490</td>\n",
       "      <td>3.1339</td>\n",
       "      <td>3.2001</td>\n",
       "      <td>0.2607</td>\n",
       "    </tr>\n",
       "    <tr>\n",
       "      <th>\"4Co\"</th>\n",
       "      <td>104.0</td>\n",
       "      <td>0.0288</td>\n",
       "      <td>0.0192</td>\n",
       "      <td>28065.0</td>\n",
       "      <td>10.1517</td>\n",
       "      <td>1.6509</td>\n",
       "      <td>0.8427</td>\n",
       "      <td>-0.0893</td>\n",
       "      <td>-0.0926</td>\n",
       "      <td>0.1809</td>\n",
       "      <td>...</td>\n",
       "      <td>-0.4933</td>\n",
       "      <td>0.2872</td>\n",
       "      <td>9.2435</td>\n",
       "      <td>0.1027</td>\n",
       "      <td>0.1485</td>\n",
       "      <td>0.9951</td>\n",
       "      <td>0.9489</td>\n",
       "      <td>3.1410</td>\n",
       "      <td>3.2049</td>\n",
       "      <td>0.2687</td>\n",
       "    </tr>\n",
       "    <tr>\n",
       "      <th>\"5Co\"</th>\n",
       "      <td>110.0</td>\n",
       "      <td>0.0273</td>\n",
       "      <td>0.0182</td>\n",
       "      <td>31138.0</td>\n",
       "      <td>10.6903</td>\n",
       "      <td>1.6850</td>\n",
       "      <td>0.9670</td>\n",
       "      <td>-0.0893</td>\n",
       "      <td>-0.0924</td>\n",
       "      <td>0.1626</td>\n",
       "      <td>...</td>\n",
       "      <td>-0.5049</td>\n",
       "      <td>0.2648</td>\n",
       "      <td>8.4606</td>\n",
       "      <td>0.0832</td>\n",
       "      <td>0.2797</td>\n",
       "      <td>0.9962</td>\n",
       "      <td>0.9471</td>\n",
       "      <td>3.1275</td>\n",
       "      <td>3.1930</td>\n",
       "      <td>0.2680</td>\n",
       "    </tr>\n",
       "    <tr>\n",
       "      <th>...</th>\n",
       "      <td>...</td>\n",
       "      <td>...</td>\n",
       "      <td>...</td>\n",
       "      <td>...</td>\n",
       "      <td>...</td>\n",
       "      <td>...</td>\n",
       "      <td>...</td>\n",
       "      <td>...</td>\n",
       "      <td>...</td>\n",
       "      <td>...</td>\n",
       "      <td>...</td>\n",
       "      <td>...</td>\n",
       "      <td>...</td>\n",
       "      <td>...</td>\n",
       "      <td>...</td>\n",
       "      <td>...</td>\n",
       "      <td>...</td>\n",
       "      <td>...</td>\n",
       "      <td>...</td>\n",
       "      <td>...</td>\n",
       "      <td>...</td>\n",
       "    </tr>\n",
       "    <tr>\n",
       "      <th>\"1052Co\"</th>\n",
       "      <td>86.0</td>\n",
       "      <td>0.0349</td>\n",
       "      <td>0.0233</td>\n",
       "      <td>17187.0</td>\n",
       "      <td>8.0898</td>\n",
       "      <td>1.7691</td>\n",
       "      <td>0.9049</td>\n",
       "      <td>-0.0892</td>\n",
       "      <td>-0.0923</td>\n",
       "      <td>0.1752</td>\n",
       "      <td>...</td>\n",
       "      <td>-0.4897</td>\n",
       "      <td>0.3161</td>\n",
       "      <td>9.7498</td>\n",
       "      <td>0.1395</td>\n",
       "      <td>0.3712</td>\n",
       "      <td>0.9947</td>\n",
       "      <td>0.9671</td>\n",
       "      <td>3.1652</td>\n",
       "      <td>3.1986</td>\n",
       "      <td>0.2608</td>\n",
       "    </tr>\n",
       "    <tr>\n",
       "      <th>\"1053Co\"</th>\n",
       "      <td>74.0</td>\n",
       "      <td>0.0405</td>\n",
       "      <td>0.0270</td>\n",
       "      <td>13291.0</td>\n",
       "      <td>7.1869</td>\n",
       "      <td>1.7552</td>\n",
       "      <td>0.8931</td>\n",
       "      <td>-0.0893</td>\n",
       "      <td>-0.0926</td>\n",
       "      <td>0.1752</td>\n",
       "      <td>...</td>\n",
       "      <td>-0.4864</td>\n",
       "      <td>0.3158</td>\n",
       "      <td>10.0471</td>\n",
       "      <td>0.1614</td>\n",
       "      <td>0.6300</td>\n",
       "      <td>0.9946</td>\n",
       "      <td>0.9681</td>\n",
       "      <td>3.1698</td>\n",
       "      <td>3.2042</td>\n",
       "      <td>0.2656</td>\n",
       "    </tr>\n",
       "    <tr>\n",
       "      <th>\"1054Co\"</th>\n",
       "      <td>80.0</td>\n",
       "      <td>0.0375</td>\n",
       "      <td>0.0250</td>\n",
       "      <td>15195.0</td>\n",
       "      <td>7.7123</td>\n",
       "      <td>1.7671</td>\n",
       "      <td>0.8967</td>\n",
       "      <td>-0.0893</td>\n",
       "      <td>-0.0924</td>\n",
       "      <td>0.1752</td>\n",
       "      <td>...</td>\n",
       "      <td>-0.4876</td>\n",
       "      <td>0.3160</td>\n",
       "      <td>9.8221</td>\n",
       "      <td>0.1476</td>\n",
       "      <td>0.4963</td>\n",
       "      <td>0.9955</td>\n",
       "      <td>0.9677</td>\n",
       "      <td>3.1676</td>\n",
       "      <td>3.2025</td>\n",
       "      <td>0.2633</td>\n",
       "    </tr>\n",
       "    <tr>\n",
       "      <th>\"1055Co\"</th>\n",
       "      <td>86.0</td>\n",
       "      <td>0.0349</td>\n",
       "      <td>0.0233</td>\n",
       "      <td>17187.0</td>\n",
       "      <td>8.0898</td>\n",
       "      <td>1.7691</td>\n",
       "      <td>0.9049</td>\n",
       "      <td>-0.0892</td>\n",
       "      <td>-0.0923</td>\n",
       "      <td>0.1752</td>\n",
       "      <td>...</td>\n",
       "      <td>-0.4897</td>\n",
       "      <td>0.3161</td>\n",
       "      <td>9.7498</td>\n",
       "      <td>0.1395</td>\n",
       "      <td>0.3712</td>\n",
       "      <td>0.9947</td>\n",
       "      <td>0.9671</td>\n",
       "      <td>3.1652</td>\n",
       "      <td>3.1986</td>\n",
       "      <td>0.2608</td>\n",
       "    </tr>\n",
       "    <tr>\n",
       "      <th>\"1056Co\"</th>\n",
       "      <td>77.0</td>\n",
       "      <td>0.0390</td>\n",
       "      <td>0.0260</td>\n",
       "      <td>14257.0</td>\n",
       "      <td>7.3828</td>\n",
       "      <td>1.7627</td>\n",
       "      <td>0.8938</td>\n",
       "      <td>-0.0893</td>\n",
       "      <td>-0.0926</td>\n",
       "      <td>0.1752</td>\n",
       "      <td>...</td>\n",
       "      <td>-0.4865</td>\n",
       "      <td>0.3155</td>\n",
       "      <td>9.7558</td>\n",
       "      <td>0.1488</td>\n",
       "      <td>0.6034</td>\n",
       "      <td>0.9948</td>\n",
       "      <td>0.9679</td>\n",
       "      <td>3.1695</td>\n",
       "      <td>3.2040</td>\n",
       "      <td>0.2658</td>\n",
       "    </tr>\n",
       "  </tbody>\n",
       "</table>\n",
       "<p>1056 rows × 29 columns</p>\n",
       "</div>"
      ],
      "text/plain": [
       "           Number of atoms  Relative number of N  atoms  \\\n",
       "Structure                                                 \n",
       "\"1Co\"                101.0                       0.0297   \n",
       "\"2Co\"                107.0                       0.0280   \n",
       "\"3Co\"                113.0                       0.0265   \n",
       "\"4Co\"                104.0                       0.0288   \n",
       "\"5Co\"                110.0                       0.0273   \n",
       "...                    ...                          ...   \n",
       "\"1052Co\"              86.0                       0.0349   \n",
       "\"1053Co\"              74.0                       0.0405   \n",
       "\"1054Co\"              80.0                       0.0375   \n",
       "\"1055Co\"              86.0                       0.0349   \n",
       "\"1056Co\"              77.0                       0.0390   \n",
       "\n",
       "           Relative number of Cl atoms  Wiener index  \\\n",
       "Structure                                              \n",
       "\"1Co\"                           0.0198       26631.0   \n",
       "\"2Co\"                           0.0187       29652.0   \n",
       "\"3Co\"                           0.0177       32339.0   \n",
       "\"4Co\"                           0.0192       28065.0   \n",
       "\"5Co\"                           0.0182       31138.0   \n",
       "...                                ...           ...   \n",
       "\"1052Co\"                        0.0233       17187.0   \n",
       "\"1053Co\"                        0.0270       13291.0   \n",
       "\"1054Co\"                        0.0250       15195.0   \n",
       "\"1055Co\"                        0.0233       17187.0   \n",
       "\"1056Co\"                        0.0260       14257.0   \n",
       "\n",
       "           Kier&Hall index (order 3)  Average Information content (order 0)  \\\n",
       "Structure                                                                     \n",
       "\"1Co\"                         9.9558                                 1.6397   \n",
       "\"2Co\"                        10.4813                                 1.6785   \n",
       "\"3Co\"                        10.8588                                 1.6722   \n",
       "\"4Co\"                        10.1517                                 1.6509   \n",
       "\"5Co\"                        10.6903                                 1.6850   \n",
       "...                              ...                                    ...   \n",
       "\"1052Co\"                      8.0898                                 1.7691   \n",
       "\"1053Co\"                      7.1869                                 1.7552   \n",
       "\"1054Co\"                      7.7123                                 1.7671   \n",
       "\"1055Co\"                      8.0898                                 1.7691   \n",
       "\"1056Co\"                      7.3828                                 1.7627   \n",
       "\n",
       "           Balaban index  Max partial charge for a N  atom [Zefirov's PC]  \\\n",
       "Structure                                                                   \n",
       "\"1Co\"             0.8438                                          -0.0893   \n",
       "\"2Co\"             0.9663                                          -0.0893   \n",
       "\"3Co\"             0.8453                                          -0.0892   \n",
       "\"4Co\"             0.8427                                          -0.0893   \n",
       "\"5Co\"             0.9670                                          -0.0893   \n",
       "...                  ...                                              ...   \n",
       "\"1052Co\"          0.9049                                          -0.0892   \n",
       "\"1053Co\"          0.8931                                          -0.0893   \n",
       "\"1054Co\"          0.8967                                          -0.0893   \n",
       "\"1055Co\"          0.9049                                          -0.0892   \n",
       "\"1056Co\"          0.8938                                          -0.0893   \n",
       "\n",
       "           Min partial charge for a N  atom [Zefirov's PC]  \\\n",
       "Structure                                                    \n",
       "\"1Co\"                                              -0.0926   \n",
       "\"2Co\"                                              -0.0924   \n",
       "\"3Co\"                                              -0.0923   \n",
       "\"4Co\"                                              -0.0926   \n",
       "\"5Co\"                                              -0.0924   \n",
       "...                                                    ...   \n",
       "\"1052Co\"                                           -0.0923   \n",
       "\"1053Co\"                                           -0.0926   \n",
       "\"1054Co\"                                           -0.0924   \n",
       "\"1055Co\"                                           -0.0923   \n",
       "\"1056Co\"                                           -0.0926   \n",
       "\n",
       "           Polarity parameter / square distance  ...  \\\n",
       "Structure                                        ...   \n",
       "\"1Co\"                                    0.1809  ...   \n",
       "\"2Co\"                                    0.1626  ...   \n",
       "\"3Co\"                                    0.1809  ...   \n",
       "\"4Co\"                                    0.1809  ...   \n",
       "\"5Co\"                                    0.1626  ...   \n",
       "...                                         ...  ...   \n",
       "\"1052Co\"                                 0.1752  ...   \n",
       "\"1053Co\"                                 0.1752  ...   \n",
       "\"1054Co\"                                 0.1752  ...   \n",
       "\"1055Co\"                                 0.1752  ...   \n",
       "\"1056Co\"                                 0.1752  ...   \n",
       "\n",
       "           Min net atomic charge for a N atom  \\\n",
       "Structure                                       \n",
       "\"1Co\"                                 -0.4922   \n",
       "\"2Co\"                                 -0.5047   \n",
       "\"3Co\"                                 -0.4981   \n",
       "\"4Co\"                                 -0.4933   \n",
       "\"5Co\"                                 -0.5049   \n",
       "...                                       ...   \n",
       "\"1052Co\"                              -0.4897   \n",
       "\"1053Co\"                              -0.4864   \n",
       "\"1054Co\"                              -0.4876   \n",
       "\"1055Co\"                              -0.4897   \n",
       "\"1056Co\"                              -0.4865   \n",
       "\n",
       "           Max net atomic charge for a C atom  Tot dipole of the molecule  \\\n",
       "Structure                                                                   \n",
       "\"1Co\"                                  0.2878                      9.4339   \n",
       "\"2Co\"                                  0.2677                      8.7587   \n",
       "\"3Co\"                                  0.2876                      9.3381   \n",
       "\"4Co\"                                  0.2872                      9.2435   \n",
       "\"5Co\"                                  0.2648                      8.4606   \n",
       "...                                       ...                         ...   \n",
       "\"1052Co\"                               0.3161                      9.7498   \n",
       "\"1053Co\"                               0.3158                     10.0471   \n",
       "\"1054Co\"                               0.3160                      9.8221   \n",
       "\"1055Co\"                               0.3161                      9.7498   \n",
       "\"1056Co\"                               0.3155                      9.7558   \n",
       "\n",
       "           Image of the Onsager-Kirkwood solvation energy  \\\n",
       "Structure                                                   \n",
       "\"1Co\"                                              0.1088   \n",
       "\"2Co\"                                              0.0907   \n",
       "\"3Co\"                                              0.0998   \n",
       "\"4Co\"                                              0.1027   \n",
       "\"5Co\"                                              0.0832   \n",
       "...                                                   ...   \n",
       "\"1052Co\"                                           0.1395   \n",
       "\"1053Co\"                                           0.1614   \n",
       "\"1054Co\"                                           0.1476   \n",
       "\"1055Co\"                                           0.1395   \n",
       "\"1056Co\"                                           0.1488   \n",
       "\n",
       "           RNCS Relative negative charged SA (SAMNEG*RNCG) [QC PC]  \\\n",
       "Structure                                                            \n",
       "\"1Co\"                                                 0.3086         \n",
       "\"2Co\"                                                 0.2536         \n",
       "\"3Co\"                                                 0.2020         \n",
       "\"4Co\"                                                 0.1485         \n",
       "\"5Co\"                                                 0.2797         \n",
       "...                                                      ...         \n",
       "\"1052Co\"                                              0.3712         \n",
       "\"1053Co\"                                              0.6300         \n",
       "\"1054Co\"                                              0.4963         \n",
       "\"1055Co\"                                              0.3712         \n",
       "\"1056Co\"                                              0.6034         \n",
       "\n",
       "           Max SIGMA-SIGMA bond order  Max PI-PI bond order  \\\n",
       "Structure                                                     \n",
       "\"1Co\"                          0.9950                0.9488   \n",
       "\"2Co\"                          0.9962                0.9470   \n",
       "\"3Co\"                          0.9960                0.9490   \n",
       "\"4Co\"                          0.9951                0.9489   \n",
       "\"5Co\"                          0.9962                0.9471   \n",
       "...                               ...                   ...   \n",
       "\"1052Co\"                       0.9947                0.9671   \n",
       "\"1053Co\"                       0.9946                0.9681   \n",
       "\"1054Co\"                       0.9955                0.9677   \n",
       "\"1055Co\"                       0.9947                0.9671   \n",
       "\"1056Co\"                       0.9948                0.9679   \n",
       "\n",
       "           Min valency of a N atom  Avg valency of a N atom  \\\n",
       "Structure                                                     \n",
       "\"1Co\"                       3.1423                   3.2054   \n",
       "\"2Co\"                       3.1279                   3.1937   \n",
       "\"3Co\"                       3.1339                   3.2001   \n",
       "\"4Co\"                       3.1410                   3.2049   \n",
       "\"5Co\"                       3.1275                   3.1930   \n",
       "...                            ...                      ...   \n",
       "\"1052Co\"                    3.1652                   3.1986   \n",
       "\"1053Co\"                    3.1698                   3.2042   \n",
       "\"1054Co\"                    3.1676                   3.2025   \n",
       "\"1055Co\"                    3.1652                   3.1986   \n",
       "\"1056Co\"                    3.1695                   3.2040   \n",
       "\n",
       "           Min (0.1) bond order of a N atom  \n",
       "Structure                                    \n",
       "\"1Co\"                                0.2697  \n",
       "\"2Co\"                                0.2686  \n",
       "\"3Co\"                                0.2607  \n",
       "\"4Co\"                                0.2687  \n",
       "\"5Co\"                                0.2680  \n",
       "...                                     ...  \n",
       "\"1052Co\"                             0.2608  \n",
       "\"1053Co\"                             0.2656  \n",
       "\"1054Co\"                             0.2633  \n",
       "\"1055Co\"                             0.2608  \n",
       "\"1056Co\"                             0.2658  \n",
       "\n",
       "[1056 rows x 29 columns]"
      ]
     },
     "execution_count": 6,
     "metadata": {},
     "output_type": "execute_result"
    }
   ],
   "source": [
    "x"
   ]
  },
  {
   "cell_type": "code",
   "execution_count": 7,
   "id": "d3598127",
   "metadata": {},
   "outputs": [
    {
     "data": {
      "text/plain": [
       "Structure\n",
       "\"1Co\"       0.853\n",
       "\"2Co\"       0.987\n",
       "\"3Co\"       0.773\n",
       "\"4Co\"       0.760\n",
       "\"5Co\"       0.893\n",
       "            ...  \n",
       "\"1052Co\"    0.370\n",
       "\"1053Co\"    1.020\n",
       "\"1054Co\"    0.832\n",
       "\"1055Co\"    0.701\n",
       "\"1056Co\"    1.090\n",
       "Name: Act, Length: 1056, dtype: float64"
      ]
     },
     "execution_count": 7,
     "metadata": {},
     "output_type": "execute_result"
    }
   ],
   "source": [
    "y"
   ]
  },
  {
   "cell_type": "code",
   "execution_count": 8,
   "id": "174dcd4e",
   "metadata": {},
   "outputs": [],
   "source": [
    "x_train, x_test, y_train, y_test = train_test_split(x,y,test_size=.2, random_state = 47, shuffle=True)"
   ]
  },
  {
   "cell_type": "code",
   "execution_count": 9,
   "id": "58d9dc52",
   "metadata": {},
   "outputs": [
    {
     "data": {
      "text/plain": [
       "(212, 29)"
      ]
     },
     "execution_count": 9,
     "metadata": {},
     "output_type": "execute_result"
    }
   ],
   "source": [
    "x_test.shape"
   ]
  },
  {
   "cell_type": "code",
   "execution_count": 10,
   "id": "95e85f0f",
   "metadata": {},
   "outputs": [
    {
     "data": {
      "text/plain": [
       "(844, 29)"
      ]
     },
     "execution_count": 10,
     "metadata": {},
     "output_type": "execute_result"
    }
   ],
   "source": [
    "x_train.shape"
   ]
  },
  {
   "cell_type": "code",
   "execution_count": 11,
   "id": "e0c1893a",
   "metadata": {},
   "outputs": [],
   "source": [
    "# scealing is required for indepandent variables at ANN\n",
    "#from sklearn.preprocessing import StandardScaler"
   ]
  },
  {
   "cell_type": "code",
   "execution_count": 12,
   "id": "99a01ad3",
   "metadata": {},
   "outputs": [],
   "source": [
    "regressor = tree.DecisionTreeRegressor( min_samples_split= 2, min_samples_leaf=10,\n",
    "                   max_leaf_nodes= 60, max_features= 'auto', max_depth= None, criterion= 'friedman_mse', splitter = 'best', \n",
    "                                       random_state=42)\n",
    "  #regressor = ElasticNet(random_state=0)\n",
    "  #regressor = KernelRidge(alpha=1.0)"
   ]
  },
  {
   "cell_type": "code",
   "execution_count": 13,
   "id": "5a352a7b",
   "metadata": {},
   "outputs": [],
   "source": [
    "import time\n",
    "from datetime import timedelta\n",
    "start_time = time.monotonic()"
   ]
  },
  {
   "cell_type": "code",
   "execution_count": 14,
   "id": "4e94da1a",
   "metadata": {},
   "outputs": [
    {
     "data": {
      "text/plain": [
       "DecisionTreeRegressor(criterion='friedman_mse', max_features='auto',\n",
       "                      max_leaf_nodes=60, min_samples_leaf=10, random_state=42)"
      ]
     },
     "execution_count": 14,
     "metadata": {},
     "output_type": "execute_result"
    }
   ],
   "source": [
    " regressor.fit(x_train, y_train)"
   ]
  },
  {
   "cell_type": "code",
   "execution_count": 15,
   "id": "e3d09ebd",
   "metadata": {},
   "outputs": [
    {
     "name": "stdout",
     "output_type": "stream",
     "text": [
      "0:00:00.313000\n"
     ]
    }
   ],
   "source": [
    "end_time = time.monotonic()\n",
    "print(timedelta(seconds=end_time - start_time))"
   ]
  },
  {
   "cell_type": "code",
   "execution_count": 16,
   "id": "153a413c",
   "metadata": {},
   "outputs": [],
   "source": [
    "# compute the testing accuracy\n",
    "y_pred = regressor.predict(x_test)"
   ]
  },
  {
   "cell_type": "code",
   "execution_count": 17,
   "id": "ef2bd5a0",
   "metadata": {},
   "outputs": [],
   "source": [
    "y_pred_train = regressor.predict(x_train)"
   ]
  },
  {
   "cell_type": "code",
   "execution_count": 18,
   "id": "bd299f88",
   "metadata": {},
   "outputs": [
    {
     "name": "stdout",
     "output_type": "stream",
     "text": [
      "\n",
      "\n",
      "overall Performance: \n"
     ]
    }
   ],
   "source": [
    "  print(\"\\n\")\n",
    "  print(\"overall Performance: \", )"
   ]
  },
  {
   "cell_type": "code",
   "execution_count": 19,
   "id": "08e1d8cc",
   "metadata": {},
   "outputs": [],
   "source": [
    "  # model evaluation for testing set\n",
    "  mae = metrics.mean_absolute_error(y_test, y_pred)\n",
    "  mse = metrics.mean_squared_error(y_test, y_pred)\n",
    "  r2 = metrics.r2_score(y_test, y_pred)"
   ]
  },
  {
   "cell_type": "code",
   "execution_count": 20,
   "id": "109a011e",
   "metadata": {},
   "outputs": [
    {
     "name": "stdout",
     "output_type": "stream",
     "text": [
      "The model performance for testing set\n",
      "--------------------------------------\n",
      "MAE is 0.2109318784719894\n",
      "MSE is 0.10969245920747511\n",
      "R2 score is 0.5798521120488361\n"
     ]
    }
   ],
   "source": [
    "print(\"The model performance for testing set\")\n",
    "print(\"--------------------------------------\")\n",
    "print('MAE is {}'.format(mae))\n",
    "print('MSE is {}'.format(mse))\n",
    "print('R2 score is {}'.format(r2))"
   ]
  },
  {
   "cell_type": "code",
   "execution_count": 21,
   "id": "6eb42d35",
   "metadata": {},
   "outputs": [],
   "source": [
    "  # model evaluation for training set\n",
    "maeTrain = metrics.mean_absolute_error(y_train, y_pred_train)\n",
    "mseTrain = metrics.mean_squared_error(y_train, y_pred_train)\n",
    "r2Train = metrics.r2_score(y_train, y_pred_train)"
   ]
  },
  {
   "cell_type": "code",
   "execution_count": 22,
   "id": "595c5093",
   "metadata": {},
   "outputs": [
    {
     "name": "stdout",
     "output_type": "stream",
     "text": [
      "The model performance for training set\n",
      "--------------------------------------\n",
      "MAE is 0.15239937360257869\n",
      "MSE is 0.05647377988926205\n",
      "R2 score is 0.7554664009469272\n"
     ]
    }
   ],
   "source": [
    "print(\"The model performance for training set\")\n",
    "print(\"--------------------------------------\")\n",
    "print('MAE is {}'.format(maeTrain))\n",
    "print('MSE is {}'.format(mseTrain))\n",
    "print('R2 score is {}'.format(r2Train))"
   ]
  },
  {
   "cell_type": "code",
   "execution_count": 23,
   "id": "759c0e9b",
   "metadata": {},
   "outputs": [],
   "source": [
    "cvscoretrain = (cross_val_score(regressor,x_train,y_train.ravel(),cv=5).mean())"
   ]
  },
  {
   "cell_type": "code",
   "execution_count": 24,
   "id": "68a9bfd4",
   "metadata": {},
   "outputs": [
    {
     "name": "stdout",
     "output_type": "stream",
     "text": [
      "The CV score for training set\n",
      "--------------------------------------\n",
      "[0.41515717 0.24904501 0.4425137  0.22113603 0.37847718]\n",
      "Q2 is 0.34126581564853575\n"
     ]
    }
   ],
   "source": [
    "print(\"The CV score for training set\")\n",
    "print(\"--------------------------------------\")\n",
    "print (cross_val_score(regressor,x_train,y_train.ravel(),cv=5))\n",
    "print('Q2 is {}'.format(cvscoretrain))"
   ]
  },
  {
   "cell_type": "code",
   "execution_count": 25,
   "id": "46f04b15",
   "metadata": {},
   "outputs": [
    {
     "data": {
      "image/png": "[encoded data removed]",
      "text/plain": [
       "<Figure size 360x360 with 1 Axes>"
      ]
     },
     "metadata": {
      "needs_background": "light"
     },
     "output_type": "display_data"
    }
   ],
   "source": [
    "plt.figure(figsize=(5,5))\n",
    "plt.scatter(y_test, y_pred, c='blue', marker='o')\n",
    "plt.yscale('linear')\n",
    "plt.xscale('linear')\n",
    "\n",
    "p1 = max(max(y_pred), max(y_test))\n",
    "p2 = min(min(y_pred), min(y_test))\n",
    "plt.plot([p1, p2], [p1, p2], 'red')\n",
    "plt.xlabel('Actual', fontsize=13)\n",
    "plt.ylabel('Predected', fontsize=13)\n",
    "plt.axis('equal')\n",
    "plt.text(0, 2, '$R^2$ = 0.580', fontsize = 12)\n",
    "plt.text(0, 1.8, 'RMSE = 0.331', fontsize = 12)\n",
    "plt.title('Decision tree(29)', fontsize = 14)\n",
    "plt.show()"
   ]
  },
  {
   "cell_type": "code",
   "execution_count": 26,
   "id": "dda46616",
   "metadata": {},
   "outputs": [],
   "source": [
    "import statsmodels.api as sm"
   ]
  },
  {
   "cell_type": "code",
   "execution_count": 29,
   "id": "d7465e0a",
   "metadata": {},
   "outputs": [
    {
     "data": {
      "image/png": "[encoded data removed]",
      "text/plain": [
       "<Figure size 360x360 with 1 Axes>"
      ]
     },
     "metadata": {
      "needs_background": "light"
     },
     "output_type": "display_data"
    }
   ],
   "source": [
    "plt.figure(figsize=(5,5))\n",
    "plt.scatter(y_test, y_pred, c='blue', marker='o', linewidth=1)\n",
    "plt.yscale('linear')\n",
    "plt.xscale('linear')\n",
    "\n",
    "\n",
    "p1 = max(max(y_pred), max(y_test))\n",
    "p2 = min(min(y_pred), min(y_test))\n",
    "plt.plot([p1, p2], [p1, p2], c='black', linestyle='dashed')\n",
    "plt.xlabel('Actual', fontsize=13)\n",
    "plt.ylabel('Predected', fontsize=13)\n",
    "plt.axis('scaled')\n",
    "plt.text(0, 2, '$R^2$ = 0.580', fontsize = 12)\n",
    "plt.text(0, 1.8, 'RMSE = 0.331', fontsize = 12)\n",
    "plt.title('Decision tree(29)', fontsize = 14)\n",
    "\n",
    "# Draw a Loess best-fit line over the scatter plot\n",
    "lowess = sm.nonparametric.lowess\n",
    "loess_fit = lowess(y_pred, y_test, frac=0.3)\n",
    "# Plot the loess fit line on the scatter plot\n",
    "plt.plot(loess_fit[:, 0], loess_fit[:, 1], 'r-', linewidth=2)\n",
    "\n",
    "plt.show()\n"
   ]
  },
  {
   "cell_type": "code",
   "execution_count": 172,
   "id": "673abc15",
   "metadata": {},
   "outputs": [],
   "source": [
    "#Randomize search CV\n",
    "from sklearn.model_selection import RandomizedSearchCV"
   ]
  },
  {
   "cell_type": "code",
   "execution_count": 151,
   "id": "56ede5ca",
   "metadata": {},
   "outputs": [],
   "source": [
    "# creatting parameter gride\n",
    "param_grid_regressor= {'criterion': [\"mse\", \"friedman_mse\", \"mae\"],\n",
    "                       'splitter':[\"best\", \"random\"], \n",
    "                       \"max_depth\":[1,2,3,4,5,6,None],\n",
    "    'min_samples_split': [ 2, 3, 4, 5], 'min_samples_leaf':[20, 40, 70, 80, 90, 100],\n",
    "                      \"max_leaf_nodes\": [5, 20, 100],  'max_features': [\"None\",\"auto\", \"sqrt\"], } \n",
    "             "
   ]
  },
  {
   "cell_type": "code",
   "execution_count": 152,
   "id": "ad837c9a",
   "metadata": {},
   "outputs": [],
   "source": [
    "regressor_random = RandomizedSearchCV(estimator = regressor, param_distributions=param_grid_regressor, n_iter = 100,\n",
    "                              cv = 5, verbose =2,\n",
    "                              n_jobs= -1, scoring = 'neg_mean_squared_error' )"
   ]
  },
  {
   "cell_type": "code",
   "execution_count": 153,
   "id": "cc3935cf",
   "metadata": {},
   "outputs": [
    {
     "name": "stdout",
     "output_type": "stream",
     "text": [
      "Fitting 5 folds for each of 100 candidates, totalling 500 fits\n"
     ]
    },
    {
     "name": "stderr",
     "output_type": "stream",
     "text": [
      "C:\\Python39\\lib\\site-packages\\sklearn\\model_selection\\_search.py:922: UserWarning: One or more of the test scores are non-finite: [-0.15285785         nan -0.25580019 -0.19846996         nan -0.20818329\n",
      " -0.161544   -0.23187112 -0.16184287         nan -0.25556514 -0.18313502\n",
      " -0.1746989          nan -0.18611122         nan -0.22557794         nan\n",
      " -0.15587363         nan -0.17339321         nan -0.25556514         nan\n",
      " -0.19895696 -0.23918145 -0.15550527         nan -0.16184287         nan\n",
      "         nan -0.15832874 -0.24450466 -0.23107016         nan         nan\n",
      "         nan -0.16637788 -0.16560842 -0.16510559         nan         nan\n",
      " -0.15130519 -0.18356005 -0.1927004  -0.1713188  -0.18083246         nan\n",
      "         nan -0.16208455         nan -0.21370874         nan -0.19442008\n",
      " -0.17434377 -0.16728388 -0.16398212 -0.16856634 -0.25534173 -0.19779231\n",
      "         nan         nan         nan -0.15832874 -0.25556514 -0.15550527\n",
      " -0.19506396 -0.23704601 -0.25534173 -0.18083246 -0.15781064 -0.18313502\n",
      "         nan -0.16696085 -0.15823377 -0.16560842         nan         nan\n",
      " -0.16560842         nan -0.18419408 -0.25563104         nan -0.15172957\n",
      " -0.23105187 -0.14984856         nan -0.1944672          nan -0.18418488\n",
      " -0.17434377         nan         nan -0.16221686 -0.17585941         nan\n",
      " -0.23187112         nan         nan         nan]\n",
      "  warnings.warn(\n"
     ]
    },
    {
     "data": {
      "text/plain": [
       "RandomizedSearchCV(cv=5,\n",
       "                   estimator=DecisionTreeRegressor(max_features='auto',\n",
       "                                                   max_leaf_nodes=60,\n",
       "                                                   min_samples_leaf=10,\n",
       "                                                   random_state=0),\n",
       "                   n_iter=100, n_jobs=-1,\n",
       "                   param_distributions={'criterion': ['mse', 'friedman_mse',\n",
       "                                                      'mae'],\n",
       "                                        'max_depth': [1, 2, 3, 4, 5, 6, None],\n",
       "                                        'max_features': ['None', 'auto',\n",
       "                                                         'sqrt'],\n",
       "                                        'max_leaf_nodes': [5, 20, 100],\n",
       "                                        'min_samples_leaf': [20, 40, 70, 80, 90,\n",
       "                                                             100],\n",
       "                                        'min_samples_split': [2, 3, 4, 5],\n",
       "                                        'splitter': ['best', 'random']},\n",
       "                   scoring='neg_mean_squared_error', verbose=2)"
      ]
     },
     "execution_count": 153,
     "metadata": {},
     "output_type": "execute_result"
    }
   ],
   "source": [
    "regressor_random.fit (x_train, y_train)"
   ]
  },
  {
   "cell_type": "code",
   "execution_count": 154,
   "id": "9b089138",
   "metadata": {},
   "outputs": [
    {
     "data": {
      "text/plain": [
       "{'splitter': 'best',\n",
       " 'min_samples_split': 2,\n",
       " 'min_samples_leaf': 70,\n",
       " 'max_leaf_nodes': 20,\n",
       " 'max_features': 'auto',\n",
       " 'max_depth': None,\n",
       " 'criterion': 'friedman_mse'}"
      ]
     },
     "execution_count": 154,
     "metadata": {},
     "output_type": "execute_result"
    }
   ],
   "source": [
    "regressor_random.best_params_"
   ]
  },
  {
   "cell_type": "code",
   "execution_count": 155,
   "id": "aebc36ce",
   "metadata": {},
   "outputs": [
    {
     "data": {
      "text/plain": [
       "-0.14984856237077732"
      ]
     },
     "execution_count": 155,
     "metadata": {},
     "output_type": "execute_result"
    }
   ],
   "source": [
    "regressor_random.best_score_"
   ]
  },
  {
   "cell_type": "code",
   "execution_count": 156,
   "id": "805f7ddc",
   "metadata": {},
   "outputs": [],
   "source": [
    "# parameter tuning grid searchCV\n",
    "from sklearn.model_selection import GridSearchCV"
   ]
  },
  {
   "cell_type": "code",
   "execution_count": 157,
   "id": "c0a4c7e0",
   "metadata": {},
   "outputs": [],
   "source": [
    "# creatting parameter gride\n",
    "param_grid_regressor= {'criterion': [\"mse\", \"mae\"], \"max_depth\":[2,3,4,5,6,None],\n",
    "    'min_samples_split': [ 2, 3, 4, 5, 6, 7], 'min_samples_leaf':[10, 15, 20, 25, 30, 35, 40, 45, 50, 55, 60],\n",
    "                      \"max_leaf_nodes\": [10,20, 30, 40,50, 60],  'max_features': [\"None\",\"auto\", \"sqrt\"],}"
   ]
  },
  {
   "cell_type": "code",
   "execution_count": 158,
   "id": "76a7b184",
   "metadata": {},
   "outputs": [
    {
     "name": "stdout",
     "output_type": "stream",
     "text": [
      "Fitting 5 folds for each of 14256 candidates, totalling 71280 fits\n"
     ]
    },
    {
     "name": "stderr",
     "output_type": "stream",
     "text": [
      "C:\\Python39\\lib\\site-packages\\sklearn\\model_selection\\_search.py:922: UserWarning: One or more of the test scores are non-finite: [        nan         nan         nan ... -0.15958684 -0.15958684\n",
      " -0.15958684]\n",
      "  warnings.warn(\n"
     ]
    },
    {
     "data": {
      "text/plain": [
       "GridSearchCV(cv=5,\n",
       "             estimator=DecisionTreeRegressor(max_features='auto',\n",
       "                                             max_leaf_nodes=60,\n",
       "                                             min_samples_leaf=10,\n",
       "                                             random_state=0),\n",
       "             n_jobs=-1,\n",
       "             param_grid={'criterion': ['mse', 'mae'],\n",
       "                         'max_depth': [2, 3, 4, 5, 6, None],\n",
       "                         'max_features': ['None', 'auto', 'sqrt'],\n",
       "                         'max_leaf_nodes': [10, 20, 30, 40, 50, 60],\n",
       "                         'min_samples_leaf': [10, 15, 20, 25, 30, 35, 40, 45,\n",
       "                                              50, 55, 60],\n",
       "                         'min_samples_split': [2, 3, 4, 5, 6, 7]},\n",
       "             scoring='neg_mean_squared_error', verbose=2)"
      ]
     },
     "execution_count": 158,
     "metadata": {},
     "output_type": "execute_result"
    }
   ],
   "source": [
    "regressor_grid = GridSearchCV(estimator =regressor, param_grid=param_grid_regressor,\n",
    "                              cv = 5, verbose =2,\n",
    "                              n_jobs= -1,  scoring = \"neg_mean_squared_error\")\n",
    "\n",
    "regressor_grid.fit (x_train ,y_train)"
   ]
  },
  {
   "cell_type": "code",
   "execution_count": 159,
   "id": "2bf443f7",
   "metadata": {},
   "outputs": [
    {
     "data": {
      "text/plain": [
       "{'criterion': 'mse',\n",
       " 'max_depth': None,\n",
       " 'max_features': 'auto',\n",
       " 'max_leaf_nodes': 60,\n",
       " 'min_samples_leaf': 10,\n",
       " 'min_samples_split': 2}"
      ]
     },
     "execution_count": 159,
     "metadata": {},
     "output_type": "execute_result"
    }
   ],
   "source": [
    "regressor_grid.best_params_"
   ]
  },
  {
   "cell_type": "code",
   "execution_count": 160,
   "id": "39d4e174",
   "metadata": {},
   "outputs": [
    {
     "data": {
      "text/plain": [
       "-0.11926465825517996"
      ]
     },
     "execution_count": 160,
     "metadata": {},
     "output_type": "execute_result"
    }
   ],
   "source": [
    "regressor_grid.best_score_"
   ]
  },
  {
   "cell_type": "code",
   "execution_count": null,
   "id": "984b89c3",
   "metadata": {},
   "outputs": [],
   "source": []
  },
  {
   "cell_type": "code",
   "execution_count": null,
   "id": "cb0f5e77",
   "metadata": {},
   "outputs": [],
   "source": []
  }
 ],
 "metadata": {
  "kernelspec": {
   "display_name": "Python 3",
   "language": "python",
   "name": "python3"
  },
  "language_info": {
   "codemirror_mode": {
    "name": "ipython",
    "version": 3
   },
   "file_extension": ".py",
   "mimetype": "text/x-python",
   "name": "python",
   "nbconvert_exporter": "python",
   "pygments_lexer": "ipython3",
   "version": "3.9.4"
  }
 },
 "nbformat": 4,
 "nbformat_minor": 5
}
