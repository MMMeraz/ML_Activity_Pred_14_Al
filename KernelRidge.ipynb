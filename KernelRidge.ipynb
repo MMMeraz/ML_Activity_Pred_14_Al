{
 "cells": [
  {
   "cell_type": "code",
   "execution_count": 1,
   "id": "6d6f1d90",
   "metadata": {},
   "outputs": [],
   "source": [
    "# Import Section\n",
    "import csv\n",
    "import codecs\n",
    "import sys\n",
    "import io\n",
    "import numpy as np\n",
    "import pandas as pd\n",
    "import scipy as sp\n",
    "\n",
    "# For Regression\n",
    "from sklearn.model_selection import train_test_split\n",
    "from sklearn.model_selection import cross_val_score\n",
    "from statistics import mean\n",
    "\n",
    "from sklearn.kernel_ridge import KernelRidge\n",
    "\n",
    "# Python script for confusion matrix creation. \n",
    "from sklearn.metrics import *\n",
    "from numpy import mean\n",
    "from numpy import std\n",
    "from sklearn import metrics"
   ]
  },
  {
   "cell_type": "code",
   "execution_count": 2,
   "id": "69ae8fb6",
   "metadata": {},
   "outputs": [],
   "source": [
    "dataset=pd.read_csv(\"data_294.csv\")"
   ]
  },
  {
   "cell_type": "code",
   "execution_count": 3,
   "id": "ec007b03",
   "metadata": {},
   "outputs": [
    {
     "data": {
      "text/plain": [
       "(294, 17)"
      ]
     },
     "execution_count": 3,
     "metadata": {},
     "output_type": "execute_result"
    }
   ],
   "source": [
    "dataset.shape"
   ]
  },
  {
   "cell_type": "code",
   "execution_count": 4,
   "id": "6540ffea",
   "metadata": {},
   "outputs": [],
   "source": [
    "x = dataset[['1', '15', '18', '21', '25', '26', '39', '41', '58', '69', '83', '85', '141', '155', '166']]"
   ]
  },
  {
   "cell_type": "code",
   "execution_count": 5,
   "id": "38fcc30c",
   "metadata": {},
   "outputs": [
    {
     "data": {
      "text/plain": [
       "(294, 15)"
      ]
     },
     "execution_count": 5,
     "metadata": {},
     "output_type": "execute_result"
    }
   ],
   "source": [
    "x.shape"
   ]
  },
  {
   "cell_type": "code",
   "execution_count": 6,
   "id": "c129b673",
   "metadata": {},
   "outputs": [],
   "source": [
    "y = dataset['Act']"
   ]
  },
  {
   "cell_type": "code",
   "execution_count": 7,
   "id": "174dcd4e",
   "metadata": {},
   "outputs": [],
   "source": [
    "x_model, x_extest, y_model, y_extest = train_test_split(x,y,test_size=.2, random_state = 7000, shuffle=True)"
   ]
  },
  {
   "cell_type": "code",
   "execution_count": 8,
   "id": "5403d6e9",
   "metadata": {},
   "outputs": [
    {
     "data": {
      "text/plain": [
       "(235, 15)"
      ]
     },
     "execution_count": 8,
     "metadata": {},
     "output_type": "execute_result"
    }
   ],
   "source": [
    "x_model.shape"
   ]
  },
  {
   "cell_type": "code",
   "execution_count": 9,
   "id": "3e08e96b",
   "metadata": {},
   "outputs": [],
   "source": [
    "x_train, x_test2, y_train, y_test2 = train_test_split(x_model,y_model,test_size=.3, random_state = 7000, shuffle=True)"
   ]
  },
  {
   "cell_type": "code",
   "execution_count": 10,
   "id": "d8ed970c",
   "metadata": {},
   "outputs": [
    {
     "data": {
      "text/plain": [
       "(164, 15)"
      ]
     },
     "execution_count": 10,
     "metadata": {},
     "output_type": "execute_result"
    }
   ],
   "source": [
    "x_train.shape"
   ]
  },
  {
   "cell_type": "code",
   "execution_count": 11,
   "id": "33daae20",
   "metadata": {},
   "outputs": [
    {
     "data": {
      "text/plain": [
       "(71, 15)"
      ]
     },
     "execution_count": 11,
     "metadata": {},
     "output_type": "execute_result"
    }
   ],
   "source": [
    "x_test2.shape"
   ]
  },
  {
   "cell_type": "code",
   "execution_count": 12,
   "id": "f09a2627",
   "metadata": {},
   "outputs": [],
   "source": [
    "x_val, x_test, y_val, y_test = train_test_split(x_test2,y_test2,test_size=.5, random_state = 7000, shuffle=True)"
   ]
  },
  {
   "cell_type": "code",
   "execution_count": 13,
   "id": "58d9dc52",
   "metadata": {},
   "outputs": [
    {
     "data": {
      "text/plain": [
       "(36, 15)"
      ]
     },
     "execution_count": 13,
     "metadata": {},
     "output_type": "execute_result"
    }
   ],
   "source": [
    "x_test.shape"
   ]
  },
  {
   "cell_type": "code",
   "execution_count": 14,
   "id": "95e85f0f",
   "metadata": {},
   "outputs": [
    {
     "data": {
      "text/plain": [
       "(35, 15)"
      ]
     },
     "execution_count": 14,
     "metadata": {},
     "output_type": "execute_result"
    }
   ],
   "source": [
    "x_val.shape"
   ]
  },
  {
   "cell_type": "code",
   "execution_count": 15,
   "id": "e0c1893a",
   "metadata": {},
   "outputs": [],
   "source": [
    "# scealing is required for indepandent variables at ANN\n",
    "from sklearn.preprocessing import StandardScaler"
   ]
  },
  {
   "cell_type": "code",
   "execution_count": 16,
   "id": "6c204bdc",
   "metadata": {},
   "outputs": [],
   "source": [
    "scale = StandardScaler()"
   ]
  },
  {
   "cell_type": "code",
   "execution_count": 17,
   "id": "829e969d",
   "metadata": {},
   "outputs": [],
   "source": [
    "X = scale.fit_transform(x)\n",
    "X_train = scale.fit_transform(x_train)\n",
    "X_test = scale.fit_transform(x_test)\n",
    "X_val = scale.fit_transform(x_val)\n",
    "X_model = scale.fit_transform(x_model)\n",
    "X_extest = scale.fit_transform(x_extest)"
   ]
  },
  {
   "cell_type": "code",
   "execution_count": 408,
   "id": "99a01ad3",
   "metadata": {},
   "outputs": [],
   "source": [
    "regressor = KernelRidge(alpha=1.0, degree=3) "
   ]
  },
  {
   "cell_type": "code",
   "execution_count": 409,
   "id": "4e94da1a",
   "metadata": {},
   "outputs": [
    {
     "data": {
      "text/plain": [
       "KernelRidge(alpha=1.0)"
      ]
     },
     "execution_count": 409,
     "metadata": {},
     "output_type": "execute_result"
    }
   ],
   "source": [
    " regressor.fit(X_train, y_train)"
   ]
  },
  {
   "cell_type": "code",
   "execution_count": 387,
   "id": "153a413c",
   "metadata": {},
   "outputs": [],
   "source": [
    "# compute the testing accuracy\n",
    "y_pred = regressor.predict(X_test)"
   ]
  },
  {
   "cell_type": "code",
   "execution_count": 388,
   "id": "ef2bd5a0",
   "metadata": {},
   "outputs": [],
   "source": [
    "y_pred_train = regressor.predict(X_train)"
   ]
  },
  {
   "cell_type": "code",
   "execution_count": 389,
   "id": "51b8dbf2",
   "metadata": {},
   "outputs": [
    {
     "data": {
      "text/plain": [
       "(164,)"
      ]
     },
     "execution_count": 389,
     "metadata": {},
     "output_type": "execute_result"
    }
   ],
   "source": [
    "y_pred_train.shape"
   ]
  },
  {
   "cell_type": "code",
   "execution_count": 390,
   "id": "8545bb86",
   "metadata": {},
   "outputs": [],
   "source": [
    "y_pred_val = regressor.predict(X_val)"
   ]
  },
  {
   "cell_type": "code",
   "execution_count": 391,
   "id": "e10de018",
   "metadata": {},
   "outputs": [],
   "source": [
    "y_pred_extest = regressor.predict(X_extest)"
   ]
  },
  {
   "cell_type": "code",
   "execution_count": 392,
   "id": "90d4d82c",
   "metadata": {},
   "outputs": [],
   "source": [
    "y_pred_model = regressor.predict(X_model)"
   ]
  },
  {
   "cell_type": "code",
   "execution_count": 393,
   "id": "bd299f88",
   "metadata": {},
   "outputs": [
    {
     "name": "stdout",
     "output_type": "stream",
     "text": [
      "\n",
      "\n",
      "overall Performance: \n"
     ]
    }
   ],
   "source": [
    "  print(\"\\n\")\n",
    "  print(\"overall Performance: \", )"
   ]
  },
  {
   "cell_type": "code",
   "execution_count": 394,
   "id": "08e1d8cc",
   "metadata": {},
   "outputs": [],
   "source": [
    "  # model evaluation for testing set\n",
    "  mae = metrics.mean_absolute_error(y_test, y_pred)\n",
    "  mse = metrics.mean_squared_error(y_test, y_pred)\n",
    "  r2 = metrics.r2_score(y_test, y_pred)"
   ]
  },
  {
   "cell_type": "code",
   "execution_count": 395,
   "id": "109a011e",
   "metadata": {},
   "outputs": [
    {
     "name": "stdout",
     "output_type": "stream",
     "text": [
      "The model performance for testing set\n",
      "--------------------------------------\n",
      "MAE is 31.460913576870276\n",
      "MSE is 1341.7594548726504\n",
      "R2 score is 0.07969653877545835\n"
     ]
    }
   ],
   "source": [
    "print(\"The model performance for testing set\")\n",
    "print(\"--------------------------------------\")\n",
    "print('MAE is {}'.format(mae))\n",
    "print('MSE is {}'.format(mse))\n",
    "print('R2 score is {}'.format(r2))"
   ]
  },
  {
   "cell_type": "code",
   "execution_count": 396,
   "id": "6eb42d35",
   "metadata": {},
   "outputs": [],
   "source": [
    "  # model evaluation for training set\n",
    "maeTrain = metrics.mean_absolute_error(y_train, y_pred_train)\n",
    "mseTrain = metrics.mean_squared_error(y_train, y_pred_train)\n",
    "r2Train = metrics.r2_score(y_train, y_pred_train)"
   ]
  },
  {
   "cell_type": "code",
   "execution_count": 397,
   "id": "595c5093",
   "metadata": {},
   "outputs": [
    {
     "name": "stdout",
     "output_type": "stream",
     "text": [
      "The model performance for training set\n",
      "--------------------------------------\n",
      "MAE is 40.03159090018443\n",
      "MSE is 2383.7136371792253\n",
      "R2 score is 0.0938035302078496\n"
     ]
    }
   ],
   "source": [
    "print(\"The model performance for training set\")\n",
    "print(\"--------------------------------------\")\n",
    "print('MAE is {}'.format(maeTrain))\n",
    "print('MSE is {}'.format(mseTrain))\n",
    "print('R2 score is {}'.format(r2Train))"
   ]
  },
  {
   "cell_type": "code",
   "execution_count": 398,
   "id": "759c0e9b",
   "metadata": {},
   "outputs": [],
   "source": [
    "cvscoretrain = (-cross_val_score(regressor,x_train,y_train.ravel(),cv=5).mean())"
   ]
  },
  {
   "cell_type": "code",
   "execution_count": 399,
   "id": "68a9bfd4",
   "metadata": {},
   "outputs": [
    {
     "name": "stdout",
     "output_type": "stream",
     "text": [
      "The CV score for training set\n",
      "--------------------------------------\n",
      "[-0.32420763 -0.38213154 -0.27176015 -0.71374883 -0.41604406]\n",
      "Q2 is -0.4215784420544342\n"
     ]
    }
   ],
   "source": [
    "print(\"The CV score for training set\")\n",
    "print(\"--------------------------------------\")\n",
    "print (-cross_val_score(regressor,x_train,y_train.ravel(),cv=5))\n",
    "print('Q2 is {}'.format(cvscoretrain))"
   ]
  },
  {
   "cell_type": "code",
   "execution_count": 400,
   "id": "fcad4b72",
   "metadata": {},
   "outputs": [],
   "source": [
    "## model evaluation for extest set\n",
    "maeex = metrics.mean_absolute_error(y_extest, y_pred_extest)\n",
    "mseex = metrics.mean_squared_error(y_extest, y_pred_extest)\n",
    "r2ex = metrics.r2_score(y_extest, y_pred_extest)"
   ]
  },
  {
   "cell_type": "code",
   "execution_count": 401,
   "id": "c6fd7311",
   "metadata": {},
   "outputs": [
    {
     "name": "stdout",
     "output_type": "stream",
     "text": [
      "The model performance for extest set\n",
      "--------------------------------------\n",
      "MAE is 39.91914672585912\n",
      "MSE is 2534.2469292019296\n",
      "R2 score is 0.11241478638961333\n"
     ]
    }
   ],
   "source": [
    "print(\"The model performance for extest set\")\n",
    "print(\"--------------------------------------\")\n",
    "print('MAE is {}'.format(maeex))\n",
    "print('MSE is {}'.format(mseex))\n",
    "print('R2 score is {}'.format(r2ex))"
   ]
  },
  {
   "cell_type": "code",
   "execution_count": 402,
   "id": "4cc6638a",
   "metadata": {},
   "outputs": [],
   "source": [
    "## model evaluation for val set\n",
    "maevl = metrics.mean_absolute_error(y_val, y_pred_val)\n",
    "msevl = metrics.mean_squared_error(y_val, y_pred_val)\n",
    "r2vl = metrics.r2_score(y_val, y_pred_val)"
   ]
  },
  {
   "cell_type": "code",
   "execution_count": 403,
   "id": "2afb1d99",
   "metadata": {},
   "outputs": [
    {
     "name": "stdout",
     "output_type": "stream",
     "text": [
      "The model performance for val set\n",
      "--------------------------------------\n",
      "MAE is 48.691770258911255\n",
      "MSE is 3144.9663875588644\n",
      "R2 score is 0.06747143051156568\n"
     ]
    }
   ],
   "source": [
    "print(\"The model performance for val set\")\n",
    "print(\"--------------------------------------\")\n",
    "print('MAE is {}'.format(maevl))\n",
    "print('MSE is {}'.format(msevl))\n",
    "print('R2 score is {}'.format(r2vl))"
   ]
  },
  {
   "cell_type": "code",
   "execution_count": 404,
   "id": "edd49c71",
   "metadata": {},
   "outputs": [],
   "source": [
    "## model evaluation for model set\n",
    "maemod = metrics.mean_absolute_error(y_model, y_pred_model)\n",
    "msemod = metrics.mean_squared_error(y_model, y_pred_model)\n",
    "r2mod = metrics.r2_score(y_model, y_pred_model)"
   ]
  },
  {
   "cell_type": "code",
   "execution_count": 405,
   "id": "236d0317",
   "metadata": {},
   "outputs": [
    {
     "name": "stdout",
     "output_type": "stream",
     "text": [
      "The model performance for model set\n",
      "--------------------------------------\n",
      "MAE is 39.86602383758424\n",
      "MSE is 2312.958194978469\n",
      "R2 score is 0.10783870806123352\n"
     ]
    }
   ],
   "source": [
    "print(\"The model performance for model set\")\n",
    "print(\"--------------------------------------\")\n",
    "print('MAE is {}'.format(maemod))\n",
    "print('MSE is {}'.format(msemod))\n",
    "print('R2 score is {}'.format(r2mod))"
   ]
  },
  {
   "cell_type": "code",
   "execution_count": 406,
   "id": "4f38d134",
   "metadata": {},
   "outputs": [],
   "source": [
    "# cv for modeling set \n",
    "cvscoremod = (-cross_val_score(regressor,X_model,y_model.ravel(),cv=5).mean())"
   ]
  },
  {
   "cell_type": "code",
   "execution_count": 407,
   "id": "1c097c5a",
   "metadata": {},
   "outputs": [
    {
     "name": "stdout",
     "output_type": "stream",
     "text": [
      "The CV score for model set\n",
      "--------------------------------------\n",
      "[-0.24387975  0.47800623  0.38235538  0.08090014 -0.14668001]\n",
      "Q2 is 0.11014039952033439\n"
     ]
    }
   ],
   "source": [
    "print(\"The CV score for model set\")\n",
    "print(\"--------------------------------------\")\n",
    "print (-cross_val_score(regressor,X_model,y_model.ravel(),cv=5))\n",
    "print('Q2 is {}'.format(cvscoremod))"
   ]
  },
  {
   "cell_type": "code",
   "execution_count": 297,
   "id": "2884e0de",
   "metadata": {},
   "outputs": [],
   "source": [
    " regressor1 = KernelRidge()"
   ]
  },
  {
   "cell_type": "code",
   "execution_count": 298,
   "id": "673abc15",
   "metadata": {},
   "outputs": [],
   "source": [
    "#Randomize search CV\n",
    "from sklearn.model_selection import RandomizedSearchCV"
   ]
  },
  {
   "cell_type": "code",
   "execution_count": 299,
   "id": "56ede5ca",
   "metadata": {},
   "outputs": [],
   "source": [
    "# creatting parameter gride\n",
    "param_grid_regressor= {'alpha':[0.00005,0.0005,0.001, 0.01, 0.05, 0.06, 0.08, 1, 2, ],\n",
    "             'degree':[2,3,4] } "
   ]
  },
  {
   "cell_type": "code",
   "execution_count": 300,
   "id": "ad837c9a",
   "metadata": {},
   "outputs": [],
   "source": [
    "regressor_random = RandomizedSearchCV(estimator = regressor1, param_distributions=param_grid_regressor, n_iter = 100,\n",
    "                              cv = 5, verbose =2,\n",
    "                              n_jobs= -1, scoring =\"neg_mean_squared_error\" )"
   ]
  },
  {
   "cell_type": "code",
   "execution_count": 301,
   "id": "cc3935cf",
   "metadata": {},
   "outputs": [
    {
     "name": "stderr",
     "output_type": "stream",
     "text": [
      "C:\\Python39\\lib\\site-packages\\sklearn\\model_selection\\_search.py:285: UserWarning: The total space of parameters 27 is smaller than n_iter=100. Running 27 iterations. For exhaustive searches, use GridSearchCV.\n",
      "  warnings.warn(\n"
     ]
    },
    {
     "name": "stdout",
     "output_type": "stream",
     "text": [
      "Fitting 5 folds for each of 27 candidates, totalling 135 fits\n"
     ]
    },
    {
     "data": {
      "text/plain": [
       "RandomizedSearchCV(cv=5, estimator=KernelRidge(), n_iter=100, n_jobs=-1,\n",
       "                   param_distributions={'alpha': [5e-05, 0.0005, 0.001, 0.01,\n",
       "                                                  0.05, 0.06, 0.08, 1, 2],\n",
       "                                        'degree': [2, 3, 4]},\n",
       "                   scoring='neg_mean_squared_error', verbose=2)"
      ]
     },
     "execution_count": 301,
     "metadata": {},
     "output_type": "execute_result"
    }
   ],
   "source": [
    "regressor_random.fit (X_train,y_train)"
   ]
  },
  {
   "cell_type": "code",
   "execution_count": 302,
   "id": "9b089138",
   "metadata": {},
   "outputs": [
    {
     "data": {
      "text/plain": [
       "{'degree': 2, 'alpha': 2}"
      ]
     },
     "execution_count": 302,
     "metadata": {},
     "output_type": "execute_result"
    }
   ],
   "source": [
    "regressor_random.best_params_"
   ]
  },
  {
   "cell_type": "code",
   "execution_count": 303,
   "id": "aebc36ce",
   "metadata": {},
   "outputs": [
    {
     "data": {
      "text/plain": [
       "-2707.0274013825847"
      ]
     },
     "execution_count": 303,
     "metadata": {},
     "output_type": "execute_result"
    }
   ],
   "source": [
    "regressor_random.best_score_"
   ]
  },
  {
   "cell_type": "code",
   "execution_count": 246,
   "id": "805f7ddc",
   "metadata": {},
   "outputs": [],
   "source": [
    "# parameter tuning grid searchCV\n",
    "from sklearn.model_selection import GridSearchCV"
   ]
  },
  {
   "cell_type": "code",
   "execution_count": 247,
   "id": "c0a4c7e0",
   "metadata": {},
   "outputs": [],
   "source": [
    "# creatting parameter gride\n",
    "param_grid_regressor= {'alpha':[1,2,5,10,50,3, 5, 8, 10, 20, 50, 100,200, 230, 250,265, 270, 275, 290, 300, 500,600,700,800],\n",
    "             'degree':[2,3,4] } "
   ]
  },
  {
   "cell_type": "code",
   "execution_count": 248,
   "id": "76a7b184",
   "metadata": {},
   "outputs": [
    {
     "name": "stdout",
     "output_type": "stream",
     "text": [
      "Fitting 5 folds for each of 72 candidates, totalling 360 fits\n"
     ]
    },
    {
     "data": {
      "text/plain": [
       "GridSearchCV(cv=5, estimator=KernelRidge(), n_jobs=-1,\n",
       "             param_grid={'alpha': [1, 2, 5, 10, 50, 3, 5, 8, 10, 20, 50, 100,\n",
       "                                   200, 230, 250, 265, 270, 275, 290, 300, 500,\n",
       "                                   600, 700, 800],\n",
       "                         'degree': [2, 3, 4]},\n",
       "             scoring='neg_mean_squared_error', verbose=2)"
      ]
     },
     "execution_count": 248,
     "metadata": {},
     "output_type": "execute_result"
    }
   ],
   "source": [
    "regressor_grid = GridSearchCV(estimator =regressor1, param_grid=param_grid_regressor,\n",
    "                              cv = 5, verbose =2,\n",
    "                              n_jobs= -1,  scoring = \"neg_mean_squared_error\")\n",
    "\n",
    "regressor_grid.fit (X_model,y_model)"
   ]
  },
  {
   "cell_type": "code",
   "execution_count": 249,
   "id": "2bf443f7",
   "metadata": {},
   "outputs": [
    {
     "data": {
      "text/plain": [
       "{'alpha': 1, 'degree': 2}"
      ]
     },
     "execution_count": 249,
     "metadata": {},
     "output_type": "execute_result"
    }
   ],
   "source": [
    "regressor_grid.best_params_"
   ]
  },
  {
   "cell_type": "code",
   "execution_count": 250,
   "id": "39d4e174",
   "metadata": {},
   "outputs": [
    {
     "data": {
      "text/plain": [
       "-2537.2657798980376"
      ]
     },
     "execution_count": 250,
     "metadata": {},
     "output_type": "execute_result"
    }
   ],
   "source": [
    "regressor_grid.best_score_"
   ]
  },
  {
   "cell_type": "code",
   "execution_count": 177,
   "id": "abca86f3",
   "metadata": {},
   "outputs": [
    {
     "ename": "NameError",
     "evalue": "name 'MLPRegressor' is not defined",
     "output_type": "error",
     "traceback": [
      "\u001b[1;31m---------------------------------------------------------------------------\u001b[0m",
      "\u001b[1;31mNameError\u001b[0m                                 Traceback (most recent call last)",
      "\u001b[1;32m<ipython-input-177-12196a88b30b>\u001b[0m in \u001b[0;36m<module>\u001b[1;34m\u001b[0m\n\u001b[0;32m      1\u001b[0m \u001b[1;31m# manual search engine\u001b[0m\u001b[1;33m\u001b[0m\u001b[1;33m\u001b[0m\u001b[1;33m\u001b[0m\u001b[0m\n\u001b[1;32m----> 2\u001b[1;33m regressor1 = MLPRegressor(learning_rate = \"invscaling\", activation = \"relu\",\n\u001b[0m\u001b[0;32m      3\u001b[0m          solver =\"sgd\",hidden_layer_sizes=50, random_state=1, max_iter=100000)\n",
      "\u001b[1;31mNameError\u001b[0m: name 'MLPRegressor' is not defined"
     ]
    }
   ],
   "source": [
    " # manual search engine\n",
    "regressor1 = MLPRegressor(learning_rate = \"invscaling\", activation = \"relu\",\n",
    "          solver =\"sgd\",hidden_layer_sizes=50, random_state=1, max_iter=100000)"
   ]
  },
  {
   "cell_type": "code",
   "execution_count": 176,
   "id": "84e17cb5",
   "metadata": {},
   "outputs": [
    {
     "name": "stderr",
     "output_type": "stream",
     "text": [
      "C:\\Python39\\lib\\site-packages\\sklearn\\neural_network\\_multilayer_perceptron.py:614: ConvergenceWarning: Stochastic Optimizer: Maximum iterations (100000) reached and the optimization hasn't converged yet.\n",
      "  warnings.warn(\n"
     ]
    },
    {
     "data": {
      "text/plain": [
       "MLPRegressor(hidden_layer_sizes=50, learning_rate='invscaling', max_iter=100000,\n",
       "             random_state=1, solver='sgd')"
      ]
     },
     "execution_count": 176,
     "metadata": {},
     "output_type": "execute_result"
    }
   ],
   "source": [
    "regressor1.fit(X_train, y_train)"
   ]
  },
  {
   "cell_type": "code",
   "execution_count": null,
   "id": "984b89c3",
   "metadata": {},
   "outputs": [],
   "source": []
  },
  {
   "cell_type": "code",
   "execution_count": null,
   "id": "cb0f5e77",
   "metadata": {},
   "outputs": [],
   "source": []
  }
 ],
 "metadata": {
  "kernelspec": {
   "display_name": "Python 3",
   "language": "python",
   "name": "python3"
  },
  "language_info": {
   "codemirror_mode": {
    "name": "ipython",
    "version": 3
   },
   "file_extension": ".py",
   "mimetype": "text/x-python",
   "name": "python",
   "nbconvert_exporter": "python",
   "pygments_lexer": "ipython3",
   "version": "3.9.4"
  }
 },
 "nbformat": 4,
 "nbformat_minor": 5
}
