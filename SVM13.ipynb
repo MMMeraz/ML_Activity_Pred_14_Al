{
 "cells": [
  {
   "cell_type": "code",
   "execution_count": 1,
   "id": "6d6f1d90",
   "metadata": {},
   "outputs": [],
   "source": [
    "# Import Section\n",
    "import csv\n",
    "import codecs\n",
    "import sys\n",
    "import io\n",
    "import numpy as np\n",
    "import pandas as pd\n",
    "import scipy as sp\n",
    "\n",
    "# For Regression\n",
    "from sklearn.model_selection import train_test_split\n",
    "from sklearn.model_selection import cross_val_score\n",
    "from statistics import mean\n",
    "\n",
    "from sklearn import svm\n",
    "\n",
    "# Python script for confusion matrix creation. \n",
    "from sklearn.metrics import *\n",
    "from numpy import mean\n",
    "from numpy import std\n",
    "from sklearn import metrics"
   ]
  },
  {
   "cell_type": "code",
   "execution_count": 2,
   "id": "69ae8fb6",
   "metadata": {},
   "outputs": [],
   "source": [
    "dataset=pd.read_excel(\"DES_60-49.xlsx\",index_col=0)"
   ]
  },
  {
   "cell_type": "code",
   "execution_count": 3,
   "id": "ec007b03",
   "metadata": {},
   "outputs": [
    {
     "data": {
      "text/plain": [
       "(1056, 50)"
      ]
     },
     "execution_count": 3,
     "metadata": {},
     "output_type": "execute_result"
    }
   ],
   "source": [
    "dataset.shape"
   ]
  },
  {
   "cell_type": "code",
   "execution_count": 4,
   "id": "42721077",
   "metadata": {},
   "outputs": [
    {
     "data": {
      "text/plain": [
       "apol                                                              0\n",
       "nF                                                                0\n",
       "AATS5i                                                            0\n",
       "AATS8i                                                            0\n",
       "ATSC4v                                                            0\n",
       "ATSC3e                                                            0\n",
       "ATSC6e                                                            0\n",
       "AATSC1i                                                           0\n",
       "GATS6c                                                            0\n",
       "GATS7c                                                            0\n",
       "IC1                                                               0\n",
       "MDEC-12                                                           0\n",
       "MDEC-23                                                           0\n",
       "MLFER_S                                                           0\n",
       "MLFER_E                                                           0\n",
       "n6HeteroRing                                                      0\n",
       "nF11HeteroRing                                                    0\n",
       "LipinskiFailures                                                  0\n",
       "JGI6                                                              0\n",
       "VR1_D                                                             0\n",
       "Relative number of C  atoms                                       0\n",
       "Relative number of Cl atoms                                       0\n",
       "Relative molecular weight                                         0\n",
       "Wiener index                                                      0\n",
       "Kier&Hall index (order 3)                                         0\n",
       "Min partial charge (Qmin)                                         0\n",
       "DPSA-1 Difference in CPSAs (PPSA1-PNSA1) [Zefirov's PC]           0\n",
       "PPSA-3 Atomic charge weighted PPSA [Zefirov's PC]                 0\n",
       "PNSA-3 Atomic charge weighted PNSA [Zefirov's PC]                 0\n",
       "FNSA-3 Fractional PNSA (PNSA-3/TMSA) [Zefirov's PC]               0\n",
       "RNCG Relative negative charge (QMNEG/QTMINUS) [Zefirov's PC]      0\n",
       "RNCS Relative negative charged SA (SAMNEG*RNCG) [Zefirov's PC]    0\n",
       "HA dependent HDSA-1 [Zefirov's PC]                                0\n",
       "HASA-2 [Zefirov's PC]                                             0\n",
       "LUMO+1 energy                                                     0\n",
       "Min net atomic charge for a N atom                                0\n",
       "Tot hybridization comp. of the molecular dipole                   0\n",
       "HA dependent HDSA-1 [Quantum-Chemical PC]                         0\n",
       "X%                                                                0\n",
       "D/Dtr09                                                           0\n",
       "J_D/Dt                                                            0\n",
       "GATS1e                                                            0\n",
       "GATS4p                                                            0\n",
       "Chi0_EA(dm)                                                       0\n",
       "Eig03_AEA(ed)                                                     0\n",
       "CATS2D_04_AA                                                      0\n",
       "CATS2D_04_PN                                                      0\n",
       "F04[C-X]                                                          0\n",
       "s3_phSize                                                         0\n",
       "Act                                                               0\n",
       "dtype: int64"
      ]
     },
     "execution_count": 4,
     "metadata": {},
     "output_type": "execute_result"
    }
   ],
   "source": [
    "# to check the null values \n",
    "dataset.isnull().sum()"
   ]
  },
  {
   "cell_type": "code",
   "execution_count": 5,
   "id": "3510a88c",
   "metadata": {},
   "outputs": [
    {
     "data": {
      "text/plain": [
       "apol                                                              1056\n",
       "nF                                                                1056\n",
       "AATS5i                                                            1056\n",
       "AATS8i                                                            1056\n",
       "ATSC4v                                                            1056\n",
       "ATSC3e                                                            1056\n",
       "ATSC6e                                                            1056\n",
       "AATSC1i                                                           1056\n",
       "GATS6c                                                            1056\n",
       "GATS7c                                                            1056\n",
       "IC1                                                               1056\n",
       "MDEC-12                                                           1056\n",
       "MDEC-23                                                           1056\n",
       "MLFER_S                                                           1056\n",
       "MLFER_E                                                           1056\n",
       "n6HeteroRing                                                      1056\n",
       "nF11HeteroRing                                                    1056\n",
       "LipinskiFailures                                                  1056\n",
       "JGI6                                                              1056\n",
       "VR1_D                                                             1056\n",
       "Relative number of C  atoms                                       1056\n",
       "Relative number of Cl atoms                                       1056\n",
       "Relative molecular weight                                         1056\n",
       "Wiener index                                                      1056\n",
       "Kier&Hall index (order 3)                                         1056\n",
       "Min partial charge (Qmin)                                         1056\n",
       "DPSA-1 Difference in CPSAs (PPSA1-PNSA1) [Zefirov's PC]           1056\n",
       "PPSA-3 Atomic charge weighted PPSA [Zefirov's PC]                 1056\n",
       "PNSA-3 Atomic charge weighted PNSA [Zefirov's PC]                 1056\n",
       "FNSA-3 Fractional PNSA (PNSA-3/TMSA) [Zefirov's PC]               1056\n",
       "RNCG Relative negative charge (QMNEG/QTMINUS) [Zefirov's PC]      1056\n",
       "RNCS Relative negative charged SA (SAMNEG*RNCG) [Zefirov's PC]    1056\n",
       "HA dependent HDSA-1 [Zefirov's PC]                                1056\n",
       "HASA-2 [Zefirov's PC]                                             1056\n",
       "LUMO+1 energy                                                     1056\n",
       "Min net atomic charge for a N atom                                1056\n",
       "Tot hybridization comp. of the molecular dipole                   1056\n",
       "HA dependent HDSA-1 [Quantum-Chemical PC]                         1056\n",
       "X%                                                                1056\n",
       "D/Dtr09                                                           1056\n",
       "J_D/Dt                                                            1056\n",
       "GATS1e                                                            1056\n",
       "GATS4p                                                            1056\n",
       "Chi0_EA(dm)                                                       1056\n",
       "Eig03_AEA(ed)                                                     1056\n",
       "CATS2D_04_AA                                                      1056\n",
       "CATS2D_04_PN                                                      1056\n",
       "F04[C-X]                                                          1056\n",
       "s3_phSize                                                         1056\n",
       "Act                                                               1056\n",
       "dtype: int64"
      ]
     },
     "execution_count": 5,
     "metadata": {},
     "output_type": "execute_result"
    }
   ],
   "source": [
    "dataset.isnull().count()"
   ]
  },
  {
   "cell_type": "code",
   "execution_count": 6,
   "id": "6540ffea",
   "metadata": {},
   "outputs": [],
   "source": [
    "x = dataset.drop(['Act'],axis=1).astype(float)\n",
    "y = dataset['Act']"
   ]
  },
  {
   "cell_type": "code",
   "execution_count": 7,
   "id": "38fcc30c",
   "metadata": {},
   "outputs": [
    {
     "data": {
      "text/plain": [
       "(1056, 49)"
      ]
     },
     "execution_count": 7,
     "metadata": {},
     "output_type": "execute_result"
    }
   ],
   "source": [
    "x.shape"
   ]
  },
  {
   "cell_type": "code",
   "execution_count": 8,
   "id": "c129b673",
   "metadata": {},
   "outputs": [
    {
     "data": {
      "text/plain": [
       "Name\n",
       "1Co      85.3\n",
       "2Co      98.7\n",
       "3Co      77.3\n",
       "4Co      76.0\n",
       "5Co      89.3\n",
       "        ...  \n",
       "1052     37.0\n",
       "1053    102.0\n",
       "1054     83.2\n",
       "1055     70.1\n",
       "1056    109.0\n",
       "Name: Act, Length: 1056, dtype: float64"
      ]
     },
     "execution_count": 8,
     "metadata": {},
     "output_type": "execute_result"
    }
   ],
   "source": [
    "y "
   ]
  },
  {
   "cell_type": "code",
   "execution_count": 9,
   "id": "174dcd4e",
   "metadata": {},
   "outputs": [],
   "source": [
    "x_model, x_extest, y_model, y_extest = train_test_split(x,y,test_size=.2, random_state = 7000, shuffle=True)"
   ]
  },
  {
   "cell_type": "code",
   "execution_count": 10,
   "id": "5403d6e9",
   "metadata": {},
   "outputs": [
    {
     "data": {
      "text/plain": [
       "(844, 49)"
      ]
     },
     "execution_count": 10,
     "metadata": {},
     "output_type": "execute_result"
    }
   ],
   "source": [
    "x_model.shape"
   ]
  },
  {
   "cell_type": "code",
   "execution_count": 11,
   "id": "3e08e96b",
   "metadata": {},
   "outputs": [],
   "source": [
    "x_train, x_test2, y_train, y_test2 = train_test_split(x_model,y_model,test_size=.3, random_state = 7000, shuffle=True)"
   ]
  },
  {
   "cell_type": "code",
   "execution_count": 12,
   "id": "d8ed970c",
   "metadata": {},
   "outputs": [
    {
     "data": {
      "text/plain": [
       "(590, 49)"
      ]
     },
     "execution_count": 12,
     "metadata": {},
     "output_type": "execute_result"
    }
   ],
   "source": [
    "x_train.shape"
   ]
  },
  {
   "cell_type": "code",
   "execution_count": 13,
   "id": "33daae20",
   "metadata": {},
   "outputs": [
    {
     "data": {
      "text/plain": [
       "(254, 49)"
      ]
     },
     "execution_count": 13,
     "metadata": {},
     "output_type": "execute_result"
    }
   ],
   "source": [
    "x_test2.shape"
   ]
  },
  {
   "cell_type": "code",
   "execution_count": 14,
   "id": "f09a2627",
   "metadata": {},
   "outputs": [],
   "source": [
    "x_val, x_test, y_val, y_test = train_test_split(x_test2,y_test2,test_size=.5, random_state = 7000, shuffle=True)"
   ]
  },
  {
   "cell_type": "code",
   "execution_count": 15,
   "id": "58d9dc52",
   "metadata": {},
   "outputs": [
    {
     "data": {
      "text/plain": [
       "(127, 49)"
      ]
     },
     "execution_count": 15,
     "metadata": {},
     "output_type": "execute_result"
    }
   ],
   "source": [
    "x_test.shape"
   ]
  },
  {
   "cell_type": "code",
   "execution_count": 16,
   "id": "95e85f0f",
   "metadata": {},
   "outputs": [
    {
     "data": {
      "text/plain": [
       "(127, 49)"
      ]
     },
     "execution_count": 16,
     "metadata": {},
     "output_type": "execute_result"
    }
   ],
   "source": [
    "x_val.shape"
   ]
  },
  {
   "cell_type": "code",
   "execution_count": 17,
   "id": "e0b4dd93",
   "metadata": {},
   "outputs": [],
   "source": [
    "# scealing is required for indepandent variables at SVR\n",
    "from sklearn.preprocessing import StandardScaler"
   ]
  },
  {
   "cell_type": "code",
   "execution_count": 18,
   "id": "206b457c",
   "metadata": {},
   "outputs": [],
   "source": [
    "scale = StandardScaler()"
   ]
  },
  {
   "cell_type": "code",
   "execution_count": 19,
   "id": "4372b29c",
   "metadata": {},
   "outputs": [],
   "source": [
    "X = scale.fit_transform(x)\n",
    "X_train = scale.fit_transform(x_train)\n",
    "X_test = scale.fit_transform(x_test)\n",
    "X_val = scale.fit_transform(x_val)\n",
    "X_model = scale.fit_transform(x_model)\n",
    "X_extest = scale.fit_transform(x_extest)"
   ]
  },
  {
   "cell_type": "code",
   "execution_count": 22,
   "id": "acacee4b",
   "metadata": {},
   "outputs": [],
   "source": [
    "svm.SVR?"
   ]
  },
  {
   "cell_type": "code",
   "execution_count": 61,
   "id": "99a01ad3",
   "metadata": {},
   "outputs": [],
   "source": [
    "regressor = svm.SVR( kernel='rbf', degree=1, gamma='scale',\n",
    "                     coef0=0.0, tol=0.001,C=300, epsilon=4, shrinking=True,\n",
    "                     cache_size=200, verbose=False, max_iter=-1,) "
   ]
  },
  {
   "cell_type": "code",
   "execution_count": 62,
   "id": "4e94da1a",
   "metadata": {},
   "outputs": [
    {
     "data": {
      "text/plain": [
       "SVR(C=300, degree=1, epsilon=4)"
      ]
     },
     "execution_count": 62,
     "metadata": {},
     "output_type": "execute_result"
    }
   ],
   "source": [
    " regressor.fit(X_train, y_train)"
   ]
  },
  {
   "cell_type": "code",
   "execution_count": 63,
   "id": "153a413c",
   "metadata": {},
   "outputs": [],
   "source": [
    "# compute the testing accuracy\n",
    "y_pred = regressor.predict(X_test)"
   ]
  },
  {
   "cell_type": "code",
   "execution_count": 64,
   "id": "ef2bd5a0",
   "metadata": {},
   "outputs": [],
   "source": [
    "y_pred_train = regressor.predict(X_train)"
   ]
  },
  {
   "cell_type": "code",
   "execution_count": 65,
   "id": "51b8dbf2",
   "metadata": {},
   "outputs": [
    {
     "data": {
      "text/plain": [
       "(590,)"
      ]
     },
     "execution_count": 65,
     "metadata": {},
     "output_type": "execute_result"
    }
   ],
   "source": [
    "y_pred_train.shape"
   ]
  },
  {
   "cell_type": "code",
   "execution_count": 66,
   "id": "8545bb86",
   "metadata": {},
   "outputs": [],
   "source": [
    "y_pred_val = regressor.predict(X_val)"
   ]
  },
  {
   "cell_type": "code",
   "execution_count": 67,
   "id": "e10de018",
   "metadata": {},
   "outputs": [],
   "source": [
    "y_pred_extest = regressor.predict(X_extest)"
   ]
  },
  {
   "cell_type": "code",
   "execution_count": 68,
   "id": "f24c4ca5",
   "metadata": {},
   "outputs": [],
   "source": [
    "y_pred_model = regressor.predict(X_model)"
   ]
  },
  {
   "cell_type": "code",
   "execution_count": 69,
   "id": "e6ec491d",
   "metadata": {},
   "outputs": [],
   "source": [
    "y_pred_all = regressor.predict(X)"
   ]
  },
  {
   "cell_type": "code",
   "execution_count": 70,
   "id": "bd299f88",
   "metadata": {},
   "outputs": [
    {
     "name": "stdout",
     "output_type": "stream",
     "text": [
      "\n",
      "\n",
      "overall Performance: \n"
     ]
    }
   ],
   "source": [
    "  print(\"\\n\")\n",
    "  print(\"overall Performance: \", )"
   ]
  },
  {
   "cell_type": "code",
   "execution_count": 71,
   "id": "08e1d8cc",
   "metadata": {},
   "outputs": [],
   "source": [
    "  # model evaluation for testing set\n",
    "  mae = metrics.mean_absolute_error(y_test, y_pred)\n",
    "  mse = metrics.mean_squared_error(y_test, y_pred)\n",
    "  r2 = metrics.r2_score(y_test, y_pred)"
   ]
  },
  {
   "cell_type": "code",
   "execution_count": 72,
   "id": "109a011e",
   "metadata": {},
   "outputs": [
    {
     "name": "stdout",
     "output_type": "stream",
     "text": [
      "The model performance for testing set\n",
      "--------------------------------------\n",
      "MAE is 22.56323864395856\n",
      "MSE is 1110.6507191743228\n",
      "R2 score is 0.5845324986253162\n"
     ]
    }
   ],
   "source": [
    "print(\"The model performance for testing set\")\n",
    "print(\"--------------------------------------\")\n",
    "print('MAE is {}'.format(mae))\n",
    "print('MSE is {}'.format(mse))\n",
    "print('R2 score is {}'.format(r2))"
   ]
  },
  {
   "cell_type": "code",
   "execution_count": 73,
   "id": "6eb42d35",
   "metadata": {},
   "outputs": [],
   "source": [
    "  # model evaluation for training set\n",
    "maeTrain = metrics.mean_absolute_error(y_train, y_pred_train)\n",
    "mseTrain = metrics.mean_squared_error(y_train, y_pred_train)\n",
    "r2Train = metrics.r2_score(y_train, y_pred_train)"
   ]
  },
  {
   "cell_type": "code",
   "execution_count": 74,
   "id": "595c5093",
   "metadata": {},
   "outputs": [
    {
     "name": "stdout",
     "output_type": "stream",
     "text": [
      "The model performance for training set\n",
      "--------------------------------------\n",
      "MAE is 8.727778327660925\n",
      "MSE is 280.6018025283404\n",
      "R2 score is 0.8805722473309273\n"
     ]
    }
   ],
   "source": [
    "print(\"The model performance for training set\")\n",
    "print(\"--------------------------------------\")\n",
    "print('MAE is {}'.format(maeTrain))\n",
    "print('MSE is {}'.format(mseTrain))\n",
    "print('R2 score is {}'.format(r2Train))"
   ]
  },
  {
   "cell_type": "code",
   "execution_count": 75,
   "id": "799a22af",
   "metadata": {},
   "outputs": [],
   "source": [
    "cvscoretrain = (cross_val_score(regressor,X_train,y_train.ravel(),cv=5).mean())"
   ]
  },
  {
   "cell_type": "code",
   "execution_count": 76,
   "id": "8243c59d",
   "metadata": {},
   "outputs": [
    {
     "name": "stdout",
     "output_type": "stream",
     "text": [
      "The CV score for training dataset\n",
      "--------------------------------------\n",
      "[0.70225371 0.64055034 0.56153069 0.47483173 0.65517565]\n",
      "Q2 is 0.6068684238568954\n"
     ]
    }
   ],
   "source": [
    "print(\"The CV score for training dataset\")\n",
    "print(\"--------------------------------------\")\n",
    "print (cross_val_score(regressor,X_train,y_train.ravel(),cv=5))\n",
    "print('Q2 is {}'.format(cvscoretrain))"
   ]
  },
  {
   "cell_type": "code",
   "execution_count": 77,
   "id": "fcad4b72",
   "metadata": {},
   "outputs": [],
   "source": [
    "## model evaluation for extest set\n",
    "maeex = metrics.mean_absolute_error(y_extest, y_pred_extest)\n",
    "mseex = metrics.mean_squared_error(y_extest, y_pred_extest)\n",
    "r2ex = metrics.r2_score(y_extest, y_pred_extest)"
   ]
  },
  {
   "cell_type": "code",
   "execution_count": 78,
   "id": "c6fd7311",
   "metadata": {},
   "outputs": [
    {
     "name": "stdout",
     "output_type": "stream",
     "text": [
      "The model performance for extest set\n",
      "--------------------------------------\n",
      "MAE is 21.56498914371117\n",
      "MSE is 1083.7401880417247\n",
      "R2 score is 0.5621099071908353\n"
     ]
    }
   ],
   "source": [
    "print(\"The model performance for extest set\")\n",
    "print(\"--------------------------------------\")\n",
    "print('MAE is {}'.format(maeex))\n",
    "print('MSE is {}'.format(mseex))\n",
    "print('R2 score is {}'.format(r2ex))"
   ]
  },
  {
   "cell_type": "code",
   "execution_count": 79,
   "id": "4cc6638a",
   "metadata": {},
   "outputs": [],
   "source": [
    "## model evaluation for val set\n",
    "maevl = metrics.mean_absolute_error(y_val, y_pred_val)\n",
    "msevl = metrics.mean_squared_error(y_val, y_pred_val)\n",
    "r2vl = metrics.r2_score(y_val, y_pred_val)"
   ]
  },
  {
   "cell_type": "code",
   "execution_count": 80,
   "id": "2afb1d99",
   "metadata": {},
   "outputs": [
    {
     "name": "stdout",
     "output_type": "stream",
     "text": [
      "The model performance for val set\n",
      "--------------------------------------\n",
      "MAE is 19.03850547248146\n",
      "MSE is 743.5753865327491\n",
      "R2 score is 0.6011941811054056\n"
     ]
    }
   ],
   "source": [
    "print(\"The model performance for val set\")\n",
    "print(\"--------------------------------------\")\n",
    "print('MAE is {}'.format(maevl))\n",
    "print('MSE is {}'.format(msevl))\n",
    "print('R2 score is {}'.format(r2vl))"
   ]
  },
  {
   "cell_type": "code",
   "execution_count": 81,
   "id": "7e114c85",
   "metadata": {},
   "outputs": [],
   "source": [
    "## model evaluation for modeling  dataset\n",
    "maemod = metrics.mean_absolute_error(y_model, y_pred_model)\n",
    "msemod = metrics.mean_squared_error(y_model, y_pred_model)\n",
    "r2mod = metrics.r2_score(y_model, y_pred_model)"
   ]
  },
  {
   "cell_type": "code",
   "execution_count": 82,
   "id": "d68fce39",
   "metadata": {
    "scrolled": true
   },
   "outputs": [
    {
     "name": "stdout",
     "output_type": "stream",
     "text": [
      "The model performance for modeling set\n",
      "--------------------------------------\n",
      "MAE is 12.231197209739191\n",
      "MSE is 470.0389205843417\n",
      "R2 score is 0.7981351878923539\n"
     ]
    }
   ],
   "source": [
    "print(\"The model performance for modeling set\")\n",
    "print(\"--------------------------------------\")\n",
    "print('MAE is {}'.format(maemod))\n",
    "print('MSE is {}'.format(msemod))\n",
    "print('R2 score is {}'.format(r2mod))"
   ]
  },
  {
   "cell_type": "code",
   "execution_count": 83,
   "id": "68f18634",
   "metadata": {},
   "outputs": [],
   "source": [
    "cvscoremod = (cross_val_score(regressor,X_model,y_model.ravel(),cv=5).mean())"
   ]
  },
  {
   "cell_type": "code",
   "execution_count": 84,
   "id": "24b7f2a0",
   "metadata": {},
   "outputs": [
    {
     "name": "stdout",
     "output_type": "stream",
     "text": [
      "The CV score for modeling dataset\n",
      "--------------------------------------\n",
      "[0.65901877 0.69762221 0.54454278 0.67105691 0.69736657]\n",
      "Q2 is 0.653921446949289\n"
     ]
    }
   ],
   "source": [
    "print(\"The CV score for modeling dataset\")\n",
    "print(\"--------------------------------------\")\n",
    "print (cross_val_score(regressor,X_model,y_model.ravel(),cv=5))\n",
    "print('Q2 is {}'.format(cvscoremod))"
   ]
  },
  {
   "cell_type": "code",
   "execution_count": 46,
   "id": "673abc15",
   "metadata": {},
   "outputs": [],
   "source": [
    "svm.SVR??"
   ]
  },
  {
   "cell_type": "code",
   "execution_count": 47,
   "id": "806b7443",
   "metadata": {},
   "outputs": [],
   "source": [
    "# creatting parameter gride\n",
    "param_grid_regressor = {'kernel': ['linear', 'poly', 'rbf', 'sigmoid'], \n",
    "                        'gamma': ['scale', 'auto'], 'C': [0.1, 1, 10, 100,150,200, 300, 400, 500, 1000], \n",
    "                        'epsilon': [0.1, 1, 2, 4, 6, 10, 15, 20], 'degree' : [1,2,3,4,5,6, 7, 8]}"
   ]
  },
  {
   "cell_type": "code",
   "execution_count": 48,
   "id": "e3e32af3",
   "metadata": {},
   "outputs": [
    {
     "name": "stdout",
     "output_type": "stream",
     "text": [
      "{'kernel': ['linear', 'poly', 'rbf', 'sigmoid'], 'gamma': ['scale', 'auto'], 'C': [0.1, 1, 10, 100, 150, 200, 300, 400, 500, 1000], 'epsilon': [0.1, 1, 2, 4, 6, 10, 15, 20], 'degree': [1, 2, 3, 4, 5, 6, 7, 8]}\n"
     ]
    }
   ],
   "source": [
    "print (param_grid_regressor)\n",
    "                    "
   ]
  },
  {
   "cell_type": "code",
   "execution_count": 49,
   "id": "018d3841",
   "metadata": {},
   "outputs": [],
   "source": [
    "regressor1 = svm.SVR()"
   ]
  },
  {
   "cell_type": "code",
   "execution_count": 50,
   "id": "a3e35ab5",
   "metadata": {},
   "outputs": [],
   "source": [
    "#Randomize search CV\n",
    "from sklearn.model_selection import RandomizedSearchCV"
   ]
  },
  {
   "cell_type": "code",
   "execution_count": 51,
   "id": "fc25f42b",
   "metadata": {},
   "outputs": [],
   "source": [
    "regressor_random = RandomizedSearchCV(estimator = regressor1, param_distributions=param_grid_regressor, n_iter = 100,\n",
    "                              cv = 5, verbose =2,\n",
    "                              n_jobs= -1, scoring = 'neg_mean_squared_error' )"
   ]
  },
  {
   "cell_type": "code",
   "execution_count": 52,
   "id": "0f7d81ce",
   "metadata": {},
   "outputs": [
    {
     "name": "stdout",
     "output_type": "stream",
     "text": [
      "Fitting 5 folds for each of 100 candidates, totalling 500 fits\n"
     ]
    },
    {
     "data": {
      "text/plain": [
       "RandomizedSearchCV(cv=5, estimator=SVR(), n_iter=100, n_jobs=-1,\n",
       "                   param_distributions={'C': [0.1, 1, 10, 100, 150, 200, 300,\n",
       "                                              400, 500, 1000],\n",
       "                                        'degree': [1, 2, 3, 4, 5, 6, 7, 8],\n",
       "                                        'epsilon': [0.1, 1, 2, 4, 6, 10, 15,\n",
       "                                                    20],\n",
       "                                        'gamma': ['scale', 'auto'],\n",
       "                                        'kernel': ['linear', 'poly', 'rbf',\n",
       "                                                   'sigmoid']},\n",
       "                   scoring='neg_mean_squared_error', verbose=2)"
      ]
     },
     "execution_count": 52,
     "metadata": {},
     "output_type": "execute_result"
    }
   ],
   "source": [
    "regressor_random.fit (X_train,y_train)"
   ]
  },
  {
   "cell_type": "code",
   "execution_count": 53,
   "id": "d1ba06b1",
   "metadata": {},
   "outputs": [
    {
     "data": {
      "text/plain": [
       "{'kernel': 'rbf', 'gamma': 'auto', 'epsilon': 4, 'degree': 5, 'C': 400}"
      ]
     },
     "execution_count": 53,
     "metadata": {},
     "output_type": "execute_result"
    }
   ],
   "source": [
    "regressor_random.best_params_"
   ]
  },
  {
   "cell_type": "code",
   "execution_count": 54,
   "id": "47d94b56",
   "metadata": {},
   "outputs": [
    {
     "data": {
      "text/plain": [
       "-912.1791924664458"
      ]
     },
     "execution_count": 54,
     "metadata": {},
     "output_type": "execute_result"
    }
   ],
   "source": [
    "regressor_random.best_score_"
   ]
  },
  {
   "cell_type": "code",
   "execution_count": 55,
   "id": "28b597ee",
   "metadata": {},
   "outputs": [],
   "source": [
    "# parameter tuning grid searchCV\n",
    "from sklearn.model_selection import GridSearchCV"
   ]
  },
  {
   "cell_type": "code",
   "execution_count": 56,
   "id": "7271642b",
   "metadata": {},
   "outputs": [],
   "source": [
    "regressor_grid = GridSearchCV(estimator =regressor1, param_grid=param_grid_regressor,\n",
    "                              cv = 5, verbose =2,\n",
    "                              n_jobs= -1,  scoring = \"neg_mean_squared_error\")"
   ]
  },
  {
   "cell_type": "code",
   "execution_count": 57,
   "id": "c7d96bb8",
   "metadata": {},
   "outputs": [
    {
     "name": "stdout",
     "output_type": "stream",
     "text": [
      "Fitting 5 folds for each of 5120 candidates, totalling 25600 fits\n"
     ]
    },
    {
     "data": {
      "text/plain": [
       "GridSearchCV(cv=5, estimator=SVR(), n_jobs=-1,\n",
       "             param_grid={'C': [0.1, 1, 10, 100, 150, 200, 300, 400, 500, 1000],\n",
       "                         'degree': [1, 2, 3, 4, 5, 6, 7, 8],\n",
       "                         'epsilon': [0.1, 1, 2, 4, 6, 10, 15, 20],\n",
       "                         'gamma': ['scale', 'auto'],\n",
       "                         'kernel': ['linear', 'poly', 'rbf', 'sigmoid']},\n",
       "             scoring='neg_mean_squared_error', verbose=2)"
      ]
     },
     "execution_count": 57,
     "metadata": {},
     "output_type": "execute_result"
    }
   ],
   "source": [
    "regressor_grid.fit(X_train, y_train)"
   ]
  },
  {
   "cell_type": "code",
   "execution_count": 58,
   "id": "2bf443f7",
   "metadata": {},
   "outputs": [
    {
     "data": {
      "text/plain": [
       "{'C': 300, 'degree': 1, 'epsilon': 4, 'gamma': 'scale', 'kernel': 'rbf'}"
      ]
     },
     "execution_count": 58,
     "metadata": {},
     "output_type": "execute_result"
    }
   ],
   "source": [
    "regressor_grid.best_params_"
   ]
  },
  {
   "cell_type": "code",
   "execution_count": 59,
   "id": "2182856d",
   "metadata": {},
   "outputs": [
    {
     "data": {
      "text/plain": [
       "-910.1109463837332"
      ]
     },
     "execution_count": 59,
     "metadata": {},
     "output_type": "execute_result"
    }
   ],
   "source": [
    "regressor_grid.best_score_"
   ]
  },
  {
   "cell_type": "code",
   "execution_count": 60,
   "id": "abca86f3",
   "metadata": {},
   "outputs": [],
   "source": [
    " # manual search engine\n",
    "regressor2 = svm.SVR(kernel='rbf',\n",
    "    degree=1,\n",
    "    gamma='scale',\n",
    "    coef0=0.0,\n",
    "    tol=0.001,\n",
    "    C=150,\n",
    "    epsilon=4,)"
   ]
  },
  {
   "cell_type": "code",
   "execution_count": null,
   "id": "f59b9144",
   "metadata": {},
   "outputs": [],
   "source": [
    "regressor2.fit(X_train, y_train)"
   ]
  },
  {
   "cell_type": "code",
   "execution_count": null,
   "id": "8c1485e2",
   "metadata": {},
   "outputs": [],
   "source": [
    "y_pred2 = regressor2.predict(X_test)"
   ]
  },
  {
   "cell_type": "code",
   "execution_count": null,
   "id": "b8dc50f0",
   "metadata": {},
   "outputs": [],
   "source": [
    "y_pred_train2 = regressor2.predict(X_train)"
   ]
  },
  {
   "cell_type": "code",
   "execution_count": null,
   "id": "d39721fd",
   "metadata": {},
   "outputs": [],
   "source": [
    "y_pred_val2 = regressor2.predict(X_val)"
   ]
  },
  {
   "cell_type": "code",
   "execution_count": null,
   "id": "f81c0dd7",
   "metadata": {},
   "outputs": [],
   "source": [
    "y_pred_extest2 = regressor2.predict(X_extest)"
   ]
  },
  {
   "cell_type": "code",
   "execution_count": null,
   "id": "d48da48c",
   "metadata": {},
   "outputs": [],
   "source": [
    "y_pred_model2 = regressor2.predict(X_model)"
   ]
  },
  {
   "cell_type": "code",
   "execution_count": null,
   "id": "5bb4dd24",
   "metadata": {},
   "outputs": [],
   "source": [
    "  # model evaluation for testing set\n",
    "  mae1 = metrics.mean_absolute_error(y_test, y_pred2)\n",
    "  mse1 = metrics.mean_squared_error(y_test, y_pred2)\n",
    "  r21 = metrics.r2_score(y_test, y_pred2)"
   ]
  },
  {
   "cell_type": "code",
   "execution_count": null,
   "id": "5213cca4",
   "metadata": {},
   "outputs": [],
   "source": [
    "print(\"The model performance for testing set\")\n",
    "print(\"--------------------------------------\")\n",
    "print('MAE is {}'.format(mae1))\n",
    "print('MSE is {}'.format(mse1))\n",
    "print('R2 score is {}'.format(r21))"
   ]
  },
  {
   "cell_type": "code",
   "execution_count": null,
   "id": "4c3d8975",
   "metadata": {},
   "outputs": [],
   "source": [
    " # model evaluation for training set\n",
    "mae11 = metrics.mean_absolute_error(y_train, y_pred_train2)\n",
    "mse11 = metrics.mean_squared_error(y_train, y_pred_train2)\n",
    "r211 = metrics.r2_score(y_train, y_pred_train2)"
   ]
  },
  {
   "cell_type": "code",
   "execution_count": null,
   "id": "0b3348bb",
   "metadata": {},
   "outputs": [],
   "source": [
    "print(\"The model performance for training set\")\n",
    "print(\"--------------------------------------\")\n",
    "print('MAE is {}'.format(mae11))\n",
    "print('MSE is {}'.format(mse11))\n",
    "print('R2 score is {}'.format(r211))"
   ]
  },
  {
   "cell_type": "code",
   "execution_count": null,
   "id": "d3fb272b",
   "metadata": {},
   "outputs": [],
   "source": [
    "  # model evaluation for ex-testing set\n",
    "  maeext1 = metrics.mean_absolute_error(y_extest, y_pred_extest2)\n",
    "  mseext1 = metrics.mean_squared_error(y_extest, y_pred_extest2)\n",
    "  r2ext1 = metrics.r2_score(y_extest, y_pred_extest2)"
   ]
  },
  {
   "cell_type": "code",
   "execution_count": null,
   "id": "652c82ac",
   "metadata": {},
   "outputs": [],
   "source": [
    "print(\"The model performance for Ex-testing set\")\n",
    "print(\"--------------------------------------\")\n",
    "print('MAE is {}'.format(maeext1))\n",
    "print('MSE is {}'.format(mseext1))\n",
    "print('R2 score is {}'.format(r2ext1))"
   ]
  },
  {
   "cell_type": "code",
   "execution_count": null,
   "id": "3a3e4106",
   "metadata": {},
   "outputs": [],
   "source": [
    "# model evaluation for val set\n",
    "maeval1 = metrics.mean_absolute_error(y_val, y_pred_val2)\n",
    "mseval1 = metrics.mean_squared_error(y_val, y_pred_val2)\n",
    "r2val1 = metrics.r2_score(y_val, y_pred_val2)"
   ]
  },
  {
   "cell_type": "code",
   "execution_count": null,
   "id": "ca0265c6",
   "metadata": {},
   "outputs": [],
   "source": [
    "print(\"The model performance for val set\")\n",
    "print(\"--------------------------------------\")\n",
    "print('MAE is {}'.format(maeval1))\n",
    "print('MSE is {}'.format(mseval1))\n",
    "print('R2 score is {}'.format(r2val1))"
   ]
  },
  {
   "cell_type": "code",
   "execution_count": null,
   "id": "7bbe0944",
   "metadata": {},
   "outputs": [],
   "source": [
    " # model evaluation for modeling set\n",
    "maemod1 = metrics.mean_absolute_error(y_model, y_pred_model2)\n",
    "msemod1 = metrics.mean_squared_error(y_model, y_pred_model2)\n",
    "r2mod1 = metrics.r2_score(y_model, y_pred_model2)"
   ]
  },
  {
   "cell_type": "code",
   "execution_count": null,
   "id": "bdea6d94",
   "metadata": {},
   "outputs": [],
   "source": [
    "print(\"The model performance for modeling set\")\n",
    "print(\"--------------------------------------\")\n",
    "print('MAE is {}'.format(maemod1))\n",
    "print('MSE is {}'.format(msemod1))\n",
    "print('R2 score is {}'.format(r2mod1))"
   ]
  },
  {
   "cell_type": "code",
   "execution_count": null,
   "id": "e6d6e3d8",
   "metadata": {},
   "outputs": [],
   "source": [
    "cvscoretra1 = (-cross_val_score(regressor2,X_model,y_model.ravel(),cv=5).mean())"
   ]
  },
  {
   "cell_type": "code",
   "execution_count": null,
   "id": "367fd3b0",
   "metadata": {},
   "outputs": [],
   "source": [
    "print(\"The CV score for modeling dataset\")\n",
    "print(\"--------------------------------------\")\n",
    "print (-cross_val_score(regressor2,X_model,y_model.ravel(),cv=5))\n",
    "print('Q2 is {}'.format(cvscoretra1))\n"
   ]
  },
  {
   "cell_type": "code",
   "execution_count": null,
   "id": "ef623383",
   "metadata": {},
   "outputs": [],
   "source": [
    "cvscoretrain1 = (-cross_val_score(regressor2,X_train,y_train.ravel(),cv=5).mean())"
   ]
  },
  {
   "cell_type": "code",
   "execution_count": null,
   "id": "984b89c3",
   "metadata": {},
   "outputs": [],
   "source": [
    "print(\"The CV score for training dataset\")\n",
    "print(\"--------------------------------------\")\n",
    "print (-cross_val_score(regressor2,X_train,y_train.ravel(),cv=5))\n",
    "print('Q2 is {}'.format(cvscoretrain1))\n"
   ]
  },
  {
   "cell_type": "code",
   "execution_count": null,
   "id": "0d23d4a1",
   "metadata": {},
   "outputs": [],
   "source": []
  }
 ],
 "metadata": {
  "kernelspec": {
   "display_name": "Python 3",
   "language": "python",
   "name": "python3"
  },
  "language_info": {
   "codemirror_mode": {
    "name": "ipython",
    "version": 3
   },
   "file_extension": ".py",
   "mimetype": "text/x-python",
   "name": "python",
   "nbconvert_exporter": "python",
   "pygments_lexer": "ipython3",
   "version": "3.9.4"
  }
 },
 "nbformat": 4,
 "nbformat_minor": 5
}
