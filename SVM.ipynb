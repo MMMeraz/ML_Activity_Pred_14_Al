{
 "cells": [
  {
   "cell_type": "code",
   "execution_count": 1,
   "id": "6d6f1d90",
   "metadata": {},
   "outputs": [],
   "source": [
    "# Import Section\n",
    "import csv\n",
    "import codecs\n",
    "import sys\n",
    "import io\n",
    "import numpy as np\n",
    "import pandas as pd\n",
    "import scipy as sp\n",
    "\n",
    "# For Regression\n",
    "from sklearn.model_selection import train_test_split\n",
    "from sklearn.model_selection import cross_val_score\n",
    "from statistics import mean\n",
    "\n",
    "from sklearn import svm\n",
    "\n",
    "# Python script for confusion matrix creation. \n",
    "from sklearn.metrics import *\n",
    "from numpy import mean\n",
    "from numpy import std\n",
    "from sklearn import metrics"
   ]
  },
  {
   "cell_type": "code",
   "execution_count": 2,
   "id": "69ae8fb6",
   "metadata": {},
   "outputs": [],
   "source": [
    "dataset=pd.read_csv(\"data_294.csv\")"
   ]
  },
  {
   "cell_type": "code",
   "execution_count": 3,
   "id": "ec007b03",
   "metadata": {},
   "outputs": [
    {
     "data": {
      "text/plain": [
       "(294, 17)"
      ]
     },
     "execution_count": 3,
     "metadata": {},
     "output_type": "execute_result"
    }
   ],
   "source": [
    "dataset.shape"
   ]
  },
  {
   "cell_type": "code",
   "execution_count": 4,
   "id": "6540ffea",
   "metadata": {},
   "outputs": [],
   "source": [
    "x = dataset[['1', '15', '18', '21', '25', '26', '39', '41', '58', '69', '83', '85', '141', '155', '166']]"
   ]
  },
  {
   "cell_type": "code",
   "execution_count": 5,
   "id": "38fcc30c",
   "metadata": {},
   "outputs": [
    {
     "data": {
      "text/plain": [
       "(294, 15)"
      ]
     },
     "execution_count": 5,
     "metadata": {},
     "output_type": "execute_result"
    }
   ],
   "source": [
    "x.shape"
   ]
  },
  {
   "cell_type": "code",
   "execution_count": 6,
   "id": "c129b673",
   "metadata": {},
   "outputs": [],
   "source": [
    "y = dataset['Act']"
   ]
  },
  {
   "cell_type": "code",
   "execution_count": 7,
   "id": "174dcd4e",
   "metadata": {},
   "outputs": [],
   "source": [
    "x_model, x_extest, y_model, y_extest = train_test_split(x,y,test_size=.2, random_state = 7000, shuffle=True)"
   ]
  },
  {
   "cell_type": "code",
   "execution_count": 8,
   "id": "5403d6e9",
   "metadata": {},
   "outputs": [
    {
     "data": {
      "text/plain": [
       "(235, 15)"
      ]
     },
     "execution_count": 8,
     "metadata": {},
     "output_type": "execute_result"
    }
   ],
   "source": [
    "x_model.shape"
   ]
  },
  {
   "cell_type": "code",
   "execution_count": 9,
   "id": "3e08e96b",
   "metadata": {},
   "outputs": [],
   "source": [
    "x_train, x_test2, y_train, y_test2 = train_test_split(x_model,y_model,test_size=.3, random_state = 7000, shuffle=True)"
   ]
  },
  {
   "cell_type": "code",
   "execution_count": 10,
   "id": "d8ed970c",
   "metadata": {},
   "outputs": [
    {
     "data": {
      "text/plain": [
       "(164, 15)"
      ]
     },
     "execution_count": 10,
     "metadata": {},
     "output_type": "execute_result"
    }
   ],
   "source": [
    "x_train.shape"
   ]
  },
  {
   "cell_type": "code",
   "execution_count": 11,
   "id": "33daae20",
   "metadata": {},
   "outputs": [
    {
     "data": {
      "text/plain": [
       "(71, 15)"
      ]
     },
     "execution_count": 11,
     "metadata": {},
     "output_type": "execute_result"
    }
   ],
   "source": [
    "x_test2.shape"
   ]
  },
  {
   "cell_type": "code",
   "execution_count": 12,
   "id": "f09a2627",
   "metadata": {},
   "outputs": [],
   "source": [
    "x_val, x_test, y_val, y_test = train_test_split(x_test2,y_test2,test_size=.5, random_state = 7000, shuffle=True)"
   ]
  },
  {
   "cell_type": "code",
   "execution_count": 13,
   "id": "58d9dc52",
   "metadata": {},
   "outputs": [
    {
     "data": {
      "text/plain": [
       "(36, 15)"
      ]
     },
     "execution_count": 13,
     "metadata": {},
     "output_type": "execute_result"
    }
   ],
   "source": [
    "x_test.shape"
   ]
  },
  {
   "cell_type": "code",
   "execution_count": 14,
   "id": "95e85f0f",
   "metadata": {},
   "outputs": [
    {
     "data": {
      "text/plain": [
       "(35, 15)"
      ]
     },
     "execution_count": 14,
     "metadata": {},
     "output_type": "execute_result"
    }
   ],
   "source": [
    "x_val.shape"
   ]
  },
  {
   "cell_type": "code",
   "execution_count": 15,
   "id": "e0b4dd93",
   "metadata": {},
   "outputs": [],
   "source": [
    "# scealing is required for indepandent variables at ANN\n",
    "from sklearn.preprocessing import StandardScaler"
   ]
  },
  {
   "cell_type": "code",
   "execution_count": 16,
   "id": "206b457c",
   "metadata": {},
   "outputs": [],
   "source": [
    "scale = StandardScaler()"
   ]
  },
  {
   "cell_type": "code",
   "execution_count": 17,
   "id": "4372b29c",
   "metadata": {},
   "outputs": [],
   "source": [
    "X = scale.fit_transform(x)\n",
    "X_train = scale.fit_transform(x_train)\n",
    "X_test = scale.fit_transform(x_test)\n",
    "X_val = scale.fit_transform(x_val)\n",
    "X_model = scale.fit_transform(x_model)\n",
    "X_extest = scale.fit_transform(x_extest)"
   ]
  },
  {
   "cell_type": "code",
   "execution_count": 18,
   "id": "99a01ad3",
   "metadata": {},
   "outputs": [],
   "source": [
    "regressor = svm.SVR(kernel='rbf',\n",
    "    degree=1,\n",
    "    gamma='scale',\n",
    "    coef0=0.0,\n",
    "    tol=0.001,\n",
    "    C=100,\n",
    "    epsilon=4,)"
   ]
  },
  {
   "cell_type": "code",
   "execution_count": 19,
   "id": "4e94da1a",
   "metadata": {},
   "outputs": [
    {
     "data": {
      "text/plain": [
       "SVR(C=100, degree=1, epsilon=4)"
      ]
     },
     "execution_count": 19,
     "metadata": {},
     "output_type": "execute_result"
    }
   ],
   "source": [
    " regressor.fit(X_train, y_train)"
   ]
  },
  {
   "cell_type": "code",
   "execution_count": 20,
   "id": "153a413c",
   "metadata": {},
   "outputs": [],
   "source": [
    "# compute the testing accuracy\n",
    "y_pred = regressor.predict(X_test)"
   ]
  },
  {
   "cell_type": "code",
   "execution_count": 21,
   "id": "ef2bd5a0",
   "metadata": {},
   "outputs": [],
   "source": [
    "y_pred_train = regressor.predict(X_train)"
   ]
  },
  {
   "cell_type": "code",
   "execution_count": 22,
   "id": "51b8dbf2",
   "metadata": {},
   "outputs": [
    {
     "data": {
      "text/plain": [
       "(164,)"
      ]
     },
     "execution_count": 22,
     "metadata": {},
     "output_type": "execute_result"
    }
   ],
   "source": [
    "y_pred_train.shape"
   ]
  },
  {
   "cell_type": "code",
   "execution_count": 23,
   "id": "8545bb86",
   "metadata": {},
   "outputs": [],
   "source": [
    "y_pred_val = regressor.predict(X_val)"
   ]
  },
  {
   "cell_type": "code",
   "execution_count": 24,
   "id": "e10de018",
   "metadata": {},
   "outputs": [],
   "source": [
    "y_pred_extest = regressor.predict(X_extest)"
   ]
  },
  {
   "cell_type": "code",
   "execution_count": 25,
   "id": "f24c4ca5",
   "metadata": {},
   "outputs": [],
   "source": [
    "y_pred_model = regressor.predict(X_model)"
   ]
  },
  {
   "cell_type": "code",
   "execution_count": 26,
   "id": "e6ec491d",
   "metadata": {},
   "outputs": [],
   "source": [
    "y_pred_all = regressor.predict(X)"
   ]
  },
  {
   "cell_type": "code",
   "execution_count": 27,
   "id": "bd299f88",
   "metadata": {},
   "outputs": [
    {
     "name": "stdout",
     "output_type": "stream",
     "text": [
      "\n",
      "\n",
      "overall Performance: \n"
     ]
    }
   ],
   "source": [
    "  print(\"\\n\")\n",
    "  print(\"overall Performance: \", )"
   ]
  },
  {
   "cell_type": "code",
   "execution_count": 28,
   "id": "08e1d8cc",
   "metadata": {},
   "outputs": [],
   "source": [
    "  # model evaluation for testing set\n",
    "  mae = metrics.mean_absolute_error(y_test, y_pred)\n",
    "  mse = metrics.mean_squared_error(y_test, y_pred)\n",
    "  r2 = metrics.r2_score(y_test, y_pred)"
   ]
  },
  {
   "cell_type": "code",
   "execution_count": 29,
   "id": "109a011e",
   "metadata": {},
   "outputs": [
    {
     "name": "stdout",
     "output_type": "stream",
     "text": [
      "The model performance for testing set\n",
      "--------------------------------------\n",
      "MAE is 14.39280631675118\n",
      "MSE is 490.71699000794916\n",
      "R2 score is 0.6634206356840111\n"
     ]
    }
   ],
   "source": [
    "print(\"The model performance for testing set\")\n",
    "print(\"--------------------------------------\")\n",
    "print('MAE is {}'.format(mae))\n",
    "print('MSE is {}'.format(mse))\n",
    "print('R2 score is {}'.format(r2))"
   ]
  },
  {
   "cell_type": "code",
   "execution_count": 30,
   "id": "6eb42d35",
   "metadata": {},
   "outputs": [],
   "source": [
    "  # model evaluation for training set\n",
    "maeTrain = metrics.mean_absolute_error(y_train, y_pred_train)\n",
    "mseTrain = metrics.mean_squared_error(y_train, y_pred_train)\n",
    "r2Train = metrics.r2_score(y_train, y_pred_train)"
   ]
  },
  {
   "cell_type": "code",
   "execution_count": 31,
   "id": "595c5093",
   "metadata": {},
   "outputs": [
    {
     "name": "stdout",
     "output_type": "stream",
     "text": [
      "The model performance for training set\n",
      "--------------------------------------\n",
      "MAE is 14.442688052644227\n",
      "MSE is 689.3727520264391\n",
      "R2 score is 0.7379269285900852\n"
     ]
    }
   ],
   "source": [
    "print(\"The model performance for training set\")\n",
    "print(\"--------------------------------------\")\n",
    "print('MAE is {}'.format(maeTrain))\n",
    "print('MSE is {}'.format(mseTrain))\n",
    "print('R2 score is {}'.format(r2Train))"
   ]
  },
  {
   "cell_type": "code",
   "execution_count": 32,
   "id": "799a22af",
   "metadata": {},
   "outputs": [],
   "source": [
    "cvscoretrain = (-cross_val_score(regressor,X_train,y_train.ravel(),cv=5).mean())"
   ]
  },
  {
   "cell_type": "code",
   "execution_count": 33,
   "id": "8243c59d",
   "metadata": {},
   "outputs": [
    {
     "name": "stdout",
     "output_type": "stream",
     "text": [
      "The CV score for training dataset\n",
      "--------------------------------------\n",
      "[-0.52396645 -0.49055031 -0.5452224  -0.75533647 -0.53213977]\n",
      "Q2 is -0.5694430801244567\n"
     ]
    }
   ],
   "source": [
    "print(\"The CV score for training dataset\")\n",
    "print(\"--------------------------------------\")\n",
    "print (-cross_val_score(regressor,X_train,y_train.ravel(),cv=5))\n",
    "print('Q2 is {}'.format(cvscoretrain))"
   ]
  },
  {
   "cell_type": "code",
   "execution_count": 34,
   "id": "fcad4b72",
   "metadata": {},
   "outputs": [],
   "source": [
    "## model evaluation for extest set\n",
    "maeex = metrics.mean_absolute_error(y_extest, y_pred_extest)\n",
    "mseex = metrics.mean_squared_error(y_extest, y_pred_extest)\n",
    "r2ex = metrics.r2_score(y_extest, y_pred_extest)"
   ]
  },
  {
   "cell_type": "code",
   "execution_count": 35,
   "id": "c6fd7311",
   "metadata": {},
   "outputs": [
    {
     "name": "stdout",
     "output_type": "stream",
     "text": [
      "The model performance for extest set\n",
      "--------------------------------------\n",
      "MAE is 15.13070273341446\n",
      "MSE is 556.1716836290016\n",
      "R2 score is 0.8052084992470118\n"
     ]
    }
   ],
   "source": [
    "print(\"The model performance for extest set\")\n",
    "print(\"--------------------------------------\")\n",
    "print('MAE is {}'.format(maeex))\n",
    "print('MSE is {}'.format(mseex))\n",
    "print('R2 score is {}'.format(r2ex))"
   ]
  },
  {
   "cell_type": "code",
   "execution_count": 36,
   "id": "4cc6638a",
   "metadata": {},
   "outputs": [],
   "source": [
    "## model evaluation for val set\n",
    "maevl = metrics.mean_absolute_error(y_val, y_pred_val)\n",
    "msevl = metrics.mean_squared_error(y_val, y_pred_val)\n",
    "r2vl = metrics.r2_score(y_val, y_pred_val)"
   ]
  },
  {
   "cell_type": "code",
   "execution_count": 37,
   "id": "2afb1d99",
   "metadata": {},
   "outputs": [
    {
     "name": "stdout",
     "output_type": "stream",
     "text": [
      "The model performance for val set\n",
      "--------------------------------------\n",
      "MAE is 18.205263778276088\n",
      "MSE is 700.4780721367499\n",
      "R2 score is 0.792297998111602\n"
     ]
    }
   ],
   "source": [
    "print(\"The model performance for val set\")\n",
    "print(\"--------------------------------------\")\n",
    "print('MAE is {}'.format(maevl))\n",
    "print('MSE is {}'.format(msevl))\n",
    "print('R2 score is {}'.format(r2vl))"
   ]
  },
  {
   "cell_type": "code",
   "execution_count": 38,
   "id": "7e114c85",
   "metadata": {},
   "outputs": [],
   "source": [
    "## model evaluation for modeling  dataset\n",
    "maemod = metrics.mean_absolute_error(y_model, y_pred_model)\n",
    "msemod = metrics.mean_squared_error(y_model, y_pred_model)\n",
    "r2mod = metrics.r2_score(y_model, y_pred_model)"
   ]
  },
  {
   "cell_type": "code",
   "execution_count": 39,
   "id": "d68fce39",
   "metadata": {
    "scrolled": true
   },
   "outputs": [
    {
     "name": "stdout",
     "output_type": "stream",
     "text": [
      "The model performance for modeling set\n",
      "--------------------------------------\n",
      "MAE is 14.353534339243414\n",
      "MSE is 642.156998847856\n",
      "R2 score is 0.7523052431455826\n"
     ]
    }
   ],
   "source": [
    "print(\"The model performance for modeling set\")\n",
    "print(\"--------------------------------------\")\n",
    "print('MAE is {}'.format(maemod))\n",
    "print('MSE is {}'.format(msemod))\n",
    "print('R2 score is {}'.format(r2mod))"
   ]
  },
  {
   "cell_type": "code",
   "execution_count": 40,
   "id": "68f18634",
   "metadata": {},
   "outputs": [],
   "source": [
    "cvscoremod = (-cross_val_score(regressor,X_model,y_model.ravel(),cv=5).mean())"
   ]
  },
  {
   "cell_type": "code",
   "execution_count": 41,
   "id": "24b7f2a0",
   "metadata": {},
   "outputs": [
    {
     "name": "stdout",
     "output_type": "stream",
     "text": [
      "The CV score for modeling dataset\n",
      "--------------------------------------\n",
      "[-0.828682   -0.5557068  -0.56827264 -0.52463842 -0.78400277]\n",
      "Q2 is -0.6522605272610681\n"
     ]
    }
   ],
   "source": [
    "print(\"The CV score for modeling dataset\")\n",
    "print(\"--------------------------------------\")\n",
    "print (-cross_val_score(regressor,X_model,y_model.ravel(),cv=5))\n",
    "print('Q2 is {}'.format(cvscoremod))"
   ]
  },
  {
   "cell_type": "code",
   "execution_count": 230,
   "id": "673abc15",
   "metadata": {},
   "outputs": [],
   "source": [
    "svm.SVR??"
   ]
  },
  {
   "cell_type": "code",
   "execution_count": 155,
   "id": "806b7443",
   "metadata": {},
   "outputs": [],
   "source": [
    "# creatting parameter gride\n",
    "param_grid_regressor = {'kernel': ['linear', 'poly', 'rbf', 'sigmoid'], \n",
    "                        'gamma': ['scale', 'auto'], 'C': [0.1, 1, 10, 100,150,200], \n",
    "                        'epsilon': [0.1, 1, 2, 4, 6, 10, 15, 20], 'degree' : [1,2,3,4,5,6, 7, 8]}"
   ]
  },
  {
   "cell_type": "code",
   "execution_count": 156,
   "id": "e3e32af3",
   "metadata": {},
   "outputs": [
    {
     "name": "stdout",
     "output_type": "stream",
     "text": [
      "{'kernel': ['linear', 'poly', 'rbf', 'sigmoid'], 'gamma': ['scale', 'auto'], 'C': [0.1, 1, 10, 100, 150, 200], 'epsilon': [0.1, 1, 2, 4, 6, 10, 15, 20], 'degree': [1, 2, 3, 4, 5, 6, 7, 8]}\n"
     ]
    }
   ],
   "source": [
    "print (param_grid_regressor)\n",
    "                    "
   ]
  },
  {
   "cell_type": "code",
   "execution_count": 157,
   "id": "018d3841",
   "metadata": {},
   "outputs": [],
   "source": [
    "regressor1 = svm.SVR()"
   ]
  },
  {
   "cell_type": "code",
   "execution_count": 158,
   "id": "a3e35ab5",
   "metadata": {},
   "outputs": [],
   "source": [
    "#Randomize search CV\n",
    "from sklearn.model_selection import RandomizedSearchCV"
   ]
  },
  {
   "cell_type": "code",
   "execution_count": 159,
   "id": "fc25f42b",
   "metadata": {},
   "outputs": [],
   "source": [
    "regressor_random = RandomizedSearchCV(estimator = regressor1, param_distributions=param_grid_regressor, n_iter = 100,\n",
    "                              cv = 5, verbose =2,\n",
    "                              n_jobs= -1, scoring = 'neg_mean_squared_error' )"
   ]
  },
  {
   "cell_type": "code",
   "execution_count": 160,
   "id": "0f7d81ce",
   "metadata": {},
   "outputs": [
    {
     "name": "stdout",
     "output_type": "stream",
     "text": [
      "Fitting 5 folds for each of 100 candidates, totalling 500 fits\n"
     ]
    },
    {
     "data": {
      "text/plain": [
       "RandomizedSearchCV(cv=5, estimator=SVR(), n_iter=100, n_jobs=-1,\n",
       "                   param_distributions={'C': [0.1, 1, 10, 100, 150, 200],\n",
       "                                        'degree': [1, 2, 3, 4, 5, 6, 7, 8],\n",
       "                                        'epsilon': [0.1, 1, 2, 4, 6, 10, 15,\n",
       "                                                    20],\n",
       "                                        'gamma': ['scale', 'auto'],\n",
       "                                        'kernel': ['linear', 'poly', 'rbf',\n",
       "                                                   'sigmoid']},\n",
       "                   scoring='neg_mean_squared_error', verbose=2)"
      ]
     },
     "execution_count": 160,
     "metadata": {},
     "output_type": "execute_result"
    }
   ],
   "source": [
    "regressor_random.fit (X_model,y_model)"
   ]
  },
  {
   "cell_type": "code",
   "execution_count": 161,
   "id": "d1ba06b1",
   "metadata": {},
   "outputs": [
    {
     "data": {
      "text/plain": [
       "{'kernel': 'rbf', 'gamma': 'scale', 'epsilon': 4, 'degree': 3, 'C': 200}"
      ]
     },
     "execution_count": 161,
     "metadata": {},
     "output_type": "execute_result"
    }
   ],
   "source": [
    "regressor_random.best_params_"
   ]
  },
  {
   "cell_type": "code",
   "execution_count": 162,
   "id": "47d94b56",
   "metadata": {},
   "outputs": [
    {
     "data": {
      "text/plain": [
       "-766.0530530297632"
      ]
     },
     "execution_count": 162,
     "metadata": {},
     "output_type": "execute_result"
    }
   ],
   "source": [
    "regressor_random.best_score_"
   ]
  },
  {
   "cell_type": "code",
   "execution_count": 187,
   "id": "28b597ee",
   "metadata": {},
   "outputs": [],
   "source": [
    "# parameter tuning grid searchCV\n",
    "from sklearn.model_selection import GridSearchCV"
   ]
  },
  {
   "cell_type": "code",
   "execution_count": 188,
   "id": "7271642b",
   "metadata": {},
   "outputs": [],
   "source": [
    "regressor_grid = GridSearchCV(estimator =regressor1, param_grid=param_grid_regressor,\n",
    "                              cv = 5, verbose =2,\n",
    "                              n_jobs= -1,  scoring = \"neg_mean_squared_error\")"
   ]
  },
  {
   "cell_type": "code",
   "execution_count": 189,
   "id": "c7d96bb8",
   "metadata": {},
   "outputs": [
    {
     "name": "stdout",
     "output_type": "stream",
     "text": [
      "Fitting 5 folds for each of 3072 candidates, totalling 15360 fits\n"
     ]
    },
    {
     "data": {
      "text/plain": [
       "GridSearchCV(cv=5, estimator=SVR(), n_jobs=-1,\n",
       "             param_grid={'C': [0.1, 1, 10, 100, 150, 200],\n",
       "                         'degree': [1, 2, 3, 4, 5, 6, 7, 8],\n",
       "                         'epsilon': [0.1, 1, 2, 4, 6, 10, 15, 20],\n",
       "                         'gamma': ['scale', 'auto'],\n",
       "                         'kernel': ['linear', 'poly', 'rbf', 'sigmoid']},\n",
       "             scoring='neg_mean_squared_error', verbose=2)"
      ]
     },
     "execution_count": 189,
     "metadata": {},
     "output_type": "execute_result"
    }
   ],
   "source": [
    "regressor_grid.fit(X_model, y_model)"
   ]
  },
  {
   "cell_type": "code",
   "execution_count": 190,
   "id": "2bf443f7",
   "metadata": {},
   "outputs": [
    {
     "data": {
      "text/plain": [
       "{'C': 200, 'degree': 1, 'epsilon': 6, 'gamma': 'scale', 'kernel': 'rbf'}"
      ]
     },
     "execution_count": 190,
     "metadata": {},
     "output_type": "execute_result"
    }
   ],
   "source": [
    "regressor_grid.best_params_"
   ]
  },
  {
   "cell_type": "code",
   "execution_count": 191,
   "id": "2182856d",
   "metadata": {},
   "outputs": [
    {
     "data": {
      "text/plain": [
       "-764.5175034425422"
      ]
     },
     "execution_count": 191,
     "metadata": {},
     "output_type": "execute_result"
    }
   ],
   "source": [
    "regressor_grid.best_score_"
   ]
  },
  {
   "cell_type": "code",
   "execution_count": 168,
   "id": "abca86f3",
   "metadata": {},
   "outputs": [],
   "source": [
    " # manual search engine\n",
    "regressor2 = svm.SVR(kernel='rbf',\n",
    "    degree=1,\n",
    "    gamma='scale',\n",
    "    coef0=0.0,\n",
    "    tol=0.001,\n",
    "    C=200,\n",
    "    epsilon=6,)"
   ]
  },
  {
   "cell_type": "code",
   "execution_count": 169,
   "id": "f59b9144",
   "metadata": {},
   "outputs": [
    {
     "data": {
      "text/plain": [
       "SVR(C=200, degree=1, epsilon=6)"
      ]
     },
     "execution_count": 169,
     "metadata": {},
     "output_type": "execute_result"
    }
   ],
   "source": [
    "regressor2.fit(X_train, y_train)"
   ]
  },
  {
   "cell_type": "code",
   "execution_count": 170,
   "id": "8c1485e2",
   "metadata": {},
   "outputs": [],
   "source": [
    "y_pred2 = regressor2.predict(X_test)"
   ]
  },
  {
   "cell_type": "code",
   "execution_count": 171,
   "id": "b8dc50f0",
   "metadata": {},
   "outputs": [],
   "source": [
    "y_pred_train2 = regressor2.predict(X_train)"
   ]
  },
  {
   "cell_type": "code",
   "execution_count": 172,
   "id": "d39721fd",
   "metadata": {},
   "outputs": [],
   "source": [
    "y_pred_val2 = regressor2.predict(X_val)"
   ]
  },
  {
   "cell_type": "code",
   "execution_count": 173,
   "id": "f81c0dd7",
   "metadata": {},
   "outputs": [],
   "source": [
    "y_pred_extest2 = regressor2.predict(X_extest)"
   ]
  },
  {
   "cell_type": "code",
   "execution_count": 174,
   "id": "d48da48c",
   "metadata": {},
   "outputs": [],
   "source": [
    "y_pred_model2 = regressor2.predict(X_model)"
   ]
  },
  {
   "cell_type": "code",
   "execution_count": 175,
   "id": "5bb4dd24",
   "metadata": {},
   "outputs": [],
   "source": [
    "  # model evaluation for testing set\n",
    "  mae1 = metrics.mean_absolute_error(y_test, y_pred2)\n",
    "  mse1 = metrics.mean_squared_error(y_test, y_pred2)\n",
    "  r21 = metrics.r2_score(y_test, y_pred2)"
   ]
  },
  {
   "cell_type": "code",
   "execution_count": 176,
   "id": "5213cca4",
   "metadata": {},
   "outputs": [
    {
     "name": "stdout",
     "output_type": "stream",
     "text": [
      "The model performance for testing set\n",
      "--------------------------------------\n",
      "MAE is 15.004355864682648\n",
      "MSE is 503.48149324274095\n",
      "R2 score is 0.6546655518535002\n"
     ]
    }
   ],
   "source": [
    "print(\"The model performance for testing set\")\n",
    "print(\"--------------------------------------\")\n",
    "print('MAE is {}'.format(mae1))\n",
    "print('MSE is {}'.format(mse1))\n",
    "print('R2 score is {}'.format(r21))"
   ]
  },
  {
   "cell_type": "code",
   "execution_count": 177,
   "id": "4c3d8975",
   "metadata": {},
   "outputs": [],
   "source": [
    " # model evaluation for training set\n",
    "mae11 = metrics.mean_absolute_error(y_train, y_pred_train2)\n",
    "mse11 = metrics.mean_squared_error(y_train, y_pred_train2)\n",
    "r211 = metrics.r2_score(y_train, y_pred_train2)"
   ]
  },
  {
   "cell_type": "code",
   "execution_count": 178,
   "id": "0b3348bb",
   "metadata": {},
   "outputs": [
    {
     "name": "stdout",
     "output_type": "stream",
     "text": [
      "The model performance for training set\n",
      "--------------------------------------\n",
      "MAE is 13.590916460389275\n",
      "MSE is 588.5015261084696\n",
      "R2 score is 0.7762742985949151\n"
     ]
    }
   ],
   "source": [
    "print(\"The model performance for training set\")\n",
    "print(\"--------------------------------------\")\n",
    "print('MAE is {}'.format(mae11))\n",
    "print('MSE is {}'.format(mse11))\n",
    "print('R2 score is {}'.format(r211))"
   ]
  },
  {
   "cell_type": "code",
   "execution_count": 179,
   "id": "d3fb272b",
   "metadata": {},
   "outputs": [],
   "source": [
    "  # model evaluation for ex-testing set\n",
    "  maeext1 = metrics.mean_absolute_error(y_extest, y_pred_extest2)\n",
    "  mseext1 = metrics.mean_squared_error(y_extest, y_pred_extest2)\n",
    "  r2ext1 = metrics.r2_score(y_extest, y_pred_extest2)"
   ]
  },
  {
   "cell_type": "code",
   "execution_count": 180,
   "id": "652c82ac",
   "metadata": {},
   "outputs": [
    {
     "name": "stdout",
     "output_type": "stream",
     "text": [
      "The model performance for Ex-testing set\n",
      "--------------------------------------\n",
      "MAE is 17.044821686890504\n",
      "MSE is 632.8931537846219\n",
      "R2 score is 0.7783378570487696\n"
     ]
    }
   ],
   "source": [
    "print(\"The model performance for Ex-testing set\")\n",
    "print(\"--------------------------------------\")\n",
    "print('MAE is {}'.format(maeext1))\n",
    "print('MSE is {}'.format(mseext1))\n",
    "print('R2 score is {}'.format(r2ext1))"
   ]
  },
  {
   "cell_type": "code",
   "execution_count": 181,
   "id": "3a3e4106",
   "metadata": {},
   "outputs": [],
   "source": [
    "# model evaluation for val set\n",
    "maeval1 = metrics.mean_absolute_error(y_val, y_pred_val2)\n",
    "mseval1 = metrics.mean_squared_error(y_val, y_pred_val2)\n",
    "r2val1 = metrics.r2_score(y_val, y_pred_val2)"
   ]
  },
  {
   "cell_type": "code",
   "execution_count": 182,
   "id": "ca0265c6",
   "metadata": {},
   "outputs": [
    {
     "name": "stdout",
     "output_type": "stream",
     "text": [
      "The model performance for val set\n",
      "--------------------------------------\n",
      "MAE is 17.33913244419098\n",
      "MSE is 589.7953401123901\n",
      "R2 score is 0.8251170483151444\n"
     ]
    }
   ],
   "source": [
    "print(\"The model performance for val set\")\n",
    "print(\"--------------------------------------\")\n",
    "print('MAE is {}'.format(maeval1))\n",
    "print('MSE is {}'.format(mseval1))\n",
    "print('R2 score is {}'.format(r2val1))"
   ]
  },
  {
   "cell_type": "code",
   "execution_count": 183,
   "id": "7bbe0944",
   "metadata": {},
   "outputs": [],
   "source": [
    " # model evaluation for modeling set\n",
    "maemod1 = metrics.mean_absolute_error(y_model, y_pred_model2)\n",
    "msemod1 = metrics.mean_squared_error(y_model, y_pred_model2)\n",
    "r2mod1 = metrics.r2_score(y_model, y_pred_model2)"
   ]
  },
  {
   "cell_type": "code",
   "execution_count": 184,
   "id": "bdea6d94",
   "metadata": {},
   "outputs": [
    {
     "name": "stdout",
     "output_type": "stream",
     "text": [
      "The model performance for modeling set\n",
      "--------------------------------------\n",
      "MAE is 13.864284805360837\n",
      "MSE is 569.4265939239176\n",
      "R2 score is 0.7803590368375928\n"
     ]
    }
   ],
   "source": [
    "print(\"The model performance for modeling set\")\n",
    "print(\"--------------------------------------\")\n",
    "print('MAE is {}'.format(maemod1))\n",
    "print('MSE is {}'.format(msemod1))\n",
    "print('R2 score is {}'.format(r2mod1))"
   ]
  },
  {
   "cell_type": "code",
   "execution_count": 185,
   "id": "e6d6e3d8",
   "metadata": {},
   "outputs": [],
   "source": [
    "cvscoretra1 = (-cross_val_score(regressor2,X_model,y_model.ravel(),cv=5).mean())"
   ]
  },
  {
   "cell_type": "code",
   "execution_count": 186,
   "id": "367fd3b0",
   "metadata": {},
   "outputs": [
    {
     "name": "stdout",
     "output_type": "stream",
     "text": [
      "The CV score for Whoke dataset\n",
      "--------------------------------------\n",
      "[-0.84623858 -0.5466597  -0.56297077 -0.52770482 -0.79684353]\n",
      "Q2 is -0.6560834809833694\n"
     ]
    }
   ],
   "source": [
    "print(\"The CV score for modeling dataset\")\n",
    "print(\"--------------------------------------\")\n",
    "print (-cross_val_score(regressor2,X_model,y_model.ravel(),cv=5))\n",
    "print('Q2 is {}'.format(cvscoretra1))\n"
   ]
  },
  {
   "cell_type": "code",
   "execution_count": null,
   "id": "ef623383",
   "metadata": {},
   "outputs": [],
   "source": []
  },
  {
   "cell_type": "code",
   "execution_count": null,
   "id": "984b89c3",
   "metadata": {},
   "outputs": [],
   "source": []
  },
  {
   "cell_type": "code",
   "execution_count": null,
   "id": "0d23d4a1",
   "metadata": {},
   "outputs": [],
   "source": []
  }
 ],
 "metadata": {
  "kernelspec": {
   "display_name": "Python 3",
   "language": "python",
   "name": "python3"
  },
  "language_info": {
   "codemirror_mode": {
    "name": "ipython",
    "version": 3
   },
   "file_extension": ".py",
   "mimetype": "text/x-python",
   "name": "python",
   "nbconvert_exporter": "python",
   "pygments_lexer": "ipython3",
   "version": "3.9.4"
  }
 },
 "nbformat": 4,
 "nbformat_minor": 5
}
