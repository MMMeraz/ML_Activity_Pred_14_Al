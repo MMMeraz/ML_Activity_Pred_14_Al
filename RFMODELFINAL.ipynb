{
 "cells": [
  {
   "cell_type": "code",
   "execution_count": 1,
   "id": "b61ed168",
   "metadata": {},
   "outputs": [],
   "source": [
    "# Import Section\n",
    "import csv\n",
    "import codecs\n",
    "import sys\n",
    "import io\n",
    "import numpy as np\n",
    "import pandas as pd\n",
    "import scipy as sp\n",
    "\n",
    "# For Regression\n",
    "from sklearn.model_selection import train_test_split\n",
    "from sklearn.model_selection import cross_val_score\n",
    "from statistics import mean\n",
    "\n",
    "# Python script for confusion matrix creation. \n",
    "from sklearn.metrics import *\n",
    "from numpy import mean\n",
    "from numpy import std\n",
    "from sklearn import metrics"
   ]
  },
  {
   "cell_type": "code",
   "execution_count": 2,
   "id": "84713e53",
   "metadata": {},
   "outputs": [],
   "source": [
    "dataset=pd.read_csv(\"data_294.csv\")"
   ]
  },
  {
   "cell_type": "code",
   "execution_count": 3,
   "id": "e04a6148",
   "metadata": {},
   "outputs": [
    {
     "data": {
      "text/plain": [
       "(294, 17)"
      ]
     },
     "execution_count": 3,
     "metadata": {},
     "output_type": "execute_result"
    }
   ],
   "source": [
    "dataset.shape"
   ]
  },
  {
   "cell_type": "code",
   "execution_count": 4,
   "id": "4f3b7435",
   "metadata": {},
   "outputs": [],
   "source": [
    "x = dataset[['1', '15', '18', '21', '25', '26', '39', '41', '58', '69', '83', '85', '141', '155', '166']]"
   ]
  },
  {
   "cell_type": "code",
   "execution_count": 5,
   "id": "2673ea88",
   "metadata": {},
   "outputs": [],
   "source": [
    "y = dataset['Act']"
   ]
  },
  {
   "cell_type": "code",
   "execution_count": 6,
   "id": "b135fdf6",
   "metadata": {},
   "outputs": [],
   "source": [
    "x_model, x_extest, y_model, y_extest = train_test_split(x,y,test_size=.2, random_state = 7000, shuffle=True)"
   ]
  },
  {
   "cell_type": "code",
   "execution_count": 7,
   "id": "59510d81",
   "metadata": {},
   "outputs": [
    {
     "data": {
      "text/plain": [
       "(235, 15)"
      ]
     },
     "execution_count": 7,
     "metadata": {},
     "output_type": "execute_result"
    }
   ],
   "source": [
    "x_model.shape"
   ]
  },
  {
   "cell_type": "code",
   "execution_count": 8,
   "id": "dfe452b7",
   "metadata": {},
   "outputs": [],
   "source": [
    "x_train, x_test2, y_train, y_test2 = train_test_split(x_model,y_model,test_size=.3, random_state = 7000, shuffle=True)"
   ]
  },
  {
   "cell_type": "code",
   "execution_count": 9,
   "id": "7adfc272",
   "metadata": {},
   "outputs": [
    {
     "data": {
      "text/plain": [
       "(164, 15)"
      ]
     },
     "execution_count": 9,
     "metadata": {},
     "output_type": "execute_result"
    }
   ],
   "source": [
    "x_train.shape"
   ]
  },
  {
   "cell_type": "code",
   "execution_count": 10,
   "id": "dec9401b",
   "metadata": {},
   "outputs": [
    {
     "data": {
      "text/plain": [
       "(71, 15)"
      ]
     },
     "execution_count": 10,
     "metadata": {},
     "output_type": "execute_result"
    }
   ],
   "source": [
    "x_test2.shape"
   ]
  },
  {
   "cell_type": "code",
   "execution_count": 11,
   "id": "cc878ed3",
   "metadata": {},
   "outputs": [],
   "source": [
    "x_val, x_test, y_val, y_test = train_test_split(x_test2,y_test2,test_size=.5, random_state = 7000, shuffle=True)"
   ]
  },
  {
   "cell_type": "code",
   "execution_count": 12,
   "id": "e0b83d9d",
   "metadata": {},
   "outputs": [
    {
     "data": {
      "text/plain": [
       "(36, 15)"
      ]
     },
     "execution_count": 12,
     "metadata": {},
     "output_type": "execute_result"
    }
   ],
   "source": [
    "x_test.shape"
   ]
  },
  {
   "cell_type": "code",
   "execution_count": 13,
   "id": "1972e160",
   "metadata": {},
   "outputs": [
    {
     "data": {
      "text/plain": [
       "(35, 15)"
      ]
     },
     "execution_count": 13,
     "metadata": {},
     "output_type": "execute_result"
    }
   ],
   "source": [
    "x_val.shape"
   ]
  },
  {
   "cell_type": "code",
   "execution_count": 14,
   "id": "2850dd20",
   "metadata": {},
   "outputs": [],
   "source": [
    "from sklearn.ensemble import RandomForestRegressor"
   ]
  },
  {
   "cell_type": "code",
   "execution_count": 15,
   "id": "be79565c",
   "metadata": {},
   "outputs": [],
   "source": [
    "regressor = RandomForestRegressor ( n_estimators = 100,max_depth=None,min_weight_fraction_leaf=0.0,\n",
    "                                   max_features='auto', min_impurity_decrease=0.2, ccp_alpha=0.0,max_leaf_nodes=None, \n",
    "                                   min_samples_split=2, min_samples_leaf=1, random_state = 1)\n"
   ]
  },
  {
   "cell_type": "code",
   "execution_count": 16,
   "id": "2c86a530",
   "metadata": {},
   "outputs": [
    {
     "data": {
      "text/plain": [
       "RandomForestRegressor(min_impurity_decrease=0.2, random_state=1)"
      ]
     },
     "execution_count": 16,
     "metadata": {},
     "output_type": "execute_result"
    }
   ],
   "source": [
    "regressor.fit(x_train, y_train)"
   ]
  },
  {
   "cell_type": "code",
   "execution_count": 17,
   "id": "252abe9d",
   "metadata": {},
   "outputs": [],
   "source": [
    "# compute the testing accuracy\n",
    "y_pred = regressor.predict(x_test)"
   ]
  },
  {
   "cell_type": "code",
   "execution_count": 18,
   "id": "e6c96940",
   "metadata": {},
   "outputs": [],
   "source": [
    "y_pred_train = regressor.predict(x_train)"
   ]
  },
  {
   "cell_type": "code",
   "execution_count": 19,
   "id": "885dd6ec",
   "metadata": {},
   "outputs": [],
   "source": [
    "y_pred_val = regressor.predict(x_val)"
   ]
  },
  {
   "cell_type": "code",
   "execution_count": 20,
   "id": "e83ae922",
   "metadata": {},
   "outputs": [],
   "source": [
    "y_pred_extest = regressor.predict(x_extest)"
   ]
  },
  {
   "cell_type": "code",
   "execution_count": 21,
   "id": "2faac6f7",
   "metadata": {},
   "outputs": [],
   "source": [
    "y_pred_model = regressor.predict(x_model)"
   ]
  },
  {
   "cell_type": "code",
   "execution_count": 22,
   "id": "845ea0b2",
   "metadata": {},
   "outputs": [],
   "source": [
    "y_pred_all = regressor.predict(x)"
   ]
  },
  {
   "cell_type": "code",
   "execution_count": 23,
   "id": "7a728e50",
   "metadata": {},
   "outputs": [
    {
     "name": "stdout",
     "output_type": "stream",
     "text": [
      "\n",
      "\n",
      "overall Performance: \n"
     ]
    }
   ],
   "source": [
    "  print(\"\\n\")\n",
    "  print(\"overall Performance: \", )"
   ]
  },
  {
   "cell_type": "code",
   "execution_count": 24,
   "id": "1d9e0d71",
   "metadata": {},
   "outputs": [],
   "source": [
    " # model evaluation for testing set\n",
    "mae = metrics.mean_absolute_error(y_test, y_pred)\n",
    "mse = metrics.mean_squared_error(y_test, y_pred)\n",
    "r2 = metrics.r2_score(y_test, y_pred)"
   ]
  },
  {
   "cell_type": "code",
   "execution_count": 25,
   "id": "84a1eed1",
   "metadata": {},
   "outputs": [
    {
     "name": "stdout",
     "output_type": "stream",
     "text": [
      "The model performance for testing set\n",
      "--------------------------------------\n",
      "MAE is 18.030812851035716\n",
      "MSE is 995.693838561994\n",
      "R2 score is 0.31706053374855836\n"
     ]
    }
   ],
   "source": [
    "print(\"The model performance for testing set\")\n",
    "print(\"--------------------------------------\")\n",
    "print('MAE is {}'.format(mae))\n",
    "print('MSE is {}'.format(mse))\n",
    "print('R2 score is {}'.format(r2))"
   ]
  },
  {
   "cell_type": "code",
   "execution_count": 26,
   "id": "a61d11af",
   "metadata": {},
   "outputs": [],
   "source": [
    "  # model evaluation for training set\n",
    "maeTrain = metrics.mean_absolute_error(y_train, y_pred_train)\n",
    "mseTrain = metrics.mean_squared_error(y_train, y_pred_train)\n",
    "r2Train = metrics.r2_score(y_train, y_pred_train)"
   ]
  },
  {
   "cell_type": "code",
   "execution_count": 27,
   "id": "5efa0205",
   "metadata": {},
   "outputs": [
    {
     "name": "stdout",
     "output_type": "stream",
     "text": [
      "The model performance for training set\n",
      "--------------------------------------\n",
      "MAE is 9.352937037215925\n",
      "MSE is 190.60150014774024\n",
      "R2 score is 0.9275406223814024\n"
     ]
    }
   ],
   "source": [
    "print(\"The model performance for training set\")\n",
    "print(\"--------------------------------------\")\n",
    "print('MAE is {}'.format(maeTrain))\n",
    "print('MSE is {}'.format(mseTrain))\n",
    "print('R2 score is {}'.format(r2Train))"
   ]
  },
  {
   "cell_type": "code",
   "execution_count": 28,
   "id": "7f46ed69",
   "metadata": {},
   "outputs": [],
   "source": [
    "cvscoreval = (cross_val_score(regressor,x_train,y_train.ravel(),cv=5).mean())"
   ]
  },
  {
   "cell_type": "code",
   "execution_count": 30,
   "id": "fb3c6b83",
   "metadata": {},
   "outputs": [
    {
     "name": "stdout",
     "output_type": "stream",
     "text": [
      "The CV score for Training set\n",
      "--------------------------------------\n",
      "[ 0.58889698 -0.9197849  -0.18153501 -0.81440978  0.30080523]\n",
      "Q2 is 0.41158971597977023\n"
     ]
    }
   ],
   "source": [
    "print(\"The CV score for Training set\")\n",
    "print(\"--------------------------------------\")\n",
    "print (-cross_val_score(regressor,x_val,y_val.ravel(),cv=5))\n",
    "print('Q2 is {}'.format(cvscoreval))"
   ]
  },
  {
   "cell_type": "code",
   "execution_count": 31,
   "id": "79e0ac9f",
   "metadata": {},
   "outputs": [],
   "source": [
    "## model evaluation for extest set\n",
    "maeex = metrics.mean_absolute_error(y_extest, y_pred_extest)\n",
    "mseex = metrics.mean_squared_error(y_extest, y_pred_extest)\n",
    "r2ex = metrics.r2_score(y_extest, y_pred_extest)"
   ]
  },
  {
   "cell_type": "code",
   "execution_count": 32,
   "id": "f21ca55a",
   "metadata": {},
   "outputs": [
    {
     "name": "stdout",
     "output_type": "stream",
     "text": [
      "The model performance for extest set\n",
      "--------------------------------------\n",
      "MAE is 23.59548320590065\n",
      "MSE is 1188.831823597885\n",
      "R2 score is 0.5836279661874746\n"
     ]
    }
   ],
   "source": [
    "print(\"The model performance for extest set\")\n",
    "print(\"--------------------------------------\")\n",
    "print('MAE is {}'.format(maeex))\n",
    "print('MSE is {}'.format(mseex))\n",
    "print('R2 score is {}'.format(r2ex))"
   ]
  },
  {
   "cell_type": "code",
   "execution_count": 33,
   "id": "1f127a0a",
   "metadata": {},
   "outputs": [],
   "source": [
    "## model evaluation for val set\n",
    "maevl = metrics.mean_absolute_error(y_val, y_pred_val)\n",
    "msevl = metrics.mean_squared_error(y_val, y_pred_val)\n",
    "r2vl = metrics.r2_score(y_val, y_pred_val)"
   ]
  },
  {
   "cell_type": "code",
   "execution_count": 34,
   "id": "434b3f6a",
   "metadata": {},
   "outputs": [
    {
     "name": "stdout",
     "output_type": "stream",
     "text": [
      "The model performance for val set\n",
      "--------------------------------------\n",
      "MAE is 22.52215841595222\n",
      "MSE is 937.9129349462975\n",
      "R2 score is 0.7218950857503246\n"
     ]
    }
   ],
   "source": [
    "print(\"The model performance for val set\")\n",
    "print(\"--------------------------------------\")\n",
    "print('MAE is {}'.format(maevl))\n",
    "print('MSE is {}'.format(msevl))\n",
    "print('R2 score is {}'.format(r2vl))"
   ]
  },
  {
   "cell_type": "code",
   "execution_count": 75,
   "id": "b5dc2de9",
   "metadata": {},
   "outputs": [],
   "source": [
    "cvscoreval = (-cross_val_score(regressor,x_val,y_val.ravel(),cv=5).mean())"
   ]
  },
  {
   "cell_type": "code",
   "execution_count": 76,
   "id": "0fc7e7d7",
   "metadata": {},
   "outputs": [
    {
     "name": "stdout",
     "output_type": "stream",
     "text": [
      "The CV score for val set\n",
      "--------------------------------------\n",
      "[ 0.58889698 -0.9197849  -0.18153501 -0.81440978  0.30080523]\n",
      "Q2 is -0.20520549652961995\n"
     ]
    }
   ],
   "source": [
    "print(\"The CV score for val set\")\n",
    "print(\"--------------------------------------\")\n",
    "print (-cross_val_score(regressor,x_val,y_val.ravel(),cv=5))\n",
    "print('Q2 is {}'.format(cvscoreval))"
   ]
  },
  {
   "cell_type": "code",
   "execution_count": 77,
   "id": "75cf81e5",
   "metadata": {},
   "outputs": [],
   "source": [
    "## model evaluation for modeling set\n",
    "maeM = metrics.mean_absolute_error(y_model, y_pred_model)\n",
    "mseM = metrics.mean_squared_error(y_model, y_pred_model)\n",
    "r2eM = metrics.r2_score(y_model, y_pred_model)"
   ]
  },
  {
   "cell_type": "code",
   "execution_count": 78,
   "id": "50ceaffe",
   "metadata": {},
   "outputs": [
    {
     "name": "stdout",
     "output_type": "stream",
     "text": [
      "The model performance for Modeling set\n",
      "--------------------------------------\n",
      "MAE is 12.643687154463937\n",
      "MSE is 425.2364975982195\n",
      "R2 score is 0.8359764807248169\n"
     ]
    }
   ],
   "source": [
    "print(\"The model performance for Modeling set\")\n",
    "print(\"--------------------------------------\")\n",
    "print('MAE is {}'.format(maeM))\n",
    "print('MSE is {}'.format(mseM))\n",
    "print('R2 score is {}'.format(r2eM))"
   ]
  },
  {
   "cell_type": "code",
   "execution_count": 79,
   "id": "4c7da26e",
   "metadata": {},
   "outputs": [],
   "source": [
    "#CV od Modeling set \n",
    "cvscoremodel = (cross_val_score(regressor,x_model,y_model.ravel(),cv=5).mean())"
   ]
  },
  {
   "cell_type": "code",
   "execution_count": 80,
   "id": "8a3ca31c",
   "metadata": {},
   "outputs": [
    {
     "name": "stdout",
     "output_type": "stream",
     "text": [
      "The CV score for modelingset\n",
      "--------------------------------------\n",
      "[0.61244129 0.44544682 0.52970216 0.34433372 0.70963359]\n",
      "Q2 is 0.5283115156350559\n"
     ]
    }
   ],
   "source": [
    "print(\"The CV score for modelingset\")\n",
    "print(\"--------------------------------------\")\n",
    "print (cross_val_score(regressor,x_model,y_model.ravel(),cv=5))\n",
    "print('Q2 is {}'.format(cvscoremodel))"
   ]
  },
  {
   "cell_type": "code",
   "execution_count": 20,
   "id": "06ad8d9f",
   "metadata": {},
   "outputs": [],
   "source": [
    "## model evaluation for whole  dataset\n",
    "maeal = metrics.mean_absolute_error(y, y_pred_all)\n",
    "mseal = metrics.mean_squared_error(y, y_pred_all)\n",
    "r2al = metrics.r2_score(y, y_pred_all)"
   ]
  },
  {
   "cell_type": "code",
   "execution_count": 21,
   "id": "94145e36",
   "metadata": {},
   "outputs": [
    {
     "name": "stdout",
     "output_type": "stream",
     "text": [
      "The model performance for whole dataset\n",
      "--------------------------------------\n",
      "MAE is 12.726188049528028\n",
      "MSE is 439.9969455568713\n",
      "R2 score is 0.833731009442056\n"
     ]
    }
   ],
   "source": [
    "print(\"The model performance for whole dataset\")\n",
    "print(\"--------------------------------------\")\n",
    "print('MAE is {}'.format(maeal))\n",
    "print('MSE is {}'.format(mseal))\n",
    "print('R2 score is {}'.format(r2al))"
   ]
  },
  {
   "cell_type": "code",
   "execution_count": 38,
   "id": "af54eb20",
   "metadata": {},
   "outputs": [
    {
     "name": "stdout",
     "output_type": "stream",
     "text": [
      "\n",
      "\n",
      "Crossvalidation on whole data: \n"
     ]
    }
   ],
   "source": [
    "print(\"\\n\")\n",
    "print(\"Crossvalidation on whole data: \", )"
   ]
  },
  {
   "cell_type": "code",
   "execution_count": 39,
   "id": "078c4757",
   "metadata": {},
   "outputs": [],
   "source": [
    "cvscoreval = (-cross_val_score(regressor,x,y.ravel(),cv=5).mean())\n",
    "MAE = (-cross_val_score(regressor,x,y.ravel(),cv=5, scoring = \"neg_mean_absolute_error\").mean())\n",
    "MSE = (-cross_val_score(regressor,x,y.ravel(),cv=5, scoring = \"neg_mean_squared_error\").mean())"
   ]
  },
  {
   "cell_type": "code",
   "execution_count": 40,
   "id": "074c5b40",
   "metadata": {},
   "outputs": [
    {
     "name": "stdout",
     "output_type": "stream",
     "text": [
      "The CV score for whole dataset\n",
      "--------------------------------------\n",
      "Q2 is 0.35721102331488036\n",
      "MAE is 31.54359430244018\n",
      "MSE is 2103.3058284915232\n"
     ]
    }
   ],
   "source": [
    "print(\"The CV score for whole dataset\")\n",
    "print(\"--------------------------------------\")\n",
    "print('Q2 is {}'.format(cvscoreval))\n",
    "print('MAE is {}'.format(MAE))\n",
    "print('MSE is {}'.format(MSE))"
   ]
  },
  {
   "cell_type": "code",
   "execution_count": 40,
   "id": "f6b04551",
   "metadata": {},
   "outputs": [],
   "source": [
    "#Performance on Out-bag sample \n",
    "# R2 value on unseen data (cross validation using hold-out set concept)\n",
    "random_forest_out_of_bag = RandomForestRegressor(oob_score=True,n_estimators = 100, random_state = 1)"
   ]
  },
  {
   "cell_type": "code",
   "execution_count": 41,
   "id": "4190adf3",
   "metadata": {},
   "outputs": [
    {
     "data": {
      "text/plain": [
       "RandomForestRegressor(oob_score=True, random_state=1)"
      ]
     },
     "execution_count": 41,
     "metadata": {},
     "output_type": "execute_result"
    }
   ],
   "source": [
    "random_forest_out_of_bag.fit(x_train, y_train)\n"
   ]
  },
  {
   "cell_type": "code",
   "execution_count": 43,
   "id": "4dfa874b",
   "metadata": {},
   "outputs": [
    {
     "name": "stdout",
     "output_type": "stream",
     "text": [
      "0.4652157298536169\n"
     ]
    }
   ],
   "source": [
    "print(random_forest_out_of_bag.oob_score_)"
   ]
  },
  {
   "cell_type": "code",
   "execution_count": 81,
   "id": "8d7dcd87",
   "metadata": {},
   "outputs": [],
   "source": [
    "#Randomize search CV\n",
    "from sklearn.model_selection import RandomizedSearchCV"
   ]
  },
  {
   "cell_type": "code",
   "execution_count": 82,
   "id": "92a93842",
   "metadata": {},
   "outputs": [],
   "source": [
    "#number of trees in the random forest \n",
    "n_estimators = [100,200,300]\n",
    "criterion = ['mae', 'mse']\n",
    "#number of features to cinsider in at every split \n",
    "max_features = ['auto', 'sqrt', 'log2']\n",
    "#Max number of levels in tree\n",
    "max_depth = [1,2,3]\n",
    "#Minimum number ofsamples required to split a node \n",
    "min_samples_split =[int(x) for x in np.linspace(start = 2, stop = 10, num = 3)]\n",
    "#Minimum number ofsamples required at each leaf node\n",
    "min_samples_leaf =[1,2]\n",
    "#mathod of selceting samples of training each tree \n",
    "bootstrap = [True, False]"
   ]
  },
  {
   "cell_type": "code",
   "execution_count": 83,
   "id": "c6aaf022",
   "metadata": {},
   "outputs": [],
   "source": [
    "# creatting parameter gride\n",
    "param_grid_regressor= {'n_estimators': n_estimators,\n",
    "                       'criterion': criterion,\n",
    "                       'max_features': max_features,\n",
    "                       'max_depth': max_depth,\n",
    "                       'min_samples_split': min_samples_split,\n",
    "                      'min_samples_leaf':min_samples_leaf,\n",
    "                       'bootstrap':bootstrap }"
   ]
  },
  {
   "cell_type": "code",
   "execution_count": 84,
   "id": "66050f9e",
   "metadata": {},
   "outputs": [],
   "source": [
    "regressor1 = RandomForestRegressor ()"
   ]
  },
  {
   "cell_type": "code",
   "execution_count": 85,
   "id": "109742d6",
   "metadata": {},
   "outputs": [],
   "source": [
    "regressor1_random = RandomizedSearchCV(estimator = regressor1, param_distributions=param_grid_regressor, n_iter = 100,\n",
    "                              cv = 5, verbose =2,\n",
    "                              n_jobs= -1, scoring = 'neg_mean_squared_error' )"
   ]
  },
  {
   "cell_type": "code",
   "execution_count": 86,
   "id": "ddc4afcb",
   "metadata": {},
   "outputs": [
    {
     "name": "stdout",
     "output_type": "stream",
     "text": [
      "Fitting 5 folds for each of 100 candidates, totalling 500 fits\n"
     ]
    },
    {
     "data": {
      "text/plain": [
       "RandomizedSearchCV(cv=5, estimator=RandomForestRegressor(), n_iter=100,\n",
       "                   n_jobs=-1,\n",
       "                   param_distributions={'bootstrap': [True, False],\n",
       "                                        'criterion': ['mae', 'mse'],\n",
       "                                        'max_depth': [1, 2, 3],\n",
       "                                        'max_features': ['auto', 'sqrt',\n",
       "                                                         'log2'],\n",
       "                                        'min_samples_leaf': [1, 2],\n",
       "                                        'min_samples_split': [2, 6, 10],\n",
       "                                        'n_estimators': [100, 200, 300]},\n",
       "                   scoring='neg_mean_squared_error', verbose=2)"
      ]
     },
     "execution_count": 86,
     "metadata": {},
     "output_type": "execute_result"
    }
   ],
   "source": [
    "regressor1_random.fit(x_model, y_model)"
   ]
  },
  {
   "cell_type": "code",
   "execution_count": 87,
   "id": "b2165f28",
   "metadata": {},
   "outputs": [
    {
     "data": {
      "text/plain": [
       "{'n_estimators': 200,\n",
       " 'min_samples_split': 2,\n",
       " 'min_samples_leaf': 1,\n",
       " 'max_features': 'auto',\n",
       " 'max_depth': 3,\n",
       " 'criterion': 'mse',\n",
       " 'bootstrap': True}"
      ]
     },
     "execution_count": 87,
     "metadata": {},
     "output_type": "execute_result"
    }
   ],
   "source": [
    "regressor1_random.best_params_"
   ]
  },
  {
   "cell_type": "code",
   "execution_count": 88,
   "id": "0933e5b0",
   "metadata": {},
   "outputs": [
    {
     "data": {
      "text/plain": [
       "-1212.428599994221"
      ]
     },
     "execution_count": 88,
     "metadata": {},
     "output_type": "execute_result"
    }
   ],
   "source": [
    "regressor1_random.best_score_"
   ]
  },
  {
   "cell_type": "code",
   "execution_count": 28,
   "id": "24110ee5",
   "metadata": {},
   "outputs": [],
   "source": [
    "\n",
    "# parameter tuning grid searchCV\n",
    "from sklearn.model_selection import GridSearchCV"
   ]
  },
  {
   "cell_type": "code",
   "execution_count": 57,
   "id": "5aae1979",
   "metadata": {},
   "outputs": [],
   "source": [
    "RandomForestRegressor?"
   ]
  },
  {
   "cell_type": "code",
   "execution_count": 58,
   "id": "7c55ba5e",
   "metadata": {},
   "outputs": [],
   "source": [
    "#number of trees in the random forest \n",
    "n_estimators = [100,200,300]\n",
    "criterion = ['mae', 'mse']\n",
    "#number of features to cinsider in at every split \n",
    "max_features = ['auto', 'sqrt', 'log2']\n",
    "#Max number of levels in tree\n",
    "max_depth = [1,2,3]\n",
    "#Minimum number ofsamples required to split a node \n",
    "min_samples_split =[int(x) for x in np.linspace(start = 2, stop = 10, num = 3)]\n",
    "#Minimum number ofsamples required at each leaf node\n",
    "min_samples_leaf =[1,2]\n",
    "#mathod of selceting samples of training each tree \n",
    "bootstrap = [True, False]"
   ]
  },
  {
   "cell_type": "code",
   "execution_count": 59,
   "id": "169dba63",
   "metadata": {},
   "outputs": [],
   "source": [
    "# creatting parameter gride\n",
    "param_grid_regressor= {'n_estimators': n_estimators,\n",
    "                       'criterion': criterion,\n",
    "                       'max_features': max_features,\n",
    "                       'max_depth': max_depth,\n",
    "                       'min_samples_split': min_samples_split,\n",
    "                      'min_samples_leaf':min_samples_leaf,\n",
    "                       'bootstrap':bootstrap }"
   ]
  },
  {
   "cell_type": "code",
   "execution_count": 60,
   "id": "1d5c7748",
   "metadata": {},
   "outputs": [
    {
     "name": "stdout",
     "output_type": "stream",
     "text": [
      "{'n_estimators': [100, 200, 300], 'criterion': ['mae', 'mse'], 'max_features': ['auto', 'sqrt', 'log2'], 'max_depth': [1, 2, 3], 'min_samples_split': [2, 6, 10], 'min_samples_leaf': [1, 2], 'bootstrap': [True, False]}\n"
     ]
    }
   ],
   "source": [
    "print (param_grid_regressor)"
   ]
  },
  {
   "cell_type": "code",
   "execution_count": 61,
   "id": "b692ab0e",
   "metadata": {},
   "outputs": [],
   "source": [
    "regressor1 = RandomForestRegressor ()"
   ]
  },
  {
   "cell_type": "code",
   "execution_count": 62,
   "id": "ccfa9ee7",
   "metadata": {},
   "outputs": [],
   "source": [
    "regressor1_grid = GridSearchCV( estimator = regressor1, param_grid = param_grid_regressor,\n",
    "                              cv = 5, verbose = 2, n_jobs= -1, scoring = \"neg_mean_squared_error\")"
   ]
  },
  {
   "cell_type": "code",
   "execution_count": 63,
   "id": "1caa1fe3",
   "metadata": {},
   "outputs": [
    {
     "name": "stdout",
     "output_type": "stream",
     "text": [
      "Fitting 5 folds for each of 648 candidates, totalling 3240 fits\n"
     ]
    },
    {
     "data": {
      "text/plain": [
       "GridSearchCV(cv=5, estimator=RandomForestRegressor(), n_jobs=-1,\n",
       "             param_grid={'bootstrap': [True, False],\n",
       "                         'criterion': ['mae', 'mse'], 'max_depth': [1, 2, 3],\n",
       "                         'max_features': ['auto', 'sqrt', 'log2'],\n",
       "                         'min_samples_leaf': [1, 2],\n",
       "                         'min_samples_split': [2, 6, 10],\n",
       "                         'n_estimators': [100, 200, 300]},\n",
       "             scoring='neg_mean_squared_error', verbose=2)"
      ]
     },
     "execution_count": 63,
     "metadata": {},
     "output_type": "execute_result"
    }
   ],
   "source": [
    "regressor1_grid.fit(x_train, y_train)"
   ]
  },
  {
   "cell_type": "code",
   "execution_count": 216,
   "id": "06bf02e7",
   "metadata": {},
   "outputs": [
    {
     "data": {
      "text/plain": [
       "{'bootstrap': True,\n",
       " 'criterion': 'mse',\n",
       " 'max_depth': 2,\n",
       " 'max_features': 'auto',\n",
       " 'min_samples_leaf': 1,\n",
       " 'min_samples_split': 2,\n",
       " 'n_estimators': 100}"
      ]
     },
     "execution_count": 216,
     "metadata": {},
     "output_type": "execute_result"
    }
   ],
   "source": [
    "regressor1_grid.best_params_"
   ]
  },
  {
   "cell_type": "code",
   "execution_count": 217,
   "id": "c386b708",
   "metadata": {},
   "outputs": [
    {
     "data": {
      "text/plain": [
       "-1671.0543920219206"
      ]
     },
     "execution_count": 217,
     "metadata": {},
     "output_type": "execute_result"
    }
   ],
   "source": [
    "regressor1_grid.best_score_"
   ]
  },
  {
   "cell_type": "code",
   "execution_count": 108,
   "id": "1cc3a00e",
   "metadata": {},
   "outputs": [],
   "source": [
    "#manual seach engine \n",
    "regressor2 =  RandomForestRegressor (bootstrap = \"True\", criterion = \"mse\", max_depth = 3, max_features = \"auto\",\n",
    "                              min_samples_leaf = 1, min_samples_split = 2,n_estimators = 200, random_state = 1)"
   ]
  },
  {
   "cell_type": "code",
   "execution_count": 109,
   "id": "5f182ce9",
   "metadata": {},
   "outputs": [
    {
     "data": {
      "text/plain": [
       "RandomForestRegressor(bootstrap='True', max_depth=3, n_estimators=200,\n",
       "                      random_state=1)"
      ]
     },
     "execution_count": 109,
     "metadata": {},
     "output_type": "execute_result"
    }
   ],
   "source": [
    "regressor2.fit (x_train, y_train)"
   ]
  },
  {
   "cell_type": "code",
   "execution_count": 110,
   "id": "112d80ec",
   "metadata": {},
   "outputs": [],
   "source": [
    "y_pred1 = regressor2.predict(x_test)"
   ]
  },
  {
   "cell_type": "code",
   "execution_count": 111,
   "id": "dc303b12",
   "metadata": {},
   "outputs": [],
   "source": [
    "y_pred_train1 = regressor2.predict(x_train)"
   ]
  },
  {
   "cell_type": "code",
   "execution_count": 116,
   "id": "19d11ec8",
   "metadata": {},
   "outputs": [],
   "source": [
    "y_pred_extest1 = regressor2.predict(x_extest)"
   ]
  },
  {
   "cell_type": "code",
   "execution_count": 117,
   "id": "3d8a2800",
   "metadata": {},
   "outputs": [],
   "source": [
    "y_pred_model1 = regressor2.predict(x_model)"
   ]
  },
  {
   "cell_type": "code",
   "execution_count": 112,
   "id": "438d8d03",
   "metadata": {},
   "outputs": [],
   "source": [
    "mae2 = metrics.mean_absolute_error(y_test, y_pred1)\n",
    "mse2 = metrics.mean_squared_error(y_test, y_pred1)\n",
    "r22 = metrics.r2_score(y_test, y_pred1)"
   ]
  },
  {
   "cell_type": "code",
   "execution_count": 113,
   "id": "d6c66d8f",
   "metadata": {},
   "outputs": [
    {
     "name": "stdout",
     "output_type": "stream",
     "text": [
      "The model performance for testing set\n",
      "--------------------------------------\n",
      "MAE is 20.734084901343103\n",
      "MSE is 975.7427614732533\n",
      "R2 score is 0.3307448385121633\n"
     ]
    }
   ],
   "source": [
    "print(\"The model performance for testing set\")\n",
    "print(\"--------------------------------------\")\n",
    "print('MAE is {}'.format(mae2))\n",
    "print('MSE is {}'.format(mse2))\n",
    "print('R2 score is {}'.format(r22))"
   ]
  },
  {
   "cell_type": "code",
   "execution_count": 114,
   "id": "36e90a80",
   "metadata": {},
   "outputs": [],
   "source": [
    "maeTrain2 = metrics.mean_absolute_error(y_train, y_pred_train1)\n",
    "mseTrain2 = metrics.mean_squared_error(y_train, y_pred_train1)\n",
    "r2Train2 = metrics.r2_score(y_train, y_pred_train1)"
   ]
  },
  {
   "cell_type": "code",
   "execution_count": 115,
   "id": "bd8479a2",
   "metadata": {},
   "outputs": [
    {
     "name": "stdout",
     "output_type": "stream",
     "text": [
      "The model performance for training set\n",
      "--------------------------------------\n",
      "MAE is 21.043812454176347\n",
      "MSE is 786.0430315542906\n",
      "R2 score is 0.7011765972266151\n"
     ]
    }
   ],
   "source": [
    "print(\"The model performance for training set\")\n",
    "print(\"--------------------------------------\")\n",
    "print('MAE is {}'.format(maeTrain2))\n",
    "print('MSE is {}'.format(mseTrain2))\n",
    "print('R2 score is {}'.format(r2Train2))"
   ]
  },
  {
   "cell_type": "code",
   "execution_count": 118,
   "id": "cdc44c87",
   "metadata": {},
   "outputs": [],
   "source": [
    "maeExtest2 = metrics.mean_absolute_error(y_model, y_pred_model1)\n",
    "mseExtest2 = metrics.mean_squared_error(y_model, y_pred_model1)\n",
    "r2Extest2 = metrics.r2_score(y_model, y_pred_model1)"
   ]
  },
  {
   "cell_type": "code",
   "execution_count": 119,
   "id": "82e945c9",
   "metadata": {},
   "outputs": [
    {
     "name": "stdout",
     "output_type": "stream",
     "text": [
      "The model performance for modeling set\n",
      "--------------------------------------\n",
      "MAE is 20.999074126616378\n",
      "MSE is 817.9277358948951\n",
      "R2 score is 0.6845064181649281\n"
     ]
    }
   ],
   "source": [
    "print(\"The model performance for modeling set\")\n",
    "print(\"--------------------------------------\")\n",
    "print('MAE is {}'.format(maeExtest2))\n",
    "print('MSE is {}'.format(mseExtest2))\n",
    "print('R2 score is {}'.format(r2Extest2))"
   ]
  },
  {
   "cell_type": "code",
   "execution_count": null,
   "id": "a6289b81",
   "metadata": {},
   "outputs": [],
   "source": []
  },
  {
   "cell_type": "code",
   "execution_count": 106,
   "id": "a267ab7d",
   "metadata": {},
   "outputs": [],
   "source": [
    "cvscoreval = (-cross_val_score(regressor2,x_val,y_val.ravel(),cv=5).mean())\n",
    "MAE = (-cross_val_score(regressor2,x_val,y_val.ravel(),cv=5, scoring = \"neg_mean_absolute_error\").mean())\n",
    "MSE = (-cross_val_score(regressor2,x_val,y_val.ravel(),cv=5, scoring = \"neg_mean_squared_error\").mean())"
   ]
  },
  {
   "cell_type": "code",
   "execution_count": 107,
   "id": "2e8db17f",
   "metadata": {},
   "outputs": [
    {
     "name": "stdout",
     "output_type": "stream",
     "text": [
      "The CV score for whole dataset\n",
      "--------------------------------------\n",
      "Q2 is -0.25687531059530777\n",
      "MAE is 27.469012432949917\n",
      "MSE is 1216.4078748161764\n"
     ]
    }
   ],
   "source": [
    "print(\"The CV score for whole dataset\")\n",
    "print(\"--------------------------------------\")\n",
    "print('Q2 is {}'.format(cvscoreval))\n",
    "print('MAE is {}'.format(MAE))\n",
    "print('MSE is {}'.format(MSE))"
   ]
  },
  {
   "cell_type": "code",
   "execution_count": 70,
   "id": "232f5ff9",
   "metadata": {},
   "outputs": [],
   "source": [
    "random_forest_out_of_bag1 = RandomForestRegressor(oob_score=True,bootstrap = \"True\", criterion = \"mse\", max_depth = 2, max_features = \"auto\",\n",
    "                              min_samples_leaf = 1, min_samples_split = 2,n_estimators = 300, random_state = 1)"
   ]
  },
  {
   "cell_type": "code",
   "execution_count": 71,
   "id": "bc813e21",
   "metadata": {},
   "outputs": [
    {
     "data": {
      "text/plain": [
       "RandomForestRegressor(bootstrap='True', max_depth=2, n_estimators=300,\n",
       "                      oob_score=True, random_state=1)"
      ]
     },
     "execution_count": 71,
     "metadata": {},
     "output_type": "execute_result"
    }
   ],
   "source": [
    "random_forest_out_of_bag1.fit(x_train, y_train)"
   ]
  },
  {
   "cell_type": "code",
   "execution_count": 72,
   "id": "6ddcd34e",
   "metadata": {},
   "outputs": [
    {
     "name": "stdout",
     "output_type": "stream",
     "text": [
      "0.3850741064714972\n"
     ]
    }
   ],
   "source": [
    "print(random_forest_out_of_bag1.oob_score_)"
   ]
  },
  {
   "cell_type": "code",
   "execution_count": null,
   "id": "49402dae",
   "metadata": {},
   "outputs": [],
   "source": []
  },
  {
   "cell_type": "code",
   "execution_count": null,
   "id": "f0b8ef1d",
   "metadata": {},
   "outputs": [],
   "source": []
  }
 ],
 "metadata": {
  "kernelspec": {
   "display_name": "Python 3",
   "language": "python",
   "name": "python3"
  },
  "language_info": {
   "codemirror_mode": {
    "name": "ipython",
    "version": 3
   },
   "file_extension": ".py",
   "mimetype": "text/x-python",
   "name": "python",
   "nbconvert_exporter": "python",
   "pygments_lexer": "ipython3",
   "version": "3.9.4"
  }
 },
 "nbformat": 4,
 "nbformat_minor": 5
}
