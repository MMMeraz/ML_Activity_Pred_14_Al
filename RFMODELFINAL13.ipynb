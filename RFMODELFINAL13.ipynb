{
 "cells": [
  {
   "cell_type": "code",
   "execution_count": 1,
   "id": "b61ed168",
   "metadata": {},
   "outputs": [],
   "source": [
    "# Import Section\n",
    "import csv\n",
    "import codecs\n",
    "import sys\n",
    "import io\n",
    "import numpy as np\n",
    "import pandas as pd\n",
    "import scipy as sp\n",
    "\n",
    "# For Regression\n",
    "from sklearn.model_selection import train_test_split\n",
    "from sklearn.model_selection import cross_val_score\n",
    "from statistics import mean\n",
    "\n",
    "# Python script for confusion matrix creation. \n",
    "from sklearn.metrics import *\n",
    "from numpy import mean\n",
    "from numpy import std\n",
    "from sklearn import metrics"
   ]
  },
  {
   "cell_type": "code",
   "execution_count": 342,
   "id": "84713e53",
   "metadata": {},
   "outputs": [],
   "source": [
    "dataset=pd.read_excel(\"Des_cod_1056_92-14.xlsx\",index_col=0)"
   ]
  },
  {
   "cell_type": "code",
   "execution_count": 343,
   "id": "e04a6148",
   "metadata": {},
   "outputs": [
    {
     "data": {
      "text/plain": [
       "(1056, 15)"
      ]
     },
     "execution_count": 343,
     "metadata": {},
     "output_type": "execute_result"
    }
   ],
   "source": [
    "dataset.shape"
   ]
  },
  {
   "cell_type": "code",
   "execution_count": 344,
   "id": "bb8c5677",
   "metadata": {},
   "outputs": [
    {
     "data": {
      "text/plain": [
       "Number of atoms                                                          0\n",
       "Wiener index                                                             0\n",
       "Balaban index                                                            0\n",
       "FNSA-3 Fractional PNSA (PNSA-3/TMSA) [Zefirov's PC]                      0\n",
       "RNCS Relative negative charged SA (SAMNEG*RNCG) [Zefirov's PC]           0\n",
       "LUMO energy                                                              0\n",
       "LUMO+1 energy                                                            0\n",
       "Min net atomic charge for a N atom                                       0\n",
       "Max net atomic charge for a C atom                                       0\n",
       "DPSA-1 Difference in CPSAs (PPSA1-PNSA1) [Quantum-Chemical PC]           0\n",
       "RNCS Relative negative charged SA (SAMNEG*RNCG) [Quantum-Chemical PC]    0\n",
       "Max PI-PI bond order                                                     0\n",
       "Min valency of a N atom                                                  0\n",
       "Avg valency of a N atom                                                  0\n",
       "Act                                                                      0\n",
       "dtype: int64"
      ]
     },
     "execution_count": 344,
     "metadata": {},
     "output_type": "execute_result"
    }
   ],
   "source": [
    "# to check the null values \n",
    "dataset.isnull().sum()"
   ]
  },
  {
   "cell_type": "code",
   "execution_count": 345,
   "id": "9ec48840",
   "metadata": {},
   "outputs": [
    {
     "data": {
      "text/plain": [
       "Number of atoms                                                          1056\n",
       "Wiener index                                                             1056\n",
       "Balaban index                                                            1056\n",
       "FNSA-3 Fractional PNSA (PNSA-3/TMSA) [Zefirov's PC]                      1056\n",
       "RNCS Relative negative charged SA (SAMNEG*RNCG) [Zefirov's PC]           1056\n",
       "LUMO energy                                                              1056\n",
       "LUMO+1 energy                                                            1056\n",
       "Min net atomic charge for a N atom                                       1056\n",
       "Max net atomic charge for a C atom                                       1056\n",
       "DPSA-1 Difference in CPSAs (PPSA1-PNSA1) [Quantum-Chemical PC]           1056\n",
       "RNCS Relative negative charged SA (SAMNEG*RNCG) [Quantum-Chemical PC]    1056\n",
       "Max PI-PI bond order                                                     1056\n",
       "Min valency of a N atom                                                  1056\n",
       "Avg valency of a N atom                                                  1056\n",
       "Act                                                                      1056\n",
       "dtype: int64"
      ]
     },
     "execution_count": 345,
     "metadata": {},
     "output_type": "execute_result"
    }
   ],
   "source": [
    "dataset.isnull().count()"
   ]
  },
  {
   "cell_type": "code",
   "execution_count": 346,
   "id": "4f3b7435",
   "metadata": {},
   "outputs": [],
   "source": [
    "x = dataset.drop(['Act'],axis=1).astype(float)\n",
    "y = dataset['Act']"
   ]
  },
  {
   "cell_type": "code",
   "execution_count": 347,
   "id": "2673ea88",
   "metadata": {},
   "outputs": [
    {
     "data": {
      "text/plain": [
       "(1056, 14)"
      ]
     },
     "execution_count": 347,
     "metadata": {},
     "output_type": "execute_result"
    }
   ],
   "source": [
    "x.shape"
   ]
  },
  {
   "cell_type": "code",
   "execution_count": 348,
   "id": "20aaab71",
   "metadata": {},
   "outputs": [
    {
     "data": {
      "text/plain": [
       "Structure\n",
       "\"1Co\"       0.853\n",
       "\"2Co\"       0.987\n",
       "\"3Co\"       0.773\n",
       "\"4Co\"       0.760\n",
       "\"5Co\"       0.893\n",
       "            ...  \n",
       "\"1052Co\"    0.370\n",
       "\"1053Co\"    1.020\n",
       "\"1054Co\"    0.832\n",
       "\"1055Co\"    0.701\n",
       "\"1056Co\"    1.090\n",
       "Name: Act, Length: 1056, dtype: float64"
      ]
     },
     "execution_count": 348,
     "metadata": {},
     "output_type": "execute_result"
    }
   ],
   "source": [
    "y"
   ]
  },
  {
   "cell_type": "code",
   "execution_count": 349,
   "id": "b135fdf6",
   "metadata": {},
   "outputs": [],
   "source": [
    "x_model, x_extest, y_model, y_extest = train_test_split(x,y,test_size=.2, random_state = 7000, shuffle=True)"
   ]
  },
  {
   "cell_type": "code",
   "execution_count": 350,
   "id": "59510d81",
   "metadata": {},
   "outputs": [
    {
     "data": {
      "text/plain": [
       "(844, 14)"
      ]
     },
     "execution_count": 350,
     "metadata": {},
     "output_type": "execute_result"
    }
   ],
   "source": [
    "x_model.shape"
   ]
  },
  {
   "cell_type": "code",
   "execution_count": 351,
   "id": "dfe452b7",
   "metadata": {},
   "outputs": [],
   "source": [
    "x_train, x_test2, y_train, y_test2 = train_test_split(x_model,y_model,test_size=.3, random_state = 7000, shuffle=True)"
   ]
  },
  {
   "cell_type": "code",
   "execution_count": 352,
   "id": "7adfc272",
   "metadata": {},
   "outputs": [
    {
     "data": {
      "text/plain": [
       "(590, 14)"
      ]
     },
     "execution_count": 352,
     "metadata": {},
     "output_type": "execute_result"
    }
   ],
   "source": [
    "x_train.shape"
   ]
  },
  {
   "cell_type": "code",
   "execution_count": 353,
   "id": "dec9401b",
   "metadata": {},
   "outputs": [
    {
     "data": {
      "text/plain": [
       "(254, 14)"
      ]
     },
     "execution_count": 353,
     "metadata": {},
     "output_type": "execute_result"
    }
   ],
   "source": [
    "x_test2.shape"
   ]
  },
  {
   "cell_type": "code",
   "execution_count": 354,
   "id": "cc878ed3",
   "metadata": {},
   "outputs": [],
   "source": [
    "x_val, x_test, y_val, y_test = train_test_split(x_test2,y_test2,test_size=.5, random_state = 7000, shuffle=True)"
   ]
  },
  {
   "cell_type": "code",
   "execution_count": 355,
   "id": "e0b83d9d",
   "metadata": {},
   "outputs": [
    {
     "data": {
      "text/plain": [
       "(127, 14)"
      ]
     },
     "execution_count": 355,
     "metadata": {},
     "output_type": "execute_result"
    }
   ],
   "source": [
    "x_test.shape"
   ]
  },
  {
   "cell_type": "code",
   "execution_count": 356,
   "id": "1972e160",
   "metadata": {},
   "outputs": [
    {
     "data": {
      "text/plain": [
       "(127, 14)"
      ]
     },
     "execution_count": 356,
     "metadata": {},
     "output_type": "execute_result"
    }
   ],
   "source": [
    "x_val.shape"
   ]
  },
  {
   "cell_type": "code",
   "execution_count": 357,
   "id": "2850dd20",
   "metadata": {},
   "outputs": [],
   "source": [
    "from sklearn.ensemble import RandomForestRegressor"
   ]
  },
  {
   "cell_type": "code",
   "execution_count": 358,
   "id": "807129ef",
   "metadata": {},
   "outputs": [],
   "source": [
    "regressor = RandomForestRegressor ( n_estimators = 1800, max_depth=None, max_features='auto', \n",
    "                                   max_leaf_nodes=None, min_samples_split=2, min_samples_leaf=1,   \n",
    "                                   random_state=42)"
   ]
  },
  {
   "cell_type": "code",
   "execution_count": 359,
   "id": "2c86a530",
   "metadata": {},
   "outputs": [
    {
     "data": {
      "text/plain": [
       "RandomForestRegressor(n_estimators=1800, random_state=42)"
      ]
     },
     "execution_count": 359,
     "metadata": {},
     "output_type": "execute_result"
    }
   ],
   "source": [
    "regressor.fit(x_train, y_train)"
   ]
  },
  {
   "cell_type": "code",
   "execution_count": 360,
   "id": "252abe9d",
   "metadata": {},
   "outputs": [],
   "source": [
    "# compute the testing accuracy\n",
    "y_pred = regressor.predict(x_test)"
   ]
  },
  {
   "cell_type": "code",
   "execution_count": 361,
   "id": "e6c96940",
   "metadata": {},
   "outputs": [],
   "source": [
    "y_pred_train = regressor.predict(x_train)"
   ]
  },
  {
   "cell_type": "code",
   "execution_count": 362,
   "id": "885dd6ec",
   "metadata": {},
   "outputs": [],
   "source": [
    "y_pred_val = regressor.predict(x_val)"
   ]
  },
  {
   "cell_type": "code",
   "execution_count": 363,
   "id": "e83ae922",
   "metadata": {},
   "outputs": [],
   "source": [
    "y_pred_extest = regressor.predict(x_extest)"
   ]
  },
  {
   "cell_type": "code",
   "execution_count": 364,
   "id": "2faac6f7",
   "metadata": {},
   "outputs": [],
   "source": [
    "y_pred_model = regressor.predict(x_model)"
   ]
  },
  {
   "cell_type": "code",
   "execution_count": 365,
   "id": "7a728e50",
   "metadata": {},
   "outputs": [
    {
     "name": "stdout",
     "output_type": "stream",
     "text": [
      "\n",
      "\n",
      "overall Performance: \n"
     ]
    }
   ],
   "source": [
    "  print(\"\\n\")\n",
    "  print(\"overall Performance: \", )"
   ]
  },
  {
   "cell_type": "code",
   "execution_count": 366,
   "id": "1d9e0d71",
   "metadata": {},
   "outputs": [],
   "source": [
    " # model evaluation for test set\n",
    "mae = metrics.mean_absolute_error(y_test, y_pred)\n",
    "mse = metrics.mean_squared_error(y_test, y_pred)\n",
    "r2 = metrics.r2_score(y_test, y_pred)"
   ]
  },
  {
   "cell_type": "code",
   "execution_count": 367,
   "id": "84a1eed1",
   "metadata": {},
   "outputs": [
    {
     "name": "stdout",
     "output_type": "stream",
     "text": [
      "The model performance for test set\n",
      "--------------------------------------\n",
      "MAE is 0.2364999002274701\n",
      "MSE is 0.11710776174555451\n",
      "R2 score is 0.5659968608513929\n"
     ]
    }
   ],
   "source": [
    "print(\"The model performance for test set\")\n",
    "print(\"--------------------------------------\")\n",
    "print('MAE is {}'.format(mae))\n",
    "print('MSE is {}'.format(mse))\n",
    "print('R2 score is {}'.format(r2))"
   ]
  },
  {
   "cell_type": "code",
   "execution_count": 368,
   "id": "a61d11af",
   "metadata": {},
   "outputs": [],
   "source": [
    "  # model evaluation for training set\n",
    "maeTrain = metrics.mean_absolute_error(y_train, y_pred_train)\n",
    "mseTrain = metrics.mean_squared_error(y_train, y_pred_train)\n",
    "r2Train = metrics.r2_score(y_train, y_pred_train)"
   ]
  },
  {
   "cell_type": "code",
   "execution_count": 369,
   "id": "5efa0205",
   "metadata": {},
   "outputs": [
    {
     "name": "stdout",
     "output_type": "stream",
     "text": [
      "The model performance for training set\n",
      "--------------------------------------\n",
      "MAE is 0.07777646755932104\n",
      "MSE is 0.01210629521779845\n",
      "R2 score is 0.9487060561317088\n"
     ]
    }
   ],
   "source": [
    "print(\"The model performance for training set\")\n",
    "print(\"--------------------------------------\")\n",
    "print('MAE is {}'.format(maeTrain))\n",
    "print('MSE is {}'.format(mseTrain))\n",
    "print('R2 score is {}'.format(r2Train))"
   ]
  },
  {
   "cell_type": "code",
   "execution_count": 370,
   "id": "7f46ed69",
   "metadata": {},
   "outputs": [],
   "source": [
    "cvscoreval = (cross_val_score(regressor,x_train,y_train.ravel(),cv=5).mean())"
   ]
  },
  {
   "cell_type": "code",
   "execution_count": 371,
   "id": "fb3c6b83",
   "metadata": {},
   "outputs": [
    {
     "name": "stdout",
     "output_type": "stream",
     "text": [
      "The CV score for Training set\n",
      "--------------------------------------\n",
      "[0.63132201 0.55727852 0.48060512 0.53443695 0.54639983]\n",
      "Q2 is 0.5500084851903243\n"
     ]
    }
   ],
   "source": [
    "print(\"The CV score for Training set\")\n",
    "print(\"--------------------------------------\")\n",
    "print (cross_val_score(regressor,x_train,y_train.ravel(),cv=5))\n",
    "print('Q2 is {}'.format(cvscoreval))"
   ]
  },
  {
   "cell_type": "code",
   "execution_count": 372,
   "id": "79e0ac9f",
   "metadata": {},
   "outputs": [],
   "source": [
    "## model evaluation for extest set\n",
    "maeex = metrics.mean_absolute_error(y_extest, y_pred_extest)\n",
    "mseex = metrics.mean_squared_error(y_extest, y_pred_extest)\n",
    "r2ex = metrics.r2_score(y_extest, y_pred_extest)"
   ]
  },
  {
   "cell_type": "code",
   "execution_count": 373,
   "id": "f21ca55a",
   "metadata": {},
   "outputs": [
    {
     "name": "stdout",
     "output_type": "stream",
     "text": [
      "The model performance for extest set\n",
      "--------------------------------------\n",
      "MAE is 0.21566280554507297\n",
      "MSE is 0.1097997278515152\n",
      "R2 score is 0.559014642180596\n"
     ]
    }
   ],
   "source": [
    "print(\"The model performance for extest set\")\n",
    "print(\"--------------------------------------\")\n",
    "print('MAE is {}'.format(maeex))\n",
    "print('MSE is {}'.format(mseex))\n",
    "print('R2 score is {}'.format(r2ex))"
   ]
  },
  {
   "cell_type": "code",
   "execution_count": 374,
   "id": "1f127a0a",
   "metadata": {},
   "outputs": [],
   "source": [
    "## model evaluation for val set\n",
    "maevl = metrics.mean_absolute_error(y_val, y_pred_val)\n",
    "msevl = metrics.mean_squared_error(y_val, y_pred_val)\n",
    "r2vl = metrics.r2_score(y_val, y_pred_val)"
   ]
  },
  {
   "cell_type": "code",
   "execution_count": 375,
   "id": "434b3f6a",
   "metadata": {},
   "outputs": [
    {
     "name": "stdout",
     "output_type": "stream",
     "text": [
      "The model performance for val set\n",
      "--------------------------------------\n",
      "MAE is 0.20825019342082227\n",
      "MSE is 0.08592240873577202\n",
      "R2 score is 0.5407016698682056\n"
     ]
    }
   ],
   "source": [
    "print(\"The model performance for val set\")\n",
    "print(\"--------------------------------------\")\n",
    "print('MAE is {}'.format(maevl))\n",
    "print('MSE is {}'.format(msevl))\n",
    "print('R2 score is {}'.format(r2vl))"
   ]
  },
  {
   "cell_type": "code",
   "execution_count": 376,
   "id": "75cf81e5",
   "metadata": {},
   "outputs": [],
   "source": [
    "## model evaluation for modeling set\n",
    "maeM = metrics.mean_absolute_error(y_model, y_pred_model)\n",
    "mseM = metrics.mean_squared_error(y_model, y_pred_model)\n",
    "r2eM = metrics.r2_score(y_model, y_pred_model)"
   ]
  },
  {
   "cell_type": "code",
   "execution_count": 377,
   "id": "50ceaffe",
   "metadata": {},
   "outputs": [
    {
     "name": "stdout",
     "output_type": "stream",
     "text": [
      "The model performance for Modeling set\n",
      "--------------------------------------\n",
      "MAE is 0.12129310160347458\n",
      "MSE is 0.039013679892926006\n",
      "R2 score is 0.8333344790673511\n"
     ]
    }
   ],
   "source": [
    "print(\"The model performance for Modeling set\")\n",
    "print(\"--------------------------------------\")\n",
    "print('MAE is {}'.format(maeM))\n",
    "print('MSE is {}'.format(mseM))\n",
    "print('R2 score is {}'.format(r2eM))"
   ]
  },
  {
   "cell_type": "code",
   "execution_count": 378,
   "id": "4c7da26e",
   "metadata": {},
   "outputs": [],
   "source": [
    "#CV od Modeling set \n",
    "cvscoremodel = (cross_val_score(regressor,x_model,y_model.ravel(),cv=4).mean())"
   ]
  },
  {
   "cell_type": "code",
   "execution_count": 379,
   "id": "8a3ca31c",
   "metadata": {},
   "outputs": [
    {
     "name": "stdout",
     "output_type": "stream",
     "text": [
      "The CV score for modelingset\n",
      "--------------------------------------\n",
      "[0.57675271 0.65440812 0.61710732 0.68350382]\n",
      "Q2 is 0.6329429935284094\n"
     ]
    }
   ],
   "source": [
    "print(\"The CV score for modelingset\")\n",
    "print(\"--------------------------------------\")\n",
    "print (cross_val_score(regressor,x_model,y_model.ravel(),cv=4))\n",
    "print('Q2 is {}'.format(cvscoremodel))"
   ]
  },
  {
   "cell_type": "code",
   "execution_count": 380,
   "id": "f6b04551",
   "metadata": {},
   "outputs": [],
   "source": [
    "#Performance on Out-bag sample \n",
    "# R2 value on unseen data (cross validation using hold-out set concept)\n",
    "random_forest_out_of_bag = RandomForestRegressor(oob_score=True,n_estimators = 1800, max_features='auto', min_samples_split=2,\n",
    "                                                 random_state = 42)"
   ]
  },
  {
   "cell_type": "code",
   "execution_count": 381,
   "id": "4190adf3",
   "metadata": {},
   "outputs": [
    {
     "data": {
      "text/plain": [
       "RandomForestRegressor(n_estimators=1800, oob_score=True, random_state=42)"
      ]
     },
     "execution_count": 381,
     "metadata": {},
     "output_type": "execute_result"
    }
   ],
   "source": [
    "random_forest_out_of_bag.fit(x_train, y_train)\n"
   ]
  },
  {
   "cell_type": "code",
   "execution_count": 382,
   "id": "4dfa874b",
   "metadata": {},
   "outputs": [
    {
     "name": "stdout",
     "output_type": "stream",
     "text": [
      "0.6197241830861168\n"
     ]
    }
   ],
   "source": [
    "print(random_forest_out_of_bag.oob_score_)"
   ]
  },
  {
   "cell_type": "code",
   "execution_count": 207,
   "id": "8d7dcd87",
   "metadata": {},
   "outputs": [],
   "source": [
    "#Randomize search CV\n",
    "from sklearn.model_selection import RandomizedSearchCV"
   ]
  },
  {
   "cell_type": "code",
   "execution_count": 208,
   "id": "92a93842",
   "metadata": {},
   "outputs": [],
   "source": [
    "#number of trees in the random forest \n",
    "n_estimators = [50,100,150,200,250,300, 350, 400, 450, 500, 550, 600, 700, 800, 800, 1000, 1500, 1600, 1700, 1800, 1900, 2000]\n",
    "#number of features to cinsider in at every split \n",
    "max_features = ['auto', 'sqrt', 'log2']\n",
    "#Max number of levels in tree\n",
    "max_depth = [None,1,2,3]\n",
    "#Minimum number ofsamples required to split a node \n",
    "min_samples_split =[1, 2, 3, 4, 5, 6, 7]\n",
    "#Minimum number ofsamples required at each leaf node\n",
    "min_samples_leaf =[1,2]"
   ]
  },
  {
   "cell_type": "code",
   "execution_count": 209,
   "id": "c6aaf022",
   "metadata": {},
   "outputs": [],
   "source": [
    "# creatting parameter gride\n",
    "param_grid_regressor= {'n_estimators': n_estimators,\n",
    "                       'max_features': max_features,\n",
    "                       'max_depth': max_depth,\n",
    "                       'min_samples_split': min_samples_split,\n",
    "                      'min_samples_leaf':min_samples_leaf }"
   ]
  },
  {
   "cell_type": "code",
   "execution_count": 210,
   "id": "109742d6",
   "metadata": {},
   "outputs": [],
   "source": [
    "regressor1_random = RandomizedSearchCV(estimator = regressor, param_distributions=param_grid_regressor, n_iter = 100,\n",
    "                              cv = 5, verbose =2,\n",
    "                              n_jobs= -1, scoring = 'neg_mean_squared_error' )"
   ]
  },
  {
   "cell_type": "code",
   "execution_count": 211,
   "id": "ddc4afcb",
   "metadata": {},
   "outputs": [
    {
     "name": "stdout",
     "output_type": "stream",
     "text": [
      "Fitting 5 folds for each of 100 candidates, totalling 500 fits\n"
     ]
    },
    {
     "name": "stderr",
     "output_type": "stream",
     "text": [
      "C:\\Python39\\lib\\site-packages\\sklearn\\model_selection\\_search.py:922: UserWarning: One or more of the test scores are non-finite: [-16.14320468 -14.62349217 -10.72837868 -10.46473656 -10.30974308\n",
      " -17.33635028 -10.47444982 -16.11432294          nan -10.69865149\n",
      " -10.22602372          nan -15.98281494          nan -17.32465551\n",
      " -14.55628998 -14.61011139          nan -10.54917202 -14.56229949\n",
      " -10.89813517 -17.33975965 -17.33975965 -13.87144097 -17.965855\n",
      " -13.88723113 -13.85098184 -17.97576071 -17.36133648          nan\n",
      " -15.8995917  -14.58414495          nan -15.97947201 -10.88829874\n",
      " -14.57093652 -17.86992545 -10.88487248 -17.85572723 -13.86913137\n",
      " -14.50680067 -10.42524893 -17.81266988          nan -16.04787885\n",
      " -15.93238968 -13.87642064 -10.26373873 -13.83538024 -16.08818235\n",
      " -10.63887675 -13.86511367 -15.98828949 -15.9468613  -17.91537805\n",
      " -14.56478513 -10.65718202 -10.70750566 -17.37102015 -10.45392193\n",
      " -14.56479499 -10.63176411 -15.90701621 -10.69781744 -17.9495168\n",
      " -15.92034549          nan -16.0561              nan -15.98697985\n",
      " -10.69039836 -15.98721594 -17.34234359 -14.47440256          nan\n",
      " -14.40909244 -17.32465551 -13.91372575 -14.55869423 -16.04490374\n",
      " -13.86698078 -15.957877   -13.82471064 -17.77473206 -17.96860163\n",
      " -14.61262534          nan -16.05685504 -17.97576071 -15.90352213\n",
      " -14.45351528 -10.587125   -15.93240268 -17.9186801  -16.04464895\n",
      " -14.56479499 -15.89579697 -10.76321953 -15.95140876 -15.92297619]\n",
      "  warnings.warn(\n"
     ]
    },
    {
     "data": {
      "text/plain": [
       "RandomizedSearchCV(cv=5,\n",
       "                   estimator=RandomForestRegressor(n_estimators=500,\n",
       "                                                   random_state=42),\n",
       "                   n_iter=100, n_jobs=-1,\n",
       "                   param_distributions={'max_depth': [None, 1, 2, 3],\n",
       "                                        'max_features': ['auto', 'sqrt',\n",
       "                                                         'log2'],\n",
       "                                        'min_samples_leaf': [1, 2],\n",
       "                                        'min_samples_split': [1, 2, 3, 4, 5, 6,\n",
       "                                                              7],\n",
       "                                        'n_estimators': [50, 100, 150, 200, 250,\n",
       "                                                         300, 350, 400, 450,\n",
       "                                                         500, 550, 600, 700,\n",
       "                                                         800, 800, 1000, 1500,\n",
       "                                                         1600, 1700, 1800, 1900,\n",
       "                                                         2000]},\n",
       "                   scoring='neg_mean_squared_error', verbose=2)"
      ]
     },
     "execution_count": 211,
     "metadata": {},
     "output_type": "execute_result"
    }
   ],
   "source": [
    "regressor1_random.fit(x_train, y_train)"
   ]
  },
  {
   "cell_type": "code",
   "execution_count": 212,
   "id": "b2165f28",
   "metadata": {},
   "outputs": [
    {
     "data": {
      "text/plain": [
       "{'n_estimators': 100,\n",
       " 'min_samples_split': 2,\n",
       " 'min_samples_leaf': 1,\n",
       " 'max_features': 'log2',\n",
       " 'max_depth': None}"
      ]
     },
     "execution_count": 212,
     "metadata": {},
     "output_type": "execute_result"
    }
   ],
   "source": [
    "regressor1_random.best_params_"
   ]
  },
  {
   "cell_type": "code",
   "execution_count": 213,
   "id": "0933e5b0",
   "metadata": {},
   "outputs": [
    {
     "data": {
      "text/plain": [
       "-10.226023719027353"
      ]
     },
     "execution_count": 213,
     "metadata": {},
     "output_type": "execute_result"
    }
   ],
   "source": [
    "regressor1_random.best_score_"
   ]
  },
  {
   "cell_type": "code",
   "execution_count": 214,
   "id": "24110ee5",
   "metadata": {},
   "outputs": [],
   "source": [
    "# parameter tuning grid searchCV\n",
    "from sklearn.model_selection import GridSearchCV"
   ]
  },
  {
   "cell_type": "code",
   "execution_count": 215,
   "id": "5aae1979",
   "metadata": {},
   "outputs": [],
   "source": [
    "#RandomForestRegressor?"
   ]
  },
  {
   "cell_type": "code",
   "execution_count": 216,
   "id": "7c55ba5e",
   "metadata": {},
   "outputs": [],
   "source": [
    "#number of trees in the random forest \n",
    "n_estimators = [50, 100, 150, 200, 250, 300, 350, 400, 450, 500, 550, 600, 650, 700, 750, 800, 900 ]\n",
    "#number of features to cinsider in at every split \n",
    "max_features = ['auto', 'sqrt', 'log2']\n",
    "#Max number of levels in tree\n",
    "max_depth = [None,1, 2, 4,3]\n",
    "#Minimum number ofsamples required to split a node \n",
    "min_samples_split =[2, 3, 4, 5,6,7]\n",
    "#Minimum number ofsamples required at each leaf node\n",
    "min_samples_leaf =[1,2,3]\n",
    "#mathod of selceting samples of training each tree "
   ]
  },
  {
   "cell_type": "code",
   "execution_count": 217,
   "id": "169dba63",
   "metadata": {},
   "outputs": [],
   "source": [
    "# creatting parameter gride\n",
    "param_grid_regressor1= {'n_estimators': n_estimators,\n",
    "                        'max_features': max_features, \n",
    "                       'min_samples_split': min_samples_split}"
   ]
  },
  {
   "cell_type": "code",
   "execution_count": 218,
   "id": "1d5c7748",
   "metadata": {},
   "outputs": [
    {
     "name": "stdout",
     "output_type": "stream",
     "text": [
      "{'n_estimators': [50, 100, 150, 200, 250, 300, 350, 400, 450, 500, 550, 600, 650, 700, 750, 800, 900], 'max_features': ['auto', 'sqrt', 'log2'], 'min_samples_split': [2, 3, 4, 5, 6, 7]}\n"
     ]
    }
   ],
   "source": [
    "print (param_grid_regressor1)"
   ]
  },
  {
   "cell_type": "code",
   "execution_count": 219,
   "id": "ccfa9ee7",
   "metadata": {},
   "outputs": [],
   "source": [
    "regressor1_grid = GridSearchCV( estimator = regressor, param_grid = param_grid_regressor1,\n",
    "                              cv = 5, verbose = 2, n_jobs= -1, scoring = \"neg_mean_squared_error\")"
   ]
  },
  {
   "cell_type": "code",
   "execution_count": 220,
   "id": "1caa1fe3",
   "metadata": {},
   "outputs": [
    {
     "name": "stdout",
     "output_type": "stream",
     "text": [
      "Fitting 5 folds for each of 306 candidates, totalling 1530 fits\n"
     ]
    },
    {
     "data": {
      "text/plain": [
       "GridSearchCV(cv=5,\n",
       "             estimator=RandomForestRegressor(n_estimators=500, random_state=42),\n",
       "             n_jobs=-1,\n",
       "             param_grid={'max_features': ['auto', 'sqrt', 'log2'],\n",
       "                         'min_samples_split': [2, 3, 4, 5, 6, 7],\n",
       "                         'n_estimators': [50, 100, 150, 200, 250, 300, 350, 400,\n",
       "                                          450, 500, 550, 600, 650, 700, 750,\n",
       "                                          800, 900]},\n",
       "             scoring='neg_mean_squared_error', verbose=2)"
      ]
     },
     "execution_count": 220,
     "metadata": {},
     "output_type": "execute_result"
    }
   ],
   "source": [
    "regressor1_grid.fit(x_train, y_train)"
   ]
  },
  {
   "cell_type": "code",
   "execution_count": 221,
   "id": "06bf02e7",
   "metadata": {},
   "outputs": [
    {
     "data": {
      "text/plain": [
       "{'max_features': 'log2', 'min_samples_split': 2, 'n_estimators': 150}"
      ]
     },
     "execution_count": 221,
     "metadata": {},
     "output_type": "execute_result"
    }
   ],
   "source": [
    "regressor1_grid.best_params_"
   ]
  },
  {
   "cell_type": "code",
   "execution_count": 222,
   "id": "c386b708",
   "metadata": {},
   "outputs": [
    {
     "data": {
      "text/plain": [
       "-10.125221608835945"
      ]
     },
     "execution_count": 222,
     "metadata": {},
     "output_type": "execute_result"
    }
   ],
   "source": [
    "regressor1_grid.best_score_"
   ]
  },
  {
   "cell_type": "code",
   "execution_count": null,
   "id": "1cc3a00e",
   "metadata": {},
   "outputs": [],
   "source": [
    "#manual seach engine \n",
    "regressor2 =  RandomForestRegressor (bootstrap = \"True\", criterion = \"mse\", max_depth = 3, max_features = \"auto\",\n",
    "                              min_samples_leaf = 1, min_samples_split = 2,n_estimators = 200, random_state = 42)"
   ]
  },
  {
   "cell_type": "code",
   "execution_count": null,
   "id": "5f182ce9",
   "metadata": {},
   "outputs": [],
   "source": [
    "regressor2.fit (x_train, y_train)"
   ]
  },
  {
   "cell_type": "code",
   "execution_count": null,
   "id": "112d80ec",
   "metadata": {},
   "outputs": [],
   "source": [
    "y_pred1 = regressor2.predict(x_test)"
   ]
  },
  {
   "cell_type": "code",
   "execution_count": null,
   "id": "dc303b12",
   "metadata": {},
   "outputs": [],
   "source": [
    "y_pred_train1 = regressor2.predict(x_train)"
   ]
  },
  {
   "cell_type": "code",
   "execution_count": null,
   "id": "19d11ec8",
   "metadata": {},
   "outputs": [],
   "source": [
    "y_pred_extest1 = regressor2.predict(x_extest)"
   ]
  },
  {
   "cell_type": "code",
   "execution_count": null,
   "id": "3d8a2800",
   "metadata": {},
   "outputs": [],
   "source": [
    "y_pred_model1 = regressor2.predict(x_model)"
   ]
  },
  {
   "cell_type": "code",
   "execution_count": null,
   "id": "438d8d03",
   "metadata": {},
   "outputs": [],
   "source": [
    "mae2 = metrics.mean_absolute_error(y_test, y_pred1)\n",
    "mse2 = metrics.mean_squared_error(y_test, y_pred1)\n",
    "r22 = metrics.r2_score(y_test, y_pred1)"
   ]
  },
  {
   "cell_type": "code",
   "execution_count": null,
   "id": "d6c66d8f",
   "metadata": {
    "scrolled": true
   },
   "outputs": [],
   "source": [
    "print(\"The model performance for testing set\")\n",
    "print(\"--------------------------------------\")\n",
    "print('MAE is {}'.format(mae2))\n",
    "print('MSE is {}'.format(mse2))\n",
    "print('R2 score is {}'.format(r22))"
   ]
  },
  {
   "cell_type": "code",
   "execution_count": null,
   "id": "36e90a80",
   "metadata": {},
   "outputs": [],
   "source": [
    "maeTrain2 = metrics.mean_absolute_error(y_train, y_pred_train1)\n",
    "mseTrain2 = metrics.mean_squared_error(y_train, y_pred_train1)\n",
    "r2Train2 = metrics.r2_score(y_train, y_pred_train1)"
   ]
  },
  {
   "cell_type": "code",
   "execution_count": null,
   "id": "bd8479a2",
   "metadata": {},
   "outputs": [],
   "source": [
    "print(\"The model performance for training set\")\n",
    "print(\"--------------------------------------\")\n",
    "print('MAE is {}'.format(maeTrain2))\n",
    "print('MSE is {}'.format(mseTrain2))\n",
    "print('R2 score is {}'.format(r2Train2))"
   ]
  },
  {
   "cell_type": "code",
   "execution_count": null,
   "id": "cdc44c87",
   "metadata": {},
   "outputs": [],
   "source": [
    "maeExtest2 = metrics.mean_absolute_error(y_model, y_pred_model1)\n",
    "mseExtest2 = metrics.mean_squared_error(y_model, y_pred_model1)\n",
    "r2Extest2 = metrics.r2_score(y_model, y_pred_model1)"
   ]
  },
  {
   "cell_type": "code",
   "execution_count": null,
   "id": "82e945c9",
   "metadata": {},
   "outputs": [],
   "source": [
    "print(\"The model performance for modeling set\")\n",
    "print(\"--------------------------------------\")\n",
    "print('MAE is {}'.format(maeExtest2))\n",
    "print('MSE is {}'.format(mseExtest2))\n",
    "print('R2 score is {}'.format(r2Extest2))"
   ]
  },
  {
   "cell_type": "code",
   "execution_count": null,
   "id": "a6289b81",
   "metadata": {},
   "outputs": [],
   "source": []
  },
  {
   "cell_type": "code",
   "execution_count": null,
   "id": "a267ab7d",
   "metadata": {},
   "outputs": [],
   "source": [
    "cvscoreval = (-cross_val_score(regressor2,x_val,y_val.ravel(),cv=5).mean())\n",
    "MAE = (-cross_val_score(regressor2,x_val,y_val.ravel(),cv=5, scoring = \"neg_mean_absolute_error\").mean())\n",
    "MSE = (-cross_val_score(regressor2,x_val,y_val.ravel(),cv=5, scoring = \"neg_mean_squared_error\").mean())"
   ]
  },
  {
   "cell_type": "code",
   "execution_count": null,
   "id": "2e8db17f",
   "metadata": {},
   "outputs": [],
   "source": [
    "print(\"The CV score for whole dataset\")\n",
    "print(\"--------------------------------------\")\n",
    "print('Q2 is {}'.format(cvscoreval))\n",
    "print('MAE is {}'.format(MAE))\n",
    "print('MSE is {}'.format(MSE))"
   ]
  },
  {
   "cell_type": "code",
   "execution_count": null,
   "id": "232f5ff9",
   "metadata": {},
   "outputs": [],
   "source": [
    "random_forest_out_of_bag1 = RandomForestRegressor(oob_score=True,bootstrap = \"True\", criterion = \"mse\", max_depth = 2, max_features = \"auto\",\n",
    "                              min_samples_leaf = 1, min_samples_split = 2,n_estimators = 300, random_state = 1)"
   ]
  },
  {
   "cell_type": "code",
   "execution_count": null,
   "id": "bc813e21",
   "metadata": {},
   "outputs": [],
   "source": [
    "random_forest_out_of_bag1.fit(x_train, y_train)"
   ]
  },
  {
   "cell_type": "code",
   "execution_count": null,
   "id": "6ddcd34e",
   "metadata": {},
   "outputs": [],
   "source": [
    "print(random_forest_out_of_bag1.oob_score_)"
   ]
  },
  {
   "cell_type": "code",
   "execution_count": null,
   "id": "49402dae",
   "metadata": {},
   "outputs": [],
   "source": []
  },
  {
   "cell_type": "code",
   "execution_count": null,
   "id": "f0b8ef1d",
   "metadata": {},
   "outputs": [],
   "source": []
  }
 ],
 "metadata": {
  "kernelspec": {
   "display_name": "Python 3",
   "language": "python",
   "name": "python3"
  },
  "language_info": {
   "codemirror_mode": {
    "name": "ipython",
    "version": 3
   },
   "file_extension": ".py",
   "mimetype": "text/x-python",
   "name": "python",
   "nbconvert_exporter": "python",
   "pygments_lexer": "ipython3",
   "version": "3.9.4"
  }
 },
 "nbformat": 4,
 "nbformat_minor": 5
}
