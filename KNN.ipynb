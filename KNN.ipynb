{
 "cells": [
  {
   "cell_type": "code",
   "execution_count": 1,
   "id": "6d6f1d90",
   "metadata": {},
   "outputs": [],
   "source": [
    "# Import Section\n",
    "import csv\n",
    "import codecs\n",
    "import sys\n",
    "import io\n",
    "import numpy as np\n",
    "import pandas as pd\n",
    "import scipy as sp\n",
    "\n",
    "# For Regression\n",
    "from sklearn.model_selection import train_test_split\n",
    "from sklearn.model_selection import cross_val_score\n",
    "from statistics import mean\n",
    "\n",
    "#model \n",
    "from sklearn.neighbors import KNeighborsRegressor\n",
    "\n",
    "# Python script for confusion matrix creation. \n",
    "from sklearn.metrics import *\n",
    "from numpy import mean\n",
    "from numpy import std\n",
    "from sklearn import metrics"
   ]
  },
  {
   "cell_type": "code",
   "execution_count": 2,
   "id": "69ae8fb6",
   "metadata": {},
   "outputs": [],
   "source": [
    "#reading data\n",
    "dataset=pd.read_csv(\"data_294.csv\")"
   ]
  },
  {
   "cell_type": "code",
   "execution_count": 3,
   "id": "ec007b03",
   "metadata": {},
   "outputs": [
    {
     "data": {
      "text/plain": [
       "(294, 17)"
      ]
     },
     "execution_count": 3,
     "metadata": {},
     "output_type": "execute_result"
    }
   ],
   "source": [
    "dataset.shape"
   ]
  },
  {
   "cell_type": "code",
   "execution_count": 4,
   "id": "6540ffea",
   "metadata": {},
   "outputs": [],
   "source": [
    "#define independent variables \n",
    "x = dataset[['1', '15', '18', '21', '25', '26', '39', '41', '58', '69', '83', '85', '141', '155', '166']]"
   ]
  },
  {
   "cell_type": "code",
   "execution_count": 5,
   "id": "38fcc30c",
   "metadata": {},
   "outputs": [
    {
     "data": {
      "text/plain": [
       "(294, 15)"
      ]
     },
     "execution_count": 5,
     "metadata": {},
     "output_type": "execute_result"
    }
   ],
   "source": [
    "x.shape"
   ]
  },
  {
   "cell_type": "code",
   "execution_count": 6,
   "id": "c129b673",
   "metadata": {},
   "outputs": [],
   "source": [
    "# define dependent veriables \n",
    "y = dataset['Act']"
   ]
  },
  {
   "cell_type": "code",
   "execution_count": 7,
   "id": "5fb8d30e",
   "metadata": {},
   "outputs": [
    {
     "data": {
      "text/plain": [
       "(294,)"
      ]
     },
     "execution_count": 7,
     "metadata": {},
     "output_type": "execute_result"
    }
   ],
   "source": [
    "y.shape"
   ]
  },
  {
   "cell_type": "code",
   "execution_count": 8,
   "id": "174dcd4e",
   "metadata": {},
   "outputs": [],
   "source": [
    "#Data splitting\n",
    "x_model, x_extest, y_model, y_extest = train_test_split(x,y,test_size=.2, random_state = 7000, shuffle=True)"
   ]
  },
  {
   "cell_type": "code",
   "execution_count": 9,
   "id": "5403d6e9",
   "metadata": {},
   "outputs": [
    {
     "data": {
      "text/plain": [
       "(235, 15)"
      ]
     },
     "execution_count": 9,
     "metadata": {},
     "output_type": "execute_result"
    }
   ],
   "source": [
    "x_model.shape"
   ]
  },
  {
   "cell_type": "code",
   "execution_count": 10,
   "id": "f7583025",
   "metadata": {},
   "outputs": [
    {
     "data": {
      "text/plain": [
       "(59, 15)"
      ]
     },
     "execution_count": 10,
     "metadata": {},
     "output_type": "execute_result"
    }
   ],
   "source": [
    "x_extest.shape"
   ]
  },
  {
   "cell_type": "code",
   "execution_count": 11,
   "id": "3e08e96b",
   "metadata": {},
   "outputs": [],
   "source": [
    "x_train, x_test2, y_train, y_test2 = train_test_split(x_model,y_model,test_size=.3, random_state = 7000, shuffle=True)"
   ]
  },
  {
   "cell_type": "code",
   "execution_count": 13,
   "id": "d8ed970c",
   "metadata": {},
   "outputs": [
    {
     "data": {
      "text/plain": [
       "(164, 15)"
      ]
     },
     "execution_count": 13,
     "metadata": {},
     "output_type": "execute_result"
    }
   ],
   "source": [
    "x_train.shape"
   ]
  },
  {
   "cell_type": "code",
   "execution_count": 14,
   "id": "33daae20",
   "metadata": {},
   "outputs": [
    {
     "data": {
      "text/plain": [
       "(71, 15)"
      ]
     },
     "execution_count": 14,
     "metadata": {},
     "output_type": "execute_result"
    }
   ],
   "source": [
    "x_test2.shape"
   ]
  },
  {
   "cell_type": "code",
   "execution_count": 15,
   "id": "f09a2627",
   "metadata": {},
   "outputs": [],
   "source": [
    "x_val, x_test, y_val, y_test = train_test_split(x_test2,y_test2,test_size=.5, random_state = 7000, shuffle=True)"
   ]
  },
  {
   "cell_type": "code",
   "execution_count": 16,
   "id": "58d9dc52",
   "metadata": {},
   "outputs": [
    {
     "data": {
      "text/plain": [
       "(36, 15)"
      ]
     },
     "execution_count": 16,
     "metadata": {},
     "output_type": "execute_result"
    }
   ],
   "source": [
    "x_test.shape"
   ]
  },
  {
   "cell_type": "code",
   "execution_count": 17,
   "id": "95e85f0f",
   "metadata": {},
   "outputs": [
    {
     "data": {
      "text/plain": [
       "(35, 15)"
      ]
     },
     "execution_count": 17,
     "metadata": {},
     "output_type": "execute_result"
    }
   ],
   "source": [
    "x_val.shape"
   ]
  },
  {
   "cell_type": "code",
   "execution_count": 18,
   "id": "e0c1893a",
   "metadata": {},
   "outputs": [],
   "source": [
    "# scealing is required for indepandent variables at KNN\n",
    "from sklearn.preprocessing import StandardScaler"
   ]
  },
  {
   "cell_type": "code",
   "execution_count": 19,
   "id": "70181004",
   "metadata": {},
   "outputs": [],
   "source": [
    "#define scealer \n",
    "scale = StandardScaler()"
   ]
  },
  {
   "cell_type": "code",
   "execution_count": 19,
   "id": "b433f2f9",
   "metadata": {},
   "outputs": [],
   "source": [
    "X = scale.fit_transform(x)\n",
    "X_train = scale.fit_transform(x_train)\n",
    "X_test = scale.fit_transform(x_test)\n",
    "X_val = scale.fit_transform(x_val)\n",
    "X_model = scale.fit_transform(x_model)\n",
    "X_extest = scale.fit_transform(x_extest)"
   ]
  },
  {
   "cell_type": "code",
   "execution_count": 66,
   "id": "99a01ad3",
   "metadata": {},
   "outputs": [],
   "source": [
    "#Stating regressor \n",
    "regressor = KNeighborsRegressor(n_neighbors=5, weights='distance',\n",
    "    algorithm='auto',\n",
    "    leaf_size=30,\n",
    "    p=2,\n",
    "    metric='minkowski',\n",
    "    metric_params=None,\n",
    "    n_jobs=-1,)"
   ]
  },
  {
   "cell_type": "code",
   "execution_count": 67,
   "id": "4e94da1a",
   "metadata": {},
   "outputs": [
    {
     "data": {
      "text/plain": [
       "KNeighborsRegressor(n_jobs=-1, weights='distance')"
      ]
     },
     "execution_count": 67,
     "metadata": {},
     "output_type": "execute_result"
    }
   ],
   "source": [
    " regressor.fit(X_train, y_train)"
   ]
  },
  {
   "cell_type": "code",
   "execution_count": 68,
   "id": "153a413c",
   "metadata": {},
   "outputs": [],
   "source": [
    "# compute the testing accuracy\n",
    "y_pred = regressor.predict(X_test)"
   ]
  },
  {
   "cell_type": "code",
   "execution_count": 69,
   "id": "ef2bd5a0",
   "metadata": {},
   "outputs": [],
   "source": [
    "y_pred_train = regressor.predict(X_train)"
   ]
  },
  {
   "cell_type": "code",
   "execution_count": 70,
   "id": "51b8dbf2",
   "metadata": {},
   "outputs": [
    {
     "data": {
      "text/plain": [
       "(164,)"
      ]
     },
     "execution_count": 70,
     "metadata": {},
     "output_type": "execute_result"
    }
   ],
   "source": [
    "y_pred_train.shape"
   ]
  },
  {
   "cell_type": "code",
   "execution_count": 71,
   "id": "8545bb86",
   "metadata": {},
   "outputs": [],
   "source": [
    "y_pred_val = regressor.predict(X_val)"
   ]
  },
  {
   "cell_type": "code",
   "execution_count": 72,
   "id": "e10de018",
   "metadata": {},
   "outputs": [],
   "source": [
    "y_pred_extest = regressor.predict(X_extest)"
   ]
  },
  {
   "cell_type": "code",
   "execution_count": 73,
   "id": "c8ccb816",
   "metadata": {},
   "outputs": [],
   "source": [
    "y_pred_model = regressor.predict(X_model)"
   ]
  },
  {
   "cell_type": "code",
   "execution_count": 74,
   "id": "e6ec491d",
   "metadata": {},
   "outputs": [],
   "source": [
    "y_pred_all = regressor.predict(X)"
   ]
  },
  {
   "cell_type": "code",
   "execution_count": 75,
   "id": "bd299f88",
   "metadata": {},
   "outputs": [
    {
     "name": "stdout",
     "output_type": "stream",
     "text": [
      "\n",
      "\n",
      "overall Performance: \n"
     ]
    }
   ],
   "source": [
    "  print(\"\\n\")\n",
    "  print(\"overall Performance: \", )"
   ]
  },
  {
   "cell_type": "code",
   "execution_count": 76,
   "id": "08e1d8cc",
   "metadata": {},
   "outputs": [],
   "source": [
    "  # model evaluation for testing set\n",
    "  mae = metrics.mean_absolute_error(y_test, y_pred)\n",
    "  mse = metrics.mean_squared_error(y_test, y_pred)\n",
    "  r2 = metrics.r2_score(y_test, y_pred)"
   ]
  },
  {
   "cell_type": "code",
   "execution_count": 77,
   "id": "109a011e",
   "metadata": {},
   "outputs": [
    {
     "name": "stdout",
     "output_type": "stream",
     "text": [
      "The model performance for testing set\n",
      "--------------------------------------\n",
      "MAE is 18.386306466426035\n",
      "MSE is 750.7953505210505\n",
      "R2 score is 0.48503470033576435\n"
     ]
    }
   ],
   "source": [
    "print(\"The model performance for testing set\")\n",
    "print(\"--------------------------------------\")\n",
    "print('MAE is {}'.format(mae))\n",
    "print('MSE is {}'.format(mse))\n",
    "print('R2 score is {}'.format(r2))"
   ]
  },
  {
   "cell_type": "code",
   "execution_count": 78,
   "id": "6eb42d35",
   "metadata": {},
   "outputs": [],
   "source": [
    "  # model evaluation for training set\n",
    "maeTrain = metrics.mean_absolute_error(y_train, y_pred_train)\n",
    "mseTrain = metrics.mean_squared_error(y_train, y_pred_train)\n",
    "r2Train = metrics.r2_score(y_train, y_pred_train)"
   ]
  },
  {
   "cell_type": "code",
   "execution_count": 79,
   "id": "595c5093",
   "metadata": {},
   "outputs": [
    {
     "name": "stdout",
     "output_type": "stream",
     "text": [
      "The model performance for training set\n",
      "--------------------------------------\n",
      "MAE is 0.0\n",
      "MSE is 0.0\n",
      "R2 score is 1.0\n"
     ]
    }
   ],
   "source": [
    "print(\"The model performance for training set\")\n",
    "print(\"--------------------------------------\")\n",
    "print('MAE is {}'.format(maeTrain))\n",
    "print('MSE is {}'.format(mseTrain))\n",
    "print('R2 score is {}'.format(r2Train))"
   ]
  },
  {
   "cell_type": "code",
   "execution_count": 80,
   "id": "6cad2cbd",
   "metadata": {},
   "outputs": [],
   "source": [
    "#CV score for training set\n",
    "cvscoretra = (cross_val_score(regressor,X_train,y_train.ravel(),cv=5).mean())"
   ]
  },
  {
   "cell_type": "code",
   "execution_count": 81,
   "id": "00ecf430",
   "metadata": {},
   "outputs": [
    {
     "name": "stdout",
     "output_type": "stream",
     "text": [
      "The CV score for training set\n",
      "--------------------------------------\n",
      "[0.42708588 0.55566627 0.53933663 0.75182741 0.5293158 ]\n",
      "Q2 is 0.5606463990965358\n"
     ]
    }
   ],
   "source": [
    "print(\"The CV score for training set\")\n",
    "print(\"--------------------------------------\")\n",
    "print (cross_val_score(regressor,X_train,y_train.ravel(),cv=5))\n",
    "print('Q2 is {}'.format(cvscoretra))"
   ]
  },
  {
   "cell_type": "code",
   "execution_count": 82,
   "id": "fcad4b72",
   "metadata": {},
   "outputs": [],
   "source": [
    "## model evaluation for extest set\n",
    "maeex = metrics.mean_absolute_error(y_extest, y_pred_extest)\n",
    "mseex = metrics.mean_squared_error(y_extest, y_pred_extest)\n",
    "r2ex = metrics.r2_score(y_extest, y_pred_extest)"
   ]
  },
  {
   "cell_type": "code",
   "execution_count": 83,
   "id": "c6fd7311",
   "metadata": {},
   "outputs": [
    {
     "name": "stdout",
     "output_type": "stream",
     "text": [
      "The model performance for extest set\n",
      "--------------------------------------\n",
      "MAE is 18.16512656732335\n",
      "MSE is 785.229431847234\n",
      "R2 score is 0.7249841659199439\n"
     ]
    }
   ],
   "source": [
    "print(\"The model performance for extest set\")\n",
    "print(\"--------------------------------------\")\n",
    "print('MAE is {}'.format(maeex))\n",
    "print('MSE is {}'.format(mseex))\n",
    "print('R2 score is {}'.format(r2ex))"
   ]
  },
  {
   "cell_type": "code",
   "execution_count": 84,
   "id": "4cc6638a",
   "metadata": {},
   "outputs": [],
   "source": [
    "## model evaluation for val set\n",
    "maevl = metrics.mean_absolute_error(y_val, y_pred_val)\n",
    "msevl = metrics.mean_squared_error(y_val, y_pred_val)\n",
    "r2vl = metrics.r2_score(y_val, y_pred_val)"
   ]
  },
  {
   "cell_type": "code",
   "execution_count": 85,
   "id": "2afb1d99",
   "metadata": {},
   "outputs": [
    {
     "name": "stdout",
     "output_type": "stream",
     "text": [
      "The model performance for val set\n",
      "--------------------------------------\n",
      "MAE is 19.014118956814873\n",
      "MSE is 758.6471284353624\n",
      "R2 score is 0.7750500214485694\n"
     ]
    }
   ],
   "source": [
    "print(\"The model performance for val set\")\n",
    "print(\"--------------------------------------\")\n",
    "print('MAE is {}'.format(maevl))\n",
    "print('MSE is {}'.format(msevl))\n",
    "print('R2 score is {}'.format(r2vl))"
   ]
  },
  {
   "cell_type": "code",
   "execution_count": 86,
   "id": "b53e3e9d",
   "metadata": {},
   "outputs": [],
   "source": [
    "## model evaluation for modeling set\n",
    "maemod = metrics.mean_absolute_error(y_model, y_pred_model)\n",
    "msemod = metrics.mean_squared_error(y_model, y_pred_model)\n",
    "r2mod = metrics.r2_score(y_model, y_pred_model)"
   ]
  },
  {
   "cell_type": "code",
   "execution_count": 87,
   "id": "caa4886c",
   "metadata": {},
   "outputs": [
    {
     "name": "stdout",
     "output_type": "stream",
     "text": [
      "The model performance for modeling set\n",
      "--------------------------------------\n",
      "MAE is 11.044531687255501\n",
      "MSE is 315.8351602168511\n",
      "R2 score is 0.8781750983694817\n"
     ]
    }
   ],
   "source": [
    "print(\"The model performance for modeling set\")\n",
    "print(\"--------------------------------------\")\n",
    "print('MAE is {}'.format(maemod))\n",
    "print('MSE is {}'.format(msemod))\n",
    "print('R2 score is {}'.format(r2mod))"
   ]
  },
  {
   "cell_type": "code",
   "execution_count": 88,
   "id": "8abd06c7",
   "metadata": {},
   "outputs": [],
   "source": [
    "#CV score for modeling set\n",
    "cvscoremod = (cross_val_score(regressor,X_model,y_model.ravel(),cv=5).mean())"
   ]
  },
  {
   "cell_type": "code",
   "execution_count": 89,
   "id": "a993fc8f",
   "metadata": {},
   "outputs": [
    {
     "name": "stdout",
     "output_type": "stream",
     "text": [
      "The CV score for Modeling set\n",
      "--------------------------------------\n",
      "[0.79078543 0.46797939 0.5156723  0.4873842  0.78573338]\n",
      "Q2 is 0.6095109388096136\n"
     ]
    }
   ],
   "source": [
    "print(\"The CV score for Modeling set\")\n",
    "print(\"--------------------------------------\")\n",
    "print (cross_val_score(regressor,X_model,y_model.ravel(),cv=5))\n",
    "print('Q2 is {}'.format(cvscoremod))"
   ]
  },
  {
   "cell_type": "code",
   "execution_count": 53,
   "id": "673abc15",
   "metadata": {},
   "outputs": [],
   "source": [
    "#Randomize search CV\n",
    "from sklearn.model_selection import RandomizedSearchCV"
   ]
  },
  {
   "cell_type": "code",
   "execution_count": 54,
   "id": "82ce6a4c",
   "metadata": {},
   "outputs": [],
   "source": [
    "#creatting Param giid\n",
    "n_neighbors =[int(x) for x in np.linspace(start = 1, stop = 100, num = 25)]\n",
    "weights = ['distance', 'uniform']\n",
    "algorithm = ['auto','brute']\n",
    "metric = ['minkowski', 'str']"
   ]
  },
  {
   "cell_type": "code",
   "execution_count": 55,
   "id": "56ede5ca",
   "metadata": {},
   "outputs": [],
   "source": [
    "param_grid_regressor= {'n_neighbors': n_neighbors ,\n",
    "                       'weights':weights, 'algorithm': algorithm, 'metric': metric, 'p': [1,2]}"
   ]
  },
  {
   "cell_type": "code",
   "execution_count": 56,
   "id": "102dd941",
   "metadata": {},
   "outputs": [
    {
     "name": "stdout",
     "output_type": "stream",
     "text": [
      "{'n_neighbors': [1, 5, 9, 13, 17, 21, 25, 29, 34, 38, 42, 46, 50, 54, 58, 62, 67, 71, 75, 79, 83, 87, 91, 95, 100], 'weights': ['distance', 'uniform'], 'algorithm': ['auto', 'brute'], 'metric': ['minkowski', 'str'], 'p': [1, 2]}\n"
     ]
    }
   ],
   "source": [
    "print (param_grid_regressor)"
   ]
  },
  {
   "cell_type": "code",
   "execution_count": 57,
   "id": "ad837c9a",
   "metadata": {},
   "outputs": [],
   "source": [
    "regressor_random = RandomizedSearchCV(estimator = regressor, param_distributions=param_grid_regressor, n_iter = 100,\n",
    "                              cv = 5, verbose =2,\n",
    "                              n_jobs= -1, scoring = 'neg_mean_squared_error' )"
   ]
  },
  {
   "cell_type": "code",
   "execution_count": 58,
   "id": "cc3935cf",
   "metadata": {},
   "outputs": [
    {
     "name": "stdout",
     "output_type": "stream",
     "text": [
      "Fitting 5 folds for each of 100 candidates, totalling 500 fits\n"
     ]
    },
    {
     "name": "stderr",
     "output_type": "stream",
     "text": [
      "C:\\Python39\\lib\\site-packages\\sklearn\\model_selection\\_search.py:922: UserWarning: One or more of the test scores are non-finite: [           nan            nan -1675.07618467 -1554.00740751\n",
      "            nan -1632.69571873 -1857.01308095 -2280.40714101\n",
      " -1791.28652131 -1258.80544959            nan -1585.78036877\n",
      "            nan -1659.98418089            nan -2197.75211831\n",
      "            nan -1692.2780972             nan            nan\n",
      " -1815.64566871 -1731.08227088            nan -1750.34111486\n",
      " -2055.33508671            nan            nan -1658.91670168\n",
      " -1833.61064681 -1574.46144729            nan -1404.17106201\n",
      " -1403.76786288 -1652.00990297            nan -1776.40274555\n",
      " -1608.89931024 -1382.48031081 -2121.93658873 -1758.02523061\n",
      "            nan            nan -1897.14230632 -1503.57913357\n",
      "            nan -1472.52539415 -1347.30736966            nan\n",
      "            nan            nan -1611.77144976 -1441.85018316\n",
      " -1488.99677916            nan -1720.82630673 -1403.76786288\n",
      "            nan            nan -1574.46144729 -1599.24029968\n",
      "            nan            nan            nan -1608.89931024\n",
      " -1974.19156247            nan -2173.7661646  -2143.89828507\n",
      "            nan -1382.48031081            nan -1532.48123862\n",
      " -1964.5511854  -1989.20600964            nan            nan\n",
      " -1333.93572471 -2221.18735869 -1332.13076669            nan\n",
      "            nan -1941.14023663            nan -1716.55957424\n",
      "            nan            nan            nan -1303.69562693\n",
      " -2017.47966349            nan            nan -1536.04793698\n",
      "            nan            nan -1640.99496404            nan\n",
      " -1516.63437945            nan            nan -1503.57913357]\n",
      "  warnings.warn(\n"
     ]
    },
    {
     "data": {
      "text/plain": [
       "RandomizedSearchCV(cv=5, estimator=KNeighborsRegressor(), n_iter=100, n_jobs=-1,\n",
       "                   param_distributions={'algorithm': ['auto', 'brute'],\n",
       "                                        'metric': ['minkowski', 'str'],\n",
       "                                        'n_neighbors': [1, 5, 9, 13, 17, 21, 25,\n",
       "                                                        29, 34, 38, 42, 46, 50,\n",
       "                                                        54, 58, 62, 67, 71, 75,\n",
       "                                                        79, 83, 87, 91, 95,\n",
       "                                                        100],\n",
       "                                        'p': [1, 2],\n",
       "                                        'weights': ['distance', 'uniform']},\n",
       "                   scoring='neg_mean_squared_error', verbose=2)"
      ]
     },
     "execution_count": 58,
     "metadata": {},
     "output_type": "execute_result"
    }
   ],
   "source": [
    "regressor_random.fit (X_train,y_train)"
   ]
  },
  {
   "cell_type": "code",
   "execution_count": 59,
   "id": "9b089138",
   "metadata": {},
   "outputs": [
    {
     "data": {
      "text/plain": [
       "{'weights': 'uniform',\n",
       " 'p': 2,\n",
       " 'n_neighbors': 5,\n",
       " 'metric': 'minkowski',\n",
       " 'algorithm': 'auto'}"
      ]
     },
     "execution_count": 59,
     "metadata": {},
     "output_type": "execute_result"
    }
   ],
   "source": [
    "regressor_random.best_params_"
   ]
  },
  {
   "cell_type": "code",
   "execution_count": 60,
   "id": "aebc36ce",
   "metadata": {},
   "outputs": [
    {
     "data": {
      "text/plain": [
       "-1258.8054495886363"
      ]
     },
     "execution_count": 60,
     "metadata": {},
     "output_type": "execute_result"
    }
   ],
   "source": [
    "regressor_random.best_score_"
   ]
  },
  {
   "cell_type": "code",
   "execution_count": 62,
   "id": "805f7ddc",
   "metadata": {},
   "outputs": [],
   "source": [
    "# parameter tuning grid searchCV\n",
    "from sklearn.model_selection import GridSearchCV"
   ]
  },
  {
   "cell_type": "code",
   "execution_count": 63,
   "id": "76a7b184",
   "metadata": {},
   "outputs": [
    {
     "name": "stdout",
     "output_type": "stream",
     "text": [
      "Fitting 5 folds for each of 400 candidates, totalling 2000 fits\n"
     ]
    },
    {
     "name": "stderr",
     "output_type": "stream",
     "text": [
      "C:\\Python39\\lib\\site-packages\\sklearn\\model_selection\\_search.py:922: UserWarning: One or more of the test scores are non-finite: [-1403.76786288 -1403.76786288 -1245.96477455 -1245.96477455\n",
      " -1155.10760256 -1333.93572471 -1101.11410158 -1258.80544959\n",
      " -1272.75873878 -1523.17730224 -1150.90403799 -1334.27532578\n",
      " -1332.13076669 -1599.24029968 -1237.50135145 -1479.35561139\n",
      " -1382.48031081 -1644.28706686 -1303.69562693 -1574.46144729\n",
      " -1404.17106201 -1658.91670168 -1311.33704037 -1591.48770021\n",
      " -1431.471203   -1692.2780972  -1347.30736966 -1640.99496404\n",
      " -1447.47740475 -1716.55957424 -1365.10516358 -1667.32730292\n",
      " -1479.59241413 -1776.40274555 -1405.09709262 -1728.19298266\n",
      " -1488.99677916 -1782.47288552 -1441.85018316 -1776.8596663\n",
      " -1516.63437945 -1833.61064681 -1472.52539415 -1815.64566871\n",
      " -1536.04793698 -1868.58628381 -1503.57913357 -1857.01308095\n",
      " -1554.00740751 -1897.14230632 -1532.48123862 -1895.76651932\n",
      " -1579.35282024 -1941.14023663 -1559.97563493 -1933.11076723\n",
      " -1597.05344798 -1974.19156247 -1585.78036877 -1964.5511854\n",
      " -1611.77144976 -1989.20600964 -1608.89931024 -1989.79931286\n",
      " -1630.7110721  -2017.47966349 -1632.69571873 -2012.88000099\n",
      " -1652.00990297 -2055.33508671 -1659.98418089 -2050.46329705\n",
      " -1675.07618467 -2096.7406482  -1682.79798685 -2080.14423353\n",
      " -1690.91497087 -2121.93658873 -1708.47376006 -2115.55056876\n",
      " -1703.55517577 -2143.89828507 -1731.08227088 -2143.89430826\n",
      " -1720.82630673 -2173.7661646  -1758.02523061 -2178.96419567\n",
      " -1736.50008427 -2199.02914072 -1774.34856055 -2197.75211831\n",
      " -1750.34111486 -2222.06568898 -1791.28652131 -2221.18735869\n",
      " -1776.02875185 -2276.39264251 -1827.05808791 -2280.40714101\n",
      "            nan            nan            nan            nan\n",
      "            nan            nan            nan            nan\n",
      "            nan            nan            nan            nan\n",
      "            nan            nan            nan            nan\n",
      "            nan            nan            nan            nan\n",
      "            nan            nan            nan            nan\n",
      "            nan            nan            nan            nan\n",
      "            nan            nan            nan            nan\n",
      "            nan            nan            nan            nan\n",
      "            nan            nan            nan            nan\n",
      "            nan            nan            nan            nan\n",
      "            nan            nan            nan            nan\n",
      "            nan            nan            nan            nan\n",
      "            nan            nan            nan            nan\n",
      "            nan            nan            nan            nan\n",
      "            nan            nan            nan            nan\n",
      "            nan            nan            nan            nan\n",
      "            nan            nan            nan            nan\n",
      "            nan            nan            nan            nan\n",
      "            nan            nan            nan            nan\n",
      "            nan            nan            nan            nan\n",
      "            nan            nan            nan            nan\n",
      "            nan            nan            nan            nan\n",
      "            nan            nan            nan            nan\n",
      "            nan            nan            nan            nan\n",
      " -1403.76786288 -1403.76786288 -1245.96477455 -1245.96477455\n",
      " -1155.10760256 -1333.93572471 -1101.11410158 -1258.80544959\n",
      " -1272.75873878 -1523.17730224 -1150.90403799 -1334.27532578\n",
      " -1332.13076669 -1599.24029968 -1237.50135145 -1479.35561139\n",
      " -1382.48031081 -1644.28706686 -1303.69562693 -1574.46144729\n",
      " -1404.17106201 -1658.91670168 -1311.33704037 -1591.48770021\n",
      " -1431.471203   -1692.2780972  -1347.30736966 -1640.99496404\n",
      " -1447.47740475 -1716.55957424 -1365.10516358 -1667.32730292\n",
      " -1479.59241413 -1776.40274555 -1405.09709262 -1728.19298266\n",
      " -1488.99677916 -1782.47288552 -1441.85018316 -1776.8596663\n",
      " -1516.63437945 -1833.61064681 -1472.52539415 -1815.64566871\n",
      " -1536.04793698 -1868.58628381 -1503.57913357 -1857.01308095\n",
      " -1554.00740751 -1897.14230632 -1532.48123862 -1895.76651932\n",
      " -1579.35282024 -1941.14023663 -1559.97563493 -1933.11076723\n",
      " -1597.05344798 -1974.19156247 -1585.78036877 -1964.5511854\n",
      " -1611.77144976 -1989.20600964 -1608.89931024 -1989.79931286\n",
      " -1630.7110721  -2017.47966349 -1632.69571873 -2012.88000099\n",
      " -1652.00990297 -2055.33508671 -1659.98418089 -2050.46329705\n",
      " -1675.07618467 -2096.7406482  -1682.79798685 -2080.14423353\n",
      " -1690.91497087 -2121.93658873 -1708.47376006 -2115.55056876\n",
      " -1703.55517577 -2143.89828507 -1731.08227088 -2143.89430826\n",
      " -1720.82630673 -2173.7661646  -1758.02523061 -2178.96419567\n",
      " -1736.50008427 -2199.02914072 -1774.34856055 -2197.75211831\n",
      " -1750.34111486 -2222.06568898 -1791.28652131 -2221.18735869\n",
      " -1776.02875185 -2276.39264251 -1827.05808791 -2280.40714101\n",
      "            nan            nan            nan            nan\n",
      "            nan            nan            nan            nan\n",
      "            nan            nan            nan            nan\n",
      "            nan            nan            nan            nan\n",
      "            nan            nan            nan            nan\n",
      "            nan            nan            nan            nan\n",
      "            nan            nan            nan            nan\n",
      "            nan            nan            nan            nan\n",
      "            nan            nan            nan            nan\n",
      "            nan            nan            nan            nan\n",
      "            nan            nan            nan            nan\n",
      "            nan            nan            nan            nan\n",
      "            nan            nan            nan            nan\n",
      "            nan            nan            nan            nan\n",
      "            nan            nan            nan            nan\n",
      "            nan            nan            nan            nan\n",
      "            nan            nan            nan            nan\n",
      "            nan            nan            nan            nan\n",
      "            nan            nan            nan            nan\n",
      "            nan            nan            nan            nan\n",
      "            nan            nan            nan            nan\n",
      "            nan            nan            nan            nan\n",
      "            nan            nan            nan            nan\n",
      "            nan            nan            nan            nan\n",
      "            nan            nan            nan            nan]\n",
      "  warnings.warn(\n"
     ]
    },
    {
     "data": {
      "text/plain": [
       "GridSearchCV(cv=5, estimator=KNeighborsRegressor(), n_jobs=-1,\n",
       "             param_grid={'algorithm': ['auto', 'brute'],\n",
       "                         'metric': ['minkowski', 'str'],\n",
       "                         'n_neighbors': [1, 5, 9, 13, 17, 21, 25, 29, 34, 38,\n",
       "                                         42, 46, 50, 54, 58, 62, 67, 71, 75, 79,\n",
       "                                         83, 87, 91, 95, 100],\n",
       "                         'p': [1, 2], 'weights': ['distance', 'uniform']},\n",
       "             scoring='neg_mean_squared_error', verbose=2)"
      ]
     },
     "execution_count": 63,
     "metadata": {},
     "output_type": "execute_result"
    }
   ],
   "source": [
    "regressor_grid = GridSearchCV(estimator =regressor, param_grid=param_grid_regressor,\n",
    "                              cv = 5, verbose =2,\n",
    "                              n_jobs= -1,  scoring = \"neg_mean_squared_error\")\n",
    "\n",
    "regressor_grid.fit (X_train,y_train)"
   ]
  },
  {
   "cell_type": "code",
   "execution_count": 64,
   "id": "2bf443f7",
   "metadata": {},
   "outputs": [
    {
     "data": {
      "text/plain": [
       "{'algorithm': 'auto',\n",
       " 'metric': 'minkowski',\n",
       " 'n_neighbors': 5,\n",
       " 'p': 2,\n",
       " 'weights': 'distance'}"
      ]
     },
     "execution_count": 64,
     "metadata": {},
     "output_type": "execute_result"
    }
   ],
   "source": [
    "regressor_grid.best_params_"
   ]
  },
  {
   "cell_type": "code",
   "execution_count": 65,
   "id": "051ffd80",
   "metadata": {},
   "outputs": [
    {
     "data": {
      "text/plain": [
       "-1101.1141015798175"
      ]
     },
     "execution_count": 65,
     "metadata": {},
     "output_type": "execute_result"
    }
   ],
   "source": [
    "regressor_grid.best_score_"
   ]
  },
  {
   "cell_type": "code",
   "execution_count": null,
   "id": "65b383e0",
   "metadata": {},
   "outputs": [],
   "source": []
  },
  {
   "cell_type": "code",
   "execution_count": null,
   "id": "ef623383",
   "metadata": {},
   "outputs": [],
   "source": []
  },
  {
   "cell_type": "code",
   "execution_count": null,
   "id": "984b89c3",
   "metadata": {},
   "outputs": [],
   "source": []
  }
 ],
 "metadata": {
  "kernelspec": {
   "display_name": "Python 3",
   "language": "python",
   "name": "python3"
  },
  "language_info": {
   "codemirror_mode": {
    "name": "ipython",
    "version": 3
   },
   "file_extension": ".py",
   "mimetype": "text/x-python",
   "name": "python",
   "nbconvert_exporter": "python",
   "pygments_lexer": "ipython3",
   "version": "3.9.4"
  }
 },
 "nbformat": 4,
 "nbformat_minor": 5
}
