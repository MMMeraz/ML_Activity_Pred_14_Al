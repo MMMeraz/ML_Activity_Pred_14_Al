{
 "cells": [
  {
   "cell_type": "code",
   "execution_count": 1,
   "id": "6d6f1d90",
   "metadata": {},
   "outputs": [],
   "source": [
    "# Import Section\n",
    "import csv\n",
    "import codecs\n",
    "import sys\n",
    "import io\n",
    "import numpy as np\n",
    "import pandas as pd\n",
    "import scipy as sp\n",
    "\n",
    "# For Regression\n",
    "from sklearn.model_selection import train_test_split\n",
    "from sklearn.model_selection import cross_val_score\n",
    "from statistics import mean\n",
    "\n",
    "from sklearn.preprocessing import StandardScaler\n",
    "\n",
    "\n",
    "from sklearn.linear_model import LinearRegression\n",
    "from sklearn import tree\n",
    "from sklearn import linear_model\n",
    "from sklearn.linear_model import ElasticNet\n",
    "from sklearn.kernel_ridge import KernelRidge\n",
    "\n",
    "# Python script for confusion matrix creation. \n",
    "from sklearn.metrics import *\n",
    "from numpy import mean\n",
    "from numpy import std\n",
    "from sklearn import metrics"
   ]
  },
  {
   "cell_type": "code",
   "execution_count": 94,
   "id": "69ae8fb6",
   "metadata": {},
   "outputs": [],
   "source": [
    "dataset=pd.read_excel(\"1056_DES_808.xlsx\",index_col=0)"
   ]
  },
  {
   "cell_type": "code",
   "execution_count": 95,
   "id": "ec007b03",
   "metadata": {},
   "outputs": [
    {
     "data": {
      "text/plain": [
       "(1056, 809)"
      ]
     },
     "execution_count": 95,
     "metadata": {},
     "output_type": "execute_result"
    }
   ],
   "source": [
    "dataset.shape"
   ]
  },
  {
   "cell_type": "code",
   "execution_count": 96,
   "id": "bd1e184c",
   "metadata": {},
   "outputs": [
    {
     "name": "stdout",
     "output_type": "stream",
     "text": [
      "<class 'pandas.core.frame.DataFrame'>\n",
      "Index: 1056 entries, 1Co to 1056\n",
      "Columns: 809 entries, apol to Act\n",
      "dtypes: float64(720), int64(89)\n",
      "memory usage: 6.5+ MB\n"
     ]
    }
   ],
   "source": [
    "dataset.info()"
   ]
  },
  {
   "cell_type": "code",
   "execution_count": 97,
   "id": "23487f93",
   "metadata": {},
   "outputs": [
    {
     "data": {
      "text/plain": [
       "apol          0\n",
       "nAtom         0\n",
       "nHeavyAtom    0\n",
       "nH            0\n",
       "nC            0\n",
       "             ..\n",
       "RDF140i       0\n",
       "RDF145i       0\n",
       "RDF150i       0\n",
       "RDF155i       0\n",
       "Act           0\n",
       "Length: 809, dtype: int64"
      ]
     },
     "execution_count": 97,
     "metadata": {},
     "output_type": "execute_result"
    }
   ],
   "source": [
    "# to check the null values \n",
    "dataset.isnull().sum()"
   ]
  },
  {
   "cell_type": "code",
   "execution_count": 98,
   "id": "8fb0c465",
   "metadata": {},
   "outputs": [
    {
     "data": {
      "text/plain": [
       "apol          1056\n",
       "nAtom         1056\n",
       "nHeavyAtom    1056\n",
       "nH            1056\n",
       "nC            1056\n",
       "              ... \n",
       "RDF140i       1056\n",
       "RDF145i       1056\n",
       "RDF150i       1056\n",
       "RDF155i       1056\n",
       "Act           1056\n",
       "Length: 809, dtype: int64"
      ]
     },
     "execution_count": 98,
     "metadata": {},
     "output_type": "execute_result"
    }
   ],
   "source": [
    "dataset.isnull().count()"
   ]
  },
  {
   "cell_type": "code",
   "execution_count": 99,
   "id": "6540ffea",
   "metadata": {},
   "outputs": [],
   "source": [
    "#independent and dependent features\n",
    "x = dataset.drop(['Act'],axis=1)\n",
    "y = dataset['Act']"
   ]
  },
  {
   "cell_type": "code",
   "execution_count": 100,
   "id": "07849da6",
   "metadata": {},
   "outputs": [
    {
     "data": {
      "text/html": [
       "<div>\n",
       "<style scoped>\n",
       "    .dataframe tbody tr th:only-of-type {\n",
       "        vertical-align: middle;\n",
       "    }\n",
       "\n",
       "    .dataframe tbody tr th {\n",
       "        vertical-align: top;\n",
       "    }\n",
       "\n",
       "    .dataframe thead th {\n",
       "        text-align: right;\n",
       "    }\n",
       "</style>\n",
       "<table border=\"1\" class=\"dataframe\">\n",
       "  <thead>\n",
       "    <tr style=\"text-align: right;\">\n",
       "      <th></th>\n",
       "      <th>apol</th>\n",
       "      <th>nAtom</th>\n",
       "      <th>nHeavyAtom</th>\n",
       "      <th>nH</th>\n",
       "      <th>nC</th>\n",
       "      <th>nN</th>\n",
       "      <th>nO</th>\n",
       "      <th>nF</th>\n",
       "      <th>nCl</th>\n",
       "      <th>nBr</th>\n",
       "      <th>...</th>\n",
       "      <th>RDF110i</th>\n",
       "      <th>RDF115i</th>\n",
       "      <th>RDF120i</th>\n",
       "      <th>RDF125i</th>\n",
       "      <th>RDF130i</th>\n",
       "      <th>RDF135i</th>\n",
       "      <th>RDF140i</th>\n",
       "      <th>RDF145i</th>\n",
       "      <th>RDF150i</th>\n",
       "      <th>RDF155i</th>\n",
       "    </tr>\n",
       "    <tr>\n",
       "      <th>Name</th>\n",
       "      <th></th>\n",
       "      <th></th>\n",
       "      <th></th>\n",
       "      <th></th>\n",
       "      <th></th>\n",
       "      <th></th>\n",
       "      <th></th>\n",
       "      <th></th>\n",
       "      <th></th>\n",
       "      <th></th>\n",
       "      <th></th>\n",
       "      <th></th>\n",
       "      <th></th>\n",
       "      <th></th>\n",
       "      <th></th>\n",
       "      <th></th>\n",
       "      <th></th>\n",
       "      <th></th>\n",
       "      <th></th>\n",
       "      <th></th>\n",
       "      <th></th>\n",
       "    </tr>\n",
       "  </thead>\n",
       "  <tbody>\n",
       "    <tr>\n",
       "      <th>1Co</th>\n",
       "      <td>133.165685</td>\n",
       "      <td>101</td>\n",
       "      <td>56</td>\n",
       "      <td>45</td>\n",
       "      <td>50</td>\n",
       "      <td>3</td>\n",
       "      <td>0</td>\n",
       "      <td>0</td>\n",
       "      <td>2</td>\n",
       "      <td>0</td>\n",
       "      <td>...</td>\n",
       "      <td>45.156253</td>\n",
       "      <td>59.676515</td>\n",
       "      <td>24.173201</td>\n",
       "      <td>17.214804</td>\n",
       "      <td>6.981186</td>\n",
       "      <td>1.365999e+00</td>\n",
       "      <td>1.626969e+00</td>\n",
       "      <td>4.790000e-06</td>\n",
       "      <td>2.460000e-32</td>\n",
       "      <td>2.440000e-80</td>\n",
       "    </tr>\n",
       "    <tr>\n",
       "      <th>2Co</th>\n",
       "      <td>139.352857</td>\n",
       "      <td>107</td>\n",
       "      <td>58</td>\n",
       "      <td>49</td>\n",
       "      <td>52</td>\n",
       "      <td>3</td>\n",
       "      <td>0</td>\n",
       "      <td>0</td>\n",
       "      <td>2</td>\n",
       "      <td>0</td>\n",
       "      <td>...</td>\n",
       "      <td>68.000307</td>\n",
       "      <td>57.900928</td>\n",
       "      <td>41.939084</td>\n",
       "      <td>20.980707</td>\n",
       "      <td>15.963666</td>\n",
       "      <td>5.881577e+00</td>\n",
       "      <td>3.621614e-01</td>\n",
       "      <td>1.427485e+00</td>\n",
       "      <td>8.570000e-11</td>\n",
       "      <td>9.920000e-43</td>\n",
       "    </tr>\n",
       "    <tr>\n",
       "      <th>3Co</th>\n",
       "      <td>145.540029</td>\n",
       "      <td>113</td>\n",
       "      <td>60</td>\n",
       "      <td>53</td>\n",
       "      <td>54</td>\n",
       "      <td>3</td>\n",
       "      <td>0</td>\n",
       "      <td>0</td>\n",
       "      <td>2</td>\n",
       "      <td>0</td>\n",
       "      <td>...</td>\n",
       "      <td>69.859802</td>\n",
       "      <td>73.222593</td>\n",
       "      <td>34.083616</td>\n",
       "      <td>31.464396</td>\n",
       "      <td>18.153969</td>\n",
       "      <td>5.034062e+00</td>\n",
       "      <td>1.658429e+00</td>\n",
       "      <td>4.790000e-06</td>\n",
       "      <td>2.460000e-32</td>\n",
       "      <td>2.440000e-80</td>\n",
       "    </tr>\n",
       "    <tr>\n",
       "      <th>4Co</th>\n",
       "      <td>136.259271</td>\n",
       "      <td>104</td>\n",
       "      <td>57</td>\n",
       "      <td>47</td>\n",
       "      <td>51</td>\n",
       "      <td>3</td>\n",
       "      <td>0</td>\n",
       "      <td>0</td>\n",
       "      <td>2</td>\n",
       "      <td>0</td>\n",
       "      <td>...</td>\n",
       "      <td>59.016271</td>\n",
       "      <td>69.164208</td>\n",
       "      <td>36.837770</td>\n",
       "      <td>24.299923</td>\n",
       "      <td>16.386682</td>\n",
       "      <td>5.462919e+00</td>\n",
       "      <td>4.920207e+00</td>\n",
       "      <td>5.860128e+00</td>\n",
       "      <td>1.626151e+00</td>\n",
       "      <td>1.121483e+00</td>\n",
       "    </tr>\n",
       "    <tr>\n",
       "      <th>5Co</th>\n",
       "      <td>142.446443</td>\n",
       "      <td>110</td>\n",
       "      <td>59</td>\n",
       "      <td>51</td>\n",
       "      <td>53</td>\n",
       "      <td>3</td>\n",
       "      <td>0</td>\n",
       "      <td>0</td>\n",
       "      <td>2</td>\n",
       "      <td>0</td>\n",
       "      <td>...</td>\n",
       "      <td>70.042496</td>\n",
       "      <td>74.048574</td>\n",
       "      <td>50.203719</td>\n",
       "      <td>27.390293</td>\n",
       "      <td>19.871290</td>\n",
       "      <td>1.107855e+01</td>\n",
       "      <td>5.203310e+00</td>\n",
       "      <td>1.191608e+00</td>\n",
       "      <td>1.256458e+00</td>\n",
       "      <td>1.456740e+00</td>\n",
       "    </tr>\n",
       "    <tr>\n",
       "      <th>...</th>\n",
       "      <td>...</td>\n",
       "      <td>...</td>\n",
       "      <td>...</td>\n",
       "      <td>...</td>\n",
       "      <td>...</td>\n",
       "      <td>...</td>\n",
       "      <td>...</td>\n",
       "      <td>...</td>\n",
       "      <td>...</td>\n",
       "      <td>...</td>\n",
       "      <td>...</td>\n",
       "      <td>...</td>\n",
       "      <td>...</td>\n",
       "      <td>...</td>\n",
       "      <td>...</td>\n",
       "      <td>...</td>\n",
       "      <td>...</td>\n",
       "      <td>...</td>\n",
       "      <td>...</td>\n",
       "      <td>...</td>\n",
       "      <td>...</td>\n",
       "    </tr>\n",
       "    <tr>\n",
       "      <th>1052</th>\n",
       "      <td>188.369475</td>\n",
       "      <td>151</td>\n",
       "      <td>76</td>\n",
       "      <td>75</td>\n",
       "      <td>70</td>\n",
       "      <td>3</td>\n",
       "      <td>0</td>\n",
       "      <td>0</td>\n",
       "      <td>2</td>\n",
       "      <td>0</td>\n",
       "      <td>...</td>\n",
       "      <td>196.666997</td>\n",
       "      <td>144.530929</td>\n",
       "      <td>156.169774</td>\n",
       "      <td>122.956393</td>\n",
       "      <td>124.190178</td>\n",
       "      <td>1.187171e+02</td>\n",
       "      <td>1.048155e+02</td>\n",
       "      <td>7.590655e+01</td>\n",
       "      <td>7.433105e+01</td>\n",
       "      <td>5.405252e+01</td>\n",
       "    </tr>\n",
       "    <tr>\n",
       "      <th>1053</th>\n",
       "      <td>98.764169</td>\n",
       "      <td>74</td>\n",
       "      <td>41</td>\n",
       "      <td>33</td>\n",
       "      <td>35</td>\n",
       "      <td>3</td>\n",
       "      <td>0</td>\n",
       "      <td>0</td>\n",
       "      <td>2</td>\n",
       "      <td>0</td>\n",
       "      <td>...</td>\n",
       "      <td>20.402330</td>\n",
       "      <td>13.207864</td>\n",
       "      <td>5.324045</td>\n",
       "      <td>1.363065</td>\n",
       "      <td>2.555885</td>\n",
       "      <td>4.440000e-07</td>\n",
       "      <td>9.270000e-35</td>\n",
       "      <td>3.730000e-84</td>\n",
       "      <td>2.900000e-155</td>\n",
       "      <td>4.350000e-248</td>\n",
       "    </tr>\n",
       "    <tr>\n",
       "      <th>1054</th>\n",
       "      <td>104.951341</td>\n",
       "      <td>80</td>\n",
       "      <td>43</td>\n",
       "      <td>37</td>\n",
       "      <td>37</td>\n",
       "      <td>3</td>\n",
       "      <td>0</td>\n",
       "      <td>0</td>\n",
       "      <td>2</td>\n",
       "      <td>0</td>\n",
       "      <td>...</td>\n",
       "      <td>26.788661</td>\n",
       "      <td>18.848139</td>\n",
       "      <td>10.929213</td>\n",
       "      <td>5.351403</td>\n",
       "      <td>5.335048</td>\n",
       "      <td>8.417984e-01</td>\n",
       "      <td>2.380000e-07</td>\n",
       "      <td>2.240000e-35</td>\n",
       "      <td>4.070000e-85</td>\n",
       "      <td>1.430000e-156</td>\n",
       "    </tr>\n",
       "    <tr>\n",
       "      <th>1055</th>\n",
       "      <td>111.138513</td>\n",
       "      <td>86</td>\n",
       "      <td>45</td>\n",
       "      <td>41</td>\n",
       "      <td>39</td>\n",
       "      <td>3</td>\n",
       "      <td>0</td>\n",
       "      <td>0</td>\n",
       "      <td>2</td>\n",
       "      <td>0</td>\n",
       "      <td>...</td>\n",
       "      <td>27.417855</td>\n",
       "      <td>26.845085</td>\n",
       "      <td>17.331248</td>\n",
       "      <td>6.476668</td>\n",
       "      <td>4.004508</td>\n",
       "      <td>1.364400e+00</td>\n",
       "      <td>2.500000e-10</td>\n",
       "      <td>8.860000e-42</td>\n",
       "      <td>6.050000e-95</td>\n",
       "      <td>7.970000e-170</td>\n",
       "    </tr>\n",
       "    <tr>\n",
       "      <th>1056</th>\n",
       "      <td>101.857755</td>\n",
       "      <td>77</td>\n",
       "      <td>42</td>\n",
       "      <td>35</td>\n",
       "      <td>36</td>\n",
       "      <td>3</td>\n",
       "      <td>0</td>\n",
       "      <td>0</td>\n",
       "      <td>2</td>\n",
       "      <td>0</td>\n",
       "      <td>...</td>\n",
       "      <td>27.226488</td>\n",
       "      <td>21.669977</td>\n",
       "      <td>14.169193</td>\n",
       "      <td>6.843099</td>\n",
       "      <td>8.844587</td>\n",
       "      <td>3.355629e+00</td>\n",
       "      <td>7.972980e-01</td>\n",
       "      <td>2.820000e-07</td>\n",
       "      <td>3.290000e-35</td>\n",
       "      <td>7.420000e-85</td>\n",
       "    </tr>\n",
       "  </tbody>\n",
       "</table>\n",
       "<p>1056 rows × 808 columns</p>\n",
       "</div>"
      ],
      "text/plain": [
       "            apol  nAtom  nHeavyAtom  nH  nC  nN  nO  nF  nCl  nBr  ...  \\\n",
       "Name                                                               ...   \n",
       "1Co   133.165685    101          56  45  50   3   0   0    2    0  ...   \n",
       "2Co   139.352857    107          58  49  52   3   0   0    2    0  ...   \n",
       "3Co   145.540029    113          60  53  54   3   0   0    2    0  ...   \n",
       "4Co   136.259271    104          57  47  51   3   0   0    2    0  ...   \n",
       "5Co   142.446443    110          59  51  53   3   0   0    2    0  ...   \n",
       "...          ...    ...         ...  ..  ..  ..  ..  ..  ...  ...  ...   \n",
       "1052  188.369475    151          76  75  70   3   0   0    2    0  ...   \n",
       "1053   98.764169     74          41  33  35   3   0   0    2    0  ...   \n",
       "1054  104.951341     80          43  37  37   3   0   0    2    0  ...   \n",
       "1055  111.138513     86          45  41  39   3   0   0    2    0  ...   \n",
       "1056  101.857755     77          42  35  36   3   0   0    2    0  ...   \n",
       "\n",
       "         RDF110i     RDF115i     RDF120i     RDF125i     RDF130i  \\\n",
       "Name                                                               \n",
       "1Co    45.156253   59.676515   24.173201   17.214804    6.981186   \n",
       "2Co    68.000307   57.900928   41.939084   20.980707   15.963666   \n",
       "3Co    69.859802   73.222593   34.083616   31.464396   18.153969   \n",
       "4Co    59.016271   69.164208   36.837770   24.299923   16.386682   \n",
       "5Co    70.042496   74.048574   50.203719   27.390293   19.871290   \n",
       "...          ...         ...         ...         ...         ...   \n",
       "1052  196.666997  144.530929  156.169774  122.956393  124.190178   \n",
       "1053   20.402330   13.207864    5.324045    1.363065    2.555885   \n",
       "1054   26.788661   18.848139   10.929213    5.351403    5.335048   \n",
       "1055   27.417855   26.845085   17.331248    6.476668    4.004508   \n",
       "1056   27.226488   21.669977   14.169193    6.843099    8.844587   \n",
       "\n",
       "           RDF135i       RDF140i       RDF145i        RDF150i        RDF155i  \n",
       "Name                                                                          \n",
       "1Co   1.365999e+00  1.626969e+00  4.790000e-06   2.460000e-32   2.440000e-80  \n",
       "2Co   5.881577e+00  3.621614e-01  1.427485e+00   8.570000e-11   9.920000e-43  \n",
       "3Co   5.034062e+00  1.658429e+00  4.790000e-06   2.460000e-32   2.440000e-80  \n",
       "4Co   5.462919e+00  4.920207e+00  5.860128e+00   1.626151e+00   1.121483e+00  \n",
       "5Co   1.107855e+01  5.203310e+00  1.191608e+00   1.256458e+00   1.456740e+00  \n",
       "...            ...           ...           ...            ...            ...  \n",
       "1052  1.187171e+02  1.048155e+02  7.590655e+01   7.433105e+01   5.405252e+01  \n",
       "1053  4.440000e-07  9.270000e-35  3.730000e-84  2.900000e-155  4.350000e-248  \n",
       "1054  8.417984e-01  2.380000e-07  2.240000e-35   4.070000e-85  1.430000e-156  \n",
       "1055  1.364400e+00  2.500000e-10  8.860000e-42   6.050000e-95  7.970000e-170  \n",
       "1056  3.355629e+00  7.972980e-01  2.820000e-07   3.290000e-35   7.420000e-85  \n",
       "\n",
       "[1056 rows x 808 columns]"
      ]
     },
     "execution_count": 100,
     "metadata": {},
     "output_type": "execute_result"
    }
   ],
   "source": [
    "x"
   ]
  },
  {
   "cell_type": "code",
   "execution_count": 101,
   "id": "0daa0911",
   "metadata": {},
   "outputs": [
    {
     "data": {
      "text/plain": [
       "Name\n",
       "1Co      85.3\n",
       "2Co      98.7\n",
       "3Co      77.3\n",
       "4Co      76.0\n",
       "5Co      89.3\n",
       "        ...  \n",
       "1052     37.0\n",
       "1053    102.0\n",
       "1054     83.2\n",
       "1055     70.1\n",
       "1056    109.0\n",
       "Name: Act, Length: 1056, dtype: float64"
      ]
     },
     "execution_count": 101,
     "metadata": {},
     "output_type": "execute_result"
    }
   ],
   "source": [
    "y"
   ]
  },
  {
   "cell_type": "code",
   "execution_count": 102,
   "id": "38fcc30c",
   "metadata": {},
   "outputs": [
    {
     "data": {
      "text/plain": [
       "(1056, 808)"
      ]
     },
     "execution_count": 102,
     "metadata": {},
     "output_type": "execute_result"
    }
   ],
   "source": [
    "x.shape"
   ]
  },
  {
   "cell_type": "code",
   "execution_count": 103,
   "id": "411cf5a2",
   "metadata": {},
   "outputs": [
    {
     "name": "stdout",
     "output_type": "stream",
     "text": [
      "<class 'pandas.core.frame.DataFrame'>\n",
      "<class 'pandas.core.series.Series'>\n"
     ]
    }
   ],
   "source": [
    "print(type(x))\n",
    "print(type(y))"
   ]
  },
  {
   "cell_type": "code",
   "execution_count": 104,
   "id": "f68a561d",
   "metadata": {},
   "outputs": [],
   "source": [
    "# scealing is required for indepandent variables at ANN\n",
    "scale = StandardScaler()\n",
    "X1 = scale.fit_transform(x)"
   ]
  },
  {
   "cell_type": "code",
   "execution_count": 105,
   "id": "43bb6a44",
   "metadata": {},
   "outputs": [],
   "source": [
    "## to overcome the problem input contains nan infinity or a value too large for dtype('float64').\n",
    "## We need to cinvert the pandas dataframe to numpy array \n",
    "X = np.nan_to_num(X1)\n",
    "Y = np.nan_to_num(y)"
   ]
  },
  {
   "cell_type": "code",
   "execution_count": 106,
   "id": "c634e8fe",
   "metadata": {},
   "outputs": [
    {
     "data": {
      "text/plain": [
       "array([[ 0.48049996,  0.48377271,  0.44222646, ..., -0.42590324,\n",
       "        -0.39328391, -0.35184376],\n",
       "       [ 0.63174753,  0.66616984,  0.55142584, ..., -0.36957763,\n",
       "        -0.39328391, -0.35184376],\n",
       "       [ 0.78299509,  0.84856698,  0.66062522, ..., -0.42590324,\n",
       "        -0.39328391, -0.35184376],\n",
       "       ...,\n",
       "       [-0.20920947, -0.15461727, -0.2675695 , ..., -0.42590342,\n",
       "        -0.39328391, -0.35184376],\n",
       "       [-0.0579619 ,  0.02777987, -0.15837012, ..., -0.42590342,\n",
       "        -0.39328391, -0.35184376],\n",
       "       [-0.28483325, -0.24581584, -0.32216919, ..., -0.42590341,\n",
       "        -0.39328391, -0.35184376]])"
      ]
     },
     "execution_count": 106,
     "metadata": {},
     "output_type": "execute_result"
    }
   ],
   "source": [
    "X"
   ]
  },
  {
   "cell_type": "code",
   "execution_count": 107,
   "id": "47f45a7a",
   "metadata": {},
   "outputs": [
    {
     "data": {
      "text/plain": [
       "array([ 85.3,  98.7,  77.3, ...,  83.2,  70.1, 109. ])"
      ]
     },
     "execution_count": 107,
     "metadata": {},
     "output_type": "execute_result"
    }
   ],
   "source": [
    "Y"
   ]
  },
  {
   "cell_type": "code",
   "execution_count": 108,
   "id": "088d3c75",
   "metadata": {},
   "outputs": [
    {
     "data": {
      "text/plain": [
       "(1056,)"
      ]
     },
     "execution_count": 108,
     "metadata": {},
     "output_type": "execute_result"
    }
   ],
   "source": [
    "Y.shape"
   ]
  },
  {
   "cell_type": "code",
   "execution_count": 109,
   "id": "174dcd4e",
   "metadata": {},
   "outputs": [],
   "source": [
    "x_model, x_extest, y_model, y_extest = train_test_split(X,Y,test_size=.2, random_state = 7000, shuffle=True)"
   ]
  },
  {
   "cell_type": "code",
   "execution_count": 110,
   "id": "5403d6e9",
   "metadata": {},
   "outputs": [
    {
     "data": {
      "text/plain": [
       "(844, 808)"
      ]
     },
     "execution_count": 110,
     "metadata": {},
     "output_type": "execute_result"
    }
   ],
   "source": [
    "x_model.shape"
   ]
  },
  {
   "cell_type": "code",
   "execution_count": 111,
   "id": "3e08e96b",
   "metadata": {},
   "outputs": [],
   "source": [
    "x_train, x_test2, y_train, y_test2 = train_test_split(x_model,y_model,test_size=.2, random_state = 7000, shuffle=True)"
   ]
  },
  {
   "cell_type": "code",
   "execution_count": 112,
   "id": "d8ed970c",
   "metadata": {},
   "outputs": [
    {
     "data": {
      "text/plain": [
       "(675, 808)"
      ]
     },
     "execution_count": 112,
     "metadata": {},
     "output_type": "execute_result"
    }
   ],
   "source": [
    "x_train.shape"
   ]
  },
  {
   "cell_type": "code",
   "execution_count": 113,
   "id": "33daae20",
   "metadata": {},
   "outputs": [
    {
     "data": {
      "text/plain": [
       "(169, 808)"
      ]
     },
     "execution_count": 113,
     "metadata": {},
     "output_type": "execute_result"
    }
   ],
   "source": [
    "x_test2.shape"
   ]
  },
  {
   "cell_type": "code",
   "execution_count": 114,
   "id": "f09a2627",
   "metadata": {},
   "outputs": [],
   "source": [
    "x_val, x_test, y_val, y_test = train_test_split(x_test2,y_test2,test_size=.5, random_state = 7000, shuffle=True)"
   ]
  },
  {
   "cell_type": "code",
   "execution_count": 115,
   "id": "58d9dc52",
   "metadata": {},
   "outputs": [
    {
     "data": {
      "text/plain": [
       "(85, 808)"
      ]
     },
     "execution_count": 115,
     "metadata": {},
     "output_type": "execute_result"
    }
   ],
   "source": [
    "x_test.shape"
   ]
  },
  {
   "cell_type": "code",
   "execution_count": 116,
   "id": "95e85f0f",
   "metadata": {},
   "outputs": [
    {
     "data": {
      "text/plain": [
       "(84, 808)"
      ]
     },
     "execution_count": 116,
     "metadata": {},
     "output_type": "execute_result"
    }
   ],
   "source": [
    "x_val.shape"
   ]
  },
  {
   "cell_type": "code",
   "execution_count": 117,
   "id": "99a01ad3",
   "metadata": {},
   "outputs": [],
   "source": [
    "regressor = LinearRegression(fit_intercept=True,\n",
    "    normalize=False,\n",
    "    copy_X=True,\n",
    "    n_jobs=-1,\n",
    "    positive=False)"
   ]
  },
  {
   "cell_type": "code",
   "execution_count": 118,
   "id": "4e94da1a",
   "metadata": {},
   "outputs": [
    {
     "data": {
      "text/plain": [
       "LinearRegression(n_jobs=-1)"
      ]
     },
     "execution_count": 118,
     "metadata": {},
     "output_type": "execute_result"
    }
   ],
   "source": [
    " regressor.fit(x_train, y_train)"
   ]
  },
  {
   "cell_type": "code",
   "execution_count": 119,
   "id": "153a413c",
   "metadata": {},
   "outputs": [],
   "source": [
    "# compute the testing accuracy\n",
    "y_pred = regressor.predict(x_test)"
   ]
  },
  {
   "cell_type": "code",
   "execution_count": 120,
   "id": "ef2bd5a0",
   "metadata": {},
   "outputs": [],
   "source": [
    "y_pred_train = regressor.predict(x_train)"
   ]
  },
  {
   "cell_type": "code",
   "execution_count": 121,
   "id": "51b8dbf2",
   "metadata": {},
   "outputs": [
    {
     "data": {
      "text/plain": [
       "(675,)"
      ]
     },
     "execution_count": 121,
     "metadata": {},
     "output_type": "execute_result"
    }
   ],
   "source": [
    "y_pred_train.shape"
   ]
  },
  {
   "cell_type": "code",
   "execution_count": 122,
   "id": "8545bb86",
   "metadata": {},
   "outputs": [],
   "source": [
    "y_pred_val = regressor.predict(x_val)"
   ]
  },
  {
   "cell_type": "code",
   "execution_count": 123,
   "id": "e10de018",
   "metadata": {},
   "outputs": [],
   "source": [
    "y_pred_extest = regressor.predict(x_extest)"
   ]
  },
  {
   "cell_type": "code",
   "execution_count": 124,
   "id": "90d4d82c",
   "metadata": {},
   "outputs": [],
   "source": [
    "y_pred_model = regressor.predict(x_model)"
   ]
  },
  {
   "cell_type": "code",
   "execution_count": 125,
   "id": "bd299f88",
   "metadata": {},
   "outputs": [
    {
     "name": "stdout",
     "output_type": "stream",
     "text": [
      "\n",
      "\n",
      "overall Performance: \n"
     ]
    }
   ],
   "source": [
    "  print(\"\\n\")\n",
    "  print(\"overall Performance: \", )"
   ]
  },
  {
   "cell_type": "code",
   "execution_count": 126,
   "id": "08e1d8cc",
   "metadata": {},
   "outputs": [],
   "source": [
    "  # model evaluation for testing set\n",
    "  mae = metrics.mean_absolute_error(y_test, y_pred)\n",
    "  mse = metrics.mean_squared_error(y_test, y_pred)\n",
    "  r2 = metrics.r2_score(y_test, y_pred)"
   ]
  },
  {
   "cell_type": "code",
   "execution_count": 127,
   "id": "109a011e",
   "metadata": {},
   "outputs": [
    {
     "name": "stdout",
     "output_type": "stream",
     "text": [
      "The model performance for testing set\n",
      "--------------------------------------\n",
      "MAE is 446.5566150813171\n",
      "MSE is 4199945.162639347\n",
      "R2 score is -1859.0918057302495\n"
     ]
    }
   ],
   "source": [
    "print(\"The model performance for testing set\")\n",
    "print(\"--------------------------------------\")\n",
    "print('MAE is {}'.format(mae))\n",
    "print('MSE is {}'.format(mse))\n",
    "print('R2 score is {}'.format(r2))"
   ]
  },
  {
   "cell_type": "code",
   "execution_count": 128,
   "id": "6eb42d35",
   "metadata": {},
   "outputs": [],
   "source": [
    "  # model evaluation for training set\n",
    "maeTrain = metrics.mean_absolute_error(y_train, y_pred_train)\n",
    "mseTrain = metrics.mean_squared_error(y_train, y_pred_train)\n",
    "r2Train = metrics.r2_score(y_train, y_pred_train)"
   ]
  },
  {
   "cell_type": "code",
   "execution_count": 129,
   "id": "595c5093",
   "metadata": {},
   "outputs": [
    {
     "name": "stdout",
     "output_type": "stream",
     "text": [
      "The model performance for training set\n",
      "--------------------------------------\n",
      "MAE is 5.2085827559436685e-11\n",
      "MSE is 4.5352150384523715e-21\n",
      "R2 score is 1.0\n"
     ]
    }
   ],
   "source": [
    "print(\"The model performance for training set\")\n",
    "print(\"--------------------------------------\")\n",
    "print('MAE is {}'.format(maeTrain))\n",
    "print('MSE is {}'.format(mseTrain))\n",
    "print('R2 score is {}'.format(r2Train))"
   ]
  },
  {
   "cell_type": "code",
   "execution_count": 130,
   "id": "759c0e9b",
   "metadata": {},
   "outputs": [],
   "source": [
    "cvscoretrain = (-cross_val_score(regressor,x_train,y_train.ravel(),cv=5).mean())"
   ]
  },
  {
   "cell_type": "code",
   "execution_count": 131,
   "id": "68a9bfd4",
   "metadata": {},
   "outputs": [
    {
     "name": "stdout",
     "output_type": "stream",
     "text": [
      "The CV score for training set\n",
      "--------------------------------------\n",
      "[13.73387141 86.9686676  72.46510458 22.53955949  8.25102342]\n",
      "Q2 is 40.79164530039665\n"
     ]
    }
   ],
   "source": [
    "print(\"The CV score for training set\")\n",
    "print(\"--------------------------------------\")\n",
    "print (-cross_val_score(regressor,x_train,y_train.ravel(),cv=5))\n",
    "print('Q2 is {}'.format(cvscoretrain))"
   ]
  },
  {
   "cell_type": "code",
   "execution_count": 132,
   "id": "fcad4b72",
   "metadata": {},
   "outputs": [],
   "source": [
    "## model evaluation for extest set\n",
    "maeex = metrics.mean_absolute_error(y_extest, y_pred_extest)\n",
    "mseex = metrics.mean_squared_error(y_extest, y_pred_extest)\n",
    "r2ex = metrics.r2_score(y_extest, y_pred_extest)"
   ]
  },
  {
   "cell_type": "code",
   "execution_count": 133,
   "id": "c6fd7311",
   "metadata": {},
   "outputs": [
    {
     "name": "stdout",
     "output_type": "stream",
     "text": [
      "The model performance for extest set\n",
      "--------------------------------------\n",
      "MAE is 386.9365677304716\n",
      "MSE is 2961141.615912762\n",
      "R2 score is -1195.4625759206385\n"
     ]
    }
   ],
   "source": [
    "print(\"The model performance for extest set\")\n",
    "print(\"--------------------------------------\")\n",
    "print('MAE is {}'.format(maeex))\n",
    "print('MSE is {}'.format(mseex))\n",
    "print('R2 score is {}'.format(r2ex))"
   ]
  },
  {
   "cell_type": "code",
   "execution_count": 134,
   "id": "4cc6638a",
   "metadata": {},
   "outputs": [],
   "source": [
    "## model evaluation for val set\n",
    "maevl = metrics.mean_absolute_error(y_val, y_pred_val)\n",
    "msevl = metrics.mean_squared_error(y_val, y_pred_val)\n",
    "r2vl = metrics.r2_score(y_val, y_pred_val)"
   ]
  },
  {
   "cell_type": "code",
   "execution_count": 135,
   "id": "2afb1d99",
   "metadata": {},
   "outputs": [
    {
     "name": "stdout",
     "output_type": "stream",
     "text": [
      "The model performance for val set\n",
      "--------------------------------------\n",
      "MAE is 350.01953482874933\n",
      "MSE is 808436.1422151913\n",
      "R2 score is -443.03371335257594\n"
     ]
    }
   ],
   "source": [
    "print(\"The model performance for val set\")\n",
    "print(\"--------------------------------------\")\n",
    "print('MAE is {}'.format(maevl))\n",
    "print('MSE is {}'.format(msevl))\n",
    "print('R2 score is {}'.format(r2vl))"
   ]
  },
  {
   "cell_type": "code",
   "execution_count": 136,
   "id": "edd49c71",
   "metadata": {},
   "outputs": [],
   "source": [
    "## model evaluation for model set\n",
    "maemod = metrics.mean_absolute_error(y_model, y_pred_model)\n",
    "msemod = metrics.mean_squared_error(y_model, y_pred_model)\n",
    "r2mod = metrics.r2_score(y_model, y_pred_model)"
   ]
  },
  {
   "cell_type": "code",
   "execution_count": 137,
   "id": "236d0317",
   "metadata": {},
   "outputs": [
    {
     "name": "stdout",
     "output_type": "stream",
     "text": [
      "The model performance for model set\n",
      "--------------------------------------\n",
      "MAE is 79.80918626488376\n",
      "MSE is 503440.7284009722\n",
      "R2 score is -215.20968731622986\n"
     ]
    }
   ],
   "source": [
    "print(\"The model performance for model set\")\n",
    "print(\"--------------------------------------\")\n",
    "print('MAE is {}'.format(maemod))\n",
    "print('MSE is {}'.format(msemod))\n",
    "print('R2 score is {}'.format(r2mod))"
   ]
  },
  {
   "cell_type": "code",
   "execution_count": 138,
   "id": "4f38d134",
   "metadata": {},
   "outputs": [],
   "source": [
    "# cv for modeling set \n",
    "cvscoremod = (-cross_val_score(regressor,x_model,y_model.ravel(),cv=5).mean())"
   ]
  },
  {
   "cell_type": "code",
   "execution_count": 139,
   "id": "1c097c5a",
   "metadata": {},
   "outputs": [
    {
     "name": "stdout",
     "output_type": "stream",
     "text": [
      "The CV score for model set\n",
      "--------------------------------------\n",
      "[323.08911113 610.16014958 789.13438146 557.8278974   94.9624768 ]\n",
      "Q2 is 475.0348032724357\n"
     ]
    }
   ],
   "source": [
    "print(\"The CV score for model set\")\n",
    "print(\"--------------------------------------\")\n",
    "print (-cross_val_score(regressor,x_model,y_model.ravel(),cv=5))\n",
    "print('Q2 is {}'.format(cvscoremod))"
   ]
  },
  {
   "cell_type": "code",
   "execution_count": null,
   "id": "86fb8f23",
   "metadata": {},
   "outputs": [],
   "source": []
  },
  {
   "cell_type": "code",
   "execution_count": null,
   "id": "67a7a267",
   "metadata": {},
   "outputs": [],
   "source": []
  }
 ],
 "metadata": {
  "kernelspec": {
   "display_name": "Python 3",
   "language": "python",
   "name": "python3"
  },
  "language_info": {
   "codemirror_mode": {
    "name": "ipython",
    "version": 3
   },
   "file_extension": ".py",
   "mimetype": "text/x-python",
   "name": "python",
   "nbconvert_exporter": "python",
   "pygments_lexer": "ipython3",
   "version": "3.9.4"
  }
 },
 "nbformat": 4,
 "nbformat_minor": 5
}
