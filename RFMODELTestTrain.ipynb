{
 "cells": [
  {
   "cell_type": "code",
   "execution_count": 1,
   "id": "b61ed168",
   "metadata": {},
   "outputs": [],
   "source": [
    "# Import Section\n",
    "import csv\n",
    "import codecs\n",
    "import sys\n",
    "import io\n",
    "import numpy as np\n",
    "import pandas as pd\n",
    "import scipy as sp\n",
    "\n",
    "# For Regression\n",
    "from sklearn.model_selection import train_test_split\n",
    "from sklearn.model_selection import cross_val_score\n",
    "from statistics import mean\n",
    "\n",
    "from sklearn import svm\n",
    "from sklearn.linear_model import LinearRegression\n",
    "from sklearn.linear_model import SGDRegressor\n",
    "from sklearn.neighbors import KNeighborsRegressor\n",
    "from sklearn.neural_network import MLPRegressor\n",
    "from sklearn.ensemble import AdaBoostRegressor\n",
    "from sklearn.ensemble import GradientBoostingRegressor\n",
    "from sklearn import tree\n",
    "from sklearn import linear_model\n",
    "from sklearn.linear_model import ElasticNet\n",
    "from sklearn.kernel_ridge import KernelRidge\n",
    "\n",
    "# Python script for confusion matrix creation. \n",
    "from sklearn.metrics import *\n",
    "from numpy import mean\n",
    "from numpy import std\n",
    "from sklearn import metrics"
   ]
  },
  {
   "cell_type": "code",
   "execution_count": 2,
   "id": "84713e53",
   "metadata": {},
   "outputs": [],
   "source": [
    "dataset=pd.read_csv(\"data_294.csv\")"
   ]
  },
  {
   "cell_type": "code",
   "execution_count": 3,
   "id": "e04a6148",
   "metadata": {},
   "outputs": [
    {
     "data": {
      "text/plain": [
       "(294, 17)"
      ]
     },
     "execution_count": 3,
     "metadata": {},
     "output_type": "execute_result"
    }
   ],
   "source": [
    "dataset.shape"
   ]
  },
  {
   "cell_type": "code",
   "execution_count": 4,
   "id": "4f3b7435",
   "metadata": {},
   "outputs": [],
   "source": [
    "x = dataset[['1', '15', '18', '21', '25', '26', '39', '41', '58', '69', '83', '85', '141', '155', '166']]"
   ]
  },
  {
   "cell_type": "code",
   "execution_count": 5,
   "id": "2673ea88",
   "metadata": {},
   "outputs": [],
   "source": [
    "y = dataset['Act']"
   ]
  },
  {
   "cell_type": "code",
   "execution_count": 6,
   "id": "b135fdf6",
   "metadata": {},
   "outputs": [],
   "source": [
    "x_train, x_test, y_train, y_test = train_test_split(x,y,test_size=.2, random_state = 7000, shuffle=True)"
   ]
  },
  {
   "cell_type": "code",
   "execution_count": 7,
   "id": "59510d81",
   "metadata": {},
   "outputs": [
    {
     "data": {
      "text/plain": [
       "(235, 15)"
      ]
     },
     "execution_count": 7,
     "metadata": {},
     "output_type": "execute_result"
    }
   ],
   "source": [
    "x_train.shape "
   ]
  },
  {
   "cell_type": "code",
   "execution_count": 8,
   "id": "dfe452b7",
   "metadata": {},
   "outputs": [
    {
     "data": {
      "text/plain": [
       "(59, 15)"
      ]
     },
     "execution_count": 8,
     "metadata": {},
     "output_type": "execute_result"
    }
   ],
   "source": [
    "x_test.shape "
   ]
  },
  {
   "cell_type": "code",
   "execution_count": 9,
   "id": "2850dd20",
   "metadata": {},
   "outputs": [],
   "source": [
    "from sklearn.ensemble import RandomForestRegressor"
   ]
  },
  {
   "cell_type": "code",
   "execution_count": 10,
   "id": "be79565c",
   "metadata": {},
   "outputs": [],
   "source": [
    " #regressor = svm.SVR()\n",
    "  #regressor = LinearRegression()\n",
    "  #regressor = SGDRegressor(max_iter=5000, tol=1e-3)\n",
    "  #regressor = KNeighborsRegressor(n_neighbors=5)\n",
    "  #regressor = MLPRegressor(learning_rate = \"constant\", activation = \"identity\",solver =\"lbfgs\",hidden_layer_sizes=10, random_state=1, max_iter=10000)\n",
    "  #regressor = AdaBoostRegressor(random_state=0, n_estimators=100)\n",
    "  #regressor = GradientBoostingRegressor(random_state=0)\n",
    "  #regressor = tree.DecisionTreeRegressor()\n",
    "  #regressor = linear_model.Ridge(alpha=.5)\n",
    "  #regressor = linear_model.Lasso(alpha=0.1)\n",
    "  #regressor = ElasticNet(random_state=0)\n",
    "  #regressor = KernelRidge(alpha=1.0)\n",
    "regressor = RandomForestRegressor ( n_estimators = 100,max_depth=None,min_weight_fraction_leaf=0.0,\n",
    "                                   max_features='auto', min_impurity_decrease=0.2, ccp_alpha=0.0,max_leaf_nodes=None, \n",
    "                                   min_samples_split=2, min_samples_leaf=1, random_state = 1)\n"
   ]
  },
  {
   "cell_type": "code",
   "execution_count": 11,
   "id": "2c86a530",
   "metadata": {},
   "outputs": [
    {
     "data": {
      "text/plain": [
       "RandomForestRegressor(min_impurity_decrease=0.2, random_state=1)"
      ]
     },
     "execution_count": 11,
     "metadata": {},
     "output_type": "execute_result"
    }
   ],
   "source": [
    "regressor.fit(x_train, y_train)"
   ]
  },
  {
   "cell_type": "code",
   "execution_count": 12,
   "id": "252abe9d",
   "metadata": {},
   "outputs": [],
   "source": [
    "# compute the testing accuracy\n",
    "y_pred = regressor.predict(x_test)"
   ]
  },
  {
   "cell_type": "code",
   "execution_count": 13,
   "id": "e6c96940",
   "metadata": {},
   "outputs": [],
   "source": [
    "y_pred_train = regressor.predict(x_train)"
   ]
  },
  {
   "cell_type": "code",
   "execution_count": 14,
   "id": "845ea0b2",
   "metadata": {},
   "outputs": [],
   "source": [
    "y_pred_all = regressor.predict(x)"
   ]
  },
  {
   "cell_type": "code",
   "execution_count": 15,
   "id": "7a728e50",
   "metadata": {},
   "outputs": [
    {
     "name": "stdout",
     "output_type": "stream",
     "text": [
      "\n",
      "\n",
      "overall Performance: \n"
     ]
    }
   ],
   "source": [
    "  print(\"\\n\")\n",
    "  print(\"overall Performance: \", )"
   ]
  },
  {
   "cell_type": "code",
   "execution_count": 16,
   "id": "1d9e0d71",
   "metadata": {},
   "outputs": [],
   "source": [
    " # model evaluation for testing set\n",
    "mae = metrics.mean_absolute_error(y_test, y_pred)\n",
    "mse = metrics.mean_squared_error(y_test, y_pred)\n",
    "r2 = metrics.r2_score(y_test, y_pred)"
   ]
  },
  {
   "cell_type": "code",
   "execution_count": 17,
   "id": "84a1eed1",
   "metadata": {},
   "outputs": [
    {
     "name": "stdout",
     "output_type": "stream",
     "text": [
      "The model performance for testing set\n",
      "--------------------------------------\n",
      "MAE is 22.55425132204088\n",
      "MSE is 1070.8941627889074\n",
      "R2 score is 0.6249340136194077\n"
     ]
    }
   ],
   "source": [
    "print(\"The model performance for testing set\")\n",
    "print(\"--------------------------------------\")\n",
    "print('MAE is {}'.format(mae))\n",
    "print('MSE is {}'.format(mse))\n",
    "print('R2 score is {}'.format(r2))"
   ]
  },
  {
   "cell_type": "code",
   "execution_count": 18,
   "id": "a61d11af",
   "metadata": {},
   "outputs": [],
   "source": [
    "  # model evaluation for training set\n",
    "maeTrain = metrics.mean_absolute_error(y_train, y_pred_train)\n",
    "mseTrain = metrics.mean_squared_error(y_train, y_pred_train)\n",
    "r2Train = metrics.r2_score(y_train, y_pred_train)"
   ]
  },
  {
   "cell_type": "code",
   "execution_count": 19,
   "id": "5efa0205",
   "metadata": {},
   "outputs": [
    {
     "name": "stdout",
     "output_type": "stream",
     "text": [
      "The model performance for training set\n",
      "--------------------------------------\n",
      "MAE is 8.759151163018826\n",
      "MSE is 179.1064709338117\n",
      "R2 score is 0.9309145055670192\n"
     ]
    }
   ],
   "source": [
    "print(\"The model performance for training set\")\n",
    "print(\"--------------------------------------\")\n",
    "print('MAE is {}'.format(maeTrain))\n",
    "print('MSE is {}'.format(mseTrain))\n",
    "print('R2 score is {}'.format(r2Train))"
   ]
  },
  {
   "cell_type": "code",
   "execution_count": 20,
   "id": "3173016d",
   "metadata": {},
   "outputs": [
    {
     "name": "stdout",
     "output_type": "stream",
     "text": [
      "\n",
      "\n",
      "Crossvalidation on Training data: \n"
     ]
    }
   ],
   "source": [
    "print(\"\\n\")\n",
    "print(\"Crossvalidation on Training data: \", )"
   ]
  },
  {
   "cell_type": "code",
   "execution_count": 21,
   "id": "a277f2ac",
   "metadata": {},
   "outputs": [],
   "source": [
    "cvscorevaM = (cross_val_score(regressor,x_train,y_train.ravel(),cv=5).mean())\n",
    "MAEM = (-cross_val_score(regressor,x_train,y_train.ravel(),cv=5, scoring = \"neg_mean_absolute_error\").mean())\n",
    "MSEM = (-cross_val_score(regressor,x_train,y_train.ravel(),cv=5, scoring = \"neg_mean_squared_error\").mean())"
   ]
  },
  {
   "cell_type": "code",
   "execution_count": 22,
   "id": "fc53937e",
   "metadata": {},
   "outputs": [
    {
     "name": "stdout",
     "output_type": "stream",
     "text": [
      "The CV score for whole dataset\n",
      "--------------------------------------\n",
      "Q2 is 0.5283115156350559\n",
      "MAE is 22.8457492478135\n",
      "MSE is 1101.373446779573\n"
     ]
    }
   ],
   "source": [
    "print(\"The CV score for whole dataset\")\n",
    "print(\"--------------------------------------\")\n",
    "print('Q2 is {}'.format(cvscorevaM))\n",
    "print('MAE is {}'.format(MAEM))\n",
    "print('MSE is {}'.format(MSEM))"
   ]
  },
  {
   "cell_type": "code",
   "execution_count": 25,
   "id": "f6b04551",
   "metadata": {},
   "outputs": [],
   "source": [
    "#Performance on Out-bag sample \n",
    "# R2 value on unseen data (cross validation using hold-out set concept)\n",
    "random_forest_out_of_bag = RandomForestRegressor(oob_score=True,n_estimators = 100, random_state = 1)"
   ]
  },
  {
   "cell_type": "code",
   "execution_count": 26,
   "id": "4190adf3",
   "metadata": {},
   "outputs": [
    {
     "data": {
      "text/plain": [
       "RandomForestRegressor(oob_score=True, random_state=1)"
      ]
     },
     "execution_count": 26,
     "metadata": {},
     "output_type": "execute_result"
    }
   ],
   "source": [
    "random_forest_out_of_bag.fit(x_train, y_train)\n"
   ]
  },
  {
   "cell_type": "code",
   "execution_count": 27,
   "id": "4dfa874b",
   "metadata": {},
   "outputs": [
    {
     "name": "stdout",
     "output_type": "stream",
     "text": [
      "0.48964588951909627\n"
     ]
    }
   ],
   "source": [
    "print(random_forest_out_of_bag.oob_score_)"
   ]
  },
  {
   "cell_type": "code",
   "execution_count": 28,
   "id": "24110ee5",
   "metadata": {},
   "outputs": [],
   "source": [
    "\n",
    "# parameter tuning grid searchCV\n",
    "from sklearn.model_selection import GridSearchCV"
   ]
  },
  {
   "cell_type": "code",
   "execution_count": 57,
   "id": "5aae1979",
   "metadata": {},
   "outputs": [],
   "source": [
    "RandomForestRegressor?"
   ]
  },
  {
   "cell_type": "code",
   "execution_count": 58,
   "id": "7c55ba5e",
   "metadata": {},
   "outputs": [],
   "source": [
    "#number of trees in the random forest \n",
    "n_estimators = [100,200,300]\n",
    "criterion = ['mae', 'mse']\n",
    "#number of features to cinsider in at every split \n",
    "max_features = ['auto', 'sqrt', 'log2']\n",
    "#Max number of levels in tree\n",
    "max_depth = [1,2,3]\n",
    "#Minimum number ofsamples required to split a node \n",
    "min_samples_split =[int(x) for x in np.linspace(start = 2, stop = 10, num = 3)]\n",
    "#Minimum number ofsamples required at each leaf node\n",
    "min_samples_leaf =[1,2]\n",
    "#mathod of selceting samples of training each tree \n",
    "bootstrap = [True, False]"
   ]
  },
  {
   "cell_type": "code",
   "execution_count": 59,
   "id": "169dba63",
   "metadata": {},
   "outputs": [],
   "source": [
    "# creatting parameter gride\n",
    "param_grid_regressor= {'n_estimators': n_estimators,\n",
    "                       'criterion': criterion,\n",
    "                       'max_features': max_features,\n",
    "                       'max_depth': max_depth,\n",
    "                       'min_samples_split': min_samples_split,\n",
    "                      'min_samples_leaf':min_samples_leaf,\n",
    "                       'bootstrap':bootstrap }"
   ]
  },
  {
   "cell_type": "code",
   "execution_count": 60,
   "id": "1d5c7748",
   "metadata": {},
   "outputs": [
    {
     "name": "stdout",
     "output_type": "stream",
     "text": [
      "{'n_estimators': [100, 200, 300], 'criterion': ['mae', 'mse'], 'max_features': ['auto', 'sqrt', 'log2'], 'max_depth': [1, 2, 3], 'min_samples_split': [2, 6, 10], 'min_samples_leaf': [1, 2], 'bootstrap': [True, False]}\n"
     ]
    }
   ],
   "source": [
    "print (param_grid_regressor)"
   ]
  },
  {
   "cell_type": "code",
   "execution_count": 61,
   "id": "b692ab0e",
   "metadata": {},
   "outputs": [],
   "source": [
    "regressor1 = RandomForestRegressor ()"
   ]
  },
  {
   "cell_type": "code",
   "execution_count": 62,
   "id": "ccfa9ee7",
   "metadata": {},
   "outputs": [],
   "source": [
    "regressor1_grid = GridSearchCV( estimator = regressor1, param_grid = param_grid_regressor,\n",
    "                              cv = 5, verbose = 2, n_jobs= -1, scoring = \"neg_mean_squared_error\")"
   ]
  },
  {
   "cell_type": "code",
   "execution_count": 63,
   "id": "1caa1fe3",
   "metadata": {},
   "outputs": [
    {
     "name": "stdout",
     "output_type": "stream",
     "text": [
      "Fitting 5 folds for each of 648 candidates, totalling 3240 fits\n"
     ]
    },
    {
     "data": {
      "text/plain": [
       "GridSearchCV(cv=5, estimator=RandomForestRegressor(), n_jobs=-1,\n",
       "             param_grid={'bootstrap': [True, False],\n",
       "                         'criterion': ['mae', 'mse'], 'max_depth': [1, 2, 3],\n",
       "                         'max_features': ['auto', 'sqrt', 'log2'],\n",
       "                         'min_samples_leaf': [1, 2],\n",
       "                         'min_samples_split': [2, 6, 10],\n",
       "                         'n_estimators': [100, 200, 300]},\n",
       "             scoring='neg_mean_squared_error', verbose=2)"
      ]
     },
     "execution_count": 63,
     "metadata": {},
     "output_type": "execute_result"
    }
   ],
   "source": [
    "regressor1_grid.fit(x_train, y_train)"
   ]
  },
  {
   "cell_type": "code",
   "execution_count": 216,
   "id": "06bf02e7",
   "metadata": {},
   "outputs": [
    {
     "data": {
      "text/plain": [
       "{'bootstrap': True,\n",
       " 'criterion': 'mse',\n",
       " 'max_depth': 2,\n",
       " 'max_features': 'auto',\n",
       " 'min_samples_leaf': 1,\n",
       " 'min_samples_split': 2,\n",
       " 'n_estimators': 100}"
      ]
     },
     "execution_count": 216,
     "metadata": {},
     "output_type": "execute_result"
    }
   ],
   "source": [
    "regressor1_grid.best_params_"
   ]
  },
  {
   "cell_type": "code",
   "execution_count": 217,
   "id": "c386b708",
   "metadata": {},
   "outputs": [
    {
     "data": {
      "text/plain": [
       "-1671.0543920219206"
      ]
     },
     "execution_count": 217,
     "metadata": {},
     "output_type": "execute_result"
    }
   ],
   "source": [
    "regressor1_grid.best_score_"
   ]
  },
  {
   "cell_type": "code",
   "execution_count": 193,
   "id": "b2b8913f",
   "metadata": {},
   "outputs": [],
   "source": [
    "#Randomize search CV\n",
    "from sklearn.model_selection import RandomizedSearchCV"
   ]
  },
  {
   "cell_type": "code",
   "execution_count": 214,
   "id": "b4be6215",
   "metadata": {},
   "outputs": [],
   "source": [
    "regressor1_random = RandomizedSearchCV(estimator = regressor1, param_distributions=param_grid_regressor, n_iter = 100,\n",
    "                              cv = 5, verbose =2,\n",
    "                              n_jobs= -1, scoring = 'neg_mean_squared_error' )"
   ]
  },
  {
   "cell_type": "code",
   "execution_count": 215,
   "id": "714d2f12",
   "metadata": {},
   "outputs": [
    {
     "name": "stdout",
     "output_type": "stream",
     "text": [
      "Fitting 5 folds for each of 100 candidates, totalling 500 fits\n"
     ]
    },
    {
     "data": {
      "text/plain": [
       "RandomizedSearchCV(cv=5, estimator=RandomForestRegressor(), n_iter=100,\n",
       "                   n_jobs=-1,\n",
       "                   param_distributions={'bootstrap': [True, False],\n",
       "                                        'criterion': ['mae', 'mse'],\n",
       "                                        'max_depth': [1, 2, 3],\n",
       "                                        'max_features': ['auto', 'sqrt',\n",
       "                                                         'log2'],\n",
       "                                        'min_samples_leaf': [1, 2],\n",
       "                                        'min_samples_split': [2, 6, 10],\n",
       "                                        'n_estimators': [100, 200, 300]},\n",
       "                   scoring='neg_mean_squared_error', verbose=2)"
      ]
     },
     "execution_count": 215,
     "metadata": {},
     "output_type": "execute_result"
    }
   ],
   "source": [
    "regressor1_random.fit(x_train, y_train)"
   ]
  },
  {
   "cell_type": "code",
   "execution_count": 198,
   "id": "3c969a2c",
   "metadata": {},
   "outputs": [
    {
     "data": {
      "text/plain": [
       "{'n_estimators': 300,\n",
       " 'min_samples_split': 2,\n",
       " 'min_samples_leaf': 1,\n",
       " 'max_features': 'auto',\n",
       " 'max_depth': 3,\n",
       " 'criterion': 'mse',\n",
       " 'bootstrap': True}"
      ]
     },
     "execution_count": 198,
     "metadata": {},
     "output_type": "execute_result"
    }
   ],
   "source": [
    "regressor1_random.best_params_"
   ]
  },
  {
   "cell_type": "code",
   "execution_count": 209,
   "id": "6caf7a38",
   "metadata": {},
   "outputs": [
    {
     "data": {
      "text/plain": [
       "-1305.717516431177"
      ]
     },
     "execution_count": 209,
     "metadata": {},
     "output_type": "execute_result"
    }
   ],
   "source": [
    "regressor1_random.best_score_"
   ]
  },
  {
   "cell_type": "code",
   "execution_count": 199,
   "id": "1cc3a00e",
   "metadata": {},
   "outputs": [],
   "source": [
    "#manual seach engine \n",
    "regressor2 =  RandomForestRegressor (bootstrap = \"True\", criterion = \"mse\", max_depth = 2, max_features = \"auto\",\n",
    "                              min_samples_leaf = 1, min_samples_split = 2,n_estimators = 300, random_state = 1)"
   ]
  },
  {
   "cell_type": "code",
   "execution_count": 200,
   "id": "5f182ce9",
   "metadata": {},
   "outputs": [
    {
     "data": {
      "text/plain": [
       "RandomForestRegressor(bootstrap='True', max_depth=2, n_estimators=300,\n",
       "                      random_state=1)"
      ]
     },
     "execution_count": 200,
     "metadata": {},
     "output_type": "execute_result"
    }
   ],
   "source": [
    "regressor2.fit (x_train, y_train)"
   ]
  },
  {
   "cell_type": "code",
   "execution_count": 201,
   "id": "112d80ec",
   "metadata": {},
   "outputs": [],
   "source": [
    "y_pred1 = regressor2.predict(x_test)"
   ]
  },
  {
   "cell_type": "code",
   "execution_count": 202,
   "id": "dc303b12",
   "metadata": {},
   "outputs": [],
   "source": [
    "y_pred_train1 = regressor2.predict(x_train)"
   ]
  },
  {
   "cell_type": "code",
   "execution_count": 203,
   "id": "438d8d03",
   "metadata": {},
   "outputs": [],
   "source": [
    "mae2 = metrics.mean_absolute_error(y_test, y_pred1)\n",
    "mse2 = metrics.mean_squared_error(y_test, y_pred1)\n",
    "r22 = metrics.r2_score(y_test, y_pred1)"
   ]
  },
  {
   "cell_type": "code",
   "execution_count": 204,
   "id": "d6c66d8f",
   "metadata": {},
   "outputs": [
    {
     "name": "stdout",
     "output_type": "stream",
     "text": [
      "The model performance for testing set\n",
      "--------------------------------------\n",
      "MAE is 26.027298875098545\n",
      "MSE is 1371.5687396384817\n",
      "R2 score is 0.5842664468761458\n"
     ]
    }
   ],
   "source": [
    "print(\"The model performance for testing set\")\n",
    "print(\"--------------------------------------\")\n",
    "print('MAE is {}'.format(mae2))\n",
    "print('MSE is {}'.format(mse2))\n",
    "print('R2 score is {}'.format(r22))"
   ]
  },
  {
   "cell_type": "code",
   "execution_count": 205,
   "id": "36e90a80",
   "metadata": {},
   "outputs": [],
   "source": [
    "maeTrain2 = metrics.mean_absolute_error(y_train, y_pred_train1)\n",
    "mseTrain2 = metrics.mean_squared_error(y_train, y_pred_train1)\n",
    "r2Train2 = metrics.r2_score(y_train, y_pred_train1)"
   ]
  },
  {
   "cell_type": "code",
   "execution_count": 206,
   "id": "bd8479a2",
   "metadata": {},
   "outputs": [
    {
     "name": "stdout",
     "output_type": "stream",
     "text": [
      "The model performance for training set\n",
      "--------------------------------------\n",
      "MAE is 22.909505889812156\n",
      "MSE is 982.5885466495336\n",
      "R2 score is 0.5800650697588734\n"
     ]
    }
   ],
   "source": [
    "print(\"The model performance for training set\")\n",
    "print(\"--------------------------------------\")\n",
    "print('MAE is {}'.format(maeTrain2))\n",
    "print('MSE is {}'.format(mseTrain2))\n",
    "print('R2 score is {}'.format(r2Train2))"
   ]
  },
  {
   "cell_type": "code",
   "execution_count": 100,
   "id": "232f5ff9",
   "metadata": {},
   "outputs": [],
   "source": [
    "random_forest_out_of_bag1 = RandomForestRegressor(oob_score=True,bootstrap = \"True\", criterion = \"mse\", max_depth = 2, max_features = \"auto\",\n",
    "                              min_samples_leaf = 1, min_samples_split = 2,n_estimators = 300, random_state = 1)"
   ]
  },
  {
   "cell_type": "code",
   "execution_count": 101,
   "id": "bc813e21",
   "metadata": {},
   "outputs": [
    {
     "data": {
      "text/plain": [
       "RandomForestRegressor(bootstrap='True', max_depth=2, n_estimators=300,\n",
       "                      oob_score=True, random_state=1)"
      ]
     },
     "execution_count": 101,
     "metadata": {},
     "output_type": "execute_result"
    }
   ],
   "source": [
    "random_forest_out_of_bag1.fit(x_train, y_train)"
   ]
  },
  {
   "cell_type": "code",
   "execution_count": 102,
   "id": "6ddcd34e",
   "metadata": {},
   "outputs": [
    {
     "name": "stdout",
     "output_type": "stream",
     "text": [
      "0.39896364331254863\n"
     ]
    }
   ],
   "source": [
    "print(random_forest_out_of_bag1.oob_score_)"
   ]
  },
  {
   "cell_type": "code",
   "execution_count": 32,
   "id": "dd5be09a",
   "metadata": {},
   "outputs": [],
   "source": [
    "from hyperopt import hp,fmin,tpe,STATUS_OK,Trials"
   ]
  },
  {
   "cell_type": "code",
   "execution_count": 35,
   "id": "54503a19",
   "metadata": {},
   "outputs": [],
   "source": [
    "space = {'criterion': hp.choice('criterion', ['mae','mse']),\n",
    "        'max_depth': hp.quniform('max_depth', 10, 1200, 10),\n",
    "        'max_features': hp.choice('max_features', ['auto', 'sqrt','log2', None]),\n",
    "        'min_samples_leaf': hp.uniform('min_samples_leaf', 0, 0.5),\n",
    "        'min_samples_split' : hp.uniform ('min_samples_split', 0, 1),\n",
    "        'n_estimators' : hp.choice('n_estimators', [10, 50, 100, 200, 300,400,500])\n",
    "    }"
   ]
  },
  {
   "cell_type": "code",
   "execution_count": 36,
   "id": "b3b25a8a",
   "metadata": {},
   "outputs": [
    {
     "data": {
      "text/plain": [
       "{'criterion': <hyperopt.pyll.base.Apply at 0x285322c0790>,\n",
       " 'max_depth': <hyperopt.pyll.base.Apply at 0x28530e33100>,\n",
       " 'max_features': <hyperopt.pyll.base.Apply at 0x28530e330d0>,\n",
       " 'min_samples_leaf': <hyperopt.pyll.base.Apply at 0x285322c8370>,\n",
       " 'min_samples_split': <hyperopt.pyll.base.Apply at 0x285322c8460>,\n",
       " 'n_estimators': <hyperopt.pyll.base.Apply at 0x285322c8880>}"
      ]
     },
     "execution_count": 36,
     "metadata": {},
     "output_type": "execute_result"
    }
   ],
   "source": [
    "space"
   ]
  },
  {
   "cell_type": "code",
   "execution_count": 49,
   "id": "4e211b33",
   "metadata": {},
   "outputs": [
    {
     "name": "stderr",
     "output_type": "stream",
     "text": [
      "C:\\Python39\\lib\\site-packages\\sklearn\\model_selection\\_validation.py:615: FitFailedWarning: Estimator fit failed. The score on this train-test partition for these parameters will be set to nan. Details: \n",
      "Traceback (most recent call last):\n",
      "  File \"C:\\Python39\\lib\\site-packages\\sklearn\\model_selection\\_validation.py\", line 598, in _fit_and_score\n",
      "    estimator.fit(X_train, y_train, **fit_params)\n",
      "  File \"C:\\Python39\\lib\\site-packages\\sklearn\\ensemble\\_forest.py\", line 349, in fit\n",
      "    self._validate_estimator()\n",
      "  File \"C:\\Python39\\lib\\site-packages\\sklearn\\ensemble\\_base.py\", line 129, in _validate_estimator\n",
      "    raise ValueError(\"n_estimators must be an integer, \"\n",
      "ValueError: n_estimators must be an integer, got <class 'hyperopt.pyll.base.Apply'>.\n",
      "\n",
      "  warnings.warn(\"Estimator fit failed. The score on this train-test\"\n",
      "C:\\Python39\\lib\\site-packages\\sklearn\\model_selection\\_validation.py:615: FitFailedWarning: Estimator fit failed. The score on this train-test partition for these parameters will be set to nan. Details: \n",
      "Traceback (most recent call last):\n",
      "  File \"C:\\Python39\\lib\\site-packages\\sklearn\\model_selection\\_validation.py\", line 598, in _fit_and_score\n",
      "    estimator.fit(X_train, y_train, **fit_params)\n",
      "  File \"C:\\Python39\\lib\\site-packages\\sklearn\\ensemble\\_forest.py\", line 349, in fit\n",
      "    self._validate_estimator()\n",
      "  File \"C:\\Python39\\lib\\site-packages\\sklearn\\ensemble\\_base.py\", line 129, in _validate_estimator\n",
      "    raise ValueError(\"n_estimators must be an integer, \"\n",
      "ValueError: n_estimators must be an integer, got <class 'hyperopt.pyll.base.Apply'>.\n",
      "\n",
      "  warnings.warn(\"Estimator fit failed. The score on this train-test\"\n",
      "C:\\Python39\\lib\\site-packages\\sklearn\\model_selection\\_validation.py:615: FitFailedWarning: Estimator fit failed. The score on this train-test partition for these parameters will be set to nan. Details: \n",
      "Traceback (most recent call last):\n",
      "  File \"C:\\Python39\\lib\\site-packages\\sklearn\\model_selection\\_validation.py\", line 598, in _fit_and_score\n",
      "    estimator.fit(X_train, y_train, **fit_params)\n",
      "  File \"C:\\Python39\\lib\\site-packages\\sklearn\\ensemble\\_forest.py\", line 349, in fit\n",
      "    self._validate_estimator()\n",
      "  File \"C:\\Python39\\lib\\site-packages\\sklearn\\ensemble\\_base.py\", line 129, in _validate_estimator\n",
      "    raise ValueError(\"n_estimators must be an integer, \"\n",
      "ValueError: n_estimators must be an integer, got <class 'hyperopt.pyll.base.Apply'>.\n",
      "\n",
      "  warnings.warn(\"Estimator fit failed. The score on this train-test\"\n",
      "C:\\Python39\\lib\\site-packages\\sklearn\\model_selection\\_validation.py:615: FitFailedWarning: Estimator fit failed. The score on this train-test partition for these parameters will be set to nan. Details: \n",
      "Traceback (most recent call last):\n",
      "  File \"C:\\Python39\\lib\\site-packages\\sklearn\\model_selection\\_validation.py\", line 598, in _fit_and_score\n",
      "    estimator.fit(X_train, y_train, **fit_params)\n",
      "  File \"C:\\Python39\\lib\\site-packages\\sklearn\\ensemble\\_forest.py\", line 349, in fit\n",
      "    self._validate_estimator()\n",
      "  File \"C:\\Python39\\lib\\site-packages\\sklearn\\ensemble\\_base.py\", line 129, in _validate_estimator\n",
      "    raise ValueError(\"n_estimators must be an integer, \"\n",
      "ValueError: n_estimators must be an integer, got <class 'hyperopt.pyll.base.Apply'>.\n",
      "\n",
      "  warnings.warn(\"Estimator fit failed. The score on this train-test\"\n",
      "C:\\Python39\\lib\\site-packages\\sklearn\\model_selection\\_validation.py:615: FitFailedWarning: Estimator fit failed. The score on this train-test partition for these parameters will be set to nan. Details: \n",
      "Traceback (most recent call last):\n",
      "  File \"C:\\Python39\\lib\\site-packages\\sklearn\\model_selection\\_validation.py\", line 598, in _fit_and_score\n",
      "    estimator.fit(X_train, y_train, **fit_params)\n",
      "  File \"C:\\Python39\\lib\\site-packages\\sklearn\\ensemble\\_forest.py\", line 349, in fit\n",
      "    self._validate_estimator()\n",
      "  File \"C:\\Python39\\lib\\site-packages\\sklearn\\ensemble\\_base.py\", line 129, in _validate_estimator\n",
      "    raise ValueError(\"n_estimators must be an integer, \"\n",
      "ValueError: n_estimators must be an integer, got <class 'hyperopt.pyll.base.Apply'>.\n",
      "\n",
      "  warnings.warn(\"Estimator fit failed. The score on this train-test\"\n"
     ]
    }
   ],
   "source": [
    "def objective(space):\n",
    "    model = RandomForestRegressor(criterion = space['criterion'], max_depth = space['max_depth'],\n",
    "                                 max_features = space['max_features'],\n",
    "                                 min_samples_leaf = space['min_samples_leaf'],\n",
    "                                 min_samples_split = space['min_samples_split'],\n",
    "                                 n_estimators = space['n_estimators'], \n",
    "                                 )\n",
    "scoring = cross_val_score(model, x_train, y_train, cv = 5).mean()\n"
   ]
  },
  {
   "cell_type": "code",
   "execution_count": null,
   "id": "49402dae",
   "metadata": {},
   "outputs": [],
   "source": []
  },
  {
   "cell_type": "code",
   "execution_count": null,
   "id": "f0b8ef1d",
   "metadata": {},
   "outputs": [],
   "source": []
  }
 ],
 "metadata": {
  "kernelspec": {
   "display_name": "Python 3",
   "language": "python",
   "name": "python3"
  },
  "language_info": {
   "codemirror_mode": {
    "name": "ipython",
    "version": 3
   },
   "file_extension": ".py",
   "mimetype": "text/x-python",
   "name": "python",
   "nbconvert_exporter": "python",
   "pygments_lexer": "ipython3",
   "version": "3.9.4"
  }
 },
 "nbformat": 4,
 "nbformat_minor": 5
}
