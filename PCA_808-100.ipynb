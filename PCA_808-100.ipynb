{
 "cells": [
  {
   "cell_type": "code",
   "execution_count": 1,
   "id": "1682ebcd",
   "metadata": {},
   "outputs": [],
   "source": [
    "# Import Section\n",
    "import csv\n",
    "import codecs\n",
    "import sys\n",
    "import io\n",
    "import numpy as np\n",
    "import pandas as pd\n",
    "import scipy as sp\n",
    "\n",
    "# For Regression\n",
    "from sklearn.model_selection import train_test_split\n",
    "from sklearn.model_selection import cross_val_score\n",
    "from statistics import mean\n",
    "\n",
    "#Data standarization \n",
    "from sklearn.preprocessing import StandardScaler\n",
    "\n",
    "# Python script for confusion matrix creation. \n",
    "from sklearn.metrics import *\n",
    "from numpy import mean\n",
    "from numpy import std\n",
    "from sklearn import metrics"
   ]
  },
  {
   "cell_type": "code",
   "execution_count": null,
   "id": "a228dd18",
   "metadata": {},
   "outputs": [],
   "source": [
    "dataset=pd.read_excel(\"1056_DES_808.xlsx\",index_col=0)"
   ]
  },
  {
   "cell_type": "code",
   "execution_count": null,
   "id": "a1ba6623",
   "metadata": {},
   "outputs": [],
   "source": [
    "dataset.head()"
   ]
  },
  {
   "cell_type": "code",
   "execution_count": null,
   "id": "5c058f5b",
   "metadata": {},
   "outputs": [],
   "source": [
    "dataset.info()"
   ]
  },
  {
   "cell_type": "code",
   "execution_count": null,
   "id": "a962ef05",
   "metadata": {},
   "outputs": [],
   "source": [
    "dataset.shape"
   ]
  },
  {
   "cell_type": "code",
   "execution_count": null,
   "id": "2c4a69d2",
   "metadata": {
    "scrolled": true
   },
   "outputs": [],
   "source": [
    "# to check the null values \n",
    "dataset.isnull().sum()"
   ]
  },
  {
   "cell_type": "code",
   "execution_count": null,
   "id": "ebdc1d2b",
   "metadata": {},
   "outputs": [],
   "source": [
    "dataset.isnull().count()"
   ]
  },
  {
   "cell_type": "code",
   "execution_count": null,
   "id": "a5e54321",
   "metadata": {},
   "outputs": [],
   "source": [
    "#independent and dependent features\n",
    "x = dataset.iloc[:, 0:808].astype(float)"
   ]
  },
  {
   "cell_type": "code",
   "execution_count": null,
   "id": "fb2ad1b2",
   "metadata": {},
   "outputs": [],
   "source": [
    "x"
   ]
  },
  {
   "cell_type": "code",
   "execution_count": null,
   "id": "14fa886a",
   "metadata": {},
   "outputs": [],
   "source": [
    "x.info()"
   ]
  },
  {
   "cell_type": "code",
   "execution_count": null,
   "id": "0e816574",
   "metadata": {},
   "outputs": [],
   "source": [
    "print(type(x))"
   ]
  },
  {
   "cell_type": "code",
   "execution_count": null,
   "id": "19e77a00",
   "metadata": {},
   "outputs": [],
   "source": [
    "## TARGETS ARE NOT REQUIRED FOR PCA\n",
    "y = dataset.loc [:, \"Act\"]"
   ]
  },
  {
   "cell_type": "code",
   "execution_count": null,
   "id": "9889f374",
   "metadata": {},
   "outputs": [],
   "source": [
    "y"
   ]
  },
  {
   "cell_type": "code",
   "execution_count": null,
   "id": "c01cdeaf",
   "metadata": {},
   "outputs": [],
   "source": [
    "## Data standardization (Not required as std and nonstd data both produce same results)\n",
    "scale = StandardScaler()\n",
    "X = scale.fit_transform(x)"
   ]
  },
  {
   "cell_type": "code",
   "execution_count": null,
   "id": "d8f6b26f",
   "metadata": {},
   "outputs": [],
   "source": [
    "## to overcome the problem input contains nan infinity or a value too large for dtype('float64'). \n",
    "X = np.nan_to_num(x)"
   ]
  },
  {
   "cell_type": "code",
   "execution_count": null,
   "id": "b8ced712",
   "metadata": {},
   "outputs": [],
   "source": [
    "X.shape "
   ]
  },
  {
   "cell_type": "code",
   "execution_count": null,
   "id": "17d1ac23",
   "metadata": {},
   "outputs": [],
   "source": [
    "print(type(X))"
   ]
  },
  {
   "cell_type": "code",
   "execution_count": null,
   "id": "9aca2683",
   "metadata": {},
   "outputs": [],
   "source": [
    "##test train split "
   ]
  },
  {
   "cell_type": "code",
   "execution_count": null,
   "id": "2cada78b",
   "metadata": {},
   "outputs": [],
   "source": [
    "x_model, x_extest, y_model, y_extest = train_test_split(X,Y,test_size=.2, random_state = 7000, shuffle=True)"
   ]
  },
  {
   "cell_type": "code",
   "execution_count": null,
   "id": "6d39d3ea",
   "metadata": {},
   "outputs": [],
   "source": [
    "x_model.shape"
   ]
  },
  {
   "cell_type": "code",
   "execution_count": null,
   "id": "88b5e42b",
   "metadata": {},
   "outputs": [],
   "source": [
    "x_train, x_test2, y_train, y_test2 = train_test_split(x_model,y_model,test_size=.3, random_state = 7000, shuffle=True)"
   ]
  },
  {
   "cell_type": "code",
   "execution_count": null,
   "id": "7574a537",
   "metadata": {},
   "outputs": [],
   "source": [
    "x_train.shape"
   ]
  },
  {
   "cell_type": "code",
   "execution_count": null,
   "id": "4f23980f",
   "metadata": {},
   "outputs": [],
   "source": [
    "x_test2.shape"
   ]
  },
  {
   "cell_type": "code",
   "execution_count": null,
   "id": "1a6e632f",
   "metadata": {},
   "outputs": [],
   "source": [
    "x_val, x_test, y_val, y_test = train_test_split(x_test2,y_test2,test_size=.5, random_state = 7000, shuffle=True)"
   ]
  },
  {
   "cell_type": "code",
   "execution_count": null,
   "id": "d2939691",
   "metadata": {},
   "outputs": [],
   "source": [
    "x_test.shape"
   ]
  },
  {
   "cell_type": "code",
   "execution_count": null,
   "id": "debe2ca3",
   "metadata": {},
   "outputs": [],
   "source": [
    "x_val.shape"
   ]
  },
  {
   "cell_type": "code",
   "execution_count": null,
   "id": "29ef7e97",
   "metadata": {},
   "outputs": [],
   "source": [
    "y_train.shape"
   ]
  },
  {
   "cell_type": "code",
   "execution_count": null,
   "id": "70a3a834",
   "metadata": {},
   "outputs": [],
   "source": [
    "#For dimentionality reduction \n",
    "from sklearn.decomposition import PCA"
   ]
  },
  {
   "cell_type": "code",
   "execution_count": null,
   "id": "7a0bc0da",
   "metadata": {},
   "outputs": [],
   "source": [
    "# For visualization of data need to reduce the 808 dimension to 100 dimension \n",
    "pca =  PCA (n_components=100)"
   ]
  },
  {
   "cell_type": "code",
   "execution_count": null,
   "id": "a3d3fbe2",
   "metadata": {},
   "outputs": [],
   "source": [
    "Principlecomponent =pca.fit_transform(X)"
   ]
  },
  {
   "cell_type": "code",
   "execution_count": null,
   "id": "01728212",
   "metadata": {},
   "outputs": [],
   "source": [
    "Principlecomponent.shape"
   ]
  },
  {
   "cell_type": "code",
   "execution_count": null,
   "id": "900bebdc",
   "metadata": {},
   "outputs": [],
   "source": [
    "Principlecomponent "
   ]
  },
  {
   "cell_type": "code",
   "execution_count": null,
   "id": "8b177d73",
   "metadata": {},
   "outputs": [],
   "source": [
    "df = pd.DataFrame(Principlecomponent)"
   ]
  },
  {
   "cell_type": "code",
   "execution_count": null,
   "id": "f3e03d42",
   "metadata": {},
   "outputs": [],
   "source": [
    "## To see the all rows\n",
    "pd.set_option('display.max_rows', None)\n",
    "pd.set_option('display.max_columns', None)\n",
    "pd.set_option('display.width', None)"
   ]
  },
  {
   "cell_type": "code",
   "execution_count": null,
   "id": "344b7809",
   "metadata": {
    "scrolled": true
   },
   "outputs": [],
   "source": [
    "df"
   ]
  },
  {
   "cell_type": "code",
   "execution_count": null,
   "id": "a9a02575",
   "metadata": {},
   "outputs": [],
   "source": [
    "df.info()"
   ]
  },
  {
   "cell_type": "code",
   "execution_count": null,
   "id": "10dccc4d",
   "metadata": {},
   "outputs": [],
   "source": [
    "Var=pca.explained_variance_ratio_"
   ]
  },
  {
   "cell_type": "code",
   "execution_count": null,
   "id": "c5ace27d",
   "metadata": {},
   "outputs": [],
   "source": [
    "\"\"\"\n",
    "The explained variance tells you how much information (variance) can be attributed to each of the principal components.\n",
    "This is important as while you can convert 808-dimensional space to 100-dimensional space, you lose some of the variance\n",
    "(information) when you do this. By using the attribute explained_variance_ratio_, you can see that the  principal \n",
    "components togather contains 100% of the variance. Meaning no information is lost.\n",
    "\n",
    "\"\"\""
   ]
  },
  {
   "cell_type": "code",
   "execution_count": null,
   "id": "6c78b4b9",
   "metadata": {},
   "outputs": [],
   "source": [
    "VR = pd.DataFrame(Var)"
   ]
  },
  {
   "cell_type": "code",
   "execution_count": null,
   "id": "b901d354",
   "metadata": {},
   "outputs": [],
   "source": [
    "VR"
   ]
  },
  {
   "cell_type": "code",
   "execution_count": null,
   "id": "008ec550",
   "metadata": {},
   "outputs": [],
   "source": [
    "VR.sum()"
   ]
  },
  {
   "cell_type": "code",
   "execution_count": null,
   "id": "698c2c19",
   "metadata": {},
   "outputs": [],
   "source": []
  }
 ],
 "metadata": {
  "kernelspec": {
   "display_name": "Python 3",
   "language": "python",
   "name": "python3"
  },
  "language_info": {
   "codemirror_mode": {
    "name": "ipython",
    "version": 3
   },
   "file_extension": ".py",
   "mimetype": "text/x-python",
   "name": "python",
   "nbconvert_exporter": "python",
   "pygments_lexer": "ipython3",
   "version": "3.9.4"
  }
 },
 "nbformat": 4,
 "nbformat_minor": 5
}
