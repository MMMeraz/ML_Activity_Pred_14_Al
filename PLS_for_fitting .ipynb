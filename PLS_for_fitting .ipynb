{
 "cells": [
  {
   "cell_type": "code",
   "execution_count": 1,
   "id": "1682ebcd",
   "metadata": {},
   "outputs": [],
   "source": [
    "# Import Section\n",
    "import csv\n",
    "import codecs\n",
    "import sys\n",
    "import io\n",
    "import numpy as np\n",
    "import pandas as pd\n",
    "import scipy as sp\n",
    "import matplotlib.pyplot as plt\n",
    "import seaborn as sns\n",
    "plt.style.use('seaborn')\n",
    "\n",
    "# For Regression\n",
    "from sklearn.cross_decomposition import PLSRegression\n",
    "from sklearn.model_selection import train_test_split\n",
    "from sklearn.model_selection import cross_val_score\n",
    "from statistics import mean\n",
    "\n",
    "#Data standarization \n",
    "from sklearn.preprocessing import StandardScaler\n",
    "\n",
    "# Python script for confusion matrix creation. \n",
    "from sklearn.metrics import *\n",
    "from numpy import mean\n",
    "from numpy import std\n",
    "from sklearn import metrics "
   ]
  },
  {
   "cell_type": "code",
   "execution_count": 2,
   "id": "a228dd18",
   "metadata": {},
   "outputs": [],
   "source": [
    "dataset=pd.read_excel(\"1056_DES_169-134.xlsx\",index_col=0)"
   ]
  },
  {
   "cell_type": "code",
   "execution_count": 3,
   "id": "a1ba6623",
   "metadata": {},
   "outputs": [
    {
     "data": {
      "text/html": [
       "<div>\n",
       "<style scoped>\n",
       "    .dataframe tbody tr th:only-of-type {\n",
       "        vertical-align: middle;\n",
       "    }\n",
       "\n",
       "    .dataframe tbody tr th {\n",
       "        vertical-align: top;\n",
       "    }\n",
       "\n",
       "    .dataframe thead th {\n",
       "        text-align: right;\n",
       "    }\n",
       "</style>\n",
       "<table border=\"1\" class=\"dataframe\">\n",
       "  <thead>\n",
       "    <tr style=\"text-align: right;\">\n",
       "      <th></th>\n",
       "      <th>apol</th>\n",
       "      <th>nF</th>\n",
       "      <th>nCl</th>\n",
       "      <th>ATS0m</th>\n",
       "      <th>ATS1m</th>\n",
       "      <th>AATS0m</th>\n",
       "      <th>AATS3v</th>\n",
       "      <th>AATS5v</th>\n",
       "      <th>AATS7v</th>\n",
       "      <th>AATS6e</th>\n",
       "      <th>...</th>\n",
       "      <th>TDB1e</th>\n",
       "      <th>MOMI-XY</th>\n",
       "      <th>MOMI-XZ</th>\n",
       "      <th>geomShape</th>\n",
       "      <th>RDF10u</th>\n",
       "      <th>RDF20m</th>\n",
       "      <th>RDF35m</th>\n",
       "      <th>RDF40m</th>\n",
       "      <th>RDF45m</th>\n",
       "      <th>Act</th>\n",
       "    </tr>\n",
       "    <tr>\n",
       "      <th>Name</th>\n",
       "      <th></th>\n",
       "      <th></th>\n",
       "      <th></th>\n",
       "      <th></th>\n",
       "      <th></th>\n",
       "      <th></th>\n",
       "      <th></th>\n",
       "      <th></th>\n",
       "      <th></th>\n",
       "      <th></th>\n",
       "      <th></th>\n",
       "      <th></th>\n",
       "      <th></th>\n",
       "      <th></th>\n",
       "      <th></th>\n",
       "      <th></th>\n",
       "      <th></th>\n",
       "      <th></th>\n",
       "      <th></th>\n",
       "      <th></th>\n",
       "      <th></th>\n",
       "    </tr>\n",
       "  </thead>\n",
       "  <tbody>\n",
       "    <tr>\n",
       "      <th>1Co</th>\n",
       "      <td>133.165685</td>\n",
       "      <td>0</td>\n",
       "      <td>2</td>\n",
       "      <td>13834.04355</td>\n",
       "      <td>15855.04115</td>\n",
       "      <td>136.970728</td>\n",
       "      <td>252.864348</td>\n",
       "      <td>247.524744</td>\n",
       "      <td>221.438168</td>\n",
       "      <td>7.521599</td>\n",
       "      <td>...</td>\n",
       "      <td>9.530320</td>\n",
       "      <td>1.146427</td>\n",
       "      <td>1.345100</td>\n",
       "      <td>0.712301</td>\n",
       "      <td>38.306496</td>\n",
       "      <td>10.949330</td>\n",
       "      <td>34.961509</td>\n",
       "      <td>39.173554</td>\n",
       "      <td>57.903677</td>\n",
       "      <td>85.3</td>\n",
       "    </tr>\n",
       "    <tr>\n",
       "      <th>2Co</th>\n",
       "      <td>139.352857</td>\n",
       "      <td>0</td>\n",
       "      <td>2</td>\n",
       "      <td>14126.63605</td>\n",
       "      <td>16191.99774</td>\n",
       "      <td>132.024636</td>\n",
       "      <td>244.481402</td>\n",
       "      <td>245.418467</td>\n",
       "      <td>212.569484</td>\n",
       "      <td>7.504751</td>\n",
       "      <td>...</td>\n",
       "      <td>9.413584</td>\n",
       "      <td>1.171703</td>\n",
       "      <td>1.386001</td>\n",
       "      <td>0.783592</td>\n",
       "      <td>35.009162</td>\n",
       "      <td>12.615265</td>\n",
       "      <td>29.023582</td>\n",
       "      <td>57.104934</td>\n",
       "      <td>68.424443</td>\n",
       "      <td>98.7</td>\n",
       "    </tr>\n",
       "    <tr>\n",
       "      <th>3Co</th>\n",
       "      <td>145.540029</td>\n",
       "      <td>0</td>\n",
       "      <td>2</td>\n",
       "      <td>14419.22855</td>\n",
       "      <td>16528.95434</td>\n",
       "      <td>127.603792</td>\n",
       "      <td>240.647657</td>\n",
       "      <td>243.554058</td>\n",
       "      <td>206.932170</td>\n",
       "      <td>7.489908</td>\n",
       "      <td>...</td>\n",
       "      <td>9.566299</td>\n",
       "      <td>1.185583</td>\n",
       "      <td>1.413948</td>\n",
       "      <td>0.712301</td>\n",
       "      <td>34.521511</td>\n",
       "      <td>10.763313</td>\n",
       "      <td>38.544967</td>\n",
       "      <td>41.524399</td>\n",
       "      <td>63.396066</td>\n",
       "      <td>77.3</td>\n",
       "    </tr>\n",
       "    <tr>\n",
       "      <th>4Co</th>\n",
       "      <td>136.259271</td>\n",
       "      <td>0</td>\n",
       "      <td>2</td>\n",
       "      <td>13980.33980</td>\n",
       "      <td>16023.51944</td>\n",
       "      <td>134.426344</td>\n",
       "      <td>252.693531</td>\n",
       "      <td>246.313314</td>\n",
       "      <td>223.976928</td>\n",
       "      <td>7.498352</td>\n",
       "      <td>...</td>\n",
       "      <td>9.535809</td>\n",
       "      <td>1.134459</td>\n",
       "      <td>1.399720</td>\n",
       "      <td>0.869555</td>\n",
       "      <td>37.952259</td>\n",
       "      <td>10.799773</td>\n",
       "      <td>35.038023</td>\n",
       "      <td>39.350639</td>\n",
       "      <td>57.949184</td>\n",
       "      <td>76.0</td>\n",
       "    </tr>\n",
       "    <tr>\n",
       "      <th>5Co</th>\n",
       "      <td>142.446443</td>\n",
       "      <td>0</td>\n",
       "      <td>2</td>\n",
       "      <td>14272.93230</td>\n",
       "      <td>16360.47604</td>\n",
       "      <td>129.753930</td>\n",
       "      <td>244.504666</td>\n",
       "      <td>245.443478</td>\n",
       "      <td>209.459975</td>\n",
       "      <td>7.492760</td>\n",
       "      <td>...</td>\n",
       "      <td>9.374899</td>\n",
       "      <td>1.154371</td>\n",
       "      <td>1.429966</td>\n",
       "      <td>0.905091</td>\n",
       "      <td>37.414481</td>\n",
       "      <td>12.841396</td>\n",
       "      <td>28.883633</td>\n",
       "      <td>57.271310</td>\n",
       "      <td>68.532256</td>\n",
       "      <td>89.3</td>\n",
       "    </tr>\n",
       "  </tbody>\n",
       "</table>\n",
       "<p>5 rows × 135 columns</p>\n",
       "</div>"
      ],
      "text/plain": [
       "            apol  nF  nCl        ATS0m        ATS1m      AATS0m      AATS3v  \\\n",
       "Name                                                                          \n",
       "1Co   133.165685   0    2  13834.04355  15855.04115  136.970728  252.864348   \n",
       "2Co   139.352857   0    2  14126.63605  16191.99774  132.024636  244.481402   \n",
       "3Co   145.540029   0    2  14419.22855  16528.95434  127.603792  240.647657   \n",
       "4Co   136.259271   0    2  13980.33980  16023.51944  134.426344  252.693531   \n",
       "5Co   142.446443   0    2  14272.93230  16360.47604  129.753930  244.504666   \n",
       "\n",
       "          AATS5v      AATS7v    AATS6e  ...     TDB1e   MOMI-XY   MOMI-XZ  \\\n",
       "Name                                    ...                                 \n",
       "1Co   247.524744  221.438168  7.521599  ...  9.530320  1.146427  1.345100   \n",
       "2Co   245.418467  212.569484  7.504751  ...  9.413584  1.171703  1.386001   \n",
       "3Co   243.554058  206.932170  7.489908  ...  9.566299  1.185583  1.413948   \n",
       "4Co   246.313314  223.976928  7.498352  ...  9.535809  1.134459  1.399720   \n",
       "5Co   245.443478  209.459975  7.492760  ...  9.374899  1.154371  1.429966   \n",
       "\n",
       "      geomShape     RDF10u     RDF20m     RDF35m     RDF40m     RDF45m   Act  \n",
       "Name                                                                          \n",
       "1Co    0.712301  38.306496  10.949330  34.961509  39.173554  57.903677  85.3  \n",
       "2Co    0.783592  35.009162  12.615265  29.023582  57.104934  68.424443  98.7  \n",
       "3Co    0.712301  34.521511  10.763313  38.544967  41.524399  63.396066  77.3  \n",
       "4Co    0.869555  37.952259  10.799773  35.038023  39.350639  57.949184  76.0  \n",
       "5Co    0.905091  37.414481  12.841396  28.883633  57.271310  68.532256  89.3  \n",
       "\n",
       "[5 rows x 135 columns]"
      ]
     },
     "execution_count": 3,
     "metadata": {},
     "output_type": "execute_result"
    }
   ],
   "source": [
    "dataset.head()"
   ]
  },
  {
   "cell_type": "code",
   "execution_count": 4,
   "id": "5c058f5b",
   "metadata": {},
   "outputs": [
    {
     "name": "stdout",
     "output_type": "stream",
     "text": [
      "<class 'pandas.core.frame.DataFrame'>\n",
      "Index: 1056 entries, 1Co to 1056\n",
      "Columns: 135 entries, apol to Act\n",
      "dtypes: float64(122), int64(13)\n",
      "memory usage: 1.1+ MB\n"
     ]
    }
   ],
   "source": [
    "dataset.info()"
   ]
  },
  {
   "cell_type": "code",
   "execution_count": 5,
   "id": "a962ef05",
   "metadata": {},
   "outputs": [
    {
     "data": {
      "text/plain": [
       "(1056, 135)"
      ]
     },
     "execution_count": 5,
     "metadata": {},
     "output_type": "execute_result"
    }
   ],
   "source": [
    "dataset.shape"
   ]
  },
  {
   "cell_type": "code",
   "execution_count": 6,
   "id": "2c4a69d2",
   "metadata": {
    "scrolled": true
   },
   "outputs": [
    {
     "data": {
      "text/plain": [
       "apol      0\n",
       "nF        0\n",
       "nCl       0\n",
       "ATS0m     0\n",
       "ATS1m     0\n",
       "         ..\n",
       "RDF20m    0\n",
       "RDF35m    0\n",
       "RDF40m    0\n",
       "RDF45m    0\n",
       "Act       0\n",
       "Length: 135, dtype: int64"
      ]
     },
     "execution_count": 6,
     "metadata": {},
     "output_type": "execute_result"
    }
   ],
   "source": [
    "# to check the null values \n",
    "dataset.isnull().sum()"
   ]
  },
  {
   "cell_type": "code",
   "execution_count": 7,
   "id": "ebdc1d2b",
   "metadata": {},
   "outputs": [
    {
     "data": {
      "text/plain": [
       "apol      1056\n",
       "nF        1056\n",
       "nCl       1056\n",
       "ATS0m     1056\n",
       "ATS1m     1056\n",
       "          ... \n",
       "RDF20m    1056\n",
       "RDF35m    1056\n",
       "RDF40m    1056\n",
       "RDF45m    1056\n",
       "Act       1056\n",
       "Length: 135, dtype: int64"
      ]
     },
     "execution_count": 7,
     "metadata": {},
     "output_type": "execute_result"
    }
   ],
   "source": [
    "dataset.isnull().count()"
   ]
  },
  {
   "cell_type": "code",
   "execution_count": 8,
   "id": "7f976bd0",
   "metadata": {},
   "outputs": [],
   "source": [
    "x = dataset.drop(['Act'],axis=1)\n",
    "y = dataset['Act']"
   ]
  },
  {
   "cell_type": "code",
   "execution_count": 9,
   "id": "abb012dc",
   "metadata": {},
   "outputs": [
    {
     "data": {
      "text/html": [
       "<div>\n",
       "<style scoped>\n",
       "    .dataframe tbody tr th:only-of-type {\n",
       "        vertical-align: middle;\n",
       "    }\n",
       "\n",
       "    .dataframe tbody tr th {\n",
       "        vertical-align: top;\n",
       "    }\n",
       "\n",
       "    .dataframe thead th {\n",
       "        text-align: right;\n",
       "    }\n",
       "</style>\n",
       "<table border=\"1\" class=\"dataframe\">\n",
       "  <thead>\n",
       "    <tr style=\"text-align: right;\">\n",
       "      <th></th>\n",
       "      <th>apol</th>\n",
       "      <th>nF</th>\n",
       "      <th>nCl</th>\n",
       "      <th>ATS0m</th>\n",
       "      <th>ATS1m</th>\n",
       "      <th>AATS0m</th>\n",
       "      <th>AATS3v</th>\n",
       "      <th>AATS5v</th>\n",
       "      <th>AATS7v</th>\n",
       "      <th>AATS6e</th>\n",
       "      <th>...</th>\n",
       "      <th>TDB9v</th>\n",
       "      <th>TDB1e</th>\n",
       "      <th>MOMI-XY</th>\n",
       "      <th>MOMI-XZ</th>\n",
       "      <th>geomShape</th>\n",
       "      <th>RDF10u</th>\n",
       "      <th>RDF20m</th>\n",
       "      <th>RDF35m</th>\n",
       "      <th>RDF40m</th>\n",
       "      <th>RDF45m</th>\n",
       "    </tr>\n",
       "    <tr>\n",
       "      <th>Name</th>\n",
       "      <th></th>\n",
       "      <th></th>\n",
       "      <th></th>\n",
       "      <th></th>\n",
       "      <th></th>\n",
       "      <th></th>\n",
       "      <th></th>\n",
       "      <th></th>\n",
       "      <th></th>\n",
       "      <th></th>\n",
       "      <th></th>\n",
       "      <th></th>\n",
       "      <th></th>\n",
       "      <th></th>\n",
       "      <th></th>\n",
       "      <th></th>\n",
       "      <th></th>\n",
       "      <th></th>\n",
       "      <th></th>\n",
       "      <th></th>\n",
       "      <th></th>\n",
       "    </tr>\n",
       "  </thead>\n",
       "  <tbody>\n",
       "    <tr>\n",
       "      <th>1Co</th>\n",
       "      <td>133.165685</td>\n",
       "      <td>0</td>\n",
       "      <td>2</td>\n",
       "      <td>13834.04355</td>\n",
       "      <td>15855.04115</td>\n",
       "      <td>136.970728</td>\n",
       "      <td>252.864348</td>\n",
       "      <td>247.524744</td>\n",
       "      <td>221.438168</td>\n",
       "      <td>7.521599</td>\n",
       "      <td>...</td>\n",
       "      <td>1420.146387</td>\n",
       "      <td>9.530320</td>\n",
       "      <td>1.146427</td>\n",
       "      <td>1.345100</td>\n",
       "      <td>0.712301</td>\n",
       "      <td>38.306496</td>\n",
       "      <td>10.949330</td>\n",
       "      <td>34.961509</td>\n",
       "      <td>39.173554</td>\n",
       "      <td>57.903677</td>\n",
       "    </tr>\n",
       "    <tr>\n",
       "      <th>2Co</th>\n",
       "      <td>139.352857</td>\n",
       "      <td>0</td>\n",
       "      <td>2</td>\n",
       "      <td>14126.63605</td>\n",
       "      <td>16191.99774</td>\n",
       "      <td>132.024636</td>\n",
       "      <td>244.481402</td>\n",
       "      <td>245.418467</td>\n",
       "      <td>212.569484</td>\n",
       "      <td>7.504751</td>\n",
       "      <td>...</td>\n",
       "      <td>1427.993118</td>\n",
       "      <td>9.413584</td>\n",
       "      <td>1.171703</td>\n",
       "      <td>1.386001</td>\n",
       "      <td>0.783592</td>\n",
       "      <td>35.009162</td>\n",
       "      <td>12.615265</td>\n",
       "      <td>29.023582</td>\n",
       "      <td>57.104934</td>\n",
       "      <td>68.424443</td>\n",
       "    </tr>\n",
       "    <tr>\n",
       "      <th>3Co</th>\n",
       "      <td>145.540029</td>\n",
       "      <td>0</td>\n",
       "      <td>2</td>\n",
       "      <td>14419.22855</td>\n",
       "      <td>16528.95434</td>\n",
       "      <td>127.603792</td>\n",
       "      <td>240.647657</td>\n",
       "      <td>243.554058</td>\n",
       "      <td>206.932170</td>\n",
       "      <td>7.489908</td>\n",
       "      <td>...</td>\n",
       "      <td>1425.197977</td>\n",
       "      <td>9.566299</td>\n",
       "      <td>1.185583</td>\n",
       "      <td>1.413948</td>\n",
       "      <td>0.712301</td>\n",
       "      <td>34.521511</td>\n",
       "      <td>10.763313</td>\n",
       "      <td>38.544967</td>\n",
       "      <td>41.524399</td>\n",
       "      <td>63.396066</td>\n",
       "    </tr>\n",
       "    <tr>\n",
       "      <th>4Co</th>\n",
       "      <td>136.259271</td>\n",
       "      <td>0</td>\n",
       "      <td>2</td>\n",
       "      <td>13980.33980</td>\n",
       "      <td>16023.51944</td>\n",
       "      <td>134.426344</td>\n",
       "      <td>252.693531</td>\n",
       "      <td>246.313314</td>\n",
       "      <td>223.976928</td>\n",
       "      <td>7.498352</td>\n",
       "      <td>...</td>\n",
       "      <td>1424.622362</td>\n",
       "      <td>9.535809</td>\n",
       "      <td>1.134459</td>\n",
       "      <td>1.399720</td>\n",
       "      <td>0.869555</td>\n",
       "      <td>37.952259</td>\n",
       "      <td>10.799773</td>\n",
       "      <td>35.038023</td>\n",
       "      <td>39.350639</td>\n",
       "      <td>57.949184</td>\n",
       "    </tr>\n",
       "    <tr>\n",
       "      <th>5Co</th>\n",
       "      <td>142.446443</td>\n",
       "      <td>0</td>\n",
       "      <td>2</td>\n",
       "      <td>14272.93230</td>\n",
       "      <td>16360.47604</td>\n",
       "      <td>129.753930</td>\n",
       "      <td>244.504666</td>\n",
       "      <td>245.443478</td>\n",
       "      <td>209.459975</td>\n",
       "      <td>7.492760</td>\n",
       "      <td>...</td>\n",
       "      <td>1430.931966</td>\n",
       "      <td>9.374899</td>\n",
       "      <td>1.154371</td>\n",
       "      <td>1.429966</td>\n",
       "      <td>0.905091</td>\n",
       "      <td>37.414481</td>\n",
       "      <td>12.841396</td>\n",
       "      <td>28.883633</td>\n",
       "      <td>57.271310</td>\n",
       "      <td>68.532256</td>\n",
       "    </tr>\n",
       "    <tr>\n",
       "      <th>...</th>\n",
       "      <td>...</td>\n",
       "      <td>...</td>\n",
       "      <td>...</td>\n",
       "      <td>...</td>\n",
       "      <td>...</td>\n",
       "      <td>...</td>\n",
       "      <td>...</td>\n",
       "      <td>...</td>\n",
       "      <td>...</td>\n",
       "      <td>...</td>\n",
       "      <td>...</td>\n",
       "      <td>...</td>\n",
       "      <td>...</td>\n",
       "      <td>...</td>\n",
       "      <td>...</td>\n",
       "      <td>...</td>\n",
       "      <td>...</td>\n",
       "      <td>...</td>\n",
       "      <td>...</td>\n",
       "      <td>...</td>\n",
       "      <td>...</td>\n",
       "    </tr>\n",
       "    <tr>\n",
       "      <th>1052</th>\n",
       "      <td>188.369475</td>\n",
       "      <td>0</td>\n",
       "      <td>2</td>\n",
       "      <td>16749.80789</td>\n",
       "      <td>19824.85681</td>\n",
       "      <td>110.925880</td>\n",
       "      <td>202.581103</td>\n",
       "      <td>241.721383</td>\n",
       "      <td>203.050385</td>\n",
       "      <td>7.461727</td>\n",
       "      <td>...</td>\n",
       "      <td>1367.913810</td>\n",
       "      <td>9.481667</td>\n",
       "      <td>1.057297</td>\n",
       "      <td>2.498228</td>\n",
       "      <td>0.859835</td>\n",
       "      <td>51.771651</td>\n",
       "      <td>13.017378</td>\n",
       "      <td>34.433252</td>\n",
       "      <td>62.417671</td>\n",
       "      <td>87.048901</td>\n",
       "    </tr>\n",
       "    <tr>\n",
       "      <th>1053</th>\n",
       "      <td>98.764169</td>\n",
       "      <td>0</td>\n",
       "      <td>2</td>\n",
       "      <td>11657.88897</td>\n",
       "      <td>13257.26603</td>\n",
       "      <td>157.539040</td>\n",
       "      <td>261.802038</td>\n",
       "      <td>230.436721</td>\n",
       "      <td>195.547545</td>\n",
       "      <td>7.568652</td>\n",
       "      <td>...</td>\n",
       "      <td>1204.019980</td>\n",
       "      <td>9.664277</td>\n",
       "      <td>1.119573</td>\n",
       "      <td>1.843038</td>\n",
       "      <td>0.728620</td>\n",
       "      <td>23.243882</td>\n",
       "      <td>8.726441</td>\n",
       "      <td>26.322960</td>\n",
       "      <td>63.526212</td>\n",
       "      <td>49.522226</td>\n",
       "    </tr>\n",
       "    <tr>\n",
       "      <th>1054</th>\n",
       "      <td>104.951341</td>\n",
       "      <td>0</td>\n",
       "      <td>2</td>\n",
       "      <td>11950.48146</td>\n",
       "      <td>13594.22263</td>\n",
       "      <td>149.381018</td>\n",
       "      <td>249.842182</td>\n",
       "      <td>229.042168</td>\n",
       "      <td>186.197547</td>\n",
       "      <td>7.540159</td>\n",
       "      <td>...</td>\n",
       "      <td>1253.685574</td>\n",
       "      <td>9.714047</td>\n",
       "      <td>1.114074</td>\n",
       "      <td>1.855175</td>\n",
       "      <td>0.793484</td>\n",
       "      <td>20.467464</td>\n",
       "      <td>8.575839</td>\n",
       "      <td>25.780400</td>\n",
       "      <td>64.422742</td>\n",
       "      <td>51.285834</td>\n",
       "    </tr>\n",
       "    <tr>\n",
       "      <th>1055</th>\n",
       "      <td>111.138513</td>\n",
       "      <td>0</td>\n",
       "      <td>2</td>\n",
       "      <td>12243.07396</td>\n",
       "      <td>13931.17922</td>\n",
       "      <td>142.361325</td>\n",
       "      <td>244.402278</td>\n",
       "      <td>227.853579</td>\n",
       "      <td>181.635464</td>\n",
       "      <td>7.516364</td>\n",
       "      <td>...</td>\n",
       "      <td>1268.389586</td>\n",
       "      <td>9.486820</td>\n",
       "      <td>1.123937</td>\n",
       "      <td>1.857902</td>\n",
       "      <td>0.783088</td>\n",
       "      <td>31.204761</td>\n",
       "      <td>9.706272</td>\n",
       "      <td>28.851241</td>\n",
       "      <td>67.833494</td>\n",
       "      <td>57.363132</td>\n",
       "    </tr>\n",
       "    <tr>\n",
       "      <th>1056</th>\n",
       "      <td>101.857755</td>\n",
       "      <td>0</td>\n",
       "      <td>2</td>\n",
       "      <td>11804.18522</td>\n",
       "      <td>13425.74433</td>\n",
       "      <td>153.301107</td>\n",
       "      <td>261.288743</td>\n",
       "      <td>229.369101</td>\n",
       "      <td>200.064913</td>\n",
       "      <td>7.531769</td>\n",
       "      <td>...</td>\n",
       "      <td>1227.217268</td>\n",
       "      <td>9.601583</td>\n",
       "      <td>1.093534</td>\n",
       "      <td>1.936862</td>\n",
       "      <td>0.821660</td>\n",
       "      <td>25.436853</td>\n",
       "      <td>8.893778</td>\n",
       "      <td>26.209583</td>\n",
       "      <td>63.734824</td>\n",
       "      <td>49.628820</td>\n",
       "    </tr>\n",
       "  </tbody>\n",
       "</table>\n",
       "<p>1056 rows × 134 columns</p>\n",
       "</div>"
      ],
      "text/plain": [
       "            apol  nF  nCl        ATS0m        ATS1m      AATS0m      AATS3v  \\\n",
       "Name                                                                          \n",
       "1Co   133.165685   0    2  13834.04355  15855.04115  136.970728  252.864348   \n",
       "2Co   139.352857   0    2  14126.63605  16191.99774  132.024636  244.481402   \n",
       "3Co   145.540029   0    2  14419.22855  16528.95434  127.603792  240.647657   \n",
       "4Co   136.259271   0    2  13980.33980  16023.51944  134.426344  252.693531   \n",
       "5Co   142.446443   0    2  14272.93230  16360.47604  129.753930  244.504666   \n",
       "...          ...  ..  ...          ...          ...         ...         ...   \n",
       "1052  188.369475   0    2  16749.80789  19824.85681  110.925880  202.581103   \n",
       "1053   98.764169   0    2  11657.88897  13257.26603  157.539040  261.802038   \n",
       "1054  104.951341   0    2  11950.48146  13594.22263  149.381018  249.842182   \n",
       "1055  111.138513   0    2  12243.07396  13931.17922  142.361325  244.402278   \n",
       "1056  101.857755   0    2  11804.18522  13425.74433  153.301107  261.288743   \n",
       "\n",
       "          AATS5v      AATS7v    AATS6e  ...        TDB9v     TDB1e   MOMI-XY  \\\n",
       "Name                                    ...                                    \n",
       "1Co   247.524744  221.438168  7.521599  ...  1420.146387  9.530320  1.146427   \n",
       "2Co   245.418467  212.569484  7.504751  ...  1427.993118  9.413584  1.171703   \n",
       "3Co   243.554058  206.932170  7.489908  ...  1425.197977  9.566299  1.185583   \n",
       "4Co   246.313314  223.976928  7.498352  ...  1424.622362  9.535809  1.134459   \n",
       "5Co   245.443478  209.459975  7.492760  ...  1430.931966  9.374899  1.154371   \n",
       "...          ...         ...       ...  ...          ...       ...       ...   \n",
       "1052  241.721383  203.050385  7.461727  ...  1367.913810  9.481667  1.057297   \n",
       "1053  230.436721  195.547545  7.568652  ...  1204.019980  9.664277  1.119573   \n",
       "1054  229.042168  186.197547  7.540159  ...  1253.685574  9.714047  1.114074   \n",
       "1055  227.853579  181.635464  7.516364  ...  1268.389586  9.486820  1.123937   \n",
       "1056  229.369101  200.064913  7.531769  ...  1227.217268  9.601583  1.093534   \n",
       "\n",
       "       MOMI-XZ  geomShape     RDF10u     RDF20m     RDF35m     RDF40m  \\\n",
       "Name                                                                    \n",
       "1Co   1.345100   0.712301  38.306496  10.949330  34.961509  39.173554   \n",
       "2Co   1.386001   0.783592  35.009162  12.615265  29.023582  57.104934   \n",
       "3Co   1.413948   0.712301  34.521511  10.763313  38.544967  41.524399   \n",
       "4Co   1.399720   0.869555  37.952259  10.799773  35.038023  39.350639   \n",
       "5Co   1.429966   0.905091  37.414481  12.841396  28.883633  57.271310   \n",
       "...        ...        ...        ...        ...        ...        ...   \n",
       "1052  2.498228   0.859835  51.771651  13.017378  34.433252  62.417671   \n",
       "1053  1.843038   0.728620  23.243882   8.726441  26.322960  63.526212   \n",
       "1054  1.855175   0.793484  20.467464   8.575839  25.780400  64.422742   \n",
       "1055  1.857902   0.783088  31.204761   9.706272  28.851241  67.833494   \n",
       "1056  1.936862   0.821660  25.436853   8.893778  26.209583  63.734824   \n",
       "\n",
       "         RDF45m  \n",
       "Name             \n",
       "1Co   57.903677  \n",
       "2Co   68.424443  \n",
       "3Co   63.396066  \n",
       "4Co   57.949184  \n",
       "5Co   68.532256  \n",
       "...         ...  \n",
       "1052  87.048901  \n",
       "1053  49.522226  \n",
       "1054  51.285834  \n",
       "1055  57.363132  \n",
       "1056  49.628820  \n",
       "\n",
       "[1056 rows x 134 columns]"
      ]
     },
     "execution_count": 9,
     "metadata": {},
     "output_type": "execute_result"
    }
   ],
   "source": [
    "x"
   ]
  },
  {
   "cell_type": "code",
   "execution_count": 10,
   "id": "169c5736",
   "metadata": {},
   "outputs": [],
   "source": [
    "## to overcome the problem input contains nan infinity or a value too large for dtype('float64').\n",
    "## We need to cinvert the pandas dataframe to numpy array as pe rrequirements of the model \n",
    "X = np.nan_to_num(x)\n",
    "Y = np.nan_to_num(y)"
   ]
  },
  {
   "cell_type": "code",
   "execution_count": 11,
   "id": "de990a1d",
   "metadata": {},
   "outputs": [
    {
     "data": {
      "text/plain": [
       "array([[133.165685  ,   0.        ,   2.        , ...,  34.96150938,\n",
       "         39.17355402,  57.90367691],\n",
       "       [139.352857  ,   0.        ,   2.        , ...,  29.02358183,\n",
       "         57.10493384,  68.42444301],\n",
       "       [145.540029  ,   0.        ,   2.        , ...,  38.54496663,\n",
       "         41.52439881,  63.39606608],\n",
       "       ...,\n",
       "       [104.951341  ,   0.        ,   2.        , ...,  25.78039954,\n",
       "         64.42274238,  51.28583444],\n",
       "       [111.138513  ,   0.        ,   2.        , ...,  28.85124132,\n",
       "         67.83349448,  57.36313181],\n",
       "       [101.857755  ,   0.        ,   2.        , ...,  26.20958306,\n",
       "         63.73482397,  49.62882001]])"
      ]
     },
     "execution_count": 11,
     "metadata": {},
     "output_type": "execute_result"
    }
   ],
   "source": [
    "X"
   ]
  },
  {
   "cell_type": "code",
   "execution_count": 12,
   "id": "260c6265",
   "metadata": {},
   "outputs": [
    {
     "data": {
      "text/plain": [
       "array([ 85.3,  98.7,  77.3, ...,  83.2,  70.1, 109. ])"
      ]
     },
     "execution_count": 12,
     "metadata": {},
     "output_type": "execute_result"
    }
   ],
   "source": [
    "Y"
   ]
  },
  {
   "cell_type": "code",
   "execution_count": 13,
   "id": "139bbdfa",
   "metadata": {},
   "outputs": [],
   "source": [
    "x_model, x_extest, y_model, y_extest = train_test_split(X,Y,test_size=.2, random_state = 7000, shuffle=True)"
   ]
  },
  {
   "cell_type": "code",
   "execution_count": 14,
   "id": "87ccb816",
   "metadata": {},
   "outputs": [
    {
     "data": {
      "text/plain": [
       "(844, 134)"
      ]
     },
     "execution_count": 14,
     "metadata": {},
     "output_type": "execute_result"
    }
   ],
   "source": [
    "x_model.shape"
   ]
  },
  {
   "cell_type": "code",
   "execution_count": 15,
   "id": "79fe783a",
   "metadata": {},
   "outputs": [],
   "source": [
    "x_train, x_test2, y_train, y_test2 = train_test_split(x_model,y_model,test_size=.3, random_state = 7000, shuffle=True)"
   ]
  },
  {
   "cell_type": "code",
   "execution_count": 16,
   "id": "81ee318e",
   "metadata": {},
   "outputs": [
    {
     "data": {
      "text/plain": [
       "(590, 134)"
      ]
     },
     "execution_count": 16,
     "metadata": {},
     "output_type": "execute_result"
    }
   ],
   "source": [
    "x_train.shape"
   ]
  },
  {
   "cell_type": "code",
   "execution_count": 17,
   "id": "67741b6b",
   "metadata": {},
   "outputs": [
    {
     "data": {
      "text/plain": [
       "(254, 134)"
      ]
     },
     "execution_count": 17,
     "metadata": {},
     "output_type": "execute_result"
    }
   ],
   "source": [
    "x_test2.shape"
   ]
  },
  {
   "cell_type": "code",
   "execution_count": 18,
   "id": "12a63c7d",
   "metadata": {},
   "outputs": [],
   "source": [
    "x_val, x_test, y_val, y_test = train_test_split(x_test2,y_test2,test_size=.5, random_state = 7000, shuffle=True)"
   ]
  },
  {
   "cell_type": "code",
   "execution_count": 19,
   "id": "fe0fea88",
   "metadata": {},
   "outputs": [
    {
     "data": {
      "text/plain": [
       "(127, 134)"
      ]
     },
     "execution_count": 19,
     "metadata": {},
     "output_type": "execute_result"
    }
   ],
   "source": [
    "x_test.shape"
   ]
  },
  {
   "cell_type": "code",
   "execution_count": 20,
   "id": "66c579e0",
   "metadata": {},
   "outputs": [
    {
     "data": {
      "text/plain": [
       "(127, 134)"
      ]
     },
     "execution_count": 20,
     "metadata": {},
     "output_type": "execute_result"
    }
   ],
   "source": [
    "x_val.shape"
   ]
  },
  {
   "cell_type": "code",
   "execution_count": 21,
   "id": "fb2ad1b2",
   "metadata": {},
   "outputs": [],
   "source": [
    "# scealing is required and the PLS has inbuild scealer, so no need to use extra sealer \n",
    "#scale = StandardScaler()"
   ]
  },
  {
   "cell_type": "code",
   "execution_count": 88,
   "id": "5c0bbe45",
   "metadata": {},
   "outputs": [],
   "source": [
    "regressor = PLSRegression(n_components=6,\n",
    "                    scale=True,\n",
    "                    max_iter=300,\n",
    "                    tol=1e-06,\n",
    "                    copy=True,)"
   ]
  },
  {
   "cell_type": "code",
   "execution_count": 89,
   "id": "6b3c7e87",
   "metadata": {},
   "outputs": [],
   "source": [
    "#PLSRegression?"
   ]
  },
  {
   "cell_type": "code",
   "execution_count": 90,
   "id": "865350e3",
   "metadata": {},
   "outputs": [
    {
     "data": {
      "text/plain": [
       "PLSRegression(max_iter=300, n_components=6)"
      ]
     },
     "execution_count": 90,
     "metadata": {},
     "output_type": "execute_result"
    }
   ],
   "source": [
    "regressor.fit(x_train, y_train)"
   ]
  },
  {
   "cell_type": "code",
   "execution_count": 91,
   "id": "45934017",
   "metadata": {},
   "outputs": [
    {
     "name": "stdout",
     "output_type": "stream",
     "text": [
      "PLS r-squared for test 0.312\n"
     ]
    }
   ],
   "source": [
    "print(f\"PLS r-squared for test {regressor.score(x_test, y_test):.3f}\")"
   ]
  },
  {
   "cell_type": "code",
   "execution_count": 92,
   "id": "d6963050",
   "metadata": {},
   "outputs": [],
   "source": [
    "# compute the testing accuracy\n",
    "y_pred = regressor.predict(x_test)"
   ]
  },
  {
   "cell_type": "code",
   "execution_count": 93,
   "id": "7ba7d15c",
   "metadata": {},
   "outputs": [],
   "source": [
    "y_pred_train = regressor.predict(x_train)"
   ]
  },
  {
   "cell_type": "code",
   "execution_count": 94,
   "id": "c6d3e971",
   "metadata": {},
   "outputs": [
    {
     "data": {
      "text/plain": [
       "(590, 1)"
      ]
     },
     "execution_count": 94,
     "metadata": {},
     "output_type": "execute_result"
    }
   ],
   "source": [
    "y_pred_train.shape"
   ]
  },
  {
   "cell_type": "code",
   "execution_count": 95,
   "id": "7baea2f8",
   "metadata": {},
   "outputs": [],
   "source": [
    "y_pred_val = regressor.predict(x_val)"
   ]
  },
  {
   "cell_type": "code",
   "execution_count": 96,
   "id": "9c101598",
   "metadata": {},
   "outputs": [],
   "source": [
    "y_pred_extest = regressor.predict(x_extest)"
   ]
  },
  {
   "cell_type": "code",
   "execution_count": 97,
   "id": "4a36252c",
   "metadata": {},
   "outputs": [],
   "source": [
    "y_pred_model = regressor.predict(x_model)"
   ]
  },
  {
   "cell_type": "code",
   "execution_count": 98,
   "id": "8da7e916",
   "metadata": {},
   "outputs": [],
   "source": [
    "y_pred_all = regressor.predict(X)"
   ]
  },
  {
   "cell_type": "code",
   "execution_count": 99,
   "id": "f9acf332",
   "metadata": {},
   "outputs": [
    {
     "name": "stdout",
     "output_type": "stream",
     "text": [
      "\n",
      "\n",
      "overall Performance: \n"
     ]
    }
   ],
   "source": [
    "  print(\"\\n\")\n",
    "  print(\"overall Performance: \", )"
   ]
  },
  {
   "cell_type": "code",
   "execution_count": 100,
   "id": "ae7151d5",
   "metadata": {},
   "outputs": [],
   "source": [
    "  # model evaluation for testing set\n",
    "  mae = metrics.mean_absolute_error(y_test, y_pred)\n",
    "  mse = metrics.mean_squared_error(y_test, y_pred)\n",
    "  r2 = metrics.r2_score(y_test, y_pred)"
   ]
  },
  {
   "cell_type": "code",
   "execution_count": 101,
   "id": "80d236e2",
   "metadata": {},
   "outputs": [
    {
     "name": "stdout",
     "output_type": "stream",
     "text": [
      "The model performance for testing set\n",
      "--------------------------------------\n",
      "MAE is 32.07062367283611\n",
      "MSE is 1839.6138244994063\n",
      "R2 score is 0.3118450778771492\n"
     ]
    }
   ],
   "source": [
    "print(\"The model performance for testing set\")\n",
    "print(\"--------------------------------------\")\n",
    "print('MAE is {}'.format(mae))\n",
    "print('MSE is {}'.format(mse))\n",
    "print('R2 score is {}'.format(r2))"
   ]
  },
  {
   "cell_type": "code",
   "execution_count": 102,
   "id": "4ffc2527",
   "metadata": {},
   "outputs": [],
   "source": [
    "  # model evaluation for training set\n",
    "maeTrain = metrics.mean_absolute_error(y_train, y_pred_train)\n",
    "mseTrain = metrics.mean_squared_error(y_train, y_pred_train)\n",
    "r2Train = metrics.r2_score(y_train, y_pred_train)"
   ]
  },
  {
   "cell_type": "code",
   "execution_count": 103,
   "id": "4b998bec",
   "metadata": {},
   "outputs": [
    {
     "name": "stdout",
     "output_type": "stream",
     "text": [
      "The model performance for training set\n",
      "--------------------------------------\n",
      "MAE is 26.77496439449338\n",
      "MSE is 1256.243341568353\n",
      "R2 score is 0.46532660254795855\n"
     ]
    }
   ],
   "source": [
    "print(\"The model performance for training set\")\n",
    "print(\"--------------------------------------\")\n",
    "print('MAE is {}'.format(maeTrain))\n",
    "print('MSE is {}'.format(mseTrain))\n",
    "print('R2 score is {}'.format(r2Train))"
   ]
  },
  {
   "cell_type": "code",
   "execution_count": 104,
   "id": "8a1e72a2",
   "metadata": {},
   "outputs": [],
   "source": [
    "#CV score for training set\n",
    "cvscoretra = (cross_val_score(regressor,x_train,y_train.ravel(),cv=5).mean())"
   ]
  },
  {
   "cell_type": "code",
   "execution_count": 105,
   "id": "f882f1d4",
   "metadata": {},
   "outputs": [
    {
     "name": "stdout",
     "output_type": "stream",
     "text": [
      "The CV score for training set\n",
      "--------------------------------------\n",
      "[0.40542038 0.36674045 0.37526181 0.27063396 0.39764119]\n",
      "Q2 is 0.36313955656280755\n"
     ]
    }
   ],
   "source": [
    "print(\"The CV score for training set\")\n",
    "print(\"--------------------------------------\")\n",
    "print (cross_val_score(regressor,x_train,y_train.ravel(),cv=5))\n",
    "print('Q2 is {}'.format(cvscoretra))"
   ]
  },
  {
   "cell_type": "code",
   "execution_count": 106,
   "id": "d93aa89b",
   "metadata": {},
   "outputs": [],
   "source": [
    "## model evaluation for extest set\n",
    "maeex = metrics.mean_absolute_error(y_extest, y_pred_extest)\n",
    "mseex = metrics.mean_squared_error(y_extest, y_pred_extest)\n",
    "r2ex = metrics.r2_score(y_extest, y_pred_extest)"
   ]
  },
  {
   "cell_type": "code",
   "execution_count": 107,
   "id": "429e374f",
   "metadata": {},
   "outputs": [
    {
     "name": "stdout",
     "output_type": "stream",
     "text": [
      "The model performance for extest set\n",
      "--------------------------------------\n",
      "MAE is 30.029874795121067\n",
      "MSE is 1699.361541461496\n",
      "R2 score is 0.31336533302182024\n"
     ]
    }
   ],
   "source": [
    "print(\"The model performance for extest set\")\n",
    "print(\"--------------------------------------\")\n",
    "print('MAE is {}'.format(maeex))\n",
    "print('MSE is {}'.format(mseex))\n",
    "print('R2 score is {}'.format(r2ex))"
   ]
  },
  {
   "cell_type": "code",
   "execution_count": 108,
   "id": "2b59d861",
   "metadata": {},
   "outputs": [],
   "source": [
    "## model evaluation for val set\n",
    "maevl = metrics.mean_absolute_error(y_val, y_pred_val)\n",
    "msevl = metrics.mean_squared_error(y_val, y_pred_val)\n",
    "r2vl = metrics.r2_score(y_val, y_pred_val)"
   ]
  },
  {
   "cell_type": "code",
   "execution_count": 109,
   "id": "f1af35de",
   "metadata": {},
   "outputs": [
    {
     "name": "stdout",
     "output_type": "stream",
     "text": [
      "The model performance for val set\n",
      "--------------------------------------\n",
      "MAE is 26.608176443275358\n",
      "MSE is 1196.7688839054456\n",
      "R2 score is 0.3581304553409118\n"
     ]
    }
   ],
   "source": [
    "print(\"The model performance for val set\")\n",
    "print(\"--------------------------------------\")\n",
    "print('MAE is {}'.format(maevl))\n",
    "print('MSE is {}'.format(msevl))\n",
    "print('R2 score is {}'.format(r2vl))"
   ]
  },
  {
   "cell_type": "code",
   "execution_count": 110,
   "id": "b5a8095f",
   "metadata": {},
   "outputs": [],
   "source": [
    "## model evaluation for modeling set\n",
    "maemod = metrics.mean_absolute_error(y_model, y_pred_model)\n",
    "msemod = metrics.mean_squared_error(y_model, y_pred_model)\n",
    "r2mod = metrics.r2_score(y_model, y_pred_model)"
   ]
  },
  {
   "cell_type": "code",
   "execution_count": 111,
   "id": "bc25383f",
   "metadata": {},
   "outputs": [
    {
     "name": "stdout",
     "output_type": "stream",
     "text": [
      "The model performance for modeling set\n",
      "--------------------------------------\n",
      "MAE is 27.546725838266884\n",
      "MSE is 1335.0760373136784\n",
      "R2 score is 0.42663285609050416\n"
     ]
    }
   ],
   "source": [
    "print(\"The model performance for modeling set\")\n",
    "print(\"--------------------------------------\")\n",
    "print('MAE is {}'.format(maemod))\n",
    "print('MSE is {}'.format(msemod))\n",
    "print('R2 score is {}'.format(r2mod))"
   ]
  },
  {
   "cell_type": "code",
   "execution_count": 112,
   "id": "09aba3cb",
   "metadata": {},
   "outputs": [],
   "source": [
    "#CV score for modeling set\n",
    "cvscoremod = (cross_val_score(regressor,x_model,y_model.ravel(),cv=5).mean())"
   ]
  },
  {
   "cell_type": "code",
   "execution_count": 113,
   "id": "cbc50391",
   "metadata": {},
   "outputs": [
    {
     "name": "stdout",
     "output_type": "stream",
     "text": [
      "The CV score for Modeling set\n",
      "--------------------------------------\n",
      "[0.4250271  0.31895663 0.23944264 0.28612864 0.44052732]\n",
      "Q2 is 0.34201646728020646\n"
     ]
    }
   ],
   "source": [
    "print(\"The CV score for Modeling set\")\n",
    "print(\"--------------------------------------\")\n",
    "print (cross_val_score(regressor,x_model,y_model.ravel(),cv=5))\n",
    "print('Q2 is {}'.format(cvscoremod))"
   ]
  },
  {
   "cell_type": "code",
   "execution_count": 114,
   "id": "8c2e2dca",
   "metadata": {},
   "outputs": [],
   "source": [
    "#Randomize search CV\n",
    "from sklearn.model_selection import RandomizedSearchCV"
   ]
  },
  {
   "cell_type": "code",
   "execution_count": 50,
   "id": "5a5cd83e",
   "metadata": {},
   "outputs": [],
   "source": [
    "n_components =[1, 2, 3, 4, 5, 6, 7, 8, 9, 10, 11, 12, 13, 14, 15, 16, 17, 18, 19, 20, 21, 22, 23, 24, 25, 26, 27, 28, 29, 30, \n",
    "              31, 32, 33, 34, 35, 36, 37, 38, 39, 40, 41, 42, 43, 44, 45, 46, 47, 48, 49, 50, 51, 52, 53, 54, 55, 56, 57, 58, 59, \n",
    "              60, 61, 62, 63, 64, 65, 66, 67, 68, 69, 70, 71, 72, 73, 74, 75, 76, 77, 78, 79, 80, 81, 82, 83, 84, 85, 86, 87, \n",
    "              88, 89, 90, 91, 92, 93, 94, 95, 96, 97, 98, 99, 100, 101, 102, 103, 104, 105, 106, 107, 108, 109, 110, 111, 112,\n",
    "              113, 114, 115, 116, 117, 118, 119, 120, 121, 122, 123, 124, 125, 126, 127, 128, 129, 130, 131, 132, 133, 134]\n",
    "scale = ['True', 'False']\n",
    "max_iter = [200, 300, 500]\n",
    "copy = ['True', 'False']"
   ]
  },
  {
   "cell_type": "code",
   "execution_count": 51,
   "id": "0527131b",
   "metadata": {},
   "outputs": [],
   "source": [
    "# creatting parameter gride\n",
    "param_grid_regressor= {'n_components': n_components ,\n",
    "                       'scale':scale, 'max_iter': max_iter, 'copy': copy}"
   ]
  },
  {
   "cell_type": "code",
   "execution_count": 52,
   "id": "e67cc7a7",
   "metadata": {},
   "outputs": [
    {
     "name": "stdout",
     "output_type": "stream",
     "text": [
      "{'n_components': [1, 2, 3, 4, 5, 6, 7, 8, 9, 10, 11, 12, 13, 14, 15, 16, 17, 18, 19, 20, 21, 22, 23, 24, 25, 26, 27, 28, 29, 30, 31, 32, 33, 34, 35, 36, 37, 38, 39, 40, 41, 42, 43, 44, 45, 46, 47, 48, 49, 50, 51, 52, 53, 54, 55, 56, 57, 58, 59, 60, 61, 62, 63, 64, 65, 66, 67, 68, 69, 70, 71, 72, 73, 74, 75, 76, 77, 78, 79, 80, 81, 82, 83, 84, 85, 86, 87, 88, 89, 90, 91, 92, 93, 94, 95, 96, 97, 98, 99, 100, 101, 102, 103, 104, 105, 106, 107, 108, 109, 110, 111, 112, 113, 114, 115, 116, 117, 118, 119, 120, 121, 122, 123, 124, 125, 126, 127, 128, 129, 130, 131, 132, 133, 134], 'scale': ['True', 'False'], 'max_iter': [200, 300, 500], 'copy': ['True', 'False']}\n"
     ]
    }
   ],
   "source": [
    "print (param_grid_regressor)"
   ]
  },
  {
   "cell_type": "code",
   "execution_count": 53,
   "id": "3965e76f",
   "metadata": {},
   "outputs": [],
   "source": [
    "regressor_random = RandomizedSearchCV(estimator = regressor, param_distributions=param_grid_regressor, n_iter = 100,\n",
    "                              cv = 5, verbose =2,\n",
    "                              n_jobs= -1, scoring = 'neg_mean_squared_error' )"
   ]
  },
  {
   "cell_type": "code",
   "execution_count": 54,
   "id": "372c04ca",
   "metadata": {},
   "outputs": [
    {
     "name": "stdout",
     "output_type": "stream",
     "text": [
      "Fitting 5 folds for each of 100 candidates, totalling 500 fits\n"
     ]
    },
    {
     "data": {
      "text/plain": [
       "RandomizedSearchCV(cv=5, estimator=PLSRegression(n_components=134), n_iter=100,\n",
       "                   n_jobs=-1,\n",
       "                   param_distributions={'copy': ['True', 'False'],\n",
       "                                        'max_iter': [200, 300, 500],\n",
       "                                        'n_components': [1, 2, 3, 4, 5, 6, 7, 8,\n",
       "                                                         9, 10, 11, 12, 13, 14,\n",
       "                                                         15, 16, 17, 18, 19, 20,\n",
       "                                                         21, 22, 23, 24, 25, 26,\n",
       "                                                         27, 28, 29, 30, ...],\n",
       "                                        'scale': ['True', 'False']},\n",
       "                   scoring='neg_mean_squared_error', verbose=2)"
      ]
     },
     "execution_count": 54,
     "metadata": {},
     "output_type": "execute_result"
    }
   ],
   "source": [
    "regressor_random.fit (x_train,y_train)"
   ]
  },
  {
   "cell_type": "code",
   "execution_count": 55,
   "id": "81b2aa2b",
   "metadata": {},
   "outputs": [
    {
     "data": {
      "text/plain": [
       "{'scale': 'True', 'n_components': 6, 'max_iter': 300, 'copy': 'True'}"
      ]
     },
     "execution_count": 55,
     "metadata": {},
     "output_type": "execute_result"
    }
   ],
   "source": [
    "regressor_random.best_params_"
   ]
  },
  {
   "cell_type": "code",
   "execution_count": 56,
   "id": "50c90747",
   "metadata": {},
   "outputs": [
    {
     "data": {
      "text/plain": [
       "-1477.0258617445766"
      ]
     },
     "execution_count": 56,
     "metadata": {},
     "output_type": "execute_result"
    }
   ],
   "source": [
    "regressor_random.best_score_"
   ]
  },
  {
   "cell_type": "code",
   "execution_count": 57,
   "id": "cb81e2a7",
   "metadata": {},
   "outputs": [],
   "source": [
    "# parameter tuning grid searchCV\n",
    "from sklearn.model_selection import GridSearchCV"
   ]
  },
  {
   "cell_type": "code",
   "execution_count": 58,
   "id": "eff12558",
   "metadata": {},
   "outputs": [
    {
     "name": "stdout",
     "output_type": "stream",
     "text": [
      "Fitting 5 folds for each of 1608 candidates, totalling 8040 fits\n"
     ]
    },
    {
     "data": {
      "text/plain": [
       "GridSearchCV(cv=5, estimator=PLSRegression(n_components=134), n_jobs=-1,\n",
       "             param_grid={'copy': ['True', 'False'], 'max_iter': [200, 300, 500],\n",
       "                         'n_components': [1, 2, 3, 4, 5, 6, 7, 8, 9, 10, 11, 12,\n",
       "                                          13, 14, 15, 16, 17, 18, 19, 20, 21,\n",
       "                                          22, 23, 24, 25, 26, 27, 28, 29, 30, ...],\n",
       "                         'scale': ['True', 'False']},\n",
       "             scoring='neg_mean_squared_error', verbose=2)"
      ]
     },
     "execution_count": 58,
     "metadata": {},
     "output_type": "execute_result"
    }
   ],
   "source": [
    "regressor_grid = GridSearchCV(estimator =regressor, param_grid=param_grid_regressor,\n",
    "                              cv = 5, verbose =2,\n",
    "                              n_jobs= -1,  scoring = \"neg_mean_squared_error\")\n",
    "\n",
    "regressor_grid.fit (x_train,y_train)"
   ]
  },
  {
   "cell_type": "code",
   "execution_count": 59,
   "id": "b99a3be7",
   "metadata": {},
   "outputs": [
    {
     "data": {
      "text/plain": [
       "{'copy': 'True', 'max_iter': 200, 'n_components': 7, 'scale': 'True'}"
      ]
     },
     "execution_count": 59,
     "metadata": {},
     "output_type": "execute_result"
    }
   ],
   "source": [
    "regressor_grid.best_params_"
   ]
  },
  {
   "cell_type": "code",
   "execution_count": 60,
   "id": "b4cc4d9a",
   "metadata": {},
   "outputs": [
    {
     "data": {
      "text/plain": [
       "-1474.2078464523638"
      ]
     },
     "execution_count": 60,
     "metadata": {},
     "output_type": "execute_result"
    }
   ],
   "source": [
    "regressor_grid.best_score_"
   ]
  },
  {
   "cell_type": "code",
   "execution_count": null,
   "id": "0c9eb9e8",
   "metadata": {},
   "outputs": [],
   "source": []
  },
  {
   "cell_type": "code",
   "execution_count": null,
   "id": "fb551ae2",
   "metadata": {},
   "outputs": [],
   "source": []
  }
 ],
 "metadata": {
  "kernelspec": {
   "display_name": "Python 3",
   "language": "python",
   "name": "python3"
  },
  "language_info": {
   "codemirror_mode": {
    "name": "ipython",
    "version": 3
   },
   "file_extension": ".py",
   "mimetype": "text/x-python",
   "name": "python",
   "nbconvert_exporter": "python",
   "pygments_lexer": "ipython3",
   "version": "3.9.4"
  }
 },
 "nbformat": 4,
 "nbformat_minor": 5
}
